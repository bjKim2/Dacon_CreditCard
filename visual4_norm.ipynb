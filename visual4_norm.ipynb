{
 "cells": [
  {
   "cell_type": "code",
   "execution_count": 32,
   "metadata": {},
   "outputs": [],
   "source": [
    "import seaborn as sns\n",
    "import pandas as pd\n",
    "import numpy as np\n",
    "import matplotlib.pyplot as plt"
   ]
  },
  {
   "cell_type": "code",
   "execution_count": 23,
   "metadata": {},
   "outputs": [],
   "source": [
    "train_norm = pd.read_csv(\"./norm_Data/train_norm.csv\")\n",
    "val_norm = pd.read_csv(\"./norm_Data/val_x_norm.csv\")\n",
    "val_y = pd.read_csv(\"./mod_Data/val_y_remove_ver1.csv\")"
   ]
  },
  {
   "cell_type": "code",
   "execution_count": 27,
   "metadata": {},
   "outputs": [],
   "source": [
    "val_x = val_norm[:] \n",
    "val_norm['Class'] = val_y\n"
   ]
  },
  {
   "cell_type": "code",
   "execution_count": 28,
   "metadata": {},
   "outputs": [
    {
     "data": {
      "text/html": [
       "<div>\n",
       "<style scoped>\n",
       "    .dataframe tbody tr th:only-of-type {\n",
       "        vertical-align: middle;\n",
       "    }\n",
       "\n",
       "    .dataframe tbody tr th {\n",
       "        vertical-align: top;\n",
       "    }\n",
       "\n",
       "    .dataframe thead th {\n",
       "        text-align: right;\n",
       "    }\n",
       "</style>\n",
       "<table border=\"1\" class=\"dataframe\">\n",
       "  <thead>\n",
       "    <tr style=\"text-align: right;\">\n",
       "      <th></th>\n",
       "      <th>Class</th>\n",
       "    </tr>\n",
       "  </thead>\n",
       "  <tbody>\n",
       "    <tr>\n",
       "      <th>28457</th>\n",
       "      <td>0</td>\n",
       "    </tr>\n",
       "    <tr>\n",
       "      <th>28458</th>\n",
       "      <td>0</td>\n",
       "    </tr>\n",
       "    <tr>\n",
       "      <th>28459</th>\n",
       "      <td>0</td>\n",
       "    </tr>\n",
       "    <tr>\n",
       "      <th>28460</th>\n",
       "      <td>0</td>\n",
       "    </tr>\n",
       "    <tr>\n",
       "      <th>28461</th>\n",
       "      <td>0</td>\n",
       "    </tr>\n",
       "  </tbody>\n",
       "</table>\n",
       "</div>"
      ],
      "text/plain": [
       "       Class\n",
       "28457      0\n",
       "28458      0\n",
       "28459      0\n",
       "28460      0\n",
       "28461      0"
      ]
     },
     "execution_count": 28,
     "metadata": {},
     "output_type": "execute_result"
    }
   ],
   "source": [
    "val_y.tail()"
   ]
  },
  {
   "cell_type": "code",
   "execution_count": 29,
   "metadata": {},
   "outputs": [
    {
     "data": {
      "text/html": [
       "<div>\n",
       "<style scoped>\n",
       "    .dataframe tbody tr th:only-of-type {\n",
       "        vertical-align: middle;\n",
       "    }\n",
       "\n",
       "    .dataframe tbody tr th {\n",
       "        vertical-align: top;\n",
       "    }\n",
       "\n",
       "    .dataframe thead th {\n",
       "        text-align: right;\n",
       "    }\n",
       "</style>\n",
       "<table border=\"1\" class=\"dataframe\">\n",
       "  <thead>\n",
       "    <tr style=\"text-align: right;\">\n",
       "      <th></th>\n",
       "      <th>V1</th>\n",
       "      <th>V2</th>\n",
       "      <th>V3</th>\n",
       "      <th>V4</th>\n",
       "      <th>V5</th>\n",
       "      <th>V6</th>\n",
       "      <th>V7</th>\n",
       "      <th>V8</th>\n",
       "      <th>V9</th>\n",
       "      <th>V10</th>\n",
       "      <th>...</th>\n",
       "      <th>V22</th>\n",
       "      <th>V23</th>\n",
       "      <th>V24</th>\n",
       "      <th>V25</th>\n",
       "      <th>V26</th>\n",
       "      <th>V27</th>\n",
       "      <th>V28</th>\n",
       "      <th>V29</th>\n",
       "      <th>V30</th>\n",
       "      <th>Class</th>\n",
       "    </tr>\n",
       "  </thead>\n",
       "  <tbody>\n",
       "    <tr>\n",
       "      <th>28457</th>\n",
       "      <td>0.907349</td>\n",
       "      <td>0.725133</td>\n",
       "      <td>0.868055</td>\n",
       "      <td>0.348965</td>\n",
       "      <td>0.481234</td>\n",
       "      <td>0.551452</td>\n",
       "      <td>0.561737</td>\n",
       "      <td>0.685828</td>\n",
       "      <td>0.480640</td>\n",
       "      <td>0.643668</td>\n",
       "      <td>...</td>\n",
       "      <td>0.637336</td>\n",
       "      <td>0.568382</td>\n",
       "      <td>0.438913</td>\n",
       "      <td>0.523647</td>\n",
       "      <td>0.257375</td>\n",
       "      <td>0.545613</td>\n",
       "      <td>0.354415</td>\n",
       "      <td>0.003069</td>\n",
       "      <td>0.999826</td>\n",
       "      <td>0</td>\n",
       "    </tr>\n",
       "    <tr>\n",
       "      <th>28458</th>\n",
       "      <td>0.900517</td>\n",
       "      <td>0.709703</td>\n",
       "      <td>0.850779</td>\n",
       "      <td>0.270710</td>\n",
       "      <td>0.489491</td>\n",
       "      <td>0.544557</td>\n",
       "      <td>0.556383</td>\n",
       "      <td>0.689571</td>\n",
       "      <td>0.501823</td>\n",
       "      <td>0.609683</td>\n",
       "      <td>...</td>\n",
       "      <td>0.554674</td>\n",
       "      <td>0.575542</td>\n",
       "      <td>0.525004</td>\n",
       "      <td>0.504670</td>\n",
       "      <td>0.399586</td>\n",
       "      <td>0.521043</td>\n",
       "      <td>0.344500</td>\n",
       "      <td>0.006724</td>\n",
       "      <td>0.999861</td>\n",
       "      <td>0</td>\n",
       "    </tr>\n",
       "    <tr>\n",
       "      <th>28459</th>\n",
       "      <td>0.910463</td>\n",
       "      <td>0.722728</td>\n",
       "      <td>0.872260</td>\n",
       "      <td>0.352196</td>\n",
       "      <td>0.482466</td>\n",
       "      <td>0.550039</td>\n",
       "      <td>0.564999</td>\n",
       "      <td>0.651923</td>\n",
       "      <td>0.519854</td>\n",
       "      <td>0.648162</td>\n",
       "      <td>...</td>\n",
       "      <td>0.605004</td>\n",
       "      <td>0.568999</td>\n",
       "      <td>0.428226</td>\n",
       "      <td>0.522940</td>\n",
       "      <td>0.264520</td>\n",
       "      <td>0.556500</td>\n",
       "      <td>0.356753</td>\n",
       "      <td>0.005085</td>\n",
       "      <td>0.999896</td>\n",
       "      <td>0</td>\n",
       "    </tr>\n",
       "    <tr>\n",
       "      <th>28460</th>\n",
       "      <td>0.988342</td>\n",
       "      <td>0.695769</td>\n",
       "      <td>0.842372</td>\n",
       "      <td>0.308731</td>\n",
       "      <td>0.469669</td>\n",
       "      <td>0.545766</td>\n",
       "      <td>0.543473</td>\n",
       "      <td>0.675804</td>\n",
       "      <td>0.568850</td>\n",
       "      <td>0.653727</td>\n",
       "      <td>...</td>\n",
       "      <td>0.535192</td>\n",
       "      <td>0.579067</td>\n",
       "      <td>0.378578</td>\n",
       "      <td>0.494755</td>\n",
       "      <td>0.385389</td>\n",
       "      <td>0.524941</td>\n",
       "      <td>0.344093</td>\n",
       "      <td>0.000225</td>\n",
       "      <td>0.999977</td>\n",
       "      <td>0</td>\n",
       "    </tr>\n",
       "    <tr>\n",
       "      <th>28461</th>\n",
       "      <td>0.916931</td>\n",
       "      <td>0.708646</td>\n",
       "      <td>0.897580</td>\n",
       "      <td>0.335219</td>\n",
       "      <td>0.461629</td>\n",
       "      <td>0.593477</td>\n",
       "      <td>0.531229</td>\n",
       "      <td>0.696403</td>\n",
       "      <td>0.566360</td>\n",
       "      <td>0.634312</td>\n",
       "      <td>...</td>\n",
       "      <td>0.638785</td>\n",
       "      <td>0.568656</td>\n",
       "      <td>0.453265</td>\n",
       "      <td>0.472822</td>\n",
       "      <td>0.459472</td>\n",
       "      <td>0.535191</td>\n",
       "      <td>0.351548</td>\n",
       "      <td>0.000840</td>\n",
       "      <td>1.000000</td>\n",
       "      <td>0</td>\n",
       "    </tr>\n",
       "  </tbody>\n",
       "</table>\n",
       "<p>5 rows × 31 columns</p>\n",
       "</div>"
      ],
      "text/plain": [
       "             V1        V2        V3        V4        V5        V6        V7  \\\n",
       "28457  0.907349  0.725133  0.868055  0.348965  0.481234  0.551452  0.561737   \n",
       "28458  0.900517  0.709703  0.850779  0.270710  0.489491  0.544557  0.556383   \n",
       "28459  0.910463  0.722728  0.872260  0.352196  0.482466  0.550039  0.564999   \n",
       "28460  0.988342  0.695769  0.842372  0.308731  0.469669  0.545766  0.543473   \n",
       "28461  0.916931  0.708646  0.897580  0.335219  0.461629  0.593477  0.531229   \n",
       "\n",
       "             V8        V9       V10  ...       V22       V23       V24  \\\n",
       "28457  0.685828  0.480640  0.643668  ...  0.637336  0.568382  0.438913   \n",
       "28458  0.689571  0.501823  0.609683  ...  0.554674  0.575542  0.525004   \n",
       "28459  0.651923  0.519854  0.648162  ...  0.605004  0.568999  0.428226   \n",
       "28460  0.675804  0.568850  0.653727  ...  0.535192  0.579067  0.378578   \n",
       "28461  0.696403  0.566360  0.634312  ...  0.638785  0.568656  0.453265   \n",
       "\n",
       "            V25       V26       V27       V28       V29       V30  Class  \n",
       "28457  0.523647  0.257375  0.545613  0.354415  0.003069  0.999826      0  \n",
       "28458  0.504670  0.399586  0.521043  0.344500  0.006724  0.999861      0  \n",
       "28459  0.522940  0.264520  0.556500  0.356753  0.005085  0.999896      0  \n",
       "28460  0.494755  0.385389  0.524941  0.344093  0.000225  0.999977      0  \n",
       "28461  0.472822  0.459472  0.535191  0.351548  0.000840  1.000000      0  \n",
       "\n",
       "[5 rows x 31 columns]"
      ]
     },
     "execution_count": 29,
     "metadata": {},
     "output_type": "execute_result"
    }
   ],
   "source": [
    "val_norm.tail()"
   ]
  },
  {
   "cell_type": "code",
   "execution_count": 36,
   "metadata": {},
   "outputs": [],
   "source": [
    "val_ans = val_norm[val_norm.Class == 1 ]\n",
    "val_noans =  val_norm[val_norm.Class == 0]"
   ]
  },
  {
   "cell_type": "code",
   "execution_count": null,
   "metadata": {},
   "outputs": [],
   "source": []
  },
  {
   "cell_type": "code",
   "execution_count": 50,
   "metadata": {},
   "outputs": [
    {
     "data": {
      "image/png": "[encoded data removed]",
      "text/plain": [
       "<Figure size 1080x360 with 12 Axes>"
      ]
     },
     "metadata": {
      "needs_background": "light"
     },
     "output_type": "display_data"
    }
   ],
   "source": [
    "fig = plt.figure(figsize=(15,5))\n",
    "\n",
    "\n",
    "ax1 = fig.add_subplot(1,6,1)\n",
    "ax2 = ax1.twinx()\n",
    "ax3 = fig.add_subplot(1,6,2)\n",
    "ax4 = ax3.twinx()\n",
    "ax5 = fig.add_subplot(1,6,3)\n",
    "ax6 = ax5.twinx()\n",
    "ax7 = fig.add_subplot(1,6,4)\n",
    "ax8 = ax7.twinx()\n",
    "ax9 = fig.add_subplot(1,6,5)\n",
    "ax10 = ax9.twinx()\n",
    "ax11 = fig.add_subplot(1,6,6)\n",
    "ax12 = ax11.twinx()\n",
    "\n",
    "val_ans['V1'].hist(ax=ax2,color='red',alpha= 0.5)\n",
    "val_noans['V1'].hist(bins = 50,ax=ax1)\n",
    "val_ans['V2'].hist(ax=ax4,color='red',alpha= 0.5)\n",
    "val_noans['V2'].hist(bins = 50,ax=ax3)\n",
    "val_ans['V3'].hist(ax=ax6,color='red',alpha= 0.5)\n",
    "val_noans['V3'].hist(bins = 50,ax=ax5)\n",
    "val_ans['V4'].hist(ax=ax8,color='red',alpha= 0.5)\n",
    "val_noans['V4'].hist(bins = 50,ax=ax7)\n",
    "val_ans['V5'].hist(ax=ax10,color='red',alpha= 0.5)\n",
    "val_noans['V5'].hist(bins = 50,ax=ax9)\n",
    "val_ans['V6'].hist(ax=ax12,color='red',alpha= 0.5)\n",
    "val_noans['V6'].hist(bins = 50,ax=ax11)\n",
    "\n",
    "plt.show()"
   ]
  },
  {
   "cell_type": "code",
   "execution_count": null,
   "metadata": {},
   "outputs": [],
   "source": [
    "plt.show()\n",
    "sns.pairplot(\n",
    "    data=val_norm,\n",
    "    x_vars = ['V12'],\n",
    "    y_vars = val_norm.columns[0:10],\n",
    "    hue = 'Class'\n",
    ")"
   ]
  },
  {
   "cell_type": "code",
   "execution_count": 11,
   "metadata": {},
   "outputs": [
    {
     "data": {
      "text/plain": [
       "Index(['V1', 'V2', 'V3', 'V4', 'V5', 'V6', 'V7', 'V8', 'V9', 'V10'], dtype='object')"
      ]
     },
     "execution_count": 11,
     "metadata": {},
     "output_type": "execute_result"
    }
   ],
   "source": []
  },
  {
   "cell_type": "code",
   "execution_count": null,
   "metadata": {},
   "outputs": [],
   "source": []
  }
 ],
 "metadata": {
  "kernelspec": {
   "display_name": "Python 3.7.13 ('tensor')",
   "language": "python",
   "name": "python3"
  },
  "language_info": {
   "codemirror_mode": {
    "name": "ipython",
    "version": 3
   },
   "file_extension": ".py",
   "mimetype": "text/x-python",
   "name": "python",
   "nbconvert_exporter": "python",
   "pygments_lexer": "ipython3",
   "version": "3.7.13"
  },
  "orig_nbformat": 4,
  "vscode": {
   "interpreter": {
    "hash": "2cd8ab235991ec21a8c18909a3ffb6c6aa655e4cacee6331ca5c07df8f3aac09"
   }
  }
 },
 "nbformat": 4,
 "nbformat_minor": 2
}
