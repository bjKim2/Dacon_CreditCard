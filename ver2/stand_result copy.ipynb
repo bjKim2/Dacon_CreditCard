{
 "cells": [
  {
   "cell_type": "code",
   "execution_count": 9,
   "metadata": {},
   "outputs": [],
   "source": [
    "import pandas as pd\n",
    "import numpy as np"
   ]
  },
  {
   "cell_type": "code",
   "execution_count": 10,
   "metadata": {},
   "outputs": [],
   "source": [
    "train_df = pd.read_csv(\"../stand_Data/train_stand.csv\")\n",
    "val_df = pd.read_csv(\"../stand_Data/val_stand.csv\")\n",
    "test_df = pd.read_csv(\"../stand_Data/test_stand.csv\")\n",
    "\n",
    "train_x = train_df[:]\n",
    "val_x = val_df.drop('Class',axis=1)\n",
    "val_y = val_df['Class']"
   ]
  },
  {
   "cell_type": "code",
   "execution_count": 11,
   "metadata": {},
   "outputs": [],
   "source": [
    "#functions\n",
    "def get_pred_label(model_pred):\n",
    "    # IsolationForest 모델 출력 (1:정상, -1:불량(사기)) 이므로 (0:정상, 1:불량(사기))로 Label 변환\n",
    "    model_pred = np.where(model_pred == 1, 0, model_pred)\n",
    "    model_pred = np.where(model_pred == -1, 1, model_pred)\n",
    "    return model_pred"
   ]
  },
  {
   "cell_type": "code",
   "execution_count": 12,
   "metadata": {},
   "outputs": [
    {
     "name": "stdout",
     "output_type": "stream",
     "text": [
      "0.0010540369615627855\n"
     ]
    }
   ],
   "source": [
    "from sklearn.ensemble import IsolationForest \n",
    "from sklearn.metrics import classification_report,f1_score\n",
    "\n",
    "val_contamination = val_y.mean()\n",
    "print(val_contamination)\n"
   ]
  },
  {
   "cell_type": "code",
   "execution_count": 13,
   "metadata": {},
   "outputs": [],
   "source": [
    "colnames = ['V12']"
   ]
  },
  {
   "cell_type": "code",
   "execution_count": 14,
   "metadata": {},
   "outputs": [
    {
     "name": "stderr",
     "output_type": "stream",
     "text": [
      "/Users/kte/opt/anaconda3/envs/tensor/lib/python3.7/site-packages/sklearn/base.py:451: UserWarning: X does not have valid feature names, but IsolationForest was fitted with feature names\n",
      "  \"X does not have valid feature names, but\"\n"
     ]
    },
    {
     "data": {
      "text/plain": [
       "IsolationForest(contamination=0.0010540369615627855, max_samples=113842,\n",
       "                n_estimators=125, random_state=42)"
      ]
     },
     "execution_count": 14,
     "metadata": {},
     "output_type": "execute_result"
    }
   ],
   "source": [
    "\n",
    "model = IsolationForest(n_estimators=125, max_samples=len(train_x), contamination=val_contamination, random_state=42, verbose=0)\n",
    "model.fit(train_x.loc[:,colnames])"
   ]
  },
  {
   "cell_type": "code",
   "execution_count": 15,
   "metadata": {},
   "outputs": [
    {
     "name": "stdout",
     "output_type": "stream",
     "text": [
      "              precision    recall  f1-score   support\n",
      "\n",
      "           0       1.00      1.00      1.00     28427\n",
      "           1       0.57      0.49      0.52        35\n",
      "\n",
      "    accuracy                           1.00     28462\n",
      "   macro avg       0.78      0.74      0.76     28462\n",
      "weighted avg       1.00      1.00      1.00     28462\n",
      "\n",
      "0.7612658573772909\n"
     ]
    }
   ],
   "source": [
    "from numpy import average\n",
    "\n",
    "\n",
    "pred = model.predict(val_x.loc[:,colnames])\n",
    "pred = get_pred_label(pred)\n",
    "\n",
    "print(classification_report(pred,val_y))\n",
    "print(f1_score(val_y, pred, average='macro'))\n"
   ]
  },
  {
   "cell_type": "code",
   "execution_count": null,
   "metadata": {},
   "outputs": [],
   "source": []
  },
  {
   "cell_type": "code",
   "execution_count": 17,
   "metadata": {},
   "outputs": [],
   "source": [
    "#제출용\n",
    "test_df = pd.read_csv('../Data/test.csv') # Train\n",
    "test_df.head()\n",
    "test_x = test_df.loc[:,colnames]\n",
    "test_pred = model.predict(test_x) # model prediction\n",
    "test_pred = get_pred_label(test_pred)\n",
    "## Submission\n",
    "submit = pd.read_csv('../Data/sample_submission.csv')\n",
    "submit.head()\n",
    "submit['Class'] = test_pred\n",
    "submit.to_csv('./submit.csv', index=False)"
   ]
  },
  {
   "cell_type": "code",
   "execution_count": null,
   "metadata": {},
   "outputs": [],
   "source": []
  },
  {
   "cell_type": "code",
   "execution_count": null,
   "metadata": {},
   "outputs": [],
   "source": []
  },
  {
   "cell_type": "code",
   "execution_count": null,
   "metadata": {},
   "outputs": [],
   "source": []
  }
 ],
 "metadata": {
  "kernelspec": {
   "display_name": "Python 3.7.13 ('tensor')",
   "language": "python",
   "name": "python3"
  },
  "language_info": {
   "codemirror_mode": {
    "name": "ipython",
    "version": 3
   },
   "file_extension": ".py",
   "mimetype": "text/x-python",
   "name": "python",
   "nbconvert_exporter": "python",
   "pygments_lexer": "ipython3",
   "version": "3.7.13"
  },
  "orig_nbformat": 4,
  "vscode": {
   "interpreter": {
    "hash": "2cd8ab235991ec21a8c18909a3ffb6c6aa655e4cacee6331ca5c07df8f3aac09"
   }
  }
 },
 "nbformat": 4,
 "nbformat_minor": 2
}
