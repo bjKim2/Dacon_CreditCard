{
 "cells": [
  {
   "cell_type": "code",
   "execution_count": 1,
   "metadata": {},
   "outputs": [],
   "source": [
    "import pandas as pd\n",
    "import numpy as np"
   ]
  },
  {
   "cell_type": "code",
   "execution_count": 2,
   "metadata": {},
   "outputs": [],
   "source": [
    "train_df = pd.read_csv(\"../pca_Data/train_inpca.csv\")\n",
    "val_df = pd.read_csv(\"../pca_Data/val_inpca.csv\")\n",
    "test_df = pd.read_csv(\"../pca_Data/test_inpca.csv\")\n",
    "\n",
    "# train_df = pd.read_csv(\"../pca_Data/train_pca.csv\")\n",
    "# val_df = pd.read_csv(\"../pca_Data/val_pca.csv\")\n",
    "# test_df = pd.read_csv(\"../pca_Data/test_pca.csv\")\n",
    "\n",
    "\n",
    "\n"
   ]
  },
  {
   "cell_type": "code",
   "execution_count": 3,
   "metadata": {},
   "outputs": [],
   "source": [
    "#functions\n",
    "def get_pred_label(model_pred):\n",
    "    # IsolationForest 모델 출력 (1:정상, -1:불량(사기)) 이므로 (0:정상, 1:불량(사기))로 Label 변환\n",
    "    model_pred = np.where(model_pred == 1, 0, model_pred)\n",
    "    model_pred = np.where(model_pred == -1, 1, model_pred)\n",
    "    return model_pred"
   ]
  },
  {
   "cell_type": "code",
   "execution_count": 4,
   "metadata": {},
   "outputs": [
    {
     "data": {
      "text/html": [
       "<div>\n",
       "<style scoped>\n",
       "    .dataframe tbody tr th:only-of-type {\n",
       "        vertical-align: middle;\n",
       "    }\n",
       "\n",
       "    .dataframe tbody tr th {\n",
       "        vertical-align: top;\n",
       "    }\n",
       "\n",
       "    .dataframe thead th {\n",
       "        text-align: right;\n",
       "    }\n",
       "</style>\n",
       "<table border=\"1\" class=\"dataframe\">\n",
       "  <thead>\n",
       "    <tr style=\"text-align: right;\">\n",
       "      <th></th>\n",
       "      <th>V1</th>\n",
       "      <th>V2</th>\n",
       "      <th>V3</th>\n",
       "      <th>V4</th>\n",
       "      <th>V5</th>\n",
       "      <th>V6</th>\n",
       "      <th>V7</th>\n",
       "      <th>V8</th>\n",
       "      <th>V9</th>\n",
       "      <th>V10</th>\n",
       "      <th>...</th>\n",
       "      <th>V19</th>\n",
       "      <th>V20</th>\n",
       "      <th>V21</th>\n",
       "      <th>V22</th>\n",
       "      <th>V23</th>\n",
       "      <th>V24</th>\n",
       "      <th>V25</th>\n",
       "      <th>V26</th>\n",
       "      <th>V27</th>\n",
       "      <th>V28</th>\n",
       "    </tr>\n",
       "  </thead>\n",
       "  <tbody>\n",
       "    <tr>\n",
       "      <th>113837</th>\n",
       "      <td>0.738838</td>\n",
       "      <td>0.769896</td>\n",
       "      <td>0.647618</td>\n",
       "      <td>0.141620</td>\n",
       "      <td>0.548626</td>\n",
       "      <td>0.520238</td>\n",
       "      <td>0.486246</td>\n",
       "      <td>0.717890</td>\n",
       "      <td>0.766339</td>\n",
       "      <td>0.618480</td>\n",
       "      <td>...</td>\n",
       "      <td>0.452435</td>\n",
       "      <td>0.513156</td>\n",
       "      <td>0.455174</td>\n",
       "      <td>0.425523</td>\n",
       "      <td>0.663846</td>\n",
       "      <td>0.229628</td>\n",
       "      <td>0.575255</td>\n",
       "      <td>0.437382</td>\n",
       "      <td>0.469530</td>\n",
       "      <td>0.224934</td>\n",
       "    </tr>\n",
       "    <tr>\n",
       "      <th>113838</th>\n",
       "      <td>0.990562</td>\n",
       "      <td>0.772441</td>\n",
       "      <td>0.858606</td>\n",
       "      <td>0.321666</td>\n",
       "      <td>0.547715</td>\n",
       "      <td>0.522188</td>\n",
       "      <td>0.485039</td>\n",
       "      <td>0.718091</td>\n",
       "      <td>0.591949</td>\n",
       "      <td>0.613208</td>\n",
       "      <td>...</td>\n",
       "      <td>0.481904</td>\n",
       "      <td>0.516460</td>\n",
       "      <td>0.455580</td>\n",
       "      <td>0.552098</td>\n",
       "      <td>0.665469</td>\n",
       "      <td>0.404771</td>\n",
       "      <td>0.578567</td>\n",
       "      <td>0.280226</td>\n",
       "      <td>0.470638</td>\n",
       "      <td>0.221202</td>\n",
       "    </tr>\n",
       "    <tr>\n",
       "      <th>113839</th>\n",
       "      <td>0.954434</td>\n",
       "      <td>0.772015</td>\n",
       "      <td>0.897153</td>\n",
       "      <td>0.232334</td>\n",
       "      <td>0.547603</td>\n",
       "      <td>0.522499</td>\n",
       "      <td>0.485313</td>\n",
       "      <td>0.718049</td>\n",
       "      <td>0.568655</td>\n",
       "      <td>0.614005</td>\n",
       "      <td>...</td>\n",
       "      <td>0.481097</td>\n",
       "      <td>0.516181</td>\n",
       "      <td>0.455424</td>\n",
       "      <td>0.485373</td>\n",
       "      <td>0.665439</td>\n",
       "      <td>0.466767</td>\n",
       "      <td>0.578035</td>\n",
       "      <td>0.395709</td>\n",
       "      <td>0.470879</td>\n",
       "      <td>0.221069</td>\n",
       "    </tr>\n",
       "    <tr>\n",
       "      <th>113840</th>\n",
       "      <td>0.960711</td>\n",
       "      <td>0.771828</td>\n",
       "      <td>0.871183</td>\n",
       "      <td>0.219663</td>\n",
       "      <td>0.547710</td>\n",
       "      <td>0.522642</td>\n",
       "      <td>0.485244</td>\n",
       "      <td>0.717897</td>\n",
       "      <td>0.555382</td>\n",
       "      <td>0.614618</td>\n",
       "      <td>...</td>\n",
       "      <td>0.524574</td>\n",
       "      <td>0.516252</td>\n",
       "      <td>0.455293</td>\n",
       "      <td>0.468254</td>\n",
       "      <td>0.665529</td>\n",
       "      <td>0.427514</td>\n",
       "      <td>0.577500</td>\n",
       "      <td>0.397886</td>\n",
       "      <td>0.470519</td>\n",
       "      <td>0.221163</td>\n",
       "    </tr>\n",
       "    <tr>\n",
       "      <th>113841</th>\n",
       "      <td>0.750942</td>\n",
       "      <td>0.771306</td>\n",
       "      <td>0.611340</td>\n",
       "      <td>0.161777</td>\n",
       "      <td>0.548321</td>\n",
       "      <td>0.518908</td>\n",
       "      <td>0.485035</td>\n",
       "      <td>0.718897</td>\n",
       "      <td>0.640961</td>\n",
       "      <td>0.613068</td>\n",
       "      <td>...</td>\n",
       "      <td>0.440769</td>\n",
       "      <td>0.513577</td>\n",
       "      <td>0.456727</td>\n",
       "      <td>0.522774</td>\n",
       "      <td>0.664300</td>\n",
       "      <td>0.338091</td>\n",
       "      <td>0.576972</td>\n",
       "      <td>0.423311</td>\n",
       "      <td>0.469380</td>\n",
       "      <td>0.224903</td>\n",
       "    </tr>\n",
       "  </tbody>\n",
       "</table>\n",
       "<p>5 rows × 28 columns</p>\n",
       "</div>"
      ],
      "text/plain": [
       "              V1        V2        V3        V4        V5        V6        V7  \\\n",
       "113837  0.738838  0.769896  0.647618  0.141620  0.548626  0.520238  0.486246   \n",
       "113838  0.990562  0.772441  0.858606  0.321666  0.547715  0.522188  0.485039   \n",
       "113839  0.954434  0.772015  0.897153  0.232334  0.547603  0.522499  0.485313   \n",
       "113840  0.960711  0.771828  0.871183  0.219663  0.547710  0.522642  0.485244   \n",
       "113841  0.750942  0.771306  0.611340  0.161777  0.548321  0.518908  0.485035   \n",
       "\n",
       "              V8        V9       V10  ...       V19       V20       V21  \\\n",
       "113837  0.717890  0.766339  0.618480  ...  0.452435  0.513156  0.455174   \n",
       "113838  0.718091  0.591949  0.613208  ...  0.481904  0.516460  0.455580   \n",
       "113839  0.718049  0.568655  0.614005  ...  0.481097  0.516181  0.455424   \n",
       "113840  0.717897  0.555382  0.614618  ...  0.524574  0.516252  0.455293   \n",
       "113841  0.718897  0.640961  0.613068  ...  0.440769  0.513577  0.456727   \n",
       "\n",
       "             V22       V23       V24       V25       V26       V27       V28  \n",
       "113837  0.425523  0.663846  0.229628  0.575255  0.437382  0.469530  0.224934  \n",
       "113838  0.552098  0.665469  0.404771  0.578567  0.280226  0.470638  0.221202  \n",
       "113839  0.485373  0.665439  0.466767  0.578035  0.395709  0.470879  0.221069  \n",
       "113840  0.468254  0.665529  0.427514  0.577500  0.397886  0.470519  0.221163  \n",
       "113841  0.522774  0.664300  0.338091  0.576972  0.423311  0.469380  0.224903  \n",
       "\n",
       "[5 rows x 28 columns]"
      ]
     },
     "execution_count": 4,
     "metadata": {},
     "output_type": "execute_result"
    }
   ],
   "source": [
    "train_df.tail()"
   ]
  },
  {
   "cell_type": "code",
   "execution_count": 5,
   "metadata": {},
   "outputs": [],
   "source": [
    "train_x = train_df[:]\n",
    "val_x = val_df.drop('Class',axis=1)\n",
    "val_y = val_df['Class']"
   ]
  },
  {
   "cell_type": "code",
   "execution_count": 6,
   "metadata": {},
   "outputs": [
    {
     "name": "stdout",
     "output_type": "stream",
     "text": [
      "0.0010540369615627855\n"
     ]
    }
   ],
   "source": [
    "from sklearn.ensemble import IsolationForest \n",
    "from sklearn.metrics import classification_report,f1_score\n",
    "\n",
    "val_contamination = val_y.mean()\n",
    "print(val_contamination)\n"
   ]
  },
  {
   "cell_type": "code",
   "execution_count": null,
   "metadata": {},
   "outputs": [],
   "source": []
  },
  {
   "cell_type": "code",
   "execution_count": 74,
   "metadata": {},
   "outputs": [],
   "source": [
    "colnames = ['V12','V17','V18','V19','V9','V14']\n",
    "# colnames = val_x.columns"
   ]
  },
  {
   "cell_type": "code",
   "execution_count": 22,
   "metadata": {},
   "outputs": [],
   "source": [
    "all_cols = list(val_x.columns)\n",
    "\n",
    "selected_cols = []\n",
    "\n",
    "deselected_cols = all_cols"
   ]
  },
  {
   "cell_type": "code",
   "execution_count": 12,
   "metadata": {},
   "outputs": [
    {
     "ename": "AttributeError",
     "evalue": "'list' object has no attribute 'max'",
     "output_type": "error",
     "traceback": [
      "\u001b[0;31m---------------------------------------------------------------------------\u001b[0m",
      "\u001b[0;31mAttributeError\u001b[0m                            Traceback (most recent call last)",
      "\u001b[0;32m/var/folders/t8/fgx0kt2j66zf6nrrj6v3_t9w0000gn/T/ipykernel_73248/3234803900.py\u001b[0m in \u001b[0;36m<module>\u001b[0;34m\u001b[0m\n\u001b[0;32m----> 1\u001b[0;31m \u001b[0mf1s\u001b[0m\u001b[0;34m.\u001b[0m\u001b[0mmax\u001b[0m\u001b[0;34m(\u001b[0m\u001b[0;34m)\u001b[0m\u001b[0;34m\u001b[0m\u001b[0;34m\u001b[0m\u001b[0m\n\u001b[0m",
      "\u001b[0;31mAttributeError\u001b[0m: 'list' object has no attribute 'max'"
     ]
    }
   ],
   "source": []
  },
  {
   "cell_type": "code",
   "execution_count": 25,
   "metadata": {},
   "outputs": [],
   "source": []
  },
  {
   "cell_type": "code",
   "execution_count": 90,
   "metadata": {},
   "outputs": [
    {
     "name": "stdout",
     "output_type": "stream",
     "text": [
      "count : 1 번\n",
      "selected ['V10', 'V17']\n",
      "tempcol ['V10', 'V17', 'V1']\n",
      "V1\n"
     ]
    },
    {
     "name": "stderr",
     "output_type": "stream",
     "text": [
      "/Users/kte/opt/anaconda3/envs/tensor/lib/python3.7/site-packages/sklearn/base.py:451: UserWarning: X does not have valid feature names, but IsolationForest was fitted with feature names\n",
      "  \"X does not have valid feature names, but\"\n"
     ]
    },
    {
     "name": "stdout",
     "output_type": "stream",
     "text": [
      "              precision    recall  f1-score   support\n",
      "\n",
      "           0       1.00      1.00      1.00     28432\n",
      "           1       0.72      0.60      0.65        30\n",
      "\n",
      "    accuracy                           1.00     28462\n",
      "   macro avg       0.86      0.80      0.83     28462\n",
      "weighted avg       1.00      1.00      1.00     28462\n",
      "\n",
      "0.8271056766827749\n",
      "selected ['V10', 'V17']\n",
      "tempcol ['V10', 'V17', 'V2']\n",
      "V2\n"
     ]
    },
    {
     "name": "stderr",
     "output_type": "stream",
     "text": [
      "/Users/kte/opt/anaconda3/envs/tensor/lib/python3.7/site-packages/sklearn/base.py:451: UserWarning: X does not have valid feature names, but IsolationForest was fitted with feature names\n",
      "  \"X does not have valid feature names, but\"\n"
     ]
    },
    {
     "name": "stdout",
     "output_type": "stream",
     "text": [
      "              precision    recall  f1-score   support\n",
      "\n",
      "           0       1.00      1.00      1.00     28432\n",
      "           1       0.76      0.63      0.69        30\n",
      "\n",
      "    accuracy                           1.00     28462\n",
      "   macro avg       0.88      0.82      0.85     28462\n",
      "weighted avg       1.00      1.00      1.00     28462\n",
      "\n",
      "0.8453050791372196\n",
      "selected ['V10', 'V17']\n",
      "tempcol ['V10', 'V17', 'V3']\n",
      "V3\n"
     ]
    },
    {
     "name": "stderr",
     "output_type": "stream",
     "text": [
      "/Users/kte/opt/anaconda3/envs/tensor/lib/python3.7/site-packages/sklearn/base.py:451: UserWarning: X does not have valid feature names, but IsolationForest was fitted with feature names\n",
      "  \"X does not have valid feature names, but\"\n"
     ]
    },
    {
     "name": "stdout",
     "output_type": "stream",
     "text": [
      "              precision    recall  f1-score   support\n",
      "\n",
      "           0       1.00      1.00      1.00     28432\n",
      "           1       0.60      0.60      0.60        30\n",
      "\n",
      "    accuracy                           1.00     28462\n",
      "   macro avg       0.80      0.80      0.80     28462\n",
      "weighted avg       1.00      1.00      1.00     28462\n",
      "\n",
      "0.7997889701744514\n",
      "selected ['V10', 'V17']\n",
      "tempcol ['V10', 'V17', 'V4']\n",
      "V4\n"
     ]
    },
    {
     "name": "stderr",
     "output_type": "stream",
     "text": [
      "/Users/kte/opt/anaconda3/envs/tensor/lib/python3.7/site-packages/sklearn/base.py:451: UserWarning: X does not have valid feature names, but IsolationForest was fitted with feature names\n",
      "  \"X does not have valid feature names, but\"\n"
     ]
    },
    {
     "name": "stdout",
     "output_type": "stream",
     "text": [
      "              precision    recall  f1-score   support\n",
      "\n",
      "           0       1.00      1.00      1.00     28432\n",
      "           1       0.66      0.63      0.64        30\n",
      "\n",
      "    accuracy                           1.00     28462\n",
      "   macro avg       0.83      0.82      0.82     28462\n",
      "weighted avg       1.00      1.00      1.00     28462\n",
      "\n",
      "0.8218492504549133\n",
      "selected ['V10', 'V17']\n",
      "tempcol ['V10', 'V17', 'V5']\n",
      "V5\n"
     ]
    },
    {
     "name": "stderr",
     "output_type": "stream",
     "text": [
      "/Users/kte/opt/anaconda3/envs/tensor/lib/python3.7/site-packages/sklearn/base.py:451: UserWarning: X does not have valid feature names, but IsolationForest was fitted with feature names\n",
      "  \"X does not have valid feature names, but\"\n"
     ]
    },
    {
     "name": "stdout",
     "output_type": "stream",
     "text": [
      "              precision    recall  f1-score   support\n",
      "\n",
      "           0       1.00      1.00      1.00     28432\n",
      "           1       0.73      0.63      0.68        30\n",
      "\n",
      "    accuracy                           1.00     28462\n",
      "   macro avg       0.87      0.82      0.84     28462\n",
      "weighted avg       1.00      1.00      1.00     28462\n",
      "\n",
      "0.8391274530491665\n",
      "selected ['V10', 'V17']\n",
      "tempcol ['V10', 'V17', 'V6']\n",
      "V6\n"
     ]
    },
    {
     "name": "stderr",
     "output_type": "stream",
     "text": [
      "/Users/kte/opt/anaconda3/envs/tensor/lib/python3.7/site-packages/sklearn/base.py:451: UserWarning: X does not have valid feature names, but IsolationForest was fitted with feature names\n",
      "  \"X does not have valid feature names, but\"\n"
     ]
    },
    {
     "name": "stdout",
     "output_type": "stream",
     "text": [
      "              precision    recall  f1-score   support\n",
      "\n",
      "           0       1.00      1.00      1.00     28432\n",
      "           1       0.68      0.63      0.66        30\n",
      "\n",
      "    accuracy                           1.00     28462\n",
      "   macro avg       0.84      0.82      0.83     28462\n",
      "weighted avg       1.00      1.00      1.00     28462\n",
      "\n",
      "0.8274103548935974\n",
      "selected ['V10', 'V17']\n",
      "tempcol ['V10', 'V17', 'V7']\n",
      "V7\n"
     ]
    },
    {
     "name": "stderr",
     "output_type": "stream",
     "text": [
      "/Users/kte/opt/anaconda3/envs/tensor/lib/python3.7/site-packages/sklearn/base.py:451: UserWarning: X does not have valid feature names, but IsolationForest was fitted with feature names\n",
      "  \"X does not have valid feature names, but\"\n"
     ]
    },
    {
     "name": "stdout",
     "output_type": "stream",
     "text": [
      "              precision    recall  f1-score   support\n",
      "\n",
      "           0       1.00      1.00      1.00     28432\n",
      "           1       0.83      0.63      0.72        30\n",
      "\n",
      "    accuracy                           1.00     28462\n",
      "   macro avg       0.91      0.82      0.86     28462\n",
      "weighted avg       1.00      1.00      1.00     28462\n",
      "\n",
      "0.8583586886309732\n",
      "selected ['V10', 'V17']\n",
      "tempcol ['V10', 'V17', 'V8']\n",
      "V8\n"
     ]
    },
    {
     "name": "stderr",
     "output_type": "stream",
     "text": [
      "/Users/kte/opt/anaconda3/envs/tensor/lib/python3.7/site-packages/sklearn/base.py:451: UserWarning: X does not have valid feature names, but IsolationForest was fitted with feature names\n",
      "  \"X does not have valid feature names, but\"\n"
     ]
    },
    {
     "name": "stdout",
     "output_type": "stream",
     "text": [
      "              precision    recall  f1-score   support\n",
      "\n",
      "           0       1.00      1.00      1.00     28432\n",
      "           1       0.68      0.57      0.62        30\n",
      "\n",
      "    accuracy                           1.00     28462\n",
      "   macro avg       0.84      0.78      0.81     28462\n",
      "weighted avg       1.00      1.00      1.00     28462\n",
      "\n",
      "0.8089062742283302\n",
      "selected ['V10', 'V17']\n",
      "tempcol ['V10', 'V17', 'V9']\n",
      "V9\n"
     ]
    },
    {
     "name": "stderr",
     "output_type": "stream",
     "text": [
      "/Users/kte/opt/anaconda3/envs/tensor/lib/python3.7/site-packages/sklearn/base.py:451: UserWarning: X does not have valid feature names, but IsolationForest was fitted with feature names\n",
      "  \"X does not have valid feature names, but\"\n"
     ]
    },
    {
     "name": "stdout",
     "output_type": "stream",
     "text": [
      "              precision    recall  f1-score   support\n",
      "\n",
      "           0       1.00      1.00      1.00     28432\n",
      "           1       0.79      0.50      0.61        30\n",
      "\n",
      "    accuracy                           1.00     28462\n",
      "   macro avg       0.89      0.75      0.81     28462\n",
      "weighted avg       1.00      1.00      1.00     28462\n",
      "\n",
      "0.8059554160125588\n",
      "selected ['V10', 'V17']\n",
      "tempcol ['V10', 'V17', 'V11']\n",
      "V11\n"
     ]
    },
    {
     "name": "stderr",
     "output_type": "stream",
     "text": [
      "/Users/kte/opt/anaconda3/envs/tensor/lib/python3.7/site-packages/sklearn/base.py:451: UserWarning: X does not have valid feature names, but IsolationForest was fitted with feature names\n",
      "  \"X does not have valid feature names, but\"\n"
     ]
    },
    {
     "name": "stdout",
     "output_type": "stream",
     "text": [
      "              precision    recall  f1-score   support\n",
      "\n",
      "           0       1.00      1.00      1.00     28432\n",
      "           1       0.66      0.63      0.64        30\n",
      "\n",
      "    accuracy                           1.00     28462\n",
      "   macro avg       0.83      0.82      0.82     28462\n",
      "weighted avg       1.00      1.00      1.00     28462\n",
      "\n",
      "0.8218492504549133\n",
      "selected ['V10', 'V17']\n",
      "tempcol ['V10', 'V17', 'V12']\n",
      "V12\n"
     ]
    },
    {
     "name": "stderr",
     "output_type": "stream",
     "text": [
      "/Users/kte/opt/anaconda3/envs/tensor/lib/python3.7/site-packages/sklearn/base.py:451: UserWarning: X does not have valid feature names, but IsolationForest was fitted with feature names\n",
      "  \"X does not have valid feature names, but\"\n"
     ]
    },
    {
     "name": "stdout",
     "output_type": "stream",
     "text": [
      "              precision    recall  f1-score   support\n",
      "\n",
      "           0       1.00      1.00      1.00     28432\n",
      "           1       0.70      0.63      0.67        30\n",
      "\n",
      "    accuracy                           1.00     28462\n",
      "   macro avg       0.85      0.82      0.83     28462\n",
      "weighted avg       1.00      1.00      1.00     28462\n",
      "\n",
      "0.8331662768682482\n",
      "selected ['V10', 'V17']\n",
      "tempcol ['V10', 'V17', 'V13']\n",
      "V13\n"
     ]
    },
    {
     "name": "stderr",
     "output_type": "stream",
     "text": [
      "/Users/kte/opt/anaconda3/envs/tensor/lib/python3.7/site-packages/sklearn/base.py:451: UserWarning: X does not have valid feature names, but IsolationForest was fitted with feature names\n",
      "  \"X does not have valid feature names, but\"\n"
     ]
    },
    {
     "name": "stdout",
     "output_type": "stream",
     "text": [
      "              precision    recall  f1-score   support\n",
      "\n",
      "           0       1.00      1.00      1.00     28432\n",
      "           1       0.71      0.67      0.69        30\n",
      "\n",
      "    accuracy                           1.00     28462\n",
      "   macro avg       0.86      0.83      0.84     28462\n",
      "weighted avg       1.00      1.00      1.00     28462\n",
      "\n",
      "0.8446693194042376\n",
      "selected ['V10', 'V17']\n",
      "tempcol ['V10', 'V17', 'V14']\n",
      "V14\n"
     ]
    },
    {
     "name": "stderr",
     "output_type": "stream",
     "text": [
      "/Users/kte/opt/anaconda3/envs/tensor/lib/python3.7/site-packages/sklearn/base.py:451: UserWarning: X does not have valid feature names, but IsolationForest was fitted with feature names\n",
      "  \"X does not have valid feature names, but\"\n"
     ]
    },
    {
     "name": "stdout",
     "output_type": "stream",
     "text": [
      "              precision    recall  f1-score   support\n",
      "\n",
      "           0       1.00      1.00      1.00     28432\n",
      "           1       0.67      0.60      0.63        30\n",
      "\n",
      "    accuracy                           1.00     28462\n",
      "   macro avg       0.83      0.80      0.82     28462\n",
      "weighted avg       1.00      1.00      1.00     28462\n",
      "\n",
      "0.8156048323280637\n",
      "selected ['V10', 'V17']\n",
      "tempcol ['V10', 'V17', 'V15']\n",
      "V15\n"
     ]
    },
    {
     "name": "stderr",
     "output_type": "stream",
     "text": [
      "/Users/kte/opt/anaconda3/envs/tensor/lib/python3.7/site-packages/sklearn/base.py:451: UserWarning: X does not have valid feature names, but IsolationForest was fitted with feature names\n",
      "  \"X does not have valid feature names, but\"\n"
     ]
    },
    {
     "name": "stdout",
     "output_type": "stream",
     "text": [
      "              precision    recall  f1-score   support\n",
      "\n",
      "           0       1.00      1.00      1.00     28432\n",
      "           1       0.78      0.60      0.68        30\n",
      "\n",
      "    accuracy                           1.00     28462\n",
      "   macro avg       0.89      0.80      0.84     28462\n",
      "weighted avg       1.00      1.00      1.00     28462\n",
      "\n",
      "0.8394731804484362\n",
      "selected ['V10', 'V17']\n",
      "tempcol ['V10', 'V17', 'V16']\n",
      "V16\n"
     ]
    },
    {
     "name": "stderr",
     "output_type": "stream",
     "text": [
      "/Users/kte/opt/anaconda3/envs/tensor/lib/python3.7/site-packages/sklearn/base.py:451: UserWarning: X does not have valid feature names, but IsolationForest was fitted with feature names\n",
      "  \"X does not have valid feature names, but\"\n"
     ]
    },
    {
     "name": "stdout",
     "output_type": "stream",
     "text": [
      "              precision    recall  f1-score   support\n",
      "\n",
      "           0       1.00      1.00      1.00     28432\n",
      "           1       0.75      0.60      0.67        30\n",
      "\n",
      "    accuracy                           1.00     28462\n",
      "   macro avg       0.87      0.80      0.83     28462\n",
      "weighted avg       1.00      1.00      1.00     28462\n",
      "\n",
      "0.8331750776625051\n",
      "selected ['V10', 'V17']\n",
      "tempcol ['V10', 'V17', 'V18']\n",
      "V18\n"
     ]
    },
    {
     "name": "stderr",
     "output_type": "stream",
     "text": [
      "/Users/kte/opt/anaconda3/envs/tensor/lib/python3.7/site-packages/sklearn/base.py:451: UserWarning: X does not have valid feature names, but IsolationForest was fitted with feature names\n",
      "  \"X does not have valid feature names, but\"\n"
     ]
    },
    {
     "name": "stdout",
     "output_type": "stream",
     "text": [
      "              precision    recall  f1-score   support\n",
      "\n",
      "           0       1.00      1.00      1.00     28432\n",
      "           1       0.83      0.63      0.72        30\n",
      "\n",
      "    accuracy                           1.00     28462\n",
      "   macro avg       0.91      0.82      0.86     28462\n",
      "weighted avg       1.00      1.00      1.00     28462\n",
      "\n",
      "0.8583586886309732\n",
      "selected ['V10', 'V17']\n",
      "tempcol ['V10', 'V17', 'V19']\n",
      "V19\n"
     ]
    },
    {
     "name": "stderr",
     "output_type": "stream",
     "text": [
      "/Users/kte/opt/anaconda3/envs/tensor/lib/python3.7/site-packages/sklearn/base.py:451: UserWarning: X does not have valid feature names, but IsolationForest was fitted with feature names\n",
      "  \"X does not have valid feature names, but\"\n"
     ]
    },
    {
     "name": "stdout",
     "output_type": "stream",
     "text": [
      "              precision    recall  f1-score   support\n",
      "\n",
      "           0       1.00      1.00      1.00     28432\n",
      "           1       0.69      0.60      0.64        30\n",
      "\n",
      "    accuracy                           1.00     28462\n",
      "   macro avg       0.85      0.80      0.82     28462\n",
      "weighted avg       1.00      1.00      1.00     28462\n",
      "\n",
      "0.8212527256101849\n",
      "selected ['V10', 'V17']\n",
      "tempcol ['V10', 'V17', 'V20']\n",
      "V20\n"
     ]
    },
    {
     "name": "stderr",
     "output_type": "stream",
     "text": [
      "/Users/kte/opt/anaconda3/envs/tensor/lib/python3.7/site-packages/sklearn/base.py:451: UserWarning: X does not have valid feature names, but IsolationForest was fitted with feature names\n",
      "  \"X does not have valid feature names, but\"\n"
     ]
    },
    {
     "name": "stdout",
     "output_type": "stream",
     "text": [
      "              precision    recall  f1-score   support\n",
      "\n",
      "           0       1.00      1.00      1.00     28432\n",
      "           1       0.59      0.43      0.50        30\n",
      "\n",
      "    accuracy                           1.00     28462\n",
      "   macro avg       0.80      0.72      0.75     28462\n",
      "weighted avg       1.00      1.00      1.00     28462\n",
      "\n",
      "0.7497714165142777\n",
      "selected ['V10', 'V17']\n",
      "tempcol ['V10', 'V17', 'V21']\n",
      "V21\n"
     ]
    },
    {
     "name": "stderr",
     "output_type": "stream",
     "text": [
      "/Users/kte/opt/anaconda3/envs/tensor/lib/python3.7/site-packages/sklearn/base.py:451: UserWarning: X does not have valid feature names, but IsolationForest was fitted with feature names\n",
      "  \"X does not have valid feature names, but\"\n"
     ]
    },
    {
     "name": "stdout",
     "output_type": "stream",
     "text": [
      "              precision    recall  f1-score   support\n",
      "\n",
      "           0       1.00      1.00      1.00     28432\n",
      "           1       0.55      0.57      0.56        30\n",
      "\n",
      "    accuracy                           1.00     28462\n",
      "   macro avg       0.77      0.78      0.78     28462\n",
      "weighted avg       1.00      1.00      1.00     28462\n",
      "\n",
      "0.7784511118613244\n",
      "selected ['V10', 'V17']\n",
      "tempcol ['V10', 'V17', 'V22']\n",
      "V22\n"
     ]
    },
    {
     "name": "stderr",
     "output_type": "stream",
     "text": [
      "/Users/kte/opt/anaconda3/envs/tensor/lib/python3.7/site-packages/sklearn/base.py:451: UserWarning: X does not have valid feature names, but IsolationForest was fitted with feature names\n",
      "  \"X does not have valid feature names, but\"\n"
     ]
    },
    {
     "name": "stdout",
     "output_type": "stream",
     "text": [
      "              precision    recall  f1-score   support\n",
      "\n",
      "           0       1.00      1.00      1.00     28432\n",
      "           1       0.48      0.50      0.49        30\n",
      "\n",
      "    accuracy                           1.00     28462\n",
      "   macro avg       0.74      0.75      0.75     28462\n",
      "weighted avg       1.00      1.00      1.00     28462\n",
      "\n",
      "0.7456290543592985\n",
      "selected ['V10', 'V17']\n",
      "tempcol ['V10', 'V17', 'V23']\n",
      "V23\n"
     ]
    },
    {
     "name": "stderr",
     "output_type": "stream",
     "text": [
      "/Users/kte/opt/anaconda3/envs/tensor/lib/python3.7/site-packages/sklearn/base.py:451: UserWarning: X does not have valid feature names, but IsolationForest was fitted with feature names\n",
      "  \"X does not have valid feature names, but\"\n"
     ]
    },
    {
     "name": "stdout",
     "output_type": "stream",
     "text": [
      "              precision    recall  f1-score   support\n",
      "\n",
      "           0       1.00      1.00      1.00     28432\n",
      "           1       0.70      0.53      0.60        30\n",
      "\n",
      "    accuracy                           1.00     28462\n",
      "   macro avg       0.85      0.77      0.80     28462\n",
      "weighted avg       1.00      1.00      1.00     28462\n",
      "\n",
      "0.8017021640833626\n",
      "selected ['V10', 'V17']\n",
      "tempcol ['V10', 'V17', 'V24']\n",
      "V24\n"
     ]
    },
    {
     "name": "stderr",
     "output_type": "stream",
     "text": [
      "/Users/kte/opt/anaconda3/envs/tensor/lib/python3.7/site-packages/sklearn/base.py:451: UserWarning: X does not have valid feature names, but IsolationForest was fitted with feature names\n",
      "  \"X does not have valid feature names, but\"\n"
     ]
    },
    {
     "name": "stdout",
     "output_type": "stream",
     "text": [
      "              precision    recall  f1-score   support\n",
      "\n",
      "           0       1.00      1.00      1.00     28432\n",
      "           1       0.70      0.63      0.67        30\n",
      "\n",
      "    accuracy                           1.00     28462\n",
      "   macro avg       0.85      0.82      0.83     28462\n",
      "weighted avg       1.00      1.00      1.00     28462\n",
      "\n",
      "0.8331662768682482\n",
      "selected ['V10', 'V17']\n",
      "tempcol ['V10', 'V17', 'V25']\n",
      "V25\n"
     ]
    },
    {
     "name": "stderr",
     "output_type": "stream",
     "text": [
      "/Users/kte/opt/anaconda3/envs/tensor/lib/python3.7/site-packages/sklearn/base.py:451: UserWarning: X does not have valid feature names, but IsolationForest was fitted with feature names\n",
      "  \"X does not have valid feature names, but\"\n"
     ]
    },
    {
     "name": "stdout",
     "output_type": "stream",
     "text": [
      "              precision    recall  f1-score   support\n",
      "\n",
      "           0       1.00      1.00      1.00     28432\n",
      "           1       0.78      0.60      0.68        30\n",
      "\n",
      "    accuracy                           1.00     28462\n",
      "   macro avg       0.89      0.80      0.84     28462\n",
      "weighted avg       1.00      1.00      1.00     28462\n",
      "\n",
      "0.8394731804484362\n",
      "selected ['V10', 'V17']\n",
      "tempcol ['V10', 'V17', 'V26']\n",
      "V26\n"
     ]
    },
    {
     "name": "stderr",
     "output_type": "stream",
     "text": [
      "/Users/kte/opt/anaconda3/envs/tensor/lib/python3.7/site-packages/sklearn/base.py:451: UserWarning: X does not have valid feature names, but IsolationForest was fitted with feature names\n",
      "  \"X does not have valid feature names, but\"\n"
     ]
    },
    {
     "name": "stdout",
     "output_type": "stream",
     "text": [
      "              precision    recall  f1-score   support\n",
      "\n",
      "           0       1.00      1.00      1.00     28432\n",
      "           1       0.69      0.67      0.68        30\n",
      "\n",
      "    accuracy                           1.00     28462\n",
      "   macro avg       0.84      0.83      0.84     28462\n",
      "weighted avg       1.00      1.00      1.00     28462\n",
      "\n",
      "0.8388159885068263\n",
      "selected ['V10', 'V17']\n",
      "tempcol ['V10', 'V17', 'V27']\n",
      "V27\n"
     ]
    },
    {
     "name": "stderr",
     "output_type": "stream",
     "text": [
      "/Users/kte/opt/anaconda3/envs/tensor/lib/python3.7/site-packages/sklearn/base.py:451: UserWarning: X does not have valid feature names, but IsolationForest was fitted with feature names\n",
      "  \"X does not have valid feature names, but\"\n"
     ]
    },
    {
     "name": "stdout",
     "output_type": "stream",
     "text": [
      "              precision    recall  f1-score   support\n",
      "\n",
      "           0       1.00      1.00      1.00     28432\n",
      "           1       0.65      0.57      0.61        30\n",
      "\n",
      "    accuracy                           1.00     28462\n",
      "   macro avg       0.83      0.78      0.80     28462\n",
      "weighted avg       1.00      1.00      1.00     28462\n",
      "\n",
      "0.8033779981712035\n",
      "selected ['V10', 'V17']\n",
      "tempcol ['V10', 'V17', 'V28']\n",
      "V28\n"
     ]
    },
    {
     "name": "stderr",
     "output_type": "stream",
     "text": [
      "/Users/kte/opt/anaconda3/envs/tensor/lib/python3.7/site-packages/sklearn/base.py:451: UserWarning: X does not have valid feature names, but IsolationForest was fitted with feature names\n",
      "  \"X does not have valid feature names, but\"\n"
     ]
    },
    {
     "name": "stdout",
     "output_type": "stream",
     "text": [
      "              precision    recall  f1-score   support\n",
      "\n",
      "           0       1.00      1.00      1.00     28432\n",
      "           1       0.68      0.63      0.66        30\n",
      "\n",
      "    accuracy                           1.00     28462\n",
      "   macro avg       0.84      0.82      0.83     28462\n",
      "weighted avg       1.00      1.00      1.00     28462\n",
      "\n",
      "0.8274103548935974\n",
      "추가\n",
      "count : 27 번\n",
      "selected ['V10', 'V17', 'V7']\n",
      "tempcol ['V10', 'V17', 'V7', 'V1']\n",
      "V1\n"
     ]
    },
    {
     "name": "stderr",
     "output_type": "stream",
     "text": [
      "/Users/kte/opt/anaconda3/envs/tensor/lib/python3.7/site-packages/sklearn/base.py:451: UserWarning: X does not have valid feature names, but IsolationForest was fitted with feature names\n",
      "  \"X does not have valid feature names, but\"\n"
     ]
    },
    {
     "name": "stdout",
     "output_type": "stream",
     "text": [
      "              precision    recall  f1-score   support\n",
      "\n",
      "           0       1.00      1.00      1.00     28432\n",
      "           1       0.75      0.60      0.67        30\n",
      "\n",
      "    accuracy                           1.00     28462\n",
      "   macro avg       0.87      0.80      0.83     28462\n",
      "weighted avg       1.00      1.00      1.00     28462\n",
      "\n",
      "0.8331750776625051\n",
      "selected ['V10', 'V17', 'V7']\n",
      "tempcol ['V10', 'V17', 'V7', 'V2']\n",
      "V2\n"
     ]
    },
    {
     "name": "stderr",
     "output_type": "stream",
     "text": [
      "/Users/kte/opt/anaconda3/envs/tensor/lib/python3.7/site-packages/sklearn/base.py:451: UserWarning: X does not have valid feature names, but IsolationForest was fitted with feature names\n",
      "  \"X does not have valid feature names, but\"\n"
     ]
    },
    {
     "name": "stdout",
     "output_type": "stream",
     "text": [
      "              precision    recall  f1-score   support\n",
      "\n",
      "           0       1.00      1.00      1.00     28432\n",
      "           1       0.82      0.60      0.69        30\n",
      "\n",
      "    accuracy                           1.00     28462\n",
      "   macro avg       0.91      0.80      0.85     28462\n",
      "weighted avg       1.00      1.00      1.00     28462\n",
      "\n",
      "0.8460131793934016\n",
      "selected ['V10', 'V17', 'V7']\n",
      "tempcol ['V10', 'V17', 'V7', 'V3']\n",
      "V3\n"
     ]
    },
    {
     "name": "stderr",
     "output_type": "stream",
     "text": [
      "/Users/kte/opt/anaconda3/envs/tensor/lib/python3.7/site-packages/sklearn/base.py:451: UserWarning: X does not have valid feature names, but IsolationForest was fitted with feature names\n",
      "  \"X does not have valid feature names, but\"\n"
     ]
    },
    {
     "name": "stdout",
     "output_type": "stream",
     "text": [
      "              precision    recall  f1-score   support\n",
      "\n",
      "           0       1.00      1.00      1.00     28432\n",
      "           1       0.71      0.57      0.63        30\n",
      "\n",
      "    accuracy                           1.00     28462\n",
      "   macro avg       0.85      0.78      0.81     28462\n",
      "weighted avg       1.00      1.00      1.00     28462\n",
      "\n",
      "0.8146389751805612\n",
      "selected ['V10', 'V17', 'V7']\n",
      "tempcol ['V10', 'V17', 'V7', 'V4']\n",
      "V4\n"
     ]
    },
    {
     "name": "stderr",
     "output_type": "stream",
     "text": [
      "/Users/kte/opt/anaconda3/envs/tensor/lib/python3.7/site-packages/sklearn/base.py:451: UserWarning: X does not have valid feature names, but IsolationForest was fitted with feature names\n",
      "  \"X does not have valid feature names, but\"\n"
     ]
    },
    {
     "name": "stdout",
     "output_type": "stream",
     "text": [
      "              precision    recall  f1-score   support\n",
      "\n",
      "           0       1.00      1.00      1.00     28432\n",
      "           1       0.76      0.63      0.69        30\n",
      "\n",
      "    accuracy                           1.00     28462\n",
      "   macro avg       0.88      0.82      0.85     28462\n",
      "weighted avg       1.00      1.00      1.00     28462\n",
      "\n",
      "0.8453050791372196\n",
      "selected ['V10', 'V17', 'V7']\n",
      "tempcol ['V10', 'V17', 'V7', 'V5']\n",
      "V5\n"
     ]
    },
    {
     "name": "stderr",
     "output_type": "stream",
     "text": [
      "/Users/kte/opt/anaconda3/envs/tensor/lib/python3.7/site-packages/sklearn/base.py:451: UserWarning: X does not have valid feature names, but IsolationForest was fitted with feature names\n",
      "  \"X does not have valid feature names, but\"\n"
     ]
    },
    {
     "name": "stdout",
     "output_type": "stream",
     "text": [
      "              precision    recall  f1-score   support\n",
      "\n",
      "           0       1.00      1.00      1.00     28432\n",
      "           1       0.82      0.60      0.69        30\n",
      "\n",
      "    accuracy                           1.00     28462\n",
      "   macro avg       0.91      0.80      0.85     28462\n",
      "weighted avg       1.00      1.00      1.00     28462\n",
      "\n",
      "0.8460131793934016\n",
      "selected ['V10', 'V17', 'V7']\n",
      "tempcol ['V10', 'V17', 'V7', 'V6']\n",
      "V6\n"
     ]
    },
    {
     "name": "stderr",
     "output_type": "stream",
     "text": [
      "/Users/kte/opt/anaconda3/envs/tensor/lib/python3.7/site-packages/sklearn/base.py:451: UserWarning: X does not have valid feature names, but IsolationForest was fitted with feature names\n",
      "  \"X does not have valid feature names, but\"\n"
     ]
    },
    {
     "name": "stdout",
     "output_type": "stream",
     "text": [
      "              precision    recall  f1-score   support\n",
      "\n",
      "           0       1.00      1.00      1.00     28432\n",
      "           1       0.73      0.63      0.68        30\n",
      "\n",
      "    accuracy                           1.00     28462\n",
      "   macro avg       0.87      0.82      0.84     28462\n",
      "weighted avg       1.00      1.00      1.00     28462\n",
      "\n",
      "0.8391274530491665\n",
      "selected ['V10', 'V17', 'V7']\n",
      "tempcol ['V10', 'V17', 'V7', 'V8']\n",
      "V8\n"
     ]
    },
    {
     "name": "stderr",
     "output_type": "stream",
     "text": [
      "/Users/kte/opt/anaconda3/envs/tensor/lib/python3.7/site-packages/sklearn/base.py:451: UserWarning: X does not have valid feature names, but IsolationForest was fitted with feature names\n",
      "  \"X does not have valid feature names, but\"\n"
     ]
    },
    {
     "name": "stdout",
     "output_type": "stream",
     "text": [
      "              precision    recall  f1-score   support\n",
      "\n",
      "           0       1.00      1.00      1.00     28432\n",
      "           1       0.77      0.57      0.65        30\n",
      "\n",
      "    accuracy                           1.00     28462\n",
      "   macro avg       0.89      0.78      0.83     28462\n",
      "weighted avg       1.00      1.00      1.00     28462\n",
      "\n",
      "0.8267648268175769\n",
      "selected ['V10', 'V17', 'V7']\n",
      "tempcol ['V10', 'V17', 'V7', 'V9']\n",
      "V9\n"
     ]
    },
    {
     "name": "stderr",
     "output_type": "stream",
     "text": [
      "/Users/kte/opt/anaconda3/envs/tensor/lib/python3.7/site-packages/sklearn/base.py:451: UserWarning: X does not have valid feature names, but IsolationForest was fitted with feature names\n",
      "  \"X does not have valid feature names, but\"\n"
     ]
    },
    {
     "name": "stdout",
     "output_type": "stream",
     "text": [
      "              precision    recall  f1-score   support\n",
      "\n",
      "           0       1.00      1.00      1.00     28432\n",
      "           1       0.86      0.60      0.71        30\n",
      "\n",
      "    accuracy                           1.00     28462\n",
      "   macro avg       0.93      0.80      0.85     28462\n",
      "weighted avg       1.00      1.00      1.00     28462\n",
      "\n",
      "0.8528093037014359\n",
      "selected ['V10', 'V17', 'V7']\n",
      "tempcol ['V10', 'V17', 'V7', 'V11']\n",
      "V11\n"
     ]
    },
    {
     "name": "stderr",
     "output_type": "stream",
     "text": [
      "/Users/kte/opt/anaconda3/envs/tensor/lib/python3.7/site-packages/sklearn/base.py:451: UserWarning: X does not have valid feature names, but IsolationForest was fitted with feature names\n",
      "  \"X does not have valid feature names, but\"\n"
     ]
    },
    {
     "name": "stdout",
     "output_type": "stream",
     "text": [
      "              precision    recall  f1-score   support\n",
      "\n",
      "           0       1.00      1.00      1.00     28432\n",
      "           1       0.72      0.60      0.65        30\n",
      "\n",
      "    accuracy                           1.00     28462\n",
      "   macro avg       0.86      0.80      0.83     28462\n",
      "weighted avg       1.00      1.00      1.00     28462\n",
      "\n",
      "0.8271056766827749\n",
      "selected ['V10', 'V17', 'V7']\n",
      "tempcol ['V10', 'V17', 'V7', 'V12']\n",
      "V12\n"
     ]
    },
    {
     "name": "stderr",
     "output_type": "stream",
     "text": [
      "/Users/kte/opt/anaconda3/envs/tensor/lib/python3.7/site-packages/sklearn/base.py:451: UserWarning: X does not have valid feature names, but IsolationForest was fitted with feature names\n",
      "  \"X does not have valid feature names, but\"\n"
     ]
    },
    {
     "name": "stdout",
     "output_type": "stream",
     "text": [
      "              precision    recall  f1-score   support\n",
      "\n",
      "           0       1.00      1.00      1.00     28432\n",
      "           1       0.76      0.63      0.69        30\n",
      "\n",
      "    accuracy                           1.00     28462\n",
      "   macro avg       0.88      0.82      0.85     28462\n",
      "weighted avg       1.00      1.00      1.00     28462\n",
      "\n",
      "0.8453050791372196\n",
      "selected ['V10', 'V17', 'V7']\n",
      "tempcol ['V10', 'V17', 'V7', 'V13']\n",
      "V13\n"
     ]
    },
    {
     "name": "stderr",
     "output_type": "stream",
     "text": [
      "/Users/kte/opt/anaconda3/envs/tensor/lib/python3.7/site-packages/sklearn/base.py:451: UserWarning: X does not have valid feature names, but IsolationForest was fitted with feature names\n",
      "  \"X does not have valid feature names, but\"\n"
     ]
    },
    {
     "name": "stdout",
     "output_type": "stream",
     "text": [
      "              precision    recall  f1-score   support\n",
      "\n",
      "           0       1.00      1.00      1.00     28432\n",
      "           1       0.79      0.63      0.70        30\n",
      "\n",
      "    accuracy                           1.00     28462\n",
      "   macro avg       0.90      0.82      0.85     28462\n",
      "weighted avg       1.00      1.00      1.00     28462\n",
      "\n",
      "0.851711180144449\n",
      "selected ['V10', 'V17', 'V7']\n",
      "tempcol ['V10', 'V17', 'V7', 'V14']\n",
      "V14\n"
     ]
    },
    {
     "name": "stderr",
     "output_type": "stream",
     "text": [
      "/Users/kte/opt/anaconda3/envs/tensor/lib/python3.7/site-packages/sklearn/base.py:451: UserWarning: X does not have valid feature names, but IsolationForest was fitted with feature names\n",
      "  \"X does not have valid feature names, but\"\n"
     ]
    },
    {
     "name": "stdout",
     "output_type": "stream",
     "text": [
      "              precision    recall  f1-score   support\n",
      "\n",
      "           0       1.00      1.00      1.00     28432\n",
      "           1       0.73      0.63      0.68        30\n",
      "\n",
      "    accuracy                           1.00     28462\n",
      "   macro avg       0.87      0.82      0.84     28462\n",
      "weighted avg       1.00      1.00      1.00     28462\n",
      "\n",
      "0.8391274530491665\n",
      "selected ['V10', 'V17', 'V7']\n",
      "tempcol ['V10', 'V17', 'V7', 'V15']\n",
      "V15\n"
     ]
    },
    {
     "name": "stderr",
     "output_type": "stream",
     "text": [
      "/Users/kte/opt/anaconda3/envs/tensor/lib/python3.7/site-packages/sklearn/base.py:451: UserWarning: X does not have valid feature names, but IsolationForest was fitted with feature names\n",
      "  \"X does not have valid feature names, but\"\n"
     ]
    },
    {
     "name": "stdout",
     "output_type": "stream",
     "text": [
      "              precision    recall  f1-score   support\n",
      "\n",
      "           0       1.00      1.00      1.00     28432\n",
      "           1       0.86      0.60      0.71        30\n",
      "\n",
      "    accuracy                           1.00     28462\n",
      "   macro avg       0.93      0.80      0.85     28462\n",
      "weighted avg       1.00      1.00      1.00     28462\n",
      "\n",
      "0.8528093037014359\n",
      "selected ['V10', 'V17', 'V7']\n",
      "tempcol ['V10', 'V17', 'V7', 'V16']\n",
      "V16\n"
     ]
    },
    {
     "name": "stderr",
     "output_type": "stream",
     "text": [
      "/Users/kte/opt/anaconda3/envs/tensor/lib/python3.7/site-packages/sklearn/base.py:451: UserWarning: X does not have valid feature names, but IsolationForest was fitted with feature names\n",
      "  \"X does not have valid feature names, but\"\n"
     ]
    },
    {
     "name": "stdout",
     "output_type": "stream",
     "text": [
      "              precision    recall  f1-score   support\n",
      "\n",
      "           0       1.00      1.00      1.00     28432\n",
      "           1       0.83      0.63      0.72        30\n",
      "\n",
      "    accuracy                           1.00     28462\n",
      "   macro avg       0.91      0.82      0.86     28462\n",
      "weighted avg       1.00      1.00      1.00     28462\n",
      "\n",
      "0.8583586886309732\n",
      "selected ['V10', 'V17', 'V7']\n",
      "tempcol ['V10', 'V17', 'V7', 'V18']\n",
      "V18\n"
     ]
    },
    {
     "name": "stderr",
     "output_type": "stream",
     "text": [
      "/Users/kte/opt/anaconda3/envs/tensor/lib/python3.7/site-packages/sklearn/base.py:451: UserWarning: X does not have valid feature names, but IsolationForest was fitted with feature names\n",
      "  \"X does not have valid feature names, but\"\n"
     ]
    },
    {
     "name": "stdout",
     "output_type": "stream",
     "text": [
      "              precision    recall  f1-score   support\n",
      "\n",
      "           0       1.00      1.00      1.00     28432\n",
      "           1       0.86      0.63      0.73        30\n",
      "\n",
      "    accuracy                           1.00     28462\n",
      "   macro avg       0.93      0.82      0.87     28462\n",
      "weighted avg       1.00      1.00      1.00     28462\n",
      "\n",
      "0.8652615319692264\n",
      "selected ['V10', 'V17', 'V7']\n",
      "tempcol ['V10', 'V17', 'V7', 'V19']\n",
      "V19\n"
     ]
    },
    {
     "name": "stderr",
     "output_type": "stream",
     "text": [
      "/Users/kte/opt/anaconda3/envs/tensor/lib/python3.7/site-packages/sklearn/base.py:451: UserWarning: X does not have valid feature names, but IsolationForest was fitted with feature names\n",
      "  \"X does not have valid feature names, but\"\n"
     ]
    },
    {
     "name": "stdout",
     "output_type": "stream",
     "text": [
      "              precision    recall  f1-score   support\n",
      "\n",
      "           0       1.00      1.00      1.00     28432\n",
      "           1       0.70      0.63      0.67        30\n",
      "\n",
      "    accuracy                           1.00     28462\n",
      "   macro avg       0.85      0.82      0.83     28462\n",
      "weighted avg       1.00      1.00      1.00     28462\n",
      "\n",
      "0.8331662768682482\n",
      "selected ['V10', 'V17', 'V7']\n",
      "tempcol ['V10', 'V17', 'V7', 'V20']\n",
      "V20\n"
     ]
    },
    {
     "name": "stderr",
     "output_type": "stream",
     "text": [
      "/Users/kte/opt/anaconda3/envs/tensor/lib/python3.7/site-packages/sklearn/base.py:451: UserWarning: X does not have valid feature names, but IsolationForest was fitted with feature names\n",
      "  \"X does not have valid feature names, but\"\n"
     ]
    },
    {
     "name": "stdout",
     "output_type": "stream",
     "text": [
      "              precision    recall  f1-score   support\n",
      "\n",
      "           0       1.00      1.00      1.00     28432\n",
      "           1       0.71      0.57      0.63        30\n",
      "\n",
      "    accuracy                           1.00     28462\n",
      "   macro avg       0.85      0.78      0.81     28462\n",
      "weighted avg       1.00      1.00      1.00     28462\n",
      "\n",
      "0.8146389751805612\n",
      "selected ['V10', 'V17', 'V7']\n",
      "tempcol ['V10', 'V17', 'V7', 'V21']\n",
      "V21\n"
     ]
    },
    {
     "name": "stderr",
     "output_type": "stream",
     "text": [
      "/Users/kte/opt/anaconda3/envs/tensor/lib/python3.7/site-packages/sklearn/base.py:451: UserWarning: X does not have valid feature names, but IsolationForest was fitted with feature names\n",
      "  \"X does not have valid feature names, but\"\n"
     ]
    },
    {
     "name": "stdout",
     "output_type": "stream",
     "text": [
      "              precision    recall  f1-score   support\n",
      "\n",
      "           0       1.00      1.00      1.00     28432\n",
      "           1       0.78      0.60      0.68        30\n",
      "\n",
      "    accuracy                           1.00     28462\n",
      "   macro avg       0.89      0.80      0.84     28462\n",
      "weighted avg       1.00      1.00      1.00     28462\n",
      "\n",
      "0.8394731804484362\n",
      "selected ['V10', 'V17', 'V7']\n",
      "tempcol ['V10', 'V17', 'V7', 'V22']\n",
      "V22\n"
     ]
    },
    {
     "name": "stderr",
     "output_type": "stream",
     "text": [
      "/Users/kte/opt/anaconda3/envs/tensor/lib/python3.7/site-packages/sklearn/base.py:451: UserWarning: X does not have valid feature names, but IsolationForest was fitted with feature names\n",
      "  \"X does not have valid feature names, but\"\n"
     ]
    },
    {
     "name": "stdout",
     "output_type": "stream",
     "text": [
      "              precision    recall  f1-score   support\n",
      "\n",
      "           0       1.00      1.00      1.00     28432\n",
      "           1       0.53      0.57      0.55        30\n",
      "\n",
      "    accuracy                           1.00     28462\n",
      "   macro avg       0.77      0.78      0.77     28462\n",
      "weighted avg       1.00      1.00      1.00     28462\n",
      "\n",
      "0.7739473382643435\n",
      "selected ['V10', 'V17', 'V7']\n",
      "tempcol ['V10', 'V17', 'V7', 'V23']\n",
      "V23\n"
     ]
    },
    {
     "name": "stderr",
     "output_type": "stream",
     "text": [
      "/Users/kte/opt/anaconda3/envs/tensor/lib/python3.7/site-packages/sklearn/base.py:451: UserWarning: X does not have valid feature names, but IsolationForest was fitted with feature names\n",
      "  \"X does not have valid feature names, but\"\n"
     ]
    },
    {
     "name": "stdout",
     "output_type": "stream",
     "text": [
      "              precision    recall  f1-score   support\n",
      "\n",
      "           0       1.00      1.00      1.00     28432\n",
      "           1       0.72      0.60      0.65        30\n",
      "\n",
      "    accuracy                           1.00     28462\n",
      "   macro avg       0.86      0.80      0.83     28462\n",
      "weighted avg       1.00      1.00      1.00     28462\n",
      "\n",
      "0.8271056766827749\n",
      "selected ['V10', 'V17', 'V7']\n",
      "tempcol ['V10', 'V17', 'V7', 'V24']\n",
      "V24\n"
     ]
    },
    {
     "name": "stderr",
     "output_type": "stream",
     "text": [
      "/Users/kte/opt/anaconda3/envs/tensor/lib/python3.7/site-packages/sklearn/base.py:451: UserWarning: X does not have valid feature names, but IsolationForest was fitted with feature names\n",
      "  \"X does not have valid feature names, but\"\n"
     ]
    },
    {
     "name": "stdout",
     "output_type": "stream",
     "text": [
      "              precision    recall  f1-score   support\n",
      "\n",
      "           0       1.00      1.00      1.00     28432\n",
      "           1       0.83      0.63      0.72        30\n",
      "\n",
      "    accuracy                           1.00     28462\n",
      "   macro avg       0.91      0.82      0.86     28462\n",
      "weighted avg       1.00      1.00      1.00     28462\n",
      "\n",
      "0.8583586886309732\n",
      "selected ['V10', 'V17', 'V7']\n",
      "tempcol ['V10', 'V17', 'V7', 'V25']\n",
      "V25\n"
     ]
    },
    {
     "name": "stderr",
     "output_type": "stream",
     "text": [
      "/Users/kte/opt/anaconda3/envs/tensor/lib/python3.7/site-packages/sklearn/base.py:451: UserWarning: X does not have valid feature names, but IsolationForest was fitted with feature names\n",
      "  \"X does not have valid feature names, but\"\n"
     ]
    },
    {
     "name": "stdout",
     "output_type": "stream",
     "text": [
      "              precision    recall  f1-score   support\n",
      "\n",
      "           0       1.00      1.00      1.00     28432\n",
      "           1       0.83      0.63      0.72        30\n",
      "\n",
      "    accuracy                           1.00     28462\n",
      "   macro avg       0.91      0.82      0.86     28462\n",
      "weighted avg       1.00      1.00      1.00     28462\n",
      "\n",
      "0.8583586886309732\n",
      "selected ['V10', 'V17', 'V7']\n",
      "tempcol ['V10', 'V17', 'V7', 'V26']\n",
      "V26\n"
     ]
    },
    {
     "name": "stderr",
     "output_type": "stream",
     "text": [
      "/Users/kte/opt/anaconda3/envs/tensor/lib/python3.7/site-packages/sklearn/base.py:451: UserWarning: X does not have valid feature names, but IsolationForest was fitted with feature names\n",
      "  \"X does not have valid feature names, but\"\n"
     ]
    },
    {
     "name": "stdout",
     "output_type": "stream",
     "text": [
      "              precision    recall  f1-score   support\n",
      "\n",
      "           0       1.00      1.00      1.00     28432\n",
      "           1       0.74      0.67      0.70        30\n",
      "\n",
      "    accuracy                           1.00     28462\n",
      "   macro avg       0.87      0.83      0.85     28462\n",
      "weighted avg       1.00      1.00      1.00     28462\n",
      "\n",
      "0.8507277214084326\n",
      "selected ['V10', 'V17', 'V7']\n",
      "tempcol ['V10', 'V17', 'V7', 'V27']\n",
      "V27\n"
     ]
    },
    {
     "name": "stderr",
     "output_type": "stream",
     "text": [
      "/Users/kte/opt/anaconda3/envs/tensor/lib/python3.7/site-packages/sklearn/base.py:451: UserWarning: X does not have valid feature names, but IsolationForest was fitted with feature names\n",
      "  \"X does not have valid feature names, but\"\n"
     ]
    },
    {
     "name": "stdout",
     "output_type": "stream",
     "text": [
      "              precision    recall  f1-score   support\n",
      "\n",
      "           0       1.00      1.00      1.00     28432\n",
      "           1       0.69      0.60      0.64        30\n",
      "\n",
      "    accuracy                           1.00     28462\n",
      "   macro avg       0.85      0.80      0.82     28462\n",
      "weighted avg       1.00      1.00      1.00     28462\n",
      "\n",
      "0.8212527256101849\n",
      "selected ['V10', 'V17', 'V7']\n",
      "tempcol ['V10', 'V17', 'V7', 'V28']\n",
      "V28\n"
     ]
    },
    {
     "name": "stderr",
     "output_type": "stream",
     "text": [
      "/Users/kte/opt/anaconda3/envs/tensor/lib/python3.7/site-packages/sklearn/base.py:451: UserWarning: X does not have valid feature names, but IsolationForest was fitted with feature names\n",
      "  \"X does not have valid feature names, but\"\n"
     ]
    },
    {
     "name": "stdout",
     "output_type": "stream",
     "text": [
      "              precision    recall  f1-score   support\n",
      "\n",
      "           0       1.00      1.00      1.00     28432\n",
      "           1       0.72      0.60      0.65        30\n",
      "\n",
      "    accuracy                           1.00     28462\n",
      "   macro avg       0.86      0.80      0.83     28462\n",
      "weighted avg       1.00      1.00      1.00     28462\n",
      "\n",
      "0.8271056766827749\n",
      "추가\n",
      "count : 52 번\n",
      "selected ['V10', 'V17', 'V7', 'V18']\n",
      "tempcol ['V10', 'V17', 'V7', 'V18', 'V1']\n",
      "V1\n"
     ]
    },
    {
     "name": "stderr",
     "output_type": "stream",
     "text": [
      "/Users/kte/opt/anaconda3/envs/tensor/lib/python3.7/site-packages/sklearn/base.py:451: UserWarning: X does not have valid feature names, but IsolationForest was fitted with feature names\n",
      "  \"X does not have valid feature names, but\"\n"
     ]
    },
    {
     "name": "stdout",
     "output_type": "stream",
     "text": [
      "              precision    recall  f1-score   support\n",
      "\n",
      "           0       1.00      1.00      1.00     28432\n",
      "           1       0.82      0.60      0.69        30\n",
      "\n",
      "    accuracy                           1.00     28462\n",
      "   macro avg       0.91      0.80      0.85     28462\n",
      "weighted avg       1.00      1.00      1.00     28462\n",
      "\n",
      "0.8460131793934016\n",
      "selected ['V10', 'V17', 'V7', 'V18']\n",
      "tempcol ['V10', 'V17', 'V7', 'V18', 'V2']\n",
      "V2\n"
     ]
    },
    {
     "name": "stderr",
     "output_type": "stream",
     "text": [
      "/Users/kte/opt/anaconda3/envs/tensor/lib/python3.7/site-packages/sklearn/base.py:451: UserWarning: X does not have valid feature names, but IsolationForest was fitted with feature names\n",
      "  \"X does not have valid feature names, but\"\n"
     ]
    },
    {
     "name": "stdout",
     "output_type": "stream",
     "text": [
      "              precision    recall  f1-score   support\n",
      "\n",
      "           0       1.00      1.00      1.00     28432\n",
      "           1       0.86      0.60      0.71        30\n",
      "\n",
      "    accuracy                           1.00     28462\n",
      "   macro avg       0.93      0.80      0.85     28462\n",
      "weighted avg       1.00      1.00      1.00     28462\n",
      "\n",
      "0.8528093037014359\n",
      "selected ['V10', 'V17', 'V7', 'V18']\n",
      "tempcol ['V10', 'V17', 'V7', 'V18', 'V3']\n",
      "V3\n"
     ]
    },
    {
     "name": "stderr",
     "output_type": "stream",
     "text": [
      "/Users/kte/opt/anaconda3/envs/tensor/lib/python3.7/site-packages/sklearn/base.py:451: UserWarning: X does not have valid feature names, but IsolationForest was fitted with feature names\n",
      "  \"X does not have valid feature names, but\"\n"
     ]
    },
    {
     "name": "stdout",
     "output_type": "stream",
     "text": [
      "              precision    recall  f1-score   support\n",
      "\n",
      "           0       1.00      1.00      1.00     28432\n",
      "           1       0.74      0.57      0.64        30\n",
      "\n",
      "    accuracy                           1.00     28462\n",
      "   macro avg       0.87      0.78      0.82     28462\n",
      "weighted avg       1.00      1.00      1.00     28462\n",
      "\n",
      "0.8205876722658993\n",
      "selected ['V10', 'V17', 'V7', 'V18']\n",
      "tempcol ['V10', 'V17', 'V7', 'V18', 'V4']\n",
      "V4\n"
     ]
    },
    {
     "name": "stderr",
     "output_type": "stream",
     "text": [
      "/Users/kte/opt/anaconda3/envs/tensor/lib/python3.7/site-packages/sklearn/base.py:451: UserWarning: X does not have valid feature names, but IsolationForest was fitted with feature names\n",
      "  \"X does not have valid feature names, but\"\n"
     ]
    },
    {
     "name": "stdout",
     "output_type": "stream",
     "text": [
      "              precision    recall  f1-score   support\n",
      "\n",
      "           0       1.00      1.00      1.00     28432\n",
      "           1       0.82      0.60      0.69        30\n",
      "\n",
      "    accuracy                           1.00     28462\n",
      "   macro avg       0.91      0.80      0.85     28462\n",
      "weighted avg       1.00      1.00      1.00     28462\n",
      "\n",
      "0.8460131793934016\n",
      "selected ['V10', 'V17', 'V7', 'V18']\n",
      "tempcol ['V10', 'V17', 'V7', 'V18', 'V5']\n",
      "V5\n"
     ]
    },
    {
     "name": "stderr",
     "output_type": "stream",
     "text": [
      "/Users/kte/opt/anaconda3/envs/tensor/lib/python3.7/site-packages/sklearn/base.py:451: UserWarning: X does not have valid feature names, but IsolationForest was fitted with feature names\n",
      "  \"X does not have valid feature names, but\"\n"
     ]
    },
    {
     "name": "stdout",
     "output_type": "stream",
     "text": [
      "              precision    recall  f1-score   support\n",
      "\n",
      "           0       1.00      1.00      1.00     28432\n",
      "           1       0.86      0.60      0.71        30\n",
      "\n",
      "    accuracy                           1.00     28462\n",
      "   macro avg       0.93      0.80      0.85     28462\n",
      "weighted avg       1.00      1.00      1.00     28462\n",
      "\n",
      "0.8528093037014359\n",
      "selected ['V10', 'V17', 'V7', 'V18']\n",
      "tempcol ['V10', 'V17', 'V7', 'V18', 'V6']\n",
      "V6\n"
     ]
    },
    {
     "name": "stderr",
     "output_type": "stream",
     "text": [
      "/Users/kte/opt/anaconda3/envs/tensor/lib/python3.7/site-packages/sklearn/base.py:451: UserWarning: X does not have valid feature names, but IsolationForest was fitted with feature names\n",
      "  \"X does not have valid feature names, but\"\n"
     ]
    },
    {
     "name": "stdout",
     "output_type": "stream",
     "text": [
      "              precision    recall  f1-score   support\n",
      "\n",
      "           0       1.00      1.00      1.00     28432\n",
      "           1       0.79      0.63      0.70        30\n",
      "\n",
      "    accuracy                           1.00     28462\n",
      "   macro avg       0.90      0.82      0.85     28462\n",
      "weighted avg       1.00      1.00      1.00     28462\n",
      "\n",
      "0.851711180144449\n",
      "selected ['V10', 'V17', 'V7', 'V18']\n",
      "tempcol ['V10', 'V17', 'V7', 'V18', 'V8']\n",
      "V8\n"
     ]
    },
    {
     "name": "stderr",
     "output_type": "stream",
     "text": [
      "/Users/kte/opt/anaconda3/envs/tensor/lib/python3.7/site-packages/sklearn/base.py:451: UserWarning: X does not have valid feature names, but IsolationForest was fitted with feature names\n",
      "  \"X does not have valid feature names, but\"\n"
     ]
    },
    {
     "name": "stdout",
     "output_type": "stream",
     "text": [
      "              precision    recall  f1-score   support\n",
      "\n",
      "           0       1.00      1.00      1.00     28432\n",
      "           1       0.85      0.57      0.68        30\n",
      "\n",
      "    accuracy                           1.00     28462\n",
      "   macro avg       0.92      0.78      0.84     28462\n",
      "weighted avg       1.00      1.00      1.00     28462\n",
      "\n",
      "0.8398593381861659\n",
      "selected ['V10', 'V17', 'V7', 'V18']\n",
      "tempcol ['V10', 'V17', 'V7', 'V18', 'V9']\n",
      "V9\n"
     ]
    },
    {
     "name": "stderr",
     "output_type": "stream",
     "text": [
      "/Users/kte/opt/anaconda3/envs/tensor/lib/python3.7/site-packages/sklearn/base.py:451: UserWarning: X does not have valid feature names, but IsolationForest was fitted with feature names\n",
      "  \"X does not have valid feature names, but\"\n"
     ]
    },
    {
     "name": "stdout",
     "output_type": "stream",
     "text": [
      "              precision    recall  f1-score   support\n",
      "\n",
      "           0       1.00      1.00      1.00     28432\n",
      "           1       0.85      0.57      0.68        30\n",
      "\n",
      "    accuracy                           1.00     28462\n",
      "   macro avg       0.92      0.78      0.84     28462\n",
      "weighted avg       1.00      1.00      1.00     28462\n",
      "\n",
      "0.8398593381861659\n",
      "selected ['V10', 'V17', 'V7', 'V18']\n",
      "tempcol ['V10', 'V17', 'V7', 'V18', 'V11']\n",
      "V11\n"
     ]
    },
    {
     "name": "stderr",
     "output_type": "stream",
     "text": [
      "/Users/kte/opt/anaconda3/envs/tensor/lib/python3.7/site-packages/sklearn/base.py:451: UserWarning: X does not have valid feature names, but IsolationForest was fitted with feature names\n",
      "  \"X does not have valid feature names, but\"\n"
     ]
    },
    {
     "name": "stdout",
     "output_type": "stream",
     "text": [
      "              precision    recall  f1-score   support\n",
      "\n",
      "           0       1.00      1.00      1.00     28432\n",
      "           1       0.86      0.60      0.71        30\n",
      "\n",
      "    accuracy                           1.00     28462\n",
      "   macro avg       0.93      0.80      0.85     28462\n",
      "weighted avg       1.00      1.00      1.00     28462\n",
      "\n",
      "0.8528093037014359\n",
      "selected ['V10', 'V17', 'V7', 'V18']\n",
      "tempcol ['V10', 'V17', 'V7', 'V18', 'V12']\n",
      "V12\n"
     ]
    },
    {
     "name": "stderr",
     "output_type": "stream",
     "text": [
      "/Users/kte/opt/anaconda3/envs/tensor/lib/python3.7/site-packages/sklearn/base.py:451: UserWarning: X does not have valid feature names, but IsolationForest was fitted with feature names\n",
      "  \"X does not have valid feature names, but\"\n"
     ]
    },
    {
     "name": "stdout",
     "output_type": "stream",
     "text": [
      "              precision    recall  f1-score   support\n",
      "\n",
      "           0       1.00      1.00      1.00     28432\n",
      "           1       0.81      0.57      0.67        30\n",
      "\n",
      "    accuracy                           1.00     28462\n",
      "   macro avg       0.90      0.78      0.83     28462\n",
      "weighted avg       1.00      1.00      1.00     28462\n",
      "\n",
      "0.833183877528294\n",
      "selected ['V10', 'V17', 'V7', 'V18']\n",
      "tempcol ['V10', 'V17', 'V7', 'V18', 'V13']\n",
      "V13\n"
     ]
    },
    {
     "name": "stderr",
     "output_type": "stream",
     "text": [
      "/Users/kte/opt/anaconda3/envs/tensor/lib/python3.7/site-packages/sklearn/base.py:451: UserWarning: X does not have valid feature names, but IsolationForest was fitted with feature names\n",
      "  \"X does not have valid feature names, but\"\n"
     ]
    },
    {
     "name": "stdout",
     "output_type": "stream",
     "text": [
      "              precision    recall  f1-score   support\n",
      "\n",
      "           0       1.00      1.00      1.00     28432\n",
      "           1       0.75      0.60      0.67        30\n",
      "\n",
      "    accuracy                           1.00     28462\n",
      "   macro avg       0.87      0.80      0.83     28462\n",
      "weighted avg       1.00      1.00      1.00     28462\n",
      "\n",
      "0.8331750776625051\n",
      "selected ['V10', 'V17', 'V7', 'V18']\n",
      "tempcol ['V10', 'V17', 'V7', 'V18', 'V14']\n",
      "V14\n"
     ]
    },
    {
     "name": "stderr",
     "output_type": "stream",
     "text": [
      "/Users/kte/opt/anaconda3/envs/tensor/lib/python3.7/site-packages/sklearn/base.py:451: UserWarning: X does not have valid feature names, but IsolationForest was fitted with feature names\n",
      "  \"X does not have valid feature names, but\"\n"
     ]
    },
    {
     "name": "stdout",
     "output_type": "stream",
     "text": [
      "              precision    recall  f1-score   support\n",
      "\n",
      "           0       1.00      1.00      1.00     28432\n",
      "           1       0.86      0.63      0.73        30\n",
      "\n",
      "    accuracy                           1.00     28462\n",
      "   macro avg       0.93      0.82      0.87     28462\n",
      "weighted avg       1.00      1.00      1.00     28462\n",
      "\n",
      "0.8652615319692264\n",
      "selected ['V10', 'V17', 'V7', 'V18']\n",
      "tempcol ['V10', 'V17', 'V7', 'V18', 'V15']\n",
      "V15\n"
     ]
    },
    {
     "name": "stderr",
     "output_type": "stream",
     "text": [
      "/Users/kte/opt/anaconda3/envs/tensor/lib/python3.7/site-packages/sklearn/base.py:451: UserWarning: X does not have valid feature names, but IsolationForest was fitted with feature names\n",
      "  \"X does not have valid feature names, but\"\n"
     ]
    },
    {
     "name": "stdout",
     "output_type": "stream",
     "text": [
      "              precision    recall  f1-score   support\n",
      "\n",
      "           0       1.00      1.00      1.00     28432\n",
      "           1       0.86      0.60      0.71        30\n",
      "\n",
      "    accuracy                           1.00     28462\n",
      "   macro avg       0.93      0.80      0.85     28462\n",
      "weighted avg       1.00      1.00      1.00     28462\n",
      "\n",
      "0.8528093037014359\n",
      "selected ['V10', 'V17', 'V7', 'V18']\n",
      "tempcol ['V10', 'V17', 'V7', 'V18', 'V16']\n",
      "V16\n"
     ]
    },
    {
     "name": "stderr",
     "output_type": "stream",
     "text": [
      "/Users/kte/opt/anaconda3/envs/tensor/lib/python3.7/site-packages/sklearn/base.py:451: UserWarning: X does not have valid feature names, but IsolationForest was fitted with feature names\n",
      "  \"X does not have valid feature names, but\"\n"
     ]
    },
    {
     "name": "stdout",
     "output_type": "stream",
     "text": [
      "              precision    recall  f1-score   support\n",
      "\n",
      "           0       1.00      1.00      1.00     28432\n",
      "           1       0.86      0.63      0.73        30\n",
      "\n",
      "    accuracy                           1.00     28462\n",
      "   macro avg       0.93      0.82      0.87     28462\n",
      "weighted avg       1.00      1.00      1.00     28462\n",
      "\n",
      "0.8652615319692264\n",
      "selected ['V10', 'V17', 'V7', 'V18']\n",
      "tempcol ['V10', 'V17', 'V7', 'V18', 'V19']\n",
      "V19\n"
     ]
    },
    {
     "name": "stderr",
     "output_type": "stream",
     "text": [
      "/Users/kte/opt/anaconda3/envs/tensor/lib/python3.7/site-packages/sklearn/base.py:451: UserWarning: X does not have valid feature names, but IsolationForest was fitted with feature names\n",
      "  \"X does not have valid feature names, but\"\n"
     ]
    },
    {
     "name": "stdout",
     "output_type": "stream",
     "text": [
      "              precision    recall  f1-score   support\n",
      "\n",
      "           0       1.00      1.00      1.00     28432\n",
      "           1       0.71      0.67      0.69        30\n",
      "\n",
      "    accuracy                           1.00     28462\n",
      "   macro avg       0.86      0.83      0.84     28462\n",
      "weighted avg       1.00      1.00      1.00     28462\n",
      "\n",
      "0.8446693194042376\n",
      "selected ['V10', 'V17', 'V7', 'V18']\n",
      "tempcol ['V10', 'V17', 'V7', 'V18', 'V20']\n",
      "V20\n"
     ]
    },
    {
     "name": "stderr",
     "output_type": "stream",
     "text": [
      "/Users/kte/opt/anaconda3/envs/tensor/lib/python3.7/site-packages/sklearn/base.py:451: UserWarning: X does not have valid feature names, but IsolationForest was fitted with feature names\n",
      "  \"X does not have valid feature names, but\"\n"
     ]
    },
    {
     "name": "stdout",
     "output_type": "stream",
     "text": [
      "              precision    recall  f1-score   support\n",
      "\n",
      "           0       1.00      1.00      1.00     28432\n",
      "           1       0.77      0.57      0.65        30\n",
      "\n",
      "    accuracy                           1.00     28462\n",
      "   macro avg       0.89      0.78      0.83     28462\n",
      "weighted avg       1.00      1.00      1.00     28462\n",
      "\n",
      "0.8267648268175769\n",
      "selected ['V10', 'V17', 'V7', 'V18']\n",
      "tempcol ['V10', 'V17', 'V7', 'V18', 'V21']\n",
      "V21\n"
     ]
    },
    {
     "name": "stderr",
     "output_type": "stream",
     "text": [
      "/Users/kte/opt/anaconda3/envs/tensor/lib/python3.7/site-packages/sklearn/base.py:451: UserWarning: X does not have valid feature names, but IsolationForest was fitted with feature names\n",
      "  \"X does not have valid feature names, but\"\n"
     ]
    },
    {
     "name": "stdout",
     "output_type": "stream",
     "text": [
      "              precision    recall  f1-score   support\n",
      "\n",
      "           0       1.00      1.00      1.00     28432\n",
      "           1       0.74      0.57      0.64        30\n",
      "\n",
      "    accuracy                           1.00     28462\n",
      "   macro avg       0.87      0.78      0.82     28462\n",
      "weighted avg       1.00      1.00      1.00     28462\n",
      "\n",
      "0.8205876722658993\n",
      "selected ['V10', 'V17', 'V7', 'V18']\n",
      "tempcol ['V10', 'V17', 'V7', 'V18', 'V22']\n",
      "V22\n"
     ]
    },
    {
     "name": "stderr",
     "output_type": "stream",
     "text": [
      "/Users/kte/opt/anaconda3/envs/tensor/lib/python3.7/site-packages/sklearn/base.py:451: UserWarning: X does not have valid feature names, but IsolationForest was fitted with feature names\n",
      "  \"X does not have valid feature names, but\"\n"
     ]
    },
    {
     "name": "stdout",
     "output_type": "stream",
     "text": [
      "              precision    recall  f1-score   support\n",
      "\n",
      "           0       1.00      1.00      1.00     28432\n",
      "           1       0.63      0.57      0.60        30\n",
      "\n",
      "    accuracy                           1.00     28462\n",
      "   macro avg       0.81      0.78      0.80     28462\n",
      "weighted avg       1.00      1.00      1.00     28462\n",
      "\n",
      "0.7980433877878794\n",
      "selected ['V10', 'V17', 'V7', 'V18']\n",
      "tempcol ['V10', 'V17', 'V7', 'V18', 'V23']\n",
      "V23\n"
     ]
    },
    {
     "name": "stderr",
     "output_type": "stream",
     "text": [
      "/Users/kte/opt/anaconda3/envs/tensor/lib/python3.7/site-packages/sklearn/base.py:451: UserWarning: X does not have valid feature names, but IsolationForest was fitted with feature names\n",
      "  \"X does not have valid feature names, but\"\n"
     ]
    },
    {
     "name": "stdout",
     "output_type": "stream",
     "text": [
      "              precision    recall  f1-score   support\n",
      "\n",
      "           0       1.00      1.00      1.00     28432\n",
      "           1       0.78      0.60      0.68        30\n",
      "\n",
      "    accuracy                           1.00     28462\n",
      "   macro avg       0.89      0.80      0.84     28462\n",
      "weighted avg       1.00      1.00      1.00     28462\n",
      "\n",
      "0.8394731804484362\n",
      "selected ['V10', 'V17', 'V7', 'V18']\n",
      "tempcol ['V10', 'V17', 'V7', 'V18', 'V24']\n",
      "V24\n"
     ]
    },
    {
     "name": "stderr",
     "output_type": "stream",
     "text": [
      "/Users/kte/opt/anaconda3/envs/tensor/lib/python3.7/site-packages/sklearn/base.py:451: UserWarning: X does not have valid feature names, but IsolationForest was fitted with feature names\n",
      "  \"X does not have valid feature names, but\"\n"
     ]
    },
    {
     "name": "stdout",
     "output_type": "stream",
     "text": [
      "              precision    recall  f1-score   support\n",
      "\n",
      "           0       1.00      1.00      1.00     28432\n",
      "           1       0.79      0.63      0.70        30\n",
      "\n",
      "    accuracy                           1.00     28462\n",
      "   macro avg       0.90      0.82      0.85     28462\n",
      "weighted avg       1.00      1.00      1.00     28462\n",
      "\n",
      "0.851711180144449\n",
      "selected ['V10', 'V17', 'V7', 'V18']\n",
      "tempcol ['V10', 'V17', 'V7', 'V18', 'V25']\n",
      "V25\n"
     ]
    },
    {
     "name": "stderr",
     "output_type": "stream",
     "text": [
      "/Users/kte/opt/anaconda3/envs/tensor/lib/python3.7/site-packages/sklearn/base.py:451: UserWarning: X does not have valid feature names, but IsolationForest was fitted with feature names\n",
      "  \"X does not have valid feature names, but\"\n"
     ]
    },
    {
     "name": "stdout",
     "output_type": "stream",
     "text": [
      "              precision    recall  f1-score   support\n",
      "\n",
      "           0       1.00      1.00      1.00     28432\n",
      "           1       0.85      0.57      0.68        30\n",
      "\n",
      "    accuracy                           1.00     28462\n",
      "   macro avg       0.92      0.78      0.84     28462\n",
      "weighted avg       1.00      1.00      1.00     28462\n",
      "\n",
      "0.8398593381861659\n",
      "selected ['V10', 'V17', 'V7', 'V18']\n",
      "tempcol ['V10', 'V17', 'V7', 'V18', 'V26']\n",
      "V26\n"
     ]
    },
    {
     "name": "stderr",
     "output_type": "stream",
     "text": [
      "/Users/kte/opt/anaconda3/envs/tensor/lib/python3.7/site-packages/sklearn/base.py:451: UserWarning: X does not have valid feature names, but IsolationForest was fitted with feature names\n",
      "  \"X does not have valid feature names, but\"\n"
     ]
    },
    {
     "name": "stdout",
     "output_type": "stream",
     "text": [
      "              precision    recall  f1-score   support\n",
      "\n",
      "           0       1.00      1.00      1.00     28432\n",
      "           1       0.77      0.67      0.71        30\n",
      "\n",
      "    accuracy                           1.00     28462\n",
      "   macro avg       0.88      0.83      0.86     28462\n",
      "weighted avg       1.00      1.00      1.00     28462\n",
      "\n",
      "0.857002180488148\n",
      "selected ['V10', 'V17', 'V7', 'V18']\n",
      "tempcol ['V10', 'V17', 'V7', 'V18', 'V27']\n",
      "V27\n"
     ]
    },
    {
     "name": "stderr",
     "output_type": "stream",
     "text": [
      "/Users/kte/opt/anaconda3/envs/tensor/lib/python3.7/site-packages/sklearn/base.py:451: UserWarning: X does not have valid feature names, but IsolationForest was fitted with feature names\n",
      "  \"X does not have valid feature names, but\"\n"
     ]
    },
    {
     "name": "stdout",
     "output_type": "stream",
     "text": [
      "              precision    recall  f1-score   support\n",
      "\n",
      "           0       1.00      1.00      1.00     28432\n",
      "           1       0.75      0.60      0.67        30\n",
      "\n",
      "    accuracy                           1.00     28462\n",
      "   macro avg       0.87      0.80      0.83     28462\n",
      "weighted avg       1.00      1.00      1.00     28462\n",
      "\n",
      "0.8331750776625051\n",
      "selected ['V10', 'V17', 'V7', 'V18']\n",
      "tempcol ['V10', 'V17', 'V7', 'V18', 'V28']\n",
      "V28\n"
     ]
    },
    {
     "name": "stderr",
     "output_type": "stream",
     "text": [
      "/Users/kte/opt/anaconda3/envs/tensor/lib/python3.7/site-packages/sklearn/base.py:451: UserWarning: X does not have valid feature names, but IsolationForest was fitted with feature names\n",
      "  \"X does not have valid feature names, but\"\n"
     ]
    },
    {
     "name": "stdout",
     "output_type": "stream",
     "text": [
      "              precision    recall  f1-score   support\n",
      "\n",
      "           0       1.00      1.00      1.00     28432\n",
      "           1       0.74      0.57      0.64        30\n",
      "\n",
      "    accuracy                           1.00     28462\n",
      "   macro avg       0.87      0.78      0.82     28462\n",
      "weighted avg       1.00      1.00      1.00     28462\n",
      "\n",
      "0.8205876722658993\n",
      "추가\n",
      "count : 76 번\n",
      "selected ['V10', 'V17', 'V7', 'V18', 'V14']\n",
      "tempcol ['V10', 'V17', 'V7', 'V18', 'V14', 'V1']\n",
      "V1\n"
     ]
    },
    {
     "name": "stderr",
     "output_type": "stream",
     "text": [
      "/Users/kte/opt/anaconda3/envs/tensor/lib/python3.7/site-packages/sklearn/base.py:451: UserWarning: X does not have valid feature names, but IsolationForest was fitted with feature names\n",
      "  \"X does not have valid feature names, but\"\n"
     ]
    },
    {
     "name": "stdout",
     "output_type": "stream",
     "text": [
      "              precision    recall  f1-score   support\n",
      "\n",
      "           0       1.00      1.00      1.00     28432\n",
      "           1       0.72      0.60      0.65        30\n",
      "\n",
      "    accuracy                           1.00     28462\n",
      "   macro avg       0.86      0.80      0.83     28462\n",
      "weighted avg       1.00      1.00      1.00     28462\n",
      "\n",
      "0.8271056766827749\n",
      "selected ['V10', 'V17', 'V7', 'V18', 'V14']\n",
      "tempcol ['V10', 'V17', 'V7', 'V18', 'V14', 'V2']\n",
      "V2\n"
     ]
    },
    {
     "name": "stderr",
     "output_type": "stream",
     "text": [
      "/Users/kte/opt/anaconda3/envs/tensor/lib/python3.7/site-packages/sklearn/base.py:451: UserWarning: X does not have valid feature names, but IsolationForest was fitted with feature names\n",
      "  \"X does not have valid feature names, but\"\n"
     ]
    },
    {
     "name": "stdout",
     "output_type": "stream",
     "text": [
      "              precision    recall  f1-score   support\n",
      "\n",
      "           0       1.00      1.00      1.00     28432\n",
      "           1       0.83      0.63      0.72        30\n",
      "\n",
      "    accuracy                           1.00     28462\n",
      "   macro avg       0.91      0.82      0.86     28462\n",
      "weighted avg       1.00      1.00      1.00     28462\n",
      "\n",
      "0.8583586886309732\n",
      "selected ['V10', 'V17', 'V7', 'V18', 'V14']\n",
      "tempcol ['V10', 'V17', 'V7', 'V18', 'V14', 'V3']\n",
      "V3\n"
     ]
    },
    {
     "name": "stderr",
     "output_type": "stream",
     "text": [
      "/Users/kte/opt/anaconda3/envs/tensor/lib/python3.7/site-packages/sklearn/base.py:451: UserWarning: X does not have valid feature names, but IsolationForest was fitted with feature names\n",
      "  \"X does not have valid feature names, but\"\n"
     ]
    },
    {
     "name": "stdout",
     "output_type": "stream",
     "text": [
      "              precision    recall  f1-score   support\n",
      "\n",
      "           0       1.00      1.00      1.00     28432\n",
      "           1       0.72      0.60      0.65        30\n",
      "\n",
      "    accuracy                           1.00     28462\n",
      "   macro avg       0.86      0.80      0.83     28462\n",
      "weighted avg       1.00      1.00      1.00     28462\n",
      "\n",
      "0.8271056766827749\n",
      "selected ['V10', 'V17', 'V7', 'V18', 'V14']\n",
      "tempcol ['V10', 'V17', 'V7', 'V18', 'V14', 'V4']\n",
      "V4\n"
     ]
    },
    {
     "name": "stderr",
     "output_type": "stream",
     "text": [
      "/Users/kte/opt/anaconda3/envs/tensor/lib/python3.7/site-packages/sklearn/base.py:451: UserWarning: X does not have valid feature names, but IsolationForest was fitted with feature names\n",
      "  \"X does not have valid feature names, but\"\n"
     ]
    },
    {
     "name": "stdout",
     "output_type": "stream",
     "text": [
      "              precision    recall  f1-score   support\n",
      "\n",
      "           0       1.00      1.00      1.00     28432\n",
      "           1       0.75      0.60      0.67        30\n",
      "\n",
      "    accuracy                           1.00     28462\n",
      "   macro avg       0.87      0.80      0.83     28462\n",
      "weighted avg       1.00      1.00      1.00     28462\n",
      "\n",
      "0.8331750776625051\n",
      "selected ['V10', 'V17', 'V7', 'V18', 'V14']\n",
      "tempcol ['V10', 'V17', 'V7', 'V18', 'V14', 'V5']\n",
      "V5\n"
     ]
    },
    {
     "name": "stderr",
     "output_type": "stream",
     "text": [
      "/Users/kte/opt/anaconda3/envs/tensor/lib/python3.7/site-packages/sklearn/base.py:451: UserWarning: X does not have valid feature names, but IsolationForest was fitted with feature names\n",
      "  \"X does not have valid feature names, but\"\n"
     ]
    },
    {
     "name": "stdout",
     "output_type": "stream",
     "text": [
      "              precision    recall  f1-score   support\n",
      "\n",
      "           0       1.00      1.00      1.00     28432\n",
      "           1       0.73      0.63      0.68        30\n",
      "\n",
      "    accuracy                           1.00     28462\n",
      "   macro avg       0.87      0.82      0.84     28462\n",
      "weighted avg       1.00      1.00      1.00     28462\n",
      "\n",
      "0.8391274530491665\n",
      "selected ['V10', 'V17', 'V7', 'V18', 'V14']\n",
      "tempcol ['V10', 'V17', 'V7', 'V18', 'V14', 'V6']\n",
      "V6\n"
     ]
    },
    {
     "name": "stderr",
     "output_type": "stream",
     "text": [
      "/Users/kte/opt/anaconda3/envs/tensor/lib/python3.7/site-packages/sklearn/base.py:451: UserWarning: X does not have valid feature names, but IsolationForest was fitted with feature names\n",
      "  \"X does not have valid feature names, but\"\n"
     ]
    },
    {
     "name": "stdout",
     "output_type": "stream",
     "text": [
      "              precision    recall  f1-score   support\n",
      "\n",
      "           0       1.00      1.00      1.00     28432\n",
      "           1       0.76      0.63      0.69        30\n",
      "\n",
      "    accuracy                           1.00     28462\n",
      "   macro avg       0.88      0.82      0.85     28462\n",
      "weighted avg       1.00      1.00      1.00     28462\n",
      "\n",
      "0.8453050791372196\n",
      "selected ['V10', 'V17', 'V7', 'V18', 'V14']\n",
      "tempcol ['V10', 'V17', 'V7', 'V18', 'V14', 'V8']\n",
      "V8\n"
     ]
    },
    {
     "name": "stderr",
     "output_type": "stream",
     "text": [
      "/Users/kte/opt/anaconda3/envs/tensor/lib/python3.7/site-packages/sklearn/base.py:451: UserWarning: X does not have valid feature names, but IsolationForest was fitted with feature names\n",
      "  \"X does not have valid feature names, but\"\n"
     ]
    },
    {
     "name": "stdout",
     "output_type": "stream",
     "text": [
      "              precision    recall  f1-score   support\n",
      "\n",
      "           0       1.00      1.00      1.00     28432\n",
      "           1       0.75      0.60      0.67        30\n",
      "\n",
      "    accuracy                           1.00     28462\n",
      "   macro avg       0.87      0.80      0.83     28462\n",
      "weighted avg       1.00      1.00      1.00     28462\n",
      "\n",
      "0.8331750776625051\n",
      "selected ['V10', 'V17', 'V7', 'V18', 'V14']\n",
      "tempcol ['V10', 'V17', 'V7', 'V18', 'V14', 'V9']\n",
      "V9\n"
     ]
    },
    {
     "name": "stderr",
     "output_type": "stream",
     "text": [
      "/Users/kte/opt/anaconda3/envs/tensor/lib/python3.7/site-packages/sklearn/base.py:451: UserWarning: X does not have valid feature names, but IsolationForest was fitted with feature names\n",
      "  \"X does not have valid feature names, but\"\n"
     ]
    },
    {
     "name": "stdout",
     "output_type": "stream",
     "text": [
      "              precision    recall  f1-score   support\n",
      "\n",
      "           0       1.00      1.00      1.00     28432\n",
      "           1       0.86      0.60      0.71        30\n",
      "\n",
      "    accuracy                           1.00     28462\n",
      "   macro avg       0.93      0.80      0.85     28462\n",
      "weighted avg       1.00      1.00      1.00     28462\n",
      "\n",
      "0.8528093037014359\n",
      "selected ['V10', 'V17', 'V7', 'V18', 'V14']\n",
      "tempcol ['V10', 'V17', 'V7', 'V18', 'V14', 'V11']\n",
      "V11\n"
     ]
    },
    {
     "name": "stderr",
     "output_type": "stream",
     "text": [
      "/Users/kte/opt/anaconda3/envs/tensor/lib/python3.7/site-packages/sklearn/base.py:451: UserWarning: X does not have valid feature names, but IsolationForest was fitted with feature names\n",
      "  \"X does not have valid feature names, but\"\n"
     ]
    },
    {
     "name": "stdout",
     "output_type": "stream",
     "text": [
      "              precision    recall  f1-score   support\n",
      "\n",
      "           0       1.00      1.00      1.00     28432\n",
      "           1       0.77      0.67      0.71        30\n",
      "\n",
      "    accuracy                           1.00     28462\n",
      "   macro avg       0.88      0.83      0.86     28462\n",
      "weighted avg       1.00      1.00      1.00     28462\n",
      "\n",
      "0.857002180488148\n",
      "selected ['V10', 'V17', 'V7', 'V18', 'V14']\n",
      "tempcol ['V10', 'V17', 'V7', 'V18', 'V14', 'V12']\n",
      "V12\n"
     ]
    },
    {
     "name": "stderr",
     "output_type": "stream",
     "text": [
      "/Users/kte/opt/anaconda3/envs/tensor/lib/python3.7/site-packages/sklearn/base.py:451: UserWarning: X does not have valid feature names, but IsolationForest was fitted with feature names\n",
      "  \"X does not have valid feature names, but\"\n"
     ]
    },
    {
     "name": "stdout",
     "output_type": "stream",
     "text": [
      "              precision    recall  f1-score   support\n",
      "\n",
      "           0       1.00      1.00      1.00     28432\n",
      "           1       0.72      0.60      0.65        30\n",
      "\n",
      "    accuracy                           1.00     28462\n",
      "   macro avg       0.86      0.80      0.83     28462\n",
      "weighted avg       1.00      1.00      1.00     28462\n",
      "\n",
      "0.8271056766827749\n",
      "selected ['V10', 'V17', 'V7', 'V18', 'V14']\n",
      "tempcol ['V10', 'V17', 'V7', 'V18', 'V14', 'V13']\n",
      "V13\n"
     ]
    },
    {
     "name": "stderr",
     "output_type": "stream",
     "text": [
      "/Users/kte/opt/anaconda3/envs/tensor/lib/python3.7/site-packages/sklearn/base.py:451: UserWarning: X does not have valid feature names, but IsolationForest was fitted with feature names\n",
      "  \"X does not have valid feature names, but\"\n"
     ]
    },
    {
     "name": "stdout",
     "output_type": "stream",
     "text": [
      "              precision    recall  f1-score   support\n",
      "\n",
      "           0       1.00      1.00      1.00     28432\n",
      "           1       0.77      0.67      0.71        30\n",
      "\n",
      "    accuracy                           1.00     28462\n",
      "   macro avg       0.88      0.83      0.86     28462\n",
      "weighted avg       1.00      1.00      1.00     28462\n",
      "\n",
      "0.857002180488148\n",
      "selected ['V10', 'V17', 'V7', 'V18', 'V14']\n",
      "tempcol ['V10', 'V17', 'V7', 'V18', 'V14', 'V15']\n",
      "V15\n"
     ]
    },
    {
     "name": "stderr",
     "output_type": "stream",
     "text": [
      "/Users/kte/opt/anaconda3/envs/tensor/lib/python3.7/site-packages/sklearn/base.py:451: UserWarning: X does not have valid feature names, but IsolationForest was fitted with feature names\n",
      "  \"X does not have valid feature names, but\"\n"
     ]
    },
    {
     "name": "stdout",
     "output_type": "stream",
     "text": [
      "              precision    recall  f1-score   support\n",
      "\n",
      "           0       1.00      1.00      1.00     28432\n",
      "           1       0.86      0.60      0.71        30\n",
      "\n",
      "    accuracy                           1.00     28462\n",
      "   macro avg       0.93      0.80      0.85     28462\n",
      "weighted avg       1.00      1.00      1.00     28462\n",
      "\n",
      "0.8528093037014359\n",
      "selected ['V10', 'V17', 'V7', 'V18', 'V14']\n",
      "tempcol ['V10', 'V17', 'V7', 'V18', 'V14', 'V16']\n",
      "V16\n"
     ]
    },
    {
     "name": "stderr",
     "output_type": "stream",
     "text": [
      "/Users/kte/opt/anaconda3/envs/tensor/lib/python3.7/site-packages/sklearn/base.py:451: UserWarning: X does not have valid feature names, but IsolationForest was fitted with feature names\n",
      "  \"X does not have valid feature names, but\"\n"
     ]
    },
    {
     "name": "stdout",
     "output_type": "stream",
     "text": [
      "              precision    recall  f1-score   support\n",
      "\n",
      "           0       1.00      1.00      1.00     28432\n",
      "           1       0.73      0.63      0.68        30\n",
      "\n",
      "    accuracy                           1.00     28462\n",
      "   macro avg       0.87      0.82      0.84     28462\n",
      "weighted avg       1.00      1.00      1.00     28462\n",
      "\n",
      "0.8391274530491665\n",
      "selected ['V10', 'V17', 'V7', 'V18', 'V14']\n",
      "tempcol ['V10', 'V17', 'V7', 'V18', 'V14', 'V19']\n",
      "V19\n"
     ]
    },
    {
     "name": "stderr",
     "output_type": "stream",
     "text": [
      "/Users/kte/opt/anaconda3/envs/tensor/lib/python3.7/site-packages/sklearn/base.py:451: UserWarning: X does not have valid feature names, but IsolationForest was fitted with feature names\n",
      "  \"X does not have valid feature names, but\"\n"
     ]
    },
    {
     "name": "stdout",
     "output_type": "stream",
     "text": [
      "              precision    recall  f1-score   support\n",
      "\n",
      "           0       1.00      1.00      1.00     28432\n",
      "           1       0.77      0.67      0.71        30\n",
      "\n",
      "    accuracy                           1.00     28462\n",
      "   macro avg       0.88      0.83      0.86     28462\n",
      "weighted avg       1.00      1.00      1.00     28462\n",
      "\n",
      "0.857002180488148\n",
      "selected ['V10', 'V17', 'V7', 'V18', 'V14']\n",
      "tempcol ['V10', 'V17', 'V7', 'V18', 'V14', 'V20']\n",
      "V20\n"
     ]
    },
    {
     "name": "stderr",
     "output_type": "stream",
     "text": [
      "/Users/kte/opt/anaconda3/envs/tensor/lib/python3.7/site-packages/sklearn/base.py:451: UserWarning: X does not have valid feature names, but IsolationForest was fitted with feature names\n",
      "  \"X does not have valid feature names, but\"\n"
     ]
    },
    {
     "name": "stdout",
     "output_type": "stream",
     "text": [
      "              precision    recall  f1-score   support\n",
      "\n",
      "           0       1.00      1.00      1.00     28432\n",
      "           1       0.74      0.57      0.64        30\n",
      "\n",
      "    accuracy                           1.00     28462\n",
      "   macro avg       0.87      0.78      0.82     28462\n",
      "weighted avg       1.00      1.00      1.00     28462\n",
      "\n",
      "0.8205876722658993\n",
      "selected ['V10', 'V17', 'V7', 'V18', 'V14']\n",
      "tempcol ['V10', 'V17', 'V7', 'V18', 'V14', 'V21']\n",
      "V21\n"
     ]
    },
    {
     "name": "stderr",
     "output_type": "stream",
     "text": [
      "/Users/kte/opt/anaconda3/envs/tensor/lib/python3.7/site-packages/sklearn/base.py:451: UserWarning: X does not have valid feature names, but IsolationForest was fitted with feature names\n",
      "  \"X does not have valid feature names, but\"\n"
     ]
    },
    {
     "name": "stdout",
     "output_type": "stream",
     "text": [
      "              precision    recall  f1-score   support\n",
      "\n",
      "           0       1.00      1.00      1.00     28432\n",
      "           1       0.70      0.63      0.67        30\n",
      "\n",
      "    accuracy                           1.00     28462\n",
      "   macro avg       0.85      0.82      0.83     28462\n",
      "weighted avg       1.00      1.00      1.00     28462\n",
      "\n",
      "0.8331662768682482\n",
      "selected ['V10', 'V17', 'V7', 'V18', 'V14']\n",
      "tempcol ['V10', 'V17', 'V7', 'V18', 'V14', 'V22']\n",
      "V22\n"
     ]
    },
    {
     "name": "stderr",
     "output_type": "stream",
     "text": [
      "/Users/kte/opt/anaconda3/envs/tensor/lib/python3.7/site-packages/sklearn/base.py:451: UserWarning: X does not have valid feature names, but IsolationForest was fitted with feature names\n",
      "  \"X does not have valid feature names, but\"\n"
     ]
    },
    {
     "name": "stdout",
     "output_type": "stream",
     "text": [
      "              precision    recall  f1-score   support\n",
      "\n",
      "           0       1.00      1.00      1.00     28432\n",
      "           1       0.62      0.60      0.61        30\n",
      "\n",
      "    accuracy                           1.00     28462\n",
      "   macro avg       0.81      0.80      0.80     28462\n",
      "weighted avg       1.00      1.00      1.00     28462\n",
      "\n",
      "0.8048825124030003\n",
      "selected ['V10', 'V17', 'V7', 'V18', 'V14']\n",
      "tempcol ['V10', 'V17', 'V7', 'V18', 'V14', 'V23']\n",
      "V23\n"
     ]
    },
    {
     "name": "stderr",
     "output_type": "stream",
     "text": [
      "/Users/kte/opt/anaconda3/envs/tensor/lib/python3.7/site-packages/sklearn/base.py:451: UserWarning: X does not have valid feature names, but IsolationForest was fitted with feature names\n",
      "  \"X does not have valid feature names, but\"\n"
     ]
    },
    {
     "name": "stdout",
     "output_type": "stream",
     "text": [
      "              precision    recall  f1-score   support\n",
      "\n",
      "           0       1.00      1.00      1.00     28432\n",
      "           1       0.72      0.60      0.65        30\n",
      "\n",
      "    accuracy                           1.00     28462\n",
      "   macro avg       0.86      0.80      0.83     28462\n",
      "weighted avg       1.00      1.00      1.00     28462\n",
      "\n",
      "0.8271056766827749\n",
      "selected ['V10', 'V17', 'V7', 'V18', 'V14']\n",
      "tempcol ['V10', 'V17', 'V7', 'V18', 'V14', 'V24']\n",
      "V24\n"
     ]
    },
    {
     "name": "stderr",
     "output_type": "stream",
     "text": [
      "/Users/kte/opt/anaconda3/envs/tensor/lib/python3.7/site-packages/sklearn/base.py:451: UserWarning: X does not have valid feature names, but IsolationForest was fitted with feature names\n",
      "  \"X does not have valid feature names, but\"\n"
     ]
    },
    {
     "name": "stdout",
     "output_type": "stream",
     "text": [
      "              precision    recall  f1-score   support\n",
      "\n",
      "           0       1.00      1.00      1.00     28432\n",
      "           1       0.79      0.63      0.70        30\n",
      "\n",
      "    accuracy                           1.00     28462\n",
      "   macro avg       0.90      0.82      0.85     28462\n",
      "weighted avg       1.00      1.00      1.00     28462\n",
      "\n",
      "0.851711180144449\n",
      "selected ['V10', 'V17', 'V7', 'V18', 'V14']\n",
      "tempcol ['V10', 'V17', 'V7', 'V18', 'V14', 'V25']\n",
      "V25\n"
     ]
    },
    {
     "name": "stderr",
     "output_type": "stream",
     "text": [
      "/Users/kte/opt/anaconda3/envs/tensor/lib/python3.7/site-packages/sklearn/base.py:451: UserWarning: X does not have valid feature names, but IsolationForest was fitted with feature names\n",
      "  \"X does not have valid feature names, but\"\n"
     ]
    },
    {
     "name": "stdout",
     "output_type": "stream",
     "text": [
      "              precision    recall  f1-score   support\n",
      "\n",
      "           0       1.00      1.00      1.00     28432\n",
      "           1       0.75      0.60      0.67        30\n",
      "\n",
      "    accuracy                           1.00     28462\n",
      "   macro avg       0.87      0.80      0.83     28462\n",
      "weighted avg       1.00      1.00      1.00     28462\n",
      "\n",
      "0.8331750776625051\n",
      "selected ['V10', 'V17', 'V7', 'V18', 'V14']\n",
      "tempcol ['V10', 'V17', 'V7', 'V18', 'V14', 'V26']\n",
      "V26\n"
     ]
    },
    {
     "name": "stderr",
     "output_type": "stream",
     "text": [
      "/Users/kte/opt/anaconda3/envs/tensor/lib/python3.7/site-packages/sklearn/base.py:451: UserWarning: X does not have valid feature names, but IsolationForest was fitted with feature names\n",
      "  \"X does not have valid feature names, but\"\n"
     ]
    },
    {
     "name": "stdout",
     "output_type": "stream",
     "text": [
      "              precision    recall  f1-score   support\n",
      "\n",
      "           0       1.00      1.00      1.00     28432\n",
      "           1       0.80      0.67      0.73        30\n",
      "\n",
      "    accuracy                           1.00     28462\n",
      "   macro avg       0.90      0.83      0.86     28462\n",
      "weighted avg       1.00      1.00      1.00     28462\n",
      "\n",
      "0.8635044815916644\n",
      "selected ['V10', 'V17', 'V7', 'V18', 'V14']\n",
      "tempcol ['V10', 'V17', 'V7', 'V18', 'V14', 'V27']\n",
      "V27\n"
     ]
    },
    {
     "name": "stderr",
     "output_type": "stream",
     "text": [
      "/Users/kte/opt/anaconda3/envs/tensor/lib/python3.7/site-packages/sklearn/base.py:451: UserWarning: X does not have valid feature names, but IsolationForest was fitted with feature names\n",
      "  \"X does not have valid feature names, but\"\n"
     ]
    },
    {
     "name": "stdout",
     "output_type": "stream",
     "text": [
      "              precision    recall  f1-score   support\n",
      "\n",
      "           0       1.00      1.00      1.00     28432\n",
      "           1       0.72      0.60      0.65        30\n",
      "\n",
      "    accuracy                           1.00     28462\n",
      "   macro avg       0.86      0.80      0.83     28462\n",
      "weighted avg       1.00      1.00      1.00     28462\n",
      "\n",
      "0.8271056766827749\n",
      "selected ['V10', 'V17', 'V7', 'V18', 'V14']\n",
      "tempcol ['V10', 'V17', 'V7', 'V18', 'V14', 'V28']\n",
      "V28\n"
     ]
    },
    {
     "name": "stderr",
     "output_type": "stream",
     "text": [
      "/Users/kte/opt/anaconda3/envs/tensor/lib/python3.7/site-packages/sklearn/base.py:451: UserWarning: X does not have valid feature names, but IsolationForest was fitted with feature names\n",
      "  \"X does not have valid feature names, but\"\n"
     ]
    },
    {
     "name": "stdout",
     "output_type": "stream",
     "text": [
      "              precision    recall  f1-score   support\n",
      "\n",
      "           0       1.00      1.00      1.00     28432\n",
      "           1       0.72      0.60      0.65        30\n",
      "\n",
      "    accuracy                           1.00     28462\n",
      "   macro avg       0.86      0.80      0.83     28462\n",
      "weighted avg       1.00      1.00      1.00     28462\n",
      "\n",
      "0.8271056766827749\n",
      "추가\n",
      "count : 99 번\n",
      "selected ['V10', 'V17', 'V7', 'V18', 'V14', 'V26']\n",
      "tempcol ['V10', 'V17', 'V7', 'V18', 'V14', 'V26', 'V1']\n",
      "V1\n"
     ]
    },
    {
     "name": "stderr",
     "output_type": "stream",
     "text": [
      "/Users/kte/opt/anaconda3/envs/tensor/lib/python3.7/site-packages/sklearn/base.py:451: UserWarning: X does not have valid feature names, but IsolationForest was fitted with feature names\n",
      "  \"X does not have valid feature names, but\"\n"
     ]
    },
    {
     "name": "stdout",
     "output_type": "stream",
     "text": [
      "              precision    recall  f1-score   support\n",
      "\n",
      "           0       1.00      1.00      1.00     28432\n",
      "           1       0.72      0.60      0.65        30\n",
      "\n",
      "    accuracy                           1.00     28462\n",
      "   macro avg       0.86      0.80      0.83     28462\n",
      "weighted avg       1.00      1.00      1.00     28462\n",
      "\n",
      "0.8271056766827749\n",
      "selected ['V10', 'V17', 'V7', 'V18', 'V14', 'V26']\n",
      "tempcol ['V10', 'V17', 'V7', 'V18', 'V14', 'V26', 'V2']\n",
      "V2\n"
     ]
    },
    {
     "name": "stderr",
     "output_type": "stream",
     "text": [
      "/Users/kte/opt/anaconda3/envs/tensor/lib/python3.7/site-packages/sklearn/base.py:451: UserWarning: X does not have valid feature names, but IsolationForest was fitted with feature names\n",
      "  \"X does not have valid feature names, but\"\n"
     ]
    },
    {
     "name": "stdout",
     "output_type": "stream",
     "text": [
      "              precision    recall  f1-score   support\n",
      "\n",
      "           0       1.00      1.00      1.00     28432\n",
      "           1       0.79      0.63      0.70        30\n",
      "\n",
      "    accuracy                           1.00     28462\n",
      "   macro avg       0.90      0.82      0.85     28462\n",
      "weighted avg       1.00      1.00      1.00     28462\n",
      "\n",
      "0.851711180144449\n",
      "selected ['V10', 'V17', 'V7', 'V18', 'V14', 'V26']\n",
      "tempcol ['V10', 'V17', 'V7', 'V18', 'V14', 'V26', 'V3']\n",
      "V3\n"
     ]
    },
    {
     "name": "stderr",
     "output_type": "stream",
     "text": [
      "/Users/kte/opt/anaconda3/envs/tensor/lib/python3.7/site-packages/sklearn/base.py:451: UserWarning: X does not have valid feature names, but IsolationForest was fitted with feature names\n",
      "  \"X does not have valid feature names, but\"\n"
     ]
    },
    {
     "name": "stdout",
     "output_type": "stream",
     "text": [
      "              precision    recall  f1-score   support\n",
      "\n",
      "           0       1.00      1.00      1.00     28432\n",
      "           1       0.72      0.60      0.65        30\n",
      "\n",
      "    accuracy                           1.00     28462\n",
      "   macro avg       0.86      0.80      0.83     28462\n",
      "weighted avg       1.00      1.00      1.00     28462\n",
      "\n",
      "0.8271056766827749\n",
      "selected ['V10', 'V17', 'V7', 'V18', 'V14', 'V26']\n",
      "tempcol ['V10', 'V17', 'V7', 'V18', 'V14', 'V26', 'V4']\n",
      "V4\n"
     ]
    },
    {
     "name": "stderr",
     "output_type": "stream",
     "text": [
      "/Users/kte/opt/anaconda3/envs/tensor/lib/python3.7/site-packages/sklearn/base.py:451: UserWarning: X does not have valid feature names, but IsolationForest was fitted with feature names\n",
      "  \"X does not have valid feature names, but\"\n"
     ]
    },
    {
     "name": "stdout",
     "output_type": "stream",
     "text": [
      "              precision    recall  f1-score   support\n",
      "\n",
      "           0       1.00      1.00      1.00     28432\n",
      "           1       0.72      0.60      0.65        30\n",
      "\n",
      "    accuracy                           1.00     28462\n",
      "   macro avg       0.86      0.80      0.83     28462\n",
      "weighted avg       1.00      1.00      1.00     28462\n",
      "\n",
      "0.8271056766827749\n",
      "selected ['V10', 'V17', 'V7', 'V18', 'V14', 'V26']\n",
      "tempcol ['V10', 'V17', 'V7', 'V18', 'V14', 'V26', 'V5']\n",
      "V5\n"
     ]
    },
    {
     "name": "stderr",
     "output_type": "stream",
     "text": [
      "/Users/kte/opt/anaconda3/envs/tensor/lib/python3.7/site-packages/sklearn/base.py:451: UserWarning: X does not have valid feature names, but IsolationForest was fitted with feature names\n",
      "  \"X does not have valid feature names, but\"\n"
     ]
    },
    {
     "name": "stdout",
     "output_type": "stream",
     "text": [
      "              precision    recall  f1-score   support\n",
      "\n",
      "           0       1.00      1.00      1.00     28432\n",
      "           1       0.77      0.67      0.71        30\n",
      "\n",
      "    accuracy                           1.00     28462\n",
      "   macro avg       0.88      0.83      0.86     28462\n",
      "weighted avg       1.00      1.00      1.00     28462\n",
      "\n",
      "0.857002180488148\n",
      "selected ['V10', 'V17', 'V7', 'V18', 'V14', 'V26']\n",
      "tempcol ['V10', 'V17', 'V7', 'V18', 'V14', 'V26', 'V6']\n",
      "V6\n"
     ]
    },
    {
     "name": "stderr",
     "output_type": "stream",
     "text": [
      "/Users/kte/opt/anaconda3/envs/tensor/lib/python3.7/site-packages/sklearn/base.py:451: UserWarning: X does not have valid feature names, but IsolationForest was fitted with feature names\n",
      "  \"X does not have valid feature names, but\"\n"
     ]
    },
    {
     "name": "stdout",
     "output_type": "stream",
     "text": [
      "              precision    recall  f1-score   support\n",
      "\n",
      "           0       1.00      1.00      1.00     28432\n",
      "           1       0.76      0.63      0.69        30\n",
      "\n",
      "    accuracy                           1.00     28462\n",
      "   macro avg       0.88      0.82      0.85     28462\n",
      "weighted avg       1.00      1.00      1.00     28462\n",
      "\n",
      "0.8453050791372196\n",
      "selected ['V10', 'V17', 'V7', 'V18', 'V14', 'V26']\n",
      "tempcol ['V10', 'V17', 'V7', 'V18', 'V14', 'V26', 'V8']\n",
      "V8\n"
     ]
    },
    {
     "name": "stderr",
     "output_type": "stream",
     "text": [
      "/Users/kte/opt/anaconda3/envs/tensor/lib/python3.7/site-packages/sklearn/base.py:451: UserWarning: X does not have valid feature names, but IsolationForest was fitted with feature names\n",
      "  \"X does not have valid feature names, but\"\n"
     ]
    },
    {
     "name": "stdout",
     "output_type": "stream",
     "text": [
      "              precision    recall  f1-score   support\n",
      "\n",
      "           0       1.00      1.00      1.00     28432\n",
      "           1       0.83      0.67      0.74        30\n",
      "\n",
      "    accuracy                           1.00     28462\n",
      "   macro avg       0.92      0.83      0.87     28462\n",
      "weighted avg       1.00      1.00      1.00     28462\n",
      "\n",
      "0.870247282626393\n",
      "selected ['V10', 'V17', 'V7', 'V18', 'V14', 'V26']\n",
      "tempcol ['V10', 'V17', 'V7', 'V18', 'V14', 'V26', 'V9']\n",
      "V9\n"
     ]
    },
    {
     "name": "stderr",
     "output_type": "stream",
     "text": [
      "/Users/kte/opt/anaconda3/envs/tensor/lib/python3.7/site-packages/sklearn/base.py:451: UserWarning: X does not have valid feature names, but IsolationForest was fitted with feature names\n",
      "  \"X does not have valid feature names, but\"\n"
     ]
    },
    {
     "name": "stdout",
     "output_type": "stream",
     "text": [
      "              precision    recall  f1-score   support\n",
      "\n",
      "           0       1.00      1.00      1.00     28432\n",
      "           1       0.78      0.60      0.68        30\n",
      "\n",
      "    accuracy                           1.00     28462\n",
      "   macro avg       0.89      0.80      0.84     28462\n",
      "weighted avg       1.00      1.00      1.00     28462\n",
      "\n",
      "0.8394731804484362\n",
      "selected ['V10', 'V17', 'V7', 'V18', 'V14', 'V26']\n",
      "tempcol ['V10', 'V17', 'V7', 'V18', 'V14', 'V26', 'V11']\n",
      "V11\n"
     ]
    },
    {
     "name": "stderr",
     "output_type": "stream",
     "text": [
      "/Users/kte/opt/anaconda3/envs/tensor/lib/python3.7/site-packages/sklearn/base.py:451: UserWarning: X does not have valid feature names, but IsolationForest was fitted with feature names\n",
      "  \"X does not have valid feature names, but\"\n"
     ]
    },
    {
     "name": "stdout",
     "output_type": "stream",
     "text": [
      "              precision    recall  f1-score   support\n",
      "\n",
      "           0       1.00      1.00      1.00     28432\n",
      "           1       0.73      0.63      0.68        30\n",
      "\n",
      "    accuracy                           1.00     28462\n",
      "   macro avg       0.87      0.82      0.84     28462\n",
      "weighted avg       1.00      1.00      1.00     28462\n",
      "\n",
      "0.8391274530491665\n",
      "selected ['V10', 'V17', 'V7', 'V18', 'V14', 'V26']\n",
      "tempcol ['V10', 'V17', 'V7', 'V18', 'V14', 'V26', 'V12']\n",
      "V12\n"
     ]
    },
    {
     "name": "stderr",
     "output_type": "stream",
     "text": [
      "/Users/kte/opt/anaconda3/envs/tensor/lib/python3.7/site-packages/sklearn/base.py:451: UserWarning: X does not have valid feature names, but IsolationForest was fitted with feature names\n",
      "  \"X does not have valid feature names, but\"\n"
     ]
    },
    {
     "name": "stdout",
     "output_type": "stream",
     "text": [
      "              precision    recall  f1-score   support\n",
      "\n",
      "           0       1.00      1.00      1.00     28432\n",
      "           1       0.79      0.63      0.70        30\n",
      "\n",
      "    accuracy                           1.00     28462\n",
      "   macro avg       0.90      0.82      0.85     28462\n",
      "weighted avg       1.00      1.00      1.00     28462\n",
      "\n",
      "0.851711180144449\n",
      "selected ['V10', 'V17', 'V7', 'V18', 'V14', 'V26']\n",
      "tempcol ['V10', 'V17', 'V7', 'V18', 'V14', 'V26', 'V13']\n",
      "V13\n"
     ]
    },
    {
     "name": "stderr",
     "output_type": "stream",
     "text": [
      "/Users/kte/opt/anaconda3/envs/tensor/lib/python3.7/site-packages/sklearn/base.py:451: UserWarning: X does not have valid feature names, but IsolationForest was fitted with feature names\n",
      "  \"X does not have valid feature names, but\"\n"
     ]
    },
    {
     "name": "stdout",
     "output_type": "stream",
     "text": [
      "              precision    recall  f1-score   support\n",
      "\n",
      "           0       1.00      1.00      1.00     28432\n",
      "           1       0.73      0.63      0.68        30\n",
      "\n",
      "    accuracy                           1.00     28462\n",
      "   macro avg       0.87      0.82      0.84     28462\n",
      "weighted avg       1.00      1.00      1.00     28462\n",
      "\n",
      "0.8391274530491665\n",
      "selected ['V10', 'V17', 'V7', 'V18', 'V14', 'V26']\n",
      "tempcol ['V10', 'V17', 'V7', 'V18', 'V14', 'V26', 'V15']\n",
      "V15\n"
     ]
    },
    {
     "name": "stderr",
     "output_type": "stream",
     "text": [
      "/Users/kte/opt/anaconda3/envs/tensor/lib/python3.7/site-packages/sklearn/base.py:451: UserWarning: X does not have valid feature names, but IsolationForest was fitted with feature names\n",
      "  \"X does not have valid feature names, but\"\n"
     ]
    },
    {
     "name": "stdout",
     "output_type": "stream",
     "text": [
      "              precision    recall  f1-score   support\n",
      "\n",
      "           0       1.00      1.00      1.00     28432\n",
      "           1       0.77      0.67      0.71        30\n",
      "\n",
      "    accuracy                           1.00     28462\n",
      "   macro avg       0.88      0.83      0.86     28462\n",
      "weighted avg       1.00      1.00      1.00     28462\n",
      "\n",
      "0.857002180488148\n",
      "selected ['V10', 'V17', 'V7', 'V18', 'V14', 'V26']\n",
      "tempcol ['V10', 'V17', 'V7', 'V18', 'V14', 'V26', 'V16']\n",
      "V16\n"
     ]
    },
    {
     "name": "stderr",
     "output_type": "stream",
     "text": [
      "/Users/kte/opt/anaconda3/envs/tensor/lib/python3.7/site-packages/sklearn/base.py:451: UserWarning: X does not have valid feature names, but IsolationForest was fitted with feature names\n",
      "  \"X does not have valid feature names, but\"\n"
     ]
    },
    {
     "name": "stdout",
     "output_type": "stream",
     "text": [
      "              precision    recall  f1-score   support\n",
      "\n",
      "           0       1.00      1.00      1.00     28432\n",
      "           1       0.79      0.63      0.70        30\n",
      "\n",
      "    accuracy                           1.00     28462\n",
      "   macro avg       0.90      0.82      0.85     28462\n",
      "weighted avg       1.00      1.00      1.00     28462\n",
      "\n",
      "0.851711180144449\n",
      "selected ['V10', 'V17', 'V7', 'V18', 'V14', 'V26']\n",
      "tempcol ['V10', 'V17', 'V7', 'V18', 'V14', 'V26', 'V19']\n",
      "V19\n"
     ]
    },
    {
     "name": "stderr",
     "output_type": "stream",
     "text": [
      "/Users/kte/opt/anaconda3/envs/tensor/lib/python3.7/site-packages/sklearn/base.py:451: UserWarning: X does not have valid feature names, but IsolationForest was fitted with feature names\n",
      "  \"X does not have valid feature names, but\"\n"
     ]
    },
    {
     "name": "stdout",
     "output_type": "stream",
     "text": [
      "              precision    recall  f1-score   support\n",
      "\n",
      "           0       1.00      1.00      1.00     28432\n",
      "           1       0.71      0.67      0.69        30\n",
      "\n",
      "    accuracy                           1.00     28462\n",
      "   macro avg       0.86      0.83      0.84     28462\n",
      "weighted avg       1.00      1.00      1.00     28462\n",
      "\n",
      "0.8446693194042376\n",
      "selected ['V10', 'V17', 'V7', 'V18', 'V14', 'V26']\n",
      "tempcol ['V10', 'V17', 'V7', 'V18', 'V14', 'V26', 'V20']\n",
      "V20\n"
     ]
    },
    {
     "name": "stderr",
     "output_type": "stream",
     "text": [
      "/Users/kte/opt/anaconda3/envs/tensor/lib/python3.7/site-packages/sklearn/base.py:451: UserWarning: X does not have valid feature names, but IsolationForest was fitted with feature names\n",
      "  \"X does not have valid feature names, but\"\n"
     ]
    },
    {
     "name": "stdout",
     "output_type": "stream",
     "text": [
      "              precision    recall  f1-score   support\n",
      "\n",
      "           0       1.00      1.00      1.00     28432\n",
      "           1       0.77      0.57      0.65        30\n",
      "\n",
      "    accuracy                           1.00     28462\n",
      "   macro avg       0.89      0.78      0.83     28462\n",
      "weighted avg       1.00      1.00      1.00     28462\n",
      "\n",
      "0.8267648268175769\n",
      "selected ['V10', 'V17', 'V7', 'V18', 'V14', 'V26']\n",
      "tempcol ['V10', 'V17', 'V7', 'V18', 'V14', 'V26', 'V21']\n",
      "V21\n"
     ]
    },
    {
     "name": "stderr",
     "output_type": "stream",
     "text": [
      "/Users/kte/opt/anaconda3/envs/tensor/lib/python3.7/site-packages/sklearn/base.py:451: UserWarning: X does not have valid feature names, but IsolationForest was fitted with feature names\n",
      "  \"X does not have valid feature names, but\"\n"
     ]
    },
    {
     "name": "stdout",
     "output_type": "stream",
     "text": [
      "              precision    recall  f1-score   support\n",
      "\n",
      "           0       1.00      1.00      1.00     28432\n",
      "           1       0.75      0.60      0.67        30\n",
      "\n",
      "    accuracy                           1.00     28462\n",
      "   macro avg       0.87      0.80      0.83     28462\n",
      "weighted avg       1.00      1.00      1.00     28462\n",
      "\n",
      "0.8331750776625051\n",
      "selected ['V10', 'V17', 'V7', 'V18', 'V14', 'V26']\n",
      "tempcol ['V10', 'V17', 'V7', 'V18', 'V14', 'V26', 'V22']\n",
      "V22\n"
     ]
    },
    {
     "name": "stderr",
     "output_type": "stream",
     "text": [
      "/Users/kte/opt/anaconda3/envs/tensor/lib/python3.7/site-packages/sklearn/base.py:451: UserWarning: X does not have valid feature names, but IsolationForest was fitted with feature names\n",
      "  \"X does not have valid feature names, but\"\n"
     ]
    },
    {
     "name": "stdout",
     "output_type": "stream",
     "text": [
      "              precision    recall  f1-score   support\n",
      "\n",
      "           0       1.00      1.00      1.00     28432\n",
      "           1       0.67      0.60      0.63        30\n",
      "\n",
      "    accuracy                           1.00     28462\n",
      "   macro avg       0.83      0.80      0.82     28462\n",
      "weighted avg       1.00      1.00      1.00     28462\n",
      "\n",
      "0.8156048323280637\n",
      "selected ['V10', 'V17', 'V7', 'V18', 'V14', 'V26']\n",
      "tempcol ['V10', 'V17', 'V7', 'V18', 'V14', 'V26', 'V23']\n",
      "V23\n"
     ]
    },
    {
     "name": "stderr",
     "output_type": "stream",
     "text": [
      "/Users/kte/opt/anaconda3/envs/tensor/lib/python3.7/site-packages/sklearn/base.py:451: UserWarning: X does not have valid feature names, but IsolationForest was fitted with feature names\n",
      "  \"X does not have valid feature names, but\"\n"
     ]
    },
    {
     "name": "stdout",
     "output_type": "stream",
     "text": [
      "              precision    recall  f1-score   support\n",
      "\n",
      "           0       1.00      1.00      1.00     28432\n",
      "           1       0.69      0.60      0.64        30\n",
      "\n",
      "    accuracy                           1.00     28462\n",
      "   macro avg       0.85      0.80      0.82     28462\n",
      "weighted avg       1.00      1.00      1.00     28462\n",
      "\n",
      "0.8212527256101849\n",
      "selected ['V10', 'V17', 'V7', 'V18', 'V14', 'V26']\n",
      "tempcol ['V10', 'V17', 'V7', 'V18', 'V14', 'V26', 'V24']\n",
      "V24\n"
     ]
    },
    {
     "name": "stderr",
     "output_type": "stream",
     "text": [
      "/Users/kte/opt/anaconda3/envs/tensor/lib/python3.7/site-packages/sklearn/base.py:451: UserWarning: X does not have valid feature names, but IsolationForest was fitted with feature names\n",
      "  \"X does not have valid feature names, but\"\n"
     ]
    },
    {
     "name": "stdout",
     "output_type": "stream",
     "text": [
      "              precision    recall  f1-score   support\n",
      "\n",
      "           0       1.00      1.00      1.00     28432\n",
      "           1       0.76      0.63      0.69        30\n",
      "\n",
      "    accuracy                           1.00     28462\n",
      "   macro avg       0.88      0.82      0.85     28462\n",
      "weighted avg       1.00      1.00      1.00     28462\n",
      "\n",
      "0.8453050791372196\n",
      "selected ['V10', 'V17', 'V7', 'V18', 'V14', 'V26']\n",
      "tempcol ['V10', 'V17', 'V7', 'V18', 'V14', 'V26', 'V25']\n",
      "V25\n"
     ]
    },
    {
     "name": "stderr",
     "output_type": "stream",
     "text": [
      "/Users/kte/opt/anaconda3/envs/tensor/lib/python3.7/site-packages/sklearn/base.py:451: UserWarning: X does not have valid feature names, but IsolationForest was fitted with feature names\n",
      "  \"X does not have valid feature names, but\"\n"
     ]
    },
    {
     "name": "stdout",
     "output_type": "stream",
     "text": [
      "              precision    recall  f1-score   support\n",
      "\n",
      "           0       1.00      1.00      1.00     28432\n",
      "           1       0.78      0.60      0.68        30\n",
      "\n",
      "    accuracy                           1.00     28462\n",
      "   macro avg       0.89      0.80      0.84     28462\n",
      "weighted avg       1.00      1.00      1.00     28462\n",
      "\n",
      "0.8394731804484362\n",
      "selected ['V10', 'V17', 'V7', 'V18', 'V14', 'V26']\n",
      "tempcol ['V10', 'V17', 'V7', 'V18', 'V14', 'V26', 'V27']\n",
      "V27\n"
     ]
    },
    {
     "name": "stderr",
     "output_type": "stream",
     "text": [
      "/Users/kte/opt/anaconda3/envs/tensor/lib/python3.7/site-packages/sklearn/base.py:451: UserWarning: X does not have valid feature names, but IsolationForest was fitted with feature names\n",
      "  \"X does not have valid feature names, but\"\n"
     ]
    },
    {
     "name": "stdout",
     "output_type": "stream",
     "text": [
      "              precision    recall  f1-score   support\n",
      "\n",
      "           0       1.00      1.00      1.00     28432\n",
      "           1       0.67      0.60      0.63        30\n",
      "\n",
      "    accuracy                           1.00     28462\n",
      "   macro avg       0.83      0.80      0.82     28462\n",
      "weighted avg       1.00      1.00      1.00     28462\n",
      "\n",
      "0.8156048323280637\n",
      "selected ['V10', 'V17', 'V7', 'V18', 'V14', 'V26']\n",
      "tempcol ['V10', 'V17', 'V7', 'V18', 'V14', 'V26', 'V28']\n",
      "V28\n"
     ]
    },
    {
     "name": "stderr",
     "output_type": "stream",
     "text": [
      "/Users/kte/opt/anaconda3/envs/tensor/lib/python3.7/site-packages/sklearn/base.py:451: UserWarning: X does not have valid feature names, but IsolationForest was fitted with feature names\n",
      "  \"X does not have valid feature names, but\"\n"
     ]
    },
    {
     "name": "stdout",
     "output_type": "stream",
     "text": [
      "              precision    recall  f1-score   support\n",
      "\n",
      "           0       1.00      1.00      1.00     28432\n",
      "           1       0.71      0.57      0.63        30\n",
      "\n",
      "    accuracy                           1.00     28462\n",
      "   macro avg       0.85      0.78      0.81     28462\n",
      "weighted avg       1.00      1.00      1.00     28462\n",
      "\n",
      "0.8146389751805612\n",
      "추가\n",
      "count : 121 번\n",
      "selected ['V10', 'V17', 'V7', 'V18', 'V14', 'V26', 'V8']\n",
      "tempcol ['V10', 'V17', 'V7', 'V18', 'V14', 'V26', 'V8', 'V1']\n",
      "V1\n"
     ]
    },
    {
     "name": "stderr",
     "output_type": "stream",
     "text": [
      "/Users/kte/opt/anaconda3/envs/tensor/lib/python3.7/site-packages/sklearn/base.py:451: UserWarning: X does not have valid feature names, but IsolationForest was fitted with feature names\n",
      "  \"X does not have valid feature names, but\"\n"
     ]
    },
    {
     "name": "stdout",
     "output_type": "stream",
     "text": [
      "              precision    recall  f1-score   support\n",
      "\n",
      "           0       1.00      1.00      1.00     28432\n",
      "           1       0.70      0.63      0.67        30\n",
      "\n",
      "    accuracy                           1.00     28462\n",
      "   macro avg       0.85      0.82      0.83     28462\n",
      "weighted avg       1.00      1.00      1.00     28462\n",
      "\n",
      "0.8331662768682482\n",
      "selected ['V10', 'V17', 'V7', 'V18', 'V14', 'V26', 'V8']\n",
      "tempcol ['V10', 'V17', 'V7', 'V18', 'V14', 'V26', 'V8', 'V2']\n",
      "V2\n"
     ]
    },
    {
     "name": "stderr",
     "output_type": "stream",
     "text": [
      "/Users/kte/opt/anaconda3/envs/tensor/lib/python3.7/site-packages/sklearn/base.py:451: UserWarning: X does not have valid feature names, but IsolationForest was fitted with feature names\n",
      "  \"X does not have valid feature names, but\"\n"
     ]
    },
    {
     "name": "stdout",
     "output_type": "stream",
     "text": [
      "              precision    recall  f1-score   support\n",
      "\n",
      "           0       1.00      1.00      1.00     28432\n",
      "           1       0.78      0.60      0.68        30\n",
      "\n",
      "    accuracy                           1.00     28462\n",
      "   macro avg       0.89      0.80      0.84     28462\n",
      "weighted avg       1.00      1.00      1.00     28462\n",
      "\n",
      "0.8394731804484362\n",
      "selected ['V10', 'V17', 'V7', 'V18', 'V14', 'V26', 'V8']\n",
      "tempcol ['V10', 'V17', 'V7', 'V18', 'V14', 'V26', 'V8', 'V3']\n",
      "V3\n"
     ]
    },
    {
     "name": "stderr",
     "output_type": "stream",
     "text": [
      "/Users/kte/opt/anaconda3/envs/tensor/lib/python3.7/site-packages/sklearn/base.py:451: UserWarning: X does not have valid feature names, but IsolationForest was fitted with feature names\n",
      "  \"X does not have valid feature names, but\"\n"
     ]
    },
    {
     "name": "stdout",
     "output_type": "stream",
     "text": [
      "              precision    recall  f1-score   support\n",
      "\n",
      "           0       1.00      1.00      1.00     28432\n",
      "           1       0.72      0.60      0.65        30\n",
      "\n",
      "    accuracy                           1.00     28462\n",
      "   macro avg       0.86      0.80      0.83     28462\n",
      "weighted avg       1.00      1.00      1.00     28462\n",
      "\n",
      "0.8271056766827749\n",
      "selected ['V10', 'V17', 'V7', 'V18', 'V14', 'V26', 'V8']\n",
      "tempcol ['V10', 'V17', 'V7', 'V18', 'V14', 'V26', 'V8', 'V4']\n",
      "V4\n"
     ]
    },
    {
     "name": "stderr",
     "output_type": "stream",
     "text": [
      "/Users/kte/opt/anaconda3/envs/tensor/lib/python3.7/site-packages/sklearn/base.py:451: UserWarning: X does not have valid feature names, but IsolationForest was fitted with feature names\n",
      "  \"X does not have valid feature names, but\"\n"
     ]
    },
    {
     "name": "stdout",
     "output_type": "stream",
     "text": [
      "              precision    recall  f1-score   support\n",
      "\n",
      "           0       1.00      1.00      1.00     28432\n",
      "           1       0.70      0.63      0.67        30\n",
      "\n",
      "    accuracy                           1.00     28462\n",
      "   macro avg       0.85      0.82      0.83     28462\n",
      "weighted avg       1.00      1.00      1.00     28462\n",
      "\n",
      "0.8331662768682482\n",
      "selected ['V10', 'V17', 'V7', 'V18', 'V14', 'V26', 'V8']\n",
      "tempcol ['V10', 'V17', 'V7', 'V18', 'V14', 'V26', 'V8', 'V5']\n",
      "V5\n"
     ]
    },
    {
     "name": "stderr",
     "output_type": "stream",
     "text": [
      "/Users/kte/opt/anaconda3/envs/tensor/lib/python3.7/site-packages/sklearn/base.py:451: UserWarning: X does not have valid feature names, but IsolationForest was fitted with feature names\n",
      "  \"X does not have valid feature names, but\"\n"
     ]
    },
    {
     "name": "stdout",
     "output_type": "stream",
     "text": [
      "              precision    recall  f1-score   support\n",
      "\n",
      "           0       1.00      1.00      1.00     28432\n",
      "           1       0.78      0.60      0.68        30\n",
      "\n",
      "    accuracy                           1.00     28462\n",
      "   macro avg       0.89      0.80      0.84     28462\n",
      "weighted avg       1.00      1.00      1.00     28462\n",
      "\n",
      "0.8394731804484362\n",
      "selected ['V10', 'V17', 'V7', 'V18', 'V14', 'V26', 'V8']\n",
      "tempcol ['V10', 'V17', 'V7', 'V18', 'V14', 'V26', 'V8', 'V6']\n",
      "V6\n"
     ]
    },
    {
     "name": "stderr",
     "output_type": "stream",
     "text": [
      "/Users/kte/opt/anaconda3/envs/tensor/lib/python3.7/site-packages/sklearn/base.py:451: UserWarning: X does not have valid feature names, but IsolationForest was fitted with feature names\n",
      "  \"X does not have valid feature names, but\"\n"
     ]
    },
    {
     "name": "stdout",
     "output_type": "stream",
     "text": [
      "              precision    recall  f1-score   support\n",
      "\n",
      "           0       1.00      1.00      1.00     28432\n",
      "           1       0.74      0.67      0.70        30\n",
      "\n",
      "    accuracy                           1.00     28462\n",
      "   macro avg       0.87      0.83      0.85     28462\n",
      "weighted avg       1.00      1.00      1.00     28462\n",
      "\n",
      "0.8507277214084326\n",
      "selected ['V10', 'V17', 'V7', 'V18', 'V14', 'V26', 'V8']\n",
      "tempcol ['V10', 'V17', 'V7', 'V18', 'V14', 'V26', 'V8', 'V9']\n",
      "V9\n"
     ]
    },
    {
     "name": "stderr",
     "output_type": "stream",
     "text": [
      "/Users/kte/opt/anaconda3/envs/tensor/lib/python3.7/site-packages/sklearn/base.py:451: UserWarning: X does not have valid feature names, but IsolationForest was fitted with feature names\n",
      "  \"X does not have valid feature names, but\"\n"
     ]
    },
    {
     "name": "stdout",
     "output_type": "stream",
     "text": [
      "              precision    recall  f1-score   support\n",
      "\n",
      "           0       1.00      1.00      1.00     28432\n",
      "           1       0.83      0.63      0.72        30\n",
      "\n",
      "    accuracy                           1.00     28462\n",
      "   macro avg       0.91      0.82      0.86     28462\n",
      "weighted avg       1.00      1.00      1.00     28462\n",
      "\n",
      "0.8583586886309732\n",
      "selected ['V10', 'V17', 'V7', 'V18', 'V14', 'V26', 'V8']\n",
      "tempcol ['V10', 'V17', 'V7', 'V18', 'V14', 'V26', 'V8', 'V11']\n",
      "V11\n"
     ]
    },
    {
     "name": "stderr",
     "output_type": "stream",
     "text": [
      "/Users/kte/opt/anaconda3/envs/tensor/lib/python3.7/site-packages/sklearn/base.py:451: UserWarning: X does not have valid feature names, but IsolationForest was fitted with feature names\n",
      "  \"X does not have valid feature names, but\"\n"
     ]
    },
    {
     "name": "stdout",
     "output_type": "stream",
     "text": [
      "              precision    recall  f1-score   support\n",
      "\n",
      "           0       1.00      1.00      1.00     28432\n",
      "           1       0.77      0.67      0.71        30\n",
      "\n",
      "    accuracy                           1.00     28462\n",
      "   macro avg       0.88      0.83      0.86     28462\n",
      "weighted avg       1.00      1.00      1.00     28462\n",
      "\n",
      "0.857002180488148\n",
      "selected ['V10', 'V17', 'V7', 'V18', 'V14', 'V26', 'V8']\n",
      "tempcol ['V10', 'V17', 'V7', 'V18', 'V14', 'V26', 'V8', 'V12']\n",
      "V12\n"
     ]
    },
    {
     "name": "stderr",
     "output_type": "stream",
     "text": [
      "/Users/kte/opt/anaconda3/envs/tensor/lib/python3.7/site-packages/sklearn/base.py:451: UserWarning: X does not have valid feature names, but IsolationForest was fitted with feature names\n",
      "  \"X does not have valid feature names, but\"\n"
     ]
    },
    {
     "name": "stdout",
     "output_type": "stream",
     "text": [
      "              precision    recall  f1-score   support\n",
      "\n",
      "           0       1.00      1.00      1.00     28432\n",
      "           1       0.73      0.63      0.68        30\n",
      "\n",
      "    accuracy                           1.00     28462\n",
      "   macro avg       0.87      0.82      0.84     28462\n",
      "weighted avg       1.00      1.00      1.00     28462\n",
      "\n",
      "0.8391274530491665\n",
      "selected ['V10', 'V17', 'V7', 'V18', 'V14', 'V26', 'V8']\n",
      "tempcol ['V10', 'V17', 'V7', 'V18', 'V14', 'V26', 'V8', 'V13']\n",
      "V13\n"
     ]
    },
    {
     "name": "stderr",
     "output_type": "stream",
     "text": [
      "/Users/kte/opt/anaconda3/envs/tensor/lib/python3.7/site-packages/sklearn/base.py:451: UserWarning: X does not have valid feature names, but IsolationForest was fitted with feature names\n",
      "  \"X does not have valid feature names, but\"\n"
     ]
    },
    {
     "name": "stdout",
     "output_type": "stream",
     "text": [
      "              precision    recall  f1-score   support\n",
      "\n",
      "           0       1.00      1.00      1.00     28432\n",
      "           1       0.76      0.63      0.69        30\n",
      "\n",
      "    accuracy                           1.00     28462\n",
      "   macro avg       0.88      0.82      0.85     28462\n",
      "weighted avg       1.00      1.00      1.00     28462\n",
      "\n",
      "0.8453050791372196\n",
      "selected ['V10', 'V17', 'V7', 'V18', 'V14', 'V26', 'V8']\n",
      "tempcol ['V10', 'V17', 'V7', 'V18', 'V14', 'V26', 'V8', 'V15']\n",
      "V15\n"
     ]
    },
    {
     "name": "stderr",
     "output_type": "stream",
     "text": [
      "/Users/kte/opt/anaconda3/envs/tensor/lib/python3.7/site-packages/sklearn/base.py:451: UserWarning: X does not have valid feature names, but IsolationForest was fitted with feature names\n",
      "  \"X does not have valid feature names, but\"\n"
     ]
    },
    {
     "name": "stdout",
     "output_type": "stream",
     "text": [
      "              precision    recall  f1-score   support\n",
      "\n",
      "           0       1.00      1.00      1.00     28432\n",
      "           1       0.79      0.63      0.70        30\n",
      "\n",
      "    accuracy                           1.00     28462\n",
      "   macro avg       0.90      0.82      0.85     28462\n",
      "weighted avg       1.00      1.00      1.00     28462\n",
      "\n",
      "0.851711180144449\n",
      "selected ['V10', 'V17', 'V7', 'V18', 'V14', 'V26', 'V8']\n",
      "tempcol ['V10', 'V17', 'V7', 'V18', 'V14', 'V26', 'V8', 'V16']\n",
      "V16\n"
     ]
    },
    {
     "name": "stderr",
     "output_type": "stream",
     "text": [
      "/Users/kte/opt/anaconda3/envs/tensor/lib/python3.7/site-packages/sklearn/base.py:451: UserWarning: X does not have valid feature names, but IsolationForest was fitted with feature names\n",
      "  \"X does not have valid feature names, but\"\n"
     ]
    },
    {
     "name": "stdout",
     "output_type": "stream",
     "text": [
      "              precision    recall  f1-score   support\n",
      "\n",
      "           0       1.00      1.00      1.00     28432\n",
      "           1       0.82      0.60      0.69        30\n",
      "\n",
      "    accuracy                           1.00     28462\n",
      "   macro avg       0.91      0.80      0.85     28462\n",
      "weighted avg       1.00      1.00      1.00     28462\n",
      "\n",
      "0.8460131793934016\n",
      "selected ['V10', 'V17', 'V7', 'V18', 'V14', 'V26', 'V8']\n",
      "tempcol ['V10', 'V17', 'V7', 'V18', 'V14', 'V26', 'V8', 'V19']\n",
      "V19\n"
     ]
    },
    {
     "name": "stderr",
     "output_type": "stream",
     "text": [
      "/Users/kte/opt/anaconda3/envs/tensor/lib/python3.7/site-packages/sklearn/base.py:451: UserWarning: X does not have valid feature names, but IsolationForest was fitted with feature names\n",
      "  \"X does not have valid feature names, but\"\n"
     ]
    },
    {
     "name": "stdout",
     "output_type": "stream",
     "text": [
      "              precision    recall  f1-score   support\n",
      "\n",
      "           0       1.00      1.00      1.00     28432\n",
      "           1       0.68      0.70      0.69        30\n",
      "\n",
      "    accuracy                           1.00     28462\n",
      "   macro avg       0.84      0.85      0.84     28462\n",
      "weighted avg       1.00      1.00      1.00     28462\n",
      "\n",
      "0.8440952268653764\n",
      "selected ['V10', 'V17', 'V7', 'V18', 'V14', 'V26', 'V8']\n",
      "tempcol ['V10', 'V17', 'V7', 'V18', 'V14', 'V26', 'V8', 'V20']\n",
      "V20\n"
     ]
    },
    {
     "name": "stderr",
     "output_type": "stream",
     "text": [
      "/Users/kte/opt/anaconda3/envs/tensor/lib/python3.7/site-packages/sklearn/base.py:451: UserWarning: X does not have valid feature names, but IsolationForest was fitted with feature names\n",
      "  \"X does not have valid feature names, but\"\n"
     ]
    },
    {
     "name": "stdout",
     "output_type": "stream",
     "text": [
      "              precision    recall  f1-score   support\n",
      "\n",
      "           0       1.00      1.00      1.00     28432\n",
      "           1       0.69      0.60      0.64        30\n",
      "\n",
      "    accuracy                           1.00     28462\n",
      "   macro avg       0.85      0.80      0.82     28462\n",
      "weighted avg       1.00      1.00      1.00     28462\n",
      "\n",
      "0.8212527256101849\n",
      "selected ['V10', 'V17', 'V7', 'V18', 'V14', 'V26', 'V8']\n",
      "tempcol ['V10', 'V17', 'V7', 'V18', 'V14', 'V26', 'V8', 'V21']\n",
      "V21\n"
     ]
    },
    {
     "name": "stderr",
     "output_type": "stream",
     "text": [
      "/Users/kte/opt/anaconda3/envs/tensor/lib/python3.7/site-packages/sklearn/base.py:451: UserWarning: X does not have valid feature names, but IsolationForest was fitted with feature names\n",
      "  \"X does not have valid feature names, but\"\n"
     ]
    },
    {
     "name": "stdout",
     "output_type": "stream",
     "text": [
      "              precision    recall  f1-score   support\n",
      "\n",
      "           0       1.00      1.00      1.00     28432\n",
      "           1       0.72      0.60      0.65        30\n",
      "\n",
      "    accuracy                           1.00     28462\n",
      "   macro avg       0.86      0.80      0.83     28462\n",
      "weighted avg       1.00      1.00      1.00     28462\n",
      "\n",
      "0.8271056766827749\n",
      "selected ['V10', 'V17', 'V7', 'V18', 'V14', 'V26', 'V8']\n",
      "tempcol ['V10', 'V17', 'V7', 'V18', 'V14', 'V26', 'V8', 'V22']\n",
      "V22\n"
     ]
    },
    {
     "name": "stderr",
     "output_type": "stream",
     "text": [
      "/Users/kte/opt/anaconda3/envs/tensor/lib/python3.7/site-packages/sklearn/base.py:451: UserWarning: X does not have valid feature names, but IsolationForest was fitted with feature names\n",
      "  \"X does not have valid feature names, but\"\n"
     ]
    },
    {
     "name": "stdout",
     "output_type": "stream",
     "text": [
      "              precision    recall  f1-score   support\n",
      "\n",
      "           0       1.00      1.00      1.00     28432\n",
      "           1       0.64      0.60      0.62        30\n",
      "\n",
      "    accuracy                           1.00     28462\n",
      "   macro avg       0.82      0.80      0.81     28462\n",
      "weighted avg       1.00      1.00      1.00     28462\n",
      "\n",
      "0.8101513903829571\n",
      "selected ['V10', 'V17', 'V7', 'V18', 'V14', 'V26', 'V8']\n",
      "tempcol ['V10', 'V17', 'V7', 'V18', 'V14', 'V26', 'V8', 'V23']\n",
      "V23\n"
     ]
    },
    {
     "name": "stderr",
     "output_type": "stream",
     "text": [
      "/Users/kte/opt/anaconda3/envs/tensor/lib/python3.7/site-packages/sklearn/base.py:451: UserWarning: X does not have valid feature names, but IsolationForest was fitted with feature names\n",
      "  \"X does not have valid feature names, but\"\n"
     ]
    },
    {
     "name": "stdout",
     "output_type": "stream",
     "text": [
      "              precision    recall  f1-score   support\n",
      "\n",
      "           0       1.00      1.00      1.00     28432\n",
      "           1       0.70      0.63      0.67        30\n",
      "\n",
      "    accuracy                           1.00     28462\n",
      "   macro avg       0.85      0.82      0.83     28462\n",
      "weighted avg       1.00      1.00      1.00     28462\n",
      "\n",
      "0.8331662768682482\n",
      "selected ['V10', 'V17', 'V7', 'V18', 'V14', 'V26', 'V8']\n",
      "tempcol ['V10', 'V17', 'V7', 'V18', 'V14', 'V26', 'V8', 'V24']\n",
      "V24\n"
     ]
    },
    {
     "name": "stderr",
     "output_type": "stream",
     "text": [
      "/Users/kte/opt/anaconda3/envs/tensor/lib/python3.7/site-packages/sklearn/base.py:451: UserWarning: X does not have valid feature names, but IsolationForest was fitted with feature names\n",
      "  \"X does not have valid feature names, but\"\n"
     ]
    },
    {
     "name": "stdout",
     "output_type": "stream",
     "text": [
      "              precision    recall  f1-score   support\n",
      "\n",
      "           0       1.00      1.00      1.00     28432\n",
      "           1       0.70      0.63      0.67        30\n",
      "\n",
      "    accuracy                           1.00     28462\n",
      "   macro avg       0.85      0.82      0.83     28462\n",
      "weighted avg       1.00      1.00      1.00     28462\n",
      "\n",
      "0.8331662768682482\n",
      "selected ['V10', 'V17', 'V7', 'V18', 'V14', 'V26', 'V8']\n",
      "tempcol ['V10', 'V17', 'V7', 'V18', 'V14', 'V26', 'V8', 'V25']\n",
      "V25\n"
     ]
    },
    {
     "name": "stderr",
     "output_type": "stream",
     "text": [
      "/Users/kte/opt/anaconda3/envs/tensor/lib/python3.7/site-packages/sklearn/base.py:451: UserWarning: X does not have valid feature names, but IsolationForest was fitted with feature names\n",
      "  \"X does not have valid feature names, but\"\n"
     ]
    },
    {
     "name": "stdout",
     "output_type": "stream",
     "text": [
      "              precision    recall  f1-score   support\n",
      "\n",
      "           0       1.00      1.00      1.00     28432\n",
      "           1       0.79      0.63      0.70        30\n",
      "\n",
      "    accuracy                           1.00     28462\n",
      "   macro avg       0.90      0.82      0.85     28462\n",
      "weighted avg       1.00      1.00      1.00     28462\n",
      "\n",
      "0.851711180144449\n",
      "selected ['V10', 'V17', 'V7', 'V18', 'V14', 'V26', 'V8']\n",
      "tempcol ['V10', 'V17', 'V7', 'V18', 'V14', 'V26', 'V8', 'V27']\n",
      "V27\n"
     ]
    },
    {
     "name": "stderr",
     "output_type": "stream",
     "text": [
      "/Users/kte/opt/anaconda3/envs/tensor/lib/python3.7/site-packages/sklearn/base.py:451: UserWarning: X does not have valid feature names, but IsolationForest was fitted with feature names\n",
      "  \"X does not have valid feature names, but\"\n"
     ]
    },
    {
     "name": "stdout",
     "output_type": "stream",
     "text": [
      "              precision    recall  f1-score   support\n",
      "\n",
      "           0       1.00      1.00      1.00     28432\n",
      "           1       0.67      0.60      0.63        30\n",
      "\n",
      "    accuracy                           1.00     28462\n",
      "   macro avg       0.83      0.80      0.82     28462\n",
      "weighted avg       1.00      1.00      1.00     28462\n",
      "\n",
      "0.8156048323280637\n",
      "selected ['V10', 'V17', 'V7', 'V18', 'V14', 'V26', 'V8']\n",
      "tempcol ['V10', 'V17', 'V7', 'V18', 'V14', 'V26', 'V8', 'V28']\n",
      "V28\n"
     ]
    },
    {
     "name": "stderr",
     "output_type": "stream",
     "text": [
      "/Users/kte/opt/anaconda3/envs/tensor/lib/python3.7/site-packages/sklearn/base.py:451: UserWarning: X does not have valid feature names, but IsolationForest was fitted with feature names\n",
      "  \"X does not have valid feature names, but\"\n"
     ]
    },
    {
     "name": "stdout",
     "output_type": "stream",
     "text": [
      "              precision    recall  f1-score   support\n",
      "\n",
      "           0       1.00      1.00      1.00     28432\n",
      "           1       0.68      0.63      0.66        30\n",
      "\n",
      "    accuracy                           1.00     28462\n",
      "   macro avg       0.84      0.82      0.83     28462\n",
      "weighted avg       1.00      1.00      1.00     28462\n",
      "\n",
      "0.8274103548935974\n",
      "추가\n",
      "count : 142 번\n",
      "selected ['V10', 'V17', 'V7', 'V18', 'V14', 'V26', 'V8', 'V9']\n",
      "tempcol ['V10', 'V17', 'V7', 'V18', 'V14', 'V26', 'V8', 'V9', 'V1']\n",
      "V1\n"
     ]
    },
    {
     "name": "stderr",
     "output_type": "stream",
     "text": [
      "/Users/kte/opt/anaconda3/envs/tensor/lib/python3.7/site-packages/sklearn/base.py:451: UserWarning: X does not have valid feature names, but IsolationForest was fitted with feature names\n",
      "  \"X does not have valid feature names, but\"\n"
     ]
    },
    {
     "name": "stdout",
     "output_type": "stream",
     "text": [
      "              precision    recall  f1-score   support\n",
      "\n",
      "           0       1.00      1.00      1.00     28432\n",
      "           1       0.69      0.60      0.64        30\n",
      "\n",
      "    accuracy                           1.00     28462\n",
      "   macro avg       0.85      0.80      0.82     28462\n",
      "weighted avg       1.00      1.00      1.00     28462\n",
      "\n",
      "0.8212527256101849\n",
      "selected ['V10', 'V17', 'V7', 'V18', 'V14', 'V26', 'V8', 'V9']\n",
      "tempcol ['V10', 'V17', 'V7', 'V18', 'V14', 'V26', 'V8', 'V9', 'V2']\n",
      "V2\n"
     ]
    },
    {
     "name": "stderr",
     "output_type": "stream",
     "text": [
      "/Users/kte/opt/anaconda3/envs/tensor/lib/python3.7/site-packages/sklearn/base.py:451: UserWarning: X does not have valid feature names, but IsolationForest was fitted with feature names\n",
      "  \"X does not have valid feature names, but\"\n"
     ]
    },
    {
     "name": "stdout",
     "output_type": "stream",
     "text": [
      "              precision    recall  f1-score   support\n",
      "\n",
      "           0       1.00      1.00      1.00     28432\n",
      "           1       0.79      0.63      0.70        30\n",
      "\n",
      "    accuracy                           1.00     28462\n",
      "   macro avg       0.90      0.82      0.85     28462\n",
      "weighted avg       1.00      1.00      1.00     28462\n",
      "\n",
      "0.851711180144449\n",
      "selected ['V10', 'V17', 'V7', 'V18', 'V14', 'V26', 'V8', 'V9']\n",
      "tempcol ['V10', 'V17', 'V7', 'V18', 'V14', 'V26', 'V8', 'V9', 'V3']\n",
      "V3\n"
     ]
    },
    {
     "name": "stderr",
     "output_type": "stream",
     "text": [
      "/Users/kte/opt/anaconda3/envs/tensor/lib/python3.7/site-packages/sklearn/base.py:451: UserWarning: X does not have valid feature names, but IsolationForest was fitted with feature names\n",
      "  \"X does not have valid feature names, but\"\n"
     ]
    },
    {
     "name": "stdout",
     "output_type": "stream",
     "text": [
      "              precision    recall  f1-score   support\n",
      "\n",
      "           0       1.00      1.00      1.00     28432\n",
      "           1       0.75      0.60      0.67        30\n",
      "\n",
      "    accuracy                           1.00     28462\n",
      "   macro avg       0.87      0.80      0.83     28462\n",
      "weighted avg       1.00      1.00      1.00     28462\n",
      "\n",
      "0.8331750776625051\n",
      "selected ['V10', 'V17', 'V7', 'V18', 'V14', 'V26', 'V8', 'V9']\n",
      "tempcol ['V10', 'V17', 'V7', 'V18', 'V14', 'V26', 'V8', 'V9', 'V4']\n",
      "V4\n"
     ]
    },
    {
     "name": "stderr",
     "output_type": "stream",
     "text": [
      "/Users/kte/opt/anaconda3/envs/tensor/lib/python3.7/site-packages/sklearn/base.py:451: UserWarning: X does not have valid feature names, but IsolationForest was fitted with feature names\n",
      "  \"X does not have valid feature names, but\"\n"
     ]
    },
    {
     "name": "stdout",
     "output_type": "stream",
     "text": [
      "              precision    recall  f1-score   support\n",
      "\n",
      "           0       1.00      1.00      1.00     28432\n",
      "           1       0.75      0.60      0.67        30\n",
      "\n",
      "    accuracy                           1.00     28462\n",
      "   macro avg       0.87      0.80      0.83     28462\n",
      "weighted avg       1.00      1.00      1.00     28462\n",
      "\n",
      "0.8331750776625051\n",
      "selected ['V10', 'V17', 'V7', 'V18', 'V14', 'V26', 'V8', 'V9']\n",
      "tempcol ['V10', 'V17', 'V7', 'V18', 'V14', 'V26', 'V8', 'V9', 'V5']\n",
      "V5\n"
     ]
    },
    {
     "name": "stderr",
     "output_type": "stream",
     "text": [
      "/Users/kte/opt/anaconda3/envs/tensor/lib/python3.7/site-packages/sklearn/base.py:451: UserWarning: X does not have valid feature names, but IsolationForest was fitted with feature names\n",
      "  \"X does not have valid feature names, but\"\n"
     ]
    },
    {
     "name": "stdout",
     "output_type": "stream",
     "text": [
      "              precision    recall  f1-score   support\n",
      "\n",
      "           0       1.00      1.00      1.00     28432\n",
      "           1       0.83      0.67      0.74        30\n",
      "\n",
      "    accuracy                           1.00     28462\n",
      "   macro avg       0.92      0.83      0.87     28462\n",
      "weighted avg       1.00      1.00      1.00     28462\n",
      "\n",
      "0.870247282626393\n",
      "selected ['V10', 'V17', 'V7', 'V18', 'V14', 'V26', 'V8', 'V9']\n",
      "tempcol ['V10', 'V17', 'V7', 'V18', 'V14', 'V26', 'V8', 'V9', 'V6']\n",
      "V6\n"
     ]
    },
    {
     "name": "stderr",
     "output_type": "stream",
     "text": [
      "/Users/kte/opt/anaconda3/envs/tensor/lib/python3.7/site-packages/sklearn/base.py:451: UserWarning: X does not have valid feature names, but IsolationForest was fitted with feature names\n",
      "  \"X does not have valid feature names, but\"\n"
     ]
    },
    {
     "name": "stdout",
     "output_type": "stream",
     "text": [
      "              precision    recall  f1-score   support\n",
      "\n",
      "           0       1.00      1.00      1.00     28432\n",
      "           1       0.80      0.67      0.73        30\n",
      "\n",
      "    accuracy                           1.00     28462\n",
      "   macro avg       0.90      0.83      0.86     28462\n",
      "weighted avg       1.00      1.00      1.00     28462\n",
      "\n",
      "0.8635044815916644\n",
      "selected ['V10', 'V17', 'V7', 'V18', 'V14', 'V26', 'V8', 'V9']\n",
      "tempcol ['V10', 'V17', 'V7', 'V18', 'V14', 'V26', 'V8', 'V9', 'V11']\n",
      "V11\n"
     ]
    },
    {
     "name": "stderr",
     "output_type": "stream",
     "text": [
      "/Users/kte/opt/anaconda3/envs/tensor/lib/python3.7/site-packages/sklearn/base.py:451: UserWarning: X does not have valid feature names, but IsolationForest was fitted with feature names\n",
      "  \"X does not have valid feature names, but\"\n"
     ]
    },
    {
     "name": "stdout",
     "output_type": "stream",
     "text": [
      "              precision    recall  f1-score   support\n",
      "\n",
      "           0       1.00      1.00      1.00     28432\n",
      "           1       0.83      0.63      0.72        30\n",
      "\n",
      "    accuracy                           1.00     28462\n",
      "   macro avg       0.91      0.82      0.86     28462\n",
      "weighted avg       1.00      1.00      1.00     28462\n",
      "\n",
      "0.8583586886309732\n",
      "selected ['V10', 'V17', 'V7', 'V18', 'V14', 'V26', 'V8', 'V9']\n",
      "tempcol ['V10', 'V17', 'V7', 'V18', 'V14', 'V26', 'V8', 'V9', 'V12']\n",
      "V12\n"
     ]
    },
    {
     "name": "stderr",
     "output_type": "stream",
     "text": [
      "/Users/kte/opt/anaconda3/envs/tensor/lib/python3.7/site-packages/sklearn/base.py:451: UserWarning: X does not have valid feature names, but IsolationForest was fitted with feature names\n",
      "  \"X does not have valid feature names, but\"\n"
     ]
    },
    {
     "name": "stdout",
     "output_type": "stream",
     "text": [
      "              precision    recall  f1-score   support\n",
      "\n",
      "           0       1.00      1.00      1.00     28432\n",
      "           1       0.82      0.60      0.69        30\n",
      "\n",
      "    accuracy                           1.00     28462\n",
      "   macro avg       0.91      0.80      0.85     28462\n",
      "weighted avg       1.00      1.00      1.00     28462\n",
      "\n",
      "0.8460131793934016\n",
      "selected ['V10', 'V17', 'V7', 'V18', 'V14', 'V26', 'V8', 'V9']\n",
      "tempcol ['V10', 'V17', 'V7', 'V18', 'V14', 'V26', 'V8', 'V9', 'V13']\n",
      "V13\n"
     ]
    },
    {
     "name": "stderr",
     "output_type": "stream",
     "text": [
      "/Users/kte/opt/anaconda3/envs/tensor/lib/python3.7/site-packages/sklearn/base.py:451: UserWarning: X does not have valid feature names, but IsolationForest was fitted with feature names\n",
      "  \"X does not have valid feature names, but\"\n"
     ]
    },
    {
     "name": "stdout",
     "output_type": "stream",
     "text": [
      "              precision    recall  f1-score   support\n",
      "\n",
      "           0       1.00      1.00      1.00     28432\n",
      "           1       0.78      0.60      0.68        30\n",
      "\n",
      "    accuracy                           1.00     28462\n",
      "   macro avg       0.89      0.80      0.84     28462\n",
      "weighted avg       1.00      1.00      1.00     28462\n",
      "\n",
      "0.8394731804484362\n",
      "selected ['V10', 'V17', 'V7', 'V18', 'V14', 'V26', 'V8', 'V9']\n",
      "tempcol ['V10', 'V17', 'V7', 'V18', 'V14', 'V26', 'V8', 'V9', 'V15']\n",
      "V15\n"
     ]
    },
    {
     "name": "stderr",
     "output_type": "stream",
     "text": [
      "/Users/kte/opt/anaconda3/envs/tensor/lib/python3.7/site-packages/sklearn/base.py:451: UserWarning: X does not have valid feature names, but IsolationForest was fitted with feature names\n",
      "  \"X does not have valid feature names, but\"\n"
     ]
    },
    {
     "name": "stdout",
     "output_type": "stream",
     "text": [
      "              precision    recall  f1-score   support\n",
      "\n",
      "           0       1.00      1.00      1.00     28432\n",
      "           1       0.83      0.63      0.72        30\n",
      "\n",
      "    accuracy                           1.00     28462\n",
      "   macro avg       0.91      0.82      0.86     28462\n",
      "weighted avg       1.00      1.00      1.00     28462\n",
      "\n",
      "0.8583586886309732\n",
      "selected ['V10', 'V17', 'V7', 'V18', 'V14', 'V26', 'V8', 'V9']\n",
      "tempcol ['V10', 'V17', 'V7', 'V18', 'V14', 'V26', 'V8', 'V9', 'V16']\n",
      "V16\n"
     ]
    },
    {
     "name": "stderr",
     "output_type": "stream",
     "text": [
      "/Users/kte/opt/anaconda3/envs/tensor/lib/python3.7/site-packages/sklearn/base.py:451: UserWarning: X does not have valid feature names, but IsolationForest was fitted with feature names\n",
      "  \"X does not have valid feature names, but\"\n"
     ]
    },
    {
     "name": "stdout",
     "output_type": "stream",
     "text": [
      "              precision    recall  f1-score   support\n",
      "\n",
      "           0       1.00      1.00      1.00     28432\n",
      "           1       0.76      0.63      0.69        30\n",
      "\n",
      "    accuracy                           1.00     28462\n",
      "   macro avg       0.88      0.82      0.85     28462\n",
      "weighted avg       1.00      1.00      1.00     28462\n",
      "\n",
      "0.8453050791372196\n",
      "selected ['V10', 'V17', 'V7', 'V18', 'V14', 'V26', 'V8', 'V9']\n",
      "tempcol ['V10', 'V17', 'V7', 'V18', 'V14', 'V26', 'V8', 'V9', 'V19']\n",
      "V19\n"
     ]
    },
    {
     "name": "stderr",
     "output_type": "stream",
     "text": [
      "/Users/kte/opt/anaconda3/envs/tensor/lib/python3.7/site-packages/sklearn/base.py:451: UserWarning: X does not have valid feature names, but IsolationForest was fitted with feature names\n",
      "  \"X does not have valid feature names, but\"\n"
     ]
    },
    {
     "name": "stdout",
     "output_type": "stream",
     "text": [
      "              precision    recall  f1-score   support\n",
      "\n",
      "           0       1.00      1.00      1.00     28432\n",
      "           1       0.72      0.60      0.65        30\n",
      "\n",
      "    accuracy                           1.00     28462\n",
      "   macro avg       0.86      0.80      0.83     28462\n",
      "weighted avg       1.00      1.00      1.00     28462\n",
      "\n",
      "0.8271056766827749\n",
      "selected ['V10', 'V17', 'V7', 'V18', 'V14', 'V26', 'V8', 'V9']\n",
      "tempcol ['V10', 'V17', 'V7', 'V18', 'V14', 'V26', 'V8', 'V9', 'V20']\n",
      "V20\n"
     ]
    },
    {
     "name": "stderr",
     "output_type": "stream",
     "text": [
      "/Users/kte/opt/anaconda3/envs/tensor/lib/python3.7/site-packages/sklearn/base.py:451: UserWarning: X does not have valid feature names, but IsolationForest was fitted with feature names\n",
      "  \"X does not have valid feature names, but\"\n"
     ]
    },
    {
     "name": "stdout",
     "output_type": "stream",
     "text": [
      "              precision    recall  f1-score   support\n",
      "\n",
      "           0       1.00      1.00      1.00     28432\n",
      "           1       0.72      0.60      0.65        30\n",
      "\n",
      "    accuracy                           1.00     28462\n",
      "   macro avg       0.86      0.80      0.83     28462\n",
      "weighted avg       1.00      1.00      1.00     28462\n",
      "\n",
      "0.8271056766827749\n",
      "selected ['V10', 'V17', 'V7', 'V18', 'V14', 'V26', 'V8', 'V9']\n",
      "tempcol ['V10', 'V17', 'V7', 'V18', 'V14', 'V26', 'V8', 'V9', 'V21']\n",
      "V21\n"
     ]
    },
    {
     "name": "stderr",
     "output_type": "stream",
     "text": [
      "/Users/kte/opt/anaconda3/envs/tensor/lib/python3.7/site-packages/sklearn/base.py:451: UserWarning: X does not have valid feature names, but IsolationForest was fitted with feature names\n",
      "  \"X does not have valid feature names, but\"\n"
     ]
    },
    {
     "name": "stdout",
     "output_type": "stream",
     "text": [
      "              precision    recall  f1-score   support\n",
      "\n",
      "           0       1.00      1.00      1.00     28432\n",
      "           1       0.74      0.57      0.64        30\n",
      "\n",
      "    accuracy                           1.00     28462\n",
      "   macro avg       0.87      0.78      0.82     28462\n",
      "weighted avg       1.00      1.00      1.00     28462\n",
      "\n",
      "0.8205876722658993\n",
      "selected ['V10', 'V17', 'V7', 'V18', 'V14', 'V26', 'V8', 'V9']\n",
      "tempcol ['V10', 'V17', 'V7', 'V18', 'V14', 'V26', 'V8', 'V9', 'V22']\n",
      "V22\n"
     ]
    },
    {
     "name": "stderr",
     "output_type": "stream",
     "text": [
      "/Users/kte/opt/anaconda3/envs/tensor/lib/python3.7/site-packages/sklearn/base.py:451: UserWarning: X does not have valid feature names, but IsolationForest was fitted with feature names\n",
      "  \"X does not have valid feature names, but\"\n"
     ]
    },
    {
     "name": "stdout",
     "output_type": "stream",
     "text": [
      "              precision    recall  f1-score   support\n",
      "\n",
      "           0       1.00      1.00      1.00     28432\n",
      "           1       0.72      0.60      0.65        30\n",
      "\n",
      "    accuracy                           1.00     28462\n",
      "   macro avg       0.86      0.80      0.83     28462\n",
      "weighted avg       1.00      1.00      1.00     28462\n",
      "\n",
      "0.8271056766827749\n",
      "selected ['V10', 'V17', 'V7', 'V18', 'V14', 'V26', 'V8', 'V9']\n",
      "tempcol ['V10', 'V17', 'V7', 'V18', 'V14', 'V26', 'V8', 'V9', 'V23']\n",
      "V23\n"
     ]
    },
    {
     "name": "stderr",
     "output_type": "stream",
     "text": [
      "/Users/kte/opt/anaconda3/envs/tensor/lib/python3.7/site-packages/sklearn/base.py:451: UserWarning: X does not have valid feature names, but IsolationForest was fitted with feature names\n",
      "  \"X does not have valid feature names, but\"\n"
     ]
    },
    {
     "name": "stdout",
     "output_type": "stream",
     "text": [
      "              precision    recall  f1-score   support\n",
      "\n",
      "           0       1.00      1.00      1.00     28432\n",
      "           1       0.72      0.60      0.65        30\n",
      "\n",
      "    accuracy                           1.00     28462\n",
      "   macro avg       0.86      0.80      0.83     28462\n",
      "weighted avg       1.00      1.00      1.00     28462\n",
      "\n",
      "0.8271056766827749\n",
      "selected ['V10', 'V17', 'V7', 'V18', 'V14', 'V26', 'V8', 'V9']\n",
      "tempcol ['V10', 'V17', 'V7', 'V18', 'V14', 'V26', 'V8', 'V9', 'V24']\n",
      "V24\n"
     ]
    },
    {
     "name": "stderr",
     "output_type": "stream",
     "text": [
      "/Users/kte/opt/anaconda3/envs/tensor/lib/python3.7/site-packages/sklearn/base.py:451: UserWarning: X does not have valid feature names, but IsolationForest was fitted with feature names\n",
      "  \"X does not have valid feature names, but\"\n"
     ]
    },
    {
     "name": "stdout",
     "output_type": "stream",
     "text": [
      "              precision    recall  f1-score   support\n",
      "\n",
      "           0       1.00      1.00      1.00     28432\n",
      "           1       0.81      0.57      0.67        30\n",
      "\n",
      "    accuracy                           1.00     28462\n",
      "   macro avg       0.90      0.78      0.83     28462\n",
      "weighted avg       1.00      1.00      1.00     28462\n",
      "\n",
      "0.833183877528294\n",
      "selected ['V10', 'V17', 'V7', 'V18', 'V14', 'V26', 'V8', 'V9']\n",
      "tempcol ['V10', 'V17', 'V7', 'V18', 'V14', 'V26', 'V8', 'V9', 'V25']\n",
      "V25\n"
     ]
    },
    {
     "name": "stderr",
     "output_type": "stream",
     "text": [
      "/Users/kte/opt/anaconda3/envs/tensor/lib/python3.7/site-packages/sklearn/base.py:451: UserWarning: X does not have valid feature names, but IsolationForest was fitted with feature names\n",
      "  \"X does not have valid feature names, but\"\n"
     ]
    },
    {
     "name": "stdout",
     "output_type": "stream",
     "text": [
      "              precision    recall  f1-score   support\n",
      "\n",
      "           0       1.00      1.00      1.00     28432\n",
      "           1       0.78      0.60      0.68        30\n",
      "\n",
      "    accuracy                           1.00     28462\n",
      "   macro avg       0.89      0.80      0.84     28462\n",
      "weighted avg       1.00      1.00      1.00     28462\n",
      "\n",
      "0.8394731804484362\n",
      "selected ['V10', 'V17', 'V7', 'V18', 'V14', 'V26', 'V8', 'V9']\n",
      "tempcol ['V10', 'V17', 'V7', 'V18', 'V14', 'V26', 'V8', 'V9', 'V27']\n",
      "V27\n"
     ]
    },
    {
     "name": "stderr",
     "output_type": "stream",
     "text": [
      "/Users/kte/opt/anaconda3/envs/tensor/lib/python3.7/site-packages/sklearn/base.py:451: UserWarning: X does not have valid feature names, but IsolationForest was fitted with feature names\n",
      "  \"X does not have valid feature names, but\"\n"
     ]
    },
    {
     "name": "stdout",
     "output_type": "stream",
     "text": [
      "              precision    recall  f1-score   support\n",
      "\n",
      "           0       1.00      1.00      1.00     28432\n",
      "           1       0.70      0.63      0.67        30\n",
      "\n",
      "    accuracy                           1.00     28462\n",
      "   macro avg       0.85      0.82      0.83     28462\n",
      "weighted avg       1.00      1.00      1.00     28462\n",
      "\n",
      "0.8331662768682482\n",
      "selected ['V10', 'V17', 'V7', 'V18', 'V14', 'V26', 'V8', 'V9']\n",
      "tempcol ['V10', 'V17', 'V7', 'V18', 'V14', 'V26', 'V8', 'V9', 'V28']\n",
      "V28\n"
     ]
    },
    {
     "name": "stderr",
     "output_type": "stream",
     "text": [
      "/Users/kte/opt/anaconda3/envs/tensor/lib/python3.7/site-packages/sklearn/base.py:451: UserWarning: X does not have valid feature names, but IsolationForest was fitted with feature names\n",
      "  \"X does not have valid feature names, but\"\n"
     ]
    },
    {
     "name": "stdout",
     "output_type": "stream",
     "text": [
      "              precision    recall  f1-score   support\n",
      "\n",
      "           0       1.00      1.00      1.00     28432\n",
      "           1       0.67      0.60      0.63        30\n",
      "\n",
      "    accuracy                           1.00     28462\n",
      "   macro avg       0.83      0.80      0.82     28462\n",
      "weighted avg       1.00      1.00      1.00     28462\n",
      "\n",
      "0.8156048323280637\n",
      "추가\n",
      "count : 162 번\n",
      "selected ['V10', 'V17', 'V7', 'V18', 'V14', 'V26', 'V8', 'V9', 'V5']\n",
      "tempcol ['V10', 'V17', 'V7', 'V18', 'V14', 'V26', 'V8', 'V9', 'V5', 'V1']\n",
      "V1\n"
     ]
    },
    {
     "name": "stderr",
     "output_type": "stream",
     "text": [
      "/Users/kte/opt/anaconda3/envs/tensor/lib/python3.7/site-packages/sklearn/base.py:451: UserWarning: X does not have valid feature names, but IsolationForest was fitted with feature names\n",
      "  \"X does not have valid feature names, but\"\n"
     ]
    },
    {
     "name": "stdout",
     "output_type": "stream",
     "text": [
      "              precision    recall  f1-score   support\n",
      "\n",
      "           0       1.00      1.00      1.00     28432\n",
      "           1       0.72      0.60      0.65        30\n",
      "\n",
      "    accuracy                           1.00     28462\n",
      "   macro avg       0.86      0.80      0.83     28462\n",
      "weighted avg       1.00      1.00      1.00     28462\n",
      "\n",
      "0.8271056766827749\n",
      "selected ['V10', 'V17', 'V7', 'V18', 'V14', 'V26', 'V8', 'V9', 'V5']\n",
      "tempcol ['V10', 'V17', 'V7', 'V18', 'V14', 'V26', 'V8', 'V9', 'V5', 'V2']\n",
      "V2\n"
     ]
    },
    {
     "name": "stderr",
     "output_type": "stream",
     "text": [
      "/Users/kte/opt/anaconda3/envs/tensor/lib/python3.7/site-packages/sklearn/base.py:451: UserWarning: X does not have valid feature names, but IsolationForest was fitted with feature names\n",
      "  \"X does not have valid feature names, but\"\n"
     ]
    },
    {
     "name": "stdout",
     "output_type": "stream",
     "text": [
      "              precision    recall  f1-score   support\n",
      "\n",
      "           0       1.00      1.00      1.00     28432\n",
      "           1       0.81      0.57      0.67        30\n",
      "\n",
      "    accuracy                           1.00     28462\n",
      "   macro avg       0.90      0.78      0.83     28462\n",
      "weighted avg       1.00      1.00      1.00     28462\n",
      "\n",
      "0.833183877528294\n",
      "selected ['V10', 'V17', 'V7', 'V18', 'V14', 'V26', 'V8', 'V9', 'V5']\n",
      "tempcol ['V10', 'V17', 'V7', 'V18', 'V14', 'V26', 'V8', 'V9', 'V5', 'V3']\n",
      "V3\n"
     ]
    },
    {
     "name": "stderr",
     "output_type": "stream",
     "text": [
      "/Users/kte/opt/anaconda3/envs/tensor/lib/python3.7/site-packages/sklearn/base.py:451: UserWarning: X does not have valid feature names, but IsolationForest was fitted with feature names\n",
      "  \"X does not have valid feature names, but\"\n"
     ]
    },
    {
     "name": "stdout",
     "output_type": "stream",
     "text": [
      "              precision    recall  f1-score   support\n",
      "\n",
      "           0       1.00      1.00      1.00     28432\n",
      "           1       0.79      0.63      0.70        30\n",
      "\n",
      "    accuracy                           1.00     28462\n",
      "   macro avg       0.90      0.82      0.85     28462\n",
      "weighted avg       1.00      1.00      1.00     28462\n",
      "\n",
      "0.851711180144449\n",
      "selected ['V10', 'V17', 'V7', 'V18', 'V14', 'V26', 'V8', 'V9', 'V5']\n",
      "tempcol ['V10', 'V17', 'V7', 'V18', 'V14', 'V26', 'V8', 'V9', 'V5', 'V4']\n",
      "V4\n"
     ]
    },
    {
     "name": "stderr",
     "output_type": "stream",
     "text": [
      "/Users/kte/opt/anaconda3/envs/tensor/lib/python3.7/site-packages/sklearn/base.py:451: UserWarning: X does not have valid feature names, but IsolationForest was fitted with feature names\n",
      "  \"X does not have valid feature names, but\"\n"
     ]
    },
    {
     "name": "stdout",
     "output_type": "stream",
     "text": [
      "              precision    recall  f1-score   support\n",
      "\n",
      "           0       1.00      1.00      1.00     28432\n",
      "           1       0.68      0.57      0.62        30\n",
      "\n",
      "    accuracy                           1.00     28462\n",
      "   macro avg       0.84      0.78      0.81     28462\n",
      "weighted avg       1.00      1.00      1.00     28462\n",
      "\n",
      "0.8089062742283302\n",
      "selected ['V10', 'V17', 'V7', 'V18', 'V14', 'V26', 'V8', 'V9', 'V5']\n",
      "tempcol ['V10', 'V17', 'V7', 'V18', 'V14', 'V26', 'V8', 'V9', 'V5', 'V6']\n",
      "V6\n"
     ]
    },
    {
     "name": "stderr",
     "output_type": "stream",
     "text": [
      "/Users/kte/opt/anaconda3/envs/tensor/lib/python3.7/site-packages/sklearn/base.py:451: UserWarning: X does not have valid feature names, but IsolationForest was fitted with feature names\n",
      "  \"X does not have valid feature names, but\"\n"
     ]
    },
    {
     "name": "stdout",
     "output_type": "stream",
     "text": [
      "              precision    recall  f1-score   support\n",
      "\n",
      "           0       1.00      1.00      1.00     28432\n",
      "           1       0.73      0.63      0.68        30\n",
      "\n",
      "    accuracy                           1.00     28462\n",
      "   macro avg       0.87      0.82      0.84     28462\n",
      "weighted avg       1.00      1.00      1.00     28462\n",
      "\n",
      "0.8391274530491665\n",
      "selected ['V10', 'V17', 'V7', 'V18', 'V14', 'V26', 'V8', 'V9', 'V5']\n",
      "tempcol ['V10', 'V17', 'V7', 'V18', 'V14', 'V26', 'V8', 'V9', 'V5', 'V11']\n",
      "V11\n"
     ]
    },
    {
     "name": "stderr",
     "output_type": "stream",
     "text": [
      "/Users/kte/opt/anaconda3/envs/tensor/lib/python3.7/site-packages/sklearn/base.py:451: UserWarning: X does not have valid feature names, but IsolationForest was fitted with feature names\n",
      "  \"X does not have valid feature names, but\"\n"
     ]
    },
    {
     "name": "stdout",
     "output_type": "stream",
     "text": [
      "              precision    recall  f1-score   support\n",
      "\n",
      "           0       1.00      1.00      1.00     28432\n",
      "           1       0.78      0.60      0.68        30\n",
      "\n",
      "    accuracy                           1.00     28462\n",
      "   macro avg       0.89      0.80      0.84     28462\n",
      "weighted avg       1.00      1.00      1.00     28462\n",
      "\n",
      "0.8394731804484362\n",
      "selected ['V10', 'V17', 'V7', 'V18', 'V14', 'V26', 'V8', 'V9', 'V5']\n",
      "tempcol ['V10', 'V17', 'V7', 'V18', 'V14', 'V26', 'V8', 'V9', 'V5', 'V12']\n",
      "V12\n"
     ]
    },
    {
     "name": "stderr",
     "output_type": "stream",
     "text": [
      "/Users/kte/opt/anaconda3/envs/tensor/lib/python3.7/site-packages/sklearn/base.py:451: UserWarning: X does not have valid feature names, but IsolationForest was fitted with feature names\n",
      "  \"X does not have valid feature names, but\"\n"
     ]
    },
    {
     "name": "stdout",
     "output_type": "stream",
     "text": [
      "              precision    recall  f1-score   support\n",
      "\n",
      "           0       1.00      1.00      1.00     28432\n",
      "           1       0.75      0.60      0.67        30\n",
      "\n",
      "    accuracy                           1.00     28462\n",
      "   macro avg       0.87      0.80      0.83     28462\n",
      "weighted avg       1.00      1.00      1.00     28462\n",
      "\n",
      "0.8331750776625051\n",
      "selected ['V10', 'V17', 'V7', 'V18', 'V14', 'V26', 'V8', 'V9', 'V5']\n",
      "tempcol ['V10', 'V17', 'V7', 'V18', 'V14', 'V26', 'V8', 'V9', 'V5', 'V13']\n",
      "V13\n"
     ]
    },
    {
     "name": "stderr",
     "output_type": "stream",
     "text": [
      "/Users/kte/opt/anaconda3/envs/tensor/lib/python3.7/site-packages/sklearn/base.py:451: UserWarning: X does not have valid feature names, but IsolationForest was fitted with feature names\n",
      "  \"X does not have valid feature names, but\"\n"
     ]
    },
    {
     "name": "stdout",
     "output_type": "stream",
     "text": [
      "              precision    recall  f1-score   support\n",
      "\n",
      "           0       1.00      1.00      1.00     28432\n",
      "           1       0.76      0.63      0.69        30\n",
      "\n",
      "    accuracy                           1.00     28462\n",
      "   macro avg       0.88      0.82      0.85     28462\n",
      "weighted avg       1.00      1.00      1.00     28462\n",
      "\n",
      "0.8453050791372196\n",
      "selected ['V10', 'V17', 'V7', 'V18', 'V14', 'V26', 'V8', 'V9', 'V5']\n",
      "tempcol ['V10', 'V17', 'V7', 'V18', 'V14', 'V26', 'V8', 'V9', 'V5', 'V15']\n",
      "V15\n"
     ]
    },
    {
     "name": "stderr",
     "output_type": "stream",
     "text": [
      "/Users/kte/opt/anaconda3/envs/tensor/lib/python3.7/site-packages/sklearn/base.py:451: UserWarning: X does not have valid feature names, but IsolationForest was fitted with feature names\n",
      "  \"X does not have valid feature names, but\"\n"
     ]
    },
    {
     "name": "stdout",
     "output_type": "stream",
     "text": [
      "              precision    recall  f1-score   support\n",
      "\n",
      "           0       1.00      1.00      1.00     28432\n",
      "           1       0.79      0.63      0.70        30\n",
      "\n",
      "    accuracy                           1.00     28462\n",
      "   macro avg       0.90      0.82      0.85     28462\n",
      "weighted avg       1.00      1.00      1.00     28462\n",
      "\n",
      "0.851711180144449\n",
      "selected ['V10', 'V17', 'V7', 'V18', 'V14', 'V26', 'V8', 'V9', 'V5']\n",
      "tempcol ['V10', 'V17', 'V7', 'V18', 'V14', 'V26', 'V8', 'V9', 'V5', 'V16']\n",
      "V16\n"
     ]
    },
    {
     "name": "stderr",
     "output_type": "stream",
     "text": [
      "/Users/kte/opt/anaconda3/envs/tensor/lib/python3.7/site-packages/sklearn/base.py:451: UserWarning: X does not have valid feature names, but IsolationForest was fitted with feature names\n",
      "  \"X does not have valid feature names, but\"\n"
     ]
    },
    {
     "name": "stdout",
     "output_type": "stream",
     "text": [
      "              precision    recall  f1-score   support\n",
      "\n",
      "           0       1.00      1.00      1.00     28432\n",
      "           1       0.75      0.60      0.67        30\n",
      "\n",
      "    accuracy                           1.00     28462\n",
      "   macro avg       0.87      0.80      0.83     28462\n",
      "weighted avg       1.00      1.00      1.00     28462\n",
      "\n",
      "0.8331750776625051\n",
      "selected ['V10', 'V17', 'V7', 'V18', 'V14', 'V26', 'V8', 'V9', 'V5']\n",
      "tempcol ['V10', 'V17', 'V7', 'V18', 'V14', 'V26', 'V8', 'V9', 'V5', 'V19']\n",
      "V19\n"
     ]
    },
    {
     "name": "stderr",
     "output_type": "stream",
     "text": [
      "/Users/kte/opt/anaconda3/envs/tensor/lib/python3.7/site-packages/sklearn/base.py:451: UserWarning: X does not have valid feature names, but IsolationForest was fitted with feature names\n",
      "  \"X does not have valid feature names, but\"\n"
     ]
    },
    {
     "name": "stdout",
     "output_type": "stream",
     "text": [
      "              precision    recall  f1-score   support\n",
      "\n",
      "           0       1.00      1.00      1.00     28432\n",
      "           1       0.72      0.60      0.65        30\n",
      "\n",
      "    accuracy                           1.00     28462\n",
      "   macro avg       0.86      0.80      0.83     28462\n",
      "weighted avg       1.00      1.00      1.00     28462\n",
      "\n",
      "0.8271056766827749\n",
      "selected ['V10', 'V17', 'V7', 'V18', 'V14', 'V26', 'V8', 'V9', 'V5']\n",
      "tempcol ['V10', 'V17', 'V7', 'V18', 'V14', 'V26', 'V8', 'V9', 'V5', 'V20']\n",
      "V20\n"
     ]
    },
    {
     "name": "stderr",
     "output_type": "stream",
     "text": [
      "/Users/kte/opt/anaconda3/envs/tensor/lib/python3.7/site-packages/sklearn/base.py:451: UserWarning: X does not have valid feature names, but IsolationForest was fitted with feature names\n",
      "  \"X does not have valid feature names, but\"\n"
     ]
    },
    {
     "name": "stdout",
     "output_type": "stream",
     "text": [
      "              precision    recall  f1-score   support\n",
      "\n",
      "           0       1.00      1.00      1.00     28432\n",
      "           1       0.78      0.60      0.68        30\n",
      "\n",
      "    accuracy                           1.00     28462\n",
      "   macro avg       0.89      0.80      0.84     28462\n",
      "weighted avg       1.00      1.00      1.00     28462\n",
      "\n",
      "0.8394731804484362\n",
      "selected ['V10', 'V17', 'V7', 'V18', 'V14', 'V26', 'V8', 'V9', 'V5']\n",
      "tempcol ['V10', 'V17', 'V7', 'V18', 'V14', 'V26', 'V8', 'V9', 'V5', 'V21']\n",
      "V21\n"
     ]
    },
    {
     "name": "stderr",
     "output_type": "stream",
     "text": [
      "/Users/kte/opt/anaconda3/envs/tensor/lib/python3.7/site-packages/sklearn/base.py:451: UserWarning: X does not have valid feature names, but IsolationForest was fitted with feature names\n",
      "  \"X does not have valid feature names, but\"\n"
     ]
    },
    {
     "name": "stdout",
     "output_type": "stream",
     "text": [
      "              precision    recall  f1-score   support\n",
      "\n",
      "           0       1.00      1.00      1.00     28432\n",
      "           1       0.72      0.60      0.65        30\n",
      "\n",
      "    accuracy                           1.00     28462\n",
      "   macro avg       0.86      0.80      0.83     28462\n",
      "weighted avg       1.00      1.00      1.00     28462\n",
      "\n",
      "0.8271056766827749\n",
      "selected ['V10', 'V17', 'V7', 'V18', 'V14', 'V26', 'V8', 'V9', 'V5']\n",
      "tempcol ['V10', 'V17', 'V7', 'V18', 'V14', 'V26', 'V8', 'V9', 'V5', 'V22']\n",
      "V22\n"
     ]
    },
    {
     "name": "stderr",
     "output_type": "stream",
     "text": [
      "/Users/kte/opt/anaconda3/envs/tensor/lib/python3.7/site-packages/sklearn/base.py:451: UserWarning: X does not have valid feature names, but IsolationForest was fitted with feature names\n",
      "  \"X does not have valid feature names, but\"\n"
     ]
    },
    {
     "name": "stdout",
     "output_type": "stream",
     "text": [
      "              precision    recall  f1-score   support\n",
      "\n",
      "           0       1.00      1.00      1.00     28432\n",
      "           1       0.75      0.60      0.67        30\n",
      "\n",
      "    accuracy                           1.00     28462\n",
      "   macro avg       0.87      0.80      0.83     28462\n",
      "weighted avg       1.00      1.00      1.00     28462\n",
      "\n",
      "0.8331750776625051\n",
      "selected ['V10', 'V17', 'V7', 'V18', 'V14', 'V26', 'V8', 'V9', 'V5']\n",
      "tempcol ['V10', 'V17', 'V7', 'V18', 'V14', 'V26', 'V8', 'V9', 'V5', 'V23']\n",
      "V23\n"
     ]
    },
    {
     "name": "stderr",
     "output_type": "stream",
     "text": [
      "/Users/kte/opt/anaconda3/envs/tensor/lib/python3.7/site-packages/sklearn/base.py:451: UserWarning: X does not have valid feature names, but IsolationForest was fitted with feature names\n",
      "  \"X does not have valid feature names, but\"\n"
     ]
    },
    {
     "name": "stdout",
     "output_type": "stream",
     "text": [
      "              precision    recall  f1-score   support\n",
      "\n",
      "           0       1.00      1.00      1.00     28432\n",
      "           1       0.71      0.57      0.63        30\n",
      "\n",
      "    accuracy                           1.00     28462\n",
      "   macro avg       0.85      0.78      0.81     28462\n",
      "weighted avg       1.00      1.00      1.00     28462\n",
      "\n",
      "0.8146389751805612\n",
      "selected ['V10', 'V17', 'V7', 'V18', 'V14', 'V26', 'V8', 'V9', 'V5']\n",
      "tempcol ['V10', 'V17', 'V7', 'V18', 'V14', 'V26', 'V8', 'V9', 'V5', 'V24']\n",
      "V24\n"
     ]
    },
    {
     "name": "stderr",
     "output_type": "stream",
     "text": [
      "/Users/kte/opt/anaconda3/envs/tensor/lib/python3.7/site-packages/sklearn/base.py:451: UserWarning: X does not have valid feature names, but IsolationForest was fitted with feature names\n",
      "  \"X does not have valid feature names, but\"\n"
     ]
    },
    {
     "name": "stdout",
     "output_type": "stream",
     "text": [
      "              precision    recall  f1-score   support\n",
      "\n",
      "           0       1.00      1.00      1.00     28432\n",
      "           1       0.77      0.67      0.71        30\n",
      "\n",
      "    accuracy                           1.00     28462\n",
      "   macro avg       0.88      0.83      0.86     28462\n",
      "weighted avg       1.00      1.00      1.00     28462\n",
      "\n",
      "0.857002180488148\n",
      "selected ['V10', 'V17', 'V7', 'V18', 'V14', 'V26', 'V8', 'V9', 'V5']\n",
      "tempcol ['V10', 'V17', 'V7', 'V18', 'V14', 'V26', 'V8', 'V9', 'V5', 'V25']\n",
      "V25\n"
     ]
    },
    {
     "name": "stderr",
     "output_type": "stream",
     "text": [
      "/Users/kte/opt/anaconda3/envs/tensor/lib/python3.7/site-packages/sklearn/base.py:451: UserWarning: X does not have valid feature names, but IsolationForest was fitted with feature names\n",
      "  \"X does not have valid feature names, but\"\n"
     ]
    },
    {
     "name": "stdout",
     "output_type": "stream",
     "text": [
      "              precision    recall  f1-score   support\n",
      "\n",
      "           0       1.00      1.00      1.00     28432\n",
      "           1       0.78      0.60      0.68        30\n",
      "\n",
      "    accuracy                           1.00     28462\n",
      "   macro avg       0.89      0.80      0.84     28462\n",
      "weighted avg       1.00      1.00      1.00     28462\n",
      "\n",
      "0.8394731804484362\n",
      "selected ['V10', 'V17', 'V7', 'V18', 'V14', 'V26', 'V8', 'V9', 'V5']\n",
      "tempcol ['V10', 'V17', 'V7', 'V18', 'V14', 'V26', 'V8', 'V9', 'V5', 'V27']\n",
      "V27\n"
     ]
    },
    {
     "name": "stderr",
     "output_type": "stream",
     "text": [
      "/Users/kte/opt/anaconda3/envs/tensor/lib/python3.7/site-packages/sklearn/base.py:451: UserWarning: X does not have valid feature names, but IsolationForest was fitted with feature names\n",
      "  \"X does not have valid feature names, but\"\n"
     ]
    },
    {
     "name": "stdout",
     "output_type": "stream",
     "text": [
      "              precision    recall  f1-score   support\n",
      "\n",
      "           0       1.00      1.00      1.00     28432\n",
      "           1       0.67      0.60      0.63        30\n",
      "\n",
      "    accuracy                           1.00     28462\n",
      "   macro avg       0.83      0.80      0.82     28462\n",
      "weighted avg       1.00      1.00      1.00     28462\n",
      "\n",
      "0.8156048323280637\n",
      "selected ['V10', 'V17', 'V7', 'V18', 'V14', 'V26', 'V8', 'V9', 'V5']\n",
      "tempcol ['V10', 'V17', 'V7', 'V18', 'V14', 'V26', 'V8', 'V9', 'V5', 'V28']\n",
      "V28\n"
     ]
    },
    {
     "name": "stderr",
     "output_type": "stream",
     "text": [
      "/Users/kte/opt/anaconda3/envs/tensor/lib/python3.7/site-packages/sklearn/base.py:451: UserWarning: X does not have valid feature names, but IsolationForest was fitted with feature names\n",
      "  \"X does not have valid feature names, but\"\n"
     ]
    },
    {
     "name": "stdout",
     "output_type": "stream",
     "text": [
      "              precision    recall  f1-score   support\n",
      "\n",
      "           0       1.00      1.00      1.00     28432\n",
      "           1       0.62      0.60      0.61        30\n",
      "\n",
      "    accuracy                           1.00     28462\n",
      "   macro avg       0.81      0.80      0.80     28462\n",
      "weighted avg       1.00      1.00      1.00     28462\n",
      "\n",
      "0.8048825124030003\n",
      "추가\n",
      "count : 181 번\n",
      "selected ['V10', 'V17', 'V7', 'V18', 'V14', 'V26', 'V8', 'V9', 'V5', 'V24']\n",
      "tempcol ['V10', 'V17', 'V7', 'V18', 'V14', 'V26', 'V8', 'V9', 'V5', 'V24', 'V1']\n",
      "V1\n"
     ]
    },
    {
     "name": "stderr",
     "output_type": "stream",
     "text": [
      "/Users/kte/opt/anaconda3/envs/tensor/lib/python3.7/site-packages/sklearn/base.py:451: UserWarning: X does not have valid feature names, but IsolationForest was fitted with feature names\n",
      "  \"X does not have valid feature names, but\"\n"
     ]
    },
    {
     "name": "stdout",
     "output_type": "stream",
     "text": [
      "              precision    recall  f1-score   support\n",
      "\n",
      "           0       1.00      1.00      1.00     28432\n",
      "           1       0.78      0.60      0.68        30\n",
      "\n",
      "    accuracy                           1.00     28462\n",
      "   macro avg       0.89      0.80      0.84     28462\n",
      "weighted avg       1.00      1.00      1.00     28462\n",
      "\n",
      "0.8394731804484362\n",
      "selected ['V10', 'V17', 'V7', 'V18', 'V14', 'V26', 'V8', 'V9', 'V5', 'V24']\n",
      "tempcol ['V10', 'V17', 'V7', 'V18', 'V14', 'V26', 'V8', 'V9', 'V5', 'V24', 'V2']\n",
      "V2\n"
     ]
    },
    {
     "name": "stderr",
     "output_type": "stream",
     "text": [
      "/Users/kte/opt/anaconda3/envs/tensor/lib/python3.7/site-packages/sklearn/base.py:451: UserWarning: X does not have valid feature names, but IsolationForest was fitted with feature names\n",
      "  \"X does not have valid feature names, but\"\n"
     ]
    },
    {
     "name": "stdout",
     "output_type": "stream",
     "text": [
      "              precision    recall  f1-score   support\n",
      "\n",
      "           0       1.00      1.00      1.00     28432\n",
      "           1       0.83      0.63      0.72        30\n",
      "\n",
      "    accuracy                           1.00     28462\n",
      "   macro avg       0.91      0.82      0.86     28462\n",
      "weighted avg       1.00      1.00      1.00     28462\n",
      "\n",
      "0.8583586886309732\n",
      "selected ['V10', 'V17', 'V7', 'V18', 'V14', 'V26', 'V8', 'V9', 'V5', 'V24']\n",
      "tempcol ['V10', 'V17', 'V7', 'V18', 'V14', 'V26', 'V8', 'V9', 'V5', 'V24', 'V3']\n",
      "V3\n"
     ]
    },
    {
     "name": "stderr",
     "output_type": "stream",
     "text": [
      "/Users/kte/opt/anaconda3/envs/tensor/lib/python3.7/site-packages/sklearn/base.py:451: UserWarning: X does not have valid feature names, but IsolationForest was fitted with feature names\n",
      "  \"X does not have valid feature names, but\"\n"
     ]
    },
    {
     "name": "stdout",
     "output_type": "stream",
     "text": [
      "              precision    recall  f1-score   support\n",
      "\n",
      "           0       1.00      1.00      1.00     28432\n",
      "           1       0.78      0.60      0.68        30\n",
      "\n",
      "    accuracy                           1.00     28462\n",
      "   macro avg       0.89      0.80      0.84     28462\n",
      "weighted avg       1.00      1.00      1.00     28462\n",
      "\n",
      "0.8394731804484362\n",
      "selected ['V10', 'V17', 'V7', 'V18', 'V14', 'V26', 'V8', 'V9', 'V5', 'V24']\n",
      "tempcol ['V10', 'V17', 'V7', 'V18', 'V14', 'V26', 'V8', 'V9', 'V5', 'V24', 'V4']\n",
      "V4\n"
     ]
    },
    {
     "name": "stderr",
     "output_type": "stream",
     "text": [
      "/Users/kte/opt/anaconda3/envs/tensor/lib/python3.7/site-packages/sklearn/base.py:451: UserWarning: X does not have valid feature names, but IsolationForest was fitted with feature names\n",
      "  \"X does not have valid feature names, but\"\n"
     ]
    },
    {
     "name": "stdout",
     "output_type": "stream",
     "text": [
      "              precision    recall  f1-score   support\n",
      "\n",
      "           0       1.00      1.00      1.00     28432\n",
      "           1       0.78      0.60      0.68        30\n",
      "\n",
      "    accuracy                           1.00     28462\n",
      "   macro avg       0.89      0.80      0.84     28462\n",
      "weighted avg       1.00      1.00      1.00     28462\n",
      "\n",
      "0.8394731804484362\n",
      "selected ['V10', 'V17', 'V7', 'V18', 'V14', 'V26', 'V8', 'V9', 'V5', 'V24']\n",
      "tempcol ['V10', 'V17', 'V7', 'V18', 'V14', 'V26', 'V8', 'V9', 'V5', 'V24', 'V6']\n",
      "V6\n"
     ]
    },
    {
     "name": "stderr",
     "output_type": "stream",
     "text": [
      "/Users/kte/opt/anaconda3/envs/tensor/lib/python3.7/site-packages/sklearn/base.py:451: UserWarning: X does not have valid feature names, but IsolationForest was fitted with feature names\n",
      "  \"X does not have valid feature names, but\"\n"
     ]
    },
    {
     "name": "stdout",
     "output_type": "stream",
     "text": [
      "              precision    recall  f1-score   support\n",
      "\n",
      "           0       1.00      1.00      1.00     28432\n",
      "           1       0.83      0.63      0.72        30\n",
      "\n",
      "    accuracy                           1.00     28462\n",
      "   macro avg       0.91      0.82      0.86     28462\n",
      "weighted avg       1.00      1.00      1.00     28462\n",
      "\n",
      "0.8583586886309732\n",
      "selected ['V10', 'V17', 'V7', 'V18', 'V14', 'V26', 'V8', 'V9', 'V5', 'V24']\n",
      "tempcol ['V10', 'V17', 'V7', 'V18', 'V14', 'V26', 'V8', 'V9', 'V5', 'V24', 'V11']\n",
      "V11\n"
     ]
    },
    {
     "name": "stderr",
     "output_type": "stream",
     "text": [
      "/Users/kte/opt/anaconda3/envs/tensor/lib/python3.7/site-packages/sklearn/base.py:451: UserWarning: X does not have valid feature names, but IsolationForest was fitted with feature names\n",
      "  \"X does not have valid feature names, but\"\n"
     ]
    },
    {
     "name": "stdout",
     "output_type": "stream",
     "text": [
      "              precision    recall  f1-score   support\n",
      "\n",
      "           0       1.00      1.00      1.00     28432\n",
      "           1       0.79      0.63      0.70        30\n",
      "\n",
      "    accuracy                           1.00     28462\n",
      "   macro avg       0.90      0.82      0.85     28462\n",
      "weighted avg       1.00      1.00      1.00     28462\n",
      "\n",
      "0.851711180144449\n",
      "selected ['V10', 'V17', 'V7', 'V18', 'V14', 'V26', 'V8', 'V9', 'V5', 'V24']\n",
      "tempcol ['V10', 'V17', 'V7', 'V18', 'V14', 'V26', 'V8', 'V9', 'V5', 'V24', 'V12']\n",
      "V12\n"
     ]
    },
    {
     "name": "stderr",
     "output_type": "stream",
     "text": [
      "/Users/kte/opt/anaconda3/envs/tensor/lib/python3.7/site-packages/sklearn/base.py:451: UserWarning: X does not have valid feature names, but IsolationForest was fitted with feature names\n",
      "  \"X does not have valid feature names, but\"\n"
     ]
    },
    {
     "name": "stdout",
     "output_type": "stream",
     "text": [
      "              precision    recall  f1-score   support\n",
      "\n",
      "           0       1.00      1.00      1.00     28432\n",
      "           1       0.78      0.60      0.68        30\n",
      "\n",
      "    accuracy                           1.00     28462\n",
      "   macro avg       0.89      0.80      0.84     28462\n",
      "weighted avg       1.00      1.00      1.00     28462\n",
      "\n",
      "0.8394731804484362\n",
      "selected ['V10', 'V17', 'V7', 'V18', 'V14', 'V26', 'V8', 'V9', 'V5', 'V24']\n",
      "tempcol ['V10', 'V17', 'V7', 'V18', 'V14', 'V26', 'V8', 'V9', 'V5', 'V24', 'V13']\n",
      "V13\n"
     ]
    },
    {
     "name": "stderr",
     "output_type": "stream",
     "text": [
      "/Users/kte/opt/anaconda3/envs/tensor/lib/python3.7/site-packages/sklearn/base.py:451: UserWarning: X does not have valid feature names, but IsolationForest was fitted with feature names\n",
      "  \"X does not have valid feature names, but\"\n"
     ]
    },
    {
     "name": "stdout",
     "output_type": "stream",
     "text": [
      "              precision    recall  f1-score   support\n",
      "\n",
      "           0       1.00      1.00      1.00     28432\n",
      "           1       0.82      0.60      0.69        30\n",
      "\n",
      "    accuracy                           1.00     28462\n",
      "   macro avg       0.91      0.80      0.85     28462\n",
      "weighted avg       1.00      1.00      1.00     28462\n",
      "\n",
      "0.8460131793934016\n",
      "selected ['V10', 'V17', 'V7', 'V18', 'V14', 'V26', 'V8', 'V9', 'V5', 'V24']\n",
      "tempcol ['V10', 'V17', 'V7', 'V18', 'V14', 'V26', 'V8', 'V9', 'V5', 'V24', 'V15']\n",
      "V15\n"
     ]
    },
    {
     "name": "stderr",
     "output_type": "stream",
     "text": [
      "/Users/kte/opt/anaconda3/envs/tensor/lib/python3.7/site-packages/sklearn/base.py:451: UserWarning: X does not have valid feature names, but IsolationForest was fitted with feature names\n",
      "  \"X does not have valid feature names, but\"\n"
     ]
    },
    {
     "name": "stdout",
     "output_type": "stream",
     "text": [
      "              precision    recall  f1-score   support\n",
      "\n",
      "           0       1.00      1.00      1.00     28432\n",
      "           1       0.82      0.60      0.69        30\n",
      "\n",
      "    accuracy                           1.00     28462\n",
      "   macro avg       0.91      0.80      0.85     28462\n",
      "weighted avg       1.00      1.00      1.00     28462\n",
      "\n",
      "0.8460131793934016\n",
      "selected ['V10', 'V17', 'V7', 'V18', 'V14', 'V26', 'V8', 'V9', 'V5', 'V24']\n",
      "tempcol ['V10', 'V17', 'V7', 'V18', 'V14', 'V26', 'V8', 'V9', 'V5', 'V24', 'V16']\n",
      "V16\n"
     ]
    },
    {
     "name": "stderr",
     "output_type": "stream",
     "text": [
      "/Users/kte/opt/anaconda3/envs/tensor/lib/python3.7/site-packages/sklearn/base.py:451: UserWarning: X does not have valid feature names, but IsolationForest was fitted with feature names\n",
      "  \"X does not have valid feature names, but\"\n"
     ]
    },
    {
     "name": "stdout",
     "output_type": "stream",
     "text": [
      "              precision    recall  f1-score   support\n",
      "\n",
      "           0       1.00      1.00      1.00     28432\n",
      "           1       0.82      0.60      0.69        30\n",
      "\n",
      "    accuracy                           1.00     28462\n",
      "   macro avg       0.91      0.80      0.85     28462\n",
      "weighted avg       1.00      1.00      1.00     28462\n",
      "\n",
      "0.8460131793934016\n",
      "selected ['V10', 'V17', 'V7', 'V18', 'V14', 'V26', 'V8', 'V9', 'V5', 'V24']\n",
      "tempcol ['V10', 'V17', 'V7', 'V18', 'V14', 'V26', 'V8', 'V9', 'V5', 'V24', 'V19']\n",
      "V19\n"
     ]
    },
    {
     "name": "stderr",
     "output_type": "stream",
     "text": [
      "/Users/kte/opt/anaconda3/envs/tensor/lib/python3.7/site-packages/sklearn/base.py:451: UserWarning: X does not have valid feature names, but IsolationForest was fitted with feature names\n",
      "  \"X does not have valid feature names, but\"\n"
     ]
    },
    {
     "name": "stdout",
     "output_type": "stream",
     "text": [
      "              precision    recall  f1-score   support\n",
      "\n",
      "           0       1.00      1.00      1.00     28432\n",
      "           1       0.67      0.60      0.63        30\n",
      "\n",
      "    accuracy                           1.00     28462\n",
      "   macro avg       0.83      0.80      0.82     28462\n",
      "weighted avg       1.00      1.00      1.00     28462\n",
      "\n",
      "0.8156048323280637\n",
      "selected ['V10', 'V17', 'V7', 'V18', 'V14', 'V26', 'V8', 'V9', 'V5', 'V24']\n",
      "tempcol ['V10', 'V17', 'V7', 'V18', 'V14', 'V26', 'V8', 'V9', 'V5', 'V24', 'V20']\n",
      "V20\n"
     ]
    },
    {
     "name": "stderr",
     "output_type": "stream",
     "text": [
      "/Users/kte/opt/anaconda3/envs/tensor/lib/python3.7/site-packages/sklearn/base.py:451: UserWarning: X does not have valid feature names, but IsolationForest was fitted with feature names\n",
      "  \"X does not have valid feature names, but\"\n"
     ]
    },
    {
     "name": "stdout",
     "output_type": "stream",
     "text": [
      "              precision    recall  f1-score   support\n",
      "\n",
      "           0       1.00      1.00      1.00     28432\n",
      "           1       0.77      0.57      0.65        30\n",
      "\n",
      "    accuracy                           1.00     28462\n",
      "   macro avg       0.89      0.78      0.83     28462\n",
      "weighted avg       1.00      1.00      1.00     28462\n",
      "\n",
      "0.8267648268175769\n",
      "selected ['V10', 'V17', 'V7', 'V18', 'V14', 'V26', 'V8', 'V9', 'V5', 'V24']\n",
      "tempcol ['V10', 'V17', 'V7', 'V18', 'V14', 'V26', 'V8', 'V9', 'V5', 'V24', 'V21']\n",
      "V21\n"
     ]
    },
    {
     "name": "stderr",
     "output_type": "stream",
     "text": [
      "/Users/kte/opt/anaconda3/envs/tensor/lib/python3.7/site-packages/sklearn/base.py:451: UserWarning: X does not have valid feature names, but IsolationForest was fitted with feature names\n",
      "  \"X does not have valid feature names, but\"\n"
     ]
    },
    {
     "name": "stdout",
     "output_type": "stream",
     "text": [
      "              precision    recall  f1-score   support\n",
      "\n",
      "           0       1.00      1.00      1.00     28432\n",
      "           1       0.75      0.60      0.67        30\n",
      "\n",
      "    accuracy                           1.00     28462\n",
      "   macro avg       0.87      0.80      0.83     28462\n",
      "weighted avg       1.00      1.00      1.00     28462\n",
      "\n",
      "0.8331750776625051\n",
      "selected ['V10', 'V17', 'V7', 'V18', 'V14', 'V26', 'V8', 'V9', 'V5', 'V24']\n",
      "tempcol ['V10', 'V17', 'V7', 'V18', 'V14', 'V26', 'V8', 'V9', 'V5', 'V24', 'V22']\n",
      "V22\n"
     ]
    },
    {
     "name": "stderr",
     "output_type": "stream",
     "text": [
      "/Users/kte/opt/anaconda3/envs/tensor/lib/python3.7/site-packages/sklearn/base.py:451: UserWarning: X does not have valid feature names, but IsolationForest was fitted with feature names\n",
      "  \"X does not have valid feature names, but\"\n"
     ]
    },
    {
     "name": "stdout",
     "output_type": "stream",
     "text": [
      "              precision    recall  f1-score   support\n",
      "\n",
      "           0       1.00      1.00      1.00     28432\n",
      "           1       0.82      0.60      0.69        30\n",
      "\n",
      "    accuracy                           1.00     28462\n",
      "   macro avg       0.91      0.80      0.85     28462\n",
      "weighted avg       1.00      1.00      1.00     28462\n",
      "\n",
      "0.8460131793934016\n",
      "selected ['V10', 'V17', 'V7', 'V18', 'V14', 'V26', 'V8', 'V9', 'V5', 'V24']\n",
      "tempcol ['V10', 'V17', 'V7', 'V18', 'V14', 'V26', 'V8', 'V9', 'V5', 'V24', 'V23']\n",
      "V23\n"
     ]
    },
    {
     "name": "stderr",
     "output_type": "stream",
     "text": [
      "/Users/kte/opt/anaconda3/envs/tensor/lib/python3.7/site-packages/sklearn/base.py:451: UserWarning: X does not have valid feature names, but IsolationForest was fitted with feature names\n",
      "  \"X does not have valid feature names, but\"\n"
     ]
    },
    {
     "name": "stdout",
     "output_type": "stream",
     "text": [
      "              precision    recall  f1-score   support\n",
      "\n",
      "           0       1.00      1.00      1.00     28432\n",
      "           1       0.78      0.60      0.68        30\n",
      "\n",
      "    accuracy                           1.00     28462\n",
      "   macro avg       0.89      0.80      0.84     28462\n",
      "weighted avg       1.00      1.00      1.00     28462\n",
      "\n",
      "0.8394731804484362\n",
      "selected ['V10', 'V17', 'V7', 'V18', 'V14', 'V26', 'V8', 'V9', 'V5', 'V24']\n",
      "tempcol ['V10', 'V17', 'V7', 'V18', 'V14', 'V26', 'V8', 'V9', 'V5', 'V24', 'V25']\n",
      "V25\n"
     ]
    },
    {
     "name": "stderr",
     "output_type": "stream",
     "text": [
      "/Users/kte/opt/anaconda3/envs/tensor/lib/python3.7/site-packages/sklearn/base.py:451: UserWarning: X does not have valid feature names, but IsolationForest was fitted with feature names\n",
      "  \"X does not have valid feature names, but\"\n"
     ]
    },
    {
     "name": "stdout",
     "output_type": "stream",
     "text": [
      "              precision    recall  f1-score   support\n",
      "\n",
      "           0       1.00      1.00      1.00     28432\n",
      "           1       0.81      0.57      0.67        30\n",
      "\n",
      "    accuracy                           1.00     28462\n",
      "   macro avg       0.90      0.78      0.83     28462\n",
      "weighted avg       1.00      1.00      1.00     28462\n",
      "\n",
      "0.833183877528294\n",
      "selected ['V10', 'V17', 'V7', 'V18', 'V14', 'V26', 'V8', 'V9', 'V5', 'V24']\n",
      "tempcol ['V10', 'V17', 'V7', 'V18', 'V14', 'V26', 'V8', 'V9', 'V5', 'V24', 'V27']\n",
      "V27\n"
     ]
    },
    {
     "name": "stderr",
     "output_type": "stream",
     "text": [
      "/Users/kte/opt/anaconda3/envs/tensor/lib/python3.7/site-packages/sklearn/base.py:451: UserWarning: X does not have valid feature names, but IsolationForest was fitted with feature names\n",
      "  \"X does not have valid feature names, but\"\n"
     ]
    },
    {
     "name": "stdout",
     "output_type": "stream",
     "text": [
      "              precision    recall  f1-score   support\n",
      "\n",
      "           0       1.00      1.00      1.00     28432\n",
      "           1       0.78      0.60      0.68        30\n",
      "\n",
      "    accuracy                           1.00     28462\n",
      "   macro avg       0.89      0.80      0.84     28462\n",
      "weighted avg       1.00      1.00      1.00     28462\n",
      "\n",
      "0.8394731804484362\n",
      "selected ['V10', 'V17', 'V7', 'V18', 'V14', 'V26', 'V8', 'V9', 'V5', 'V24']\n",
      "tempcol ['V10', 'V17', 'V7', 'V18', 'V14', 'V26', 'V8', 'V9', 'V5', 'V24', 'V28']\n",
      "V28\n"
     ]
    },
    {
     "name": "stderr",
     "output_type": "stream",
     "text": [
      "/Users/kte/opt/anaconda3/envs/tensor/lib/python3.7/site-packages/sklearn/base.py:451: UserWarning: X does not have valid feature names, but IsolationForest was fitted with feature names\n",
      "  \"X does not have valid feature names, but\"\n"
     ]
    },
    {
     "name": "stdout",
     "output_type": "stream",
     "text": [
      "              precision    recall  f1-score   support\n",
      "\n",
      "           0       1.00      1.00      1.00     28432\n",
      "           1       0.72      0.60      0.65        30\n",
      "\n",
      "    accuracy                           1.00     28462\n",
      "   macro avg       0.86      0.80      0.83     28462\n",
      "weighted avg       1.00      1.00      1.00     28462\n",
      "\n",
      "0.8271056766827749\n",
      "추가\n",
      "count : 199 번\n",
      "selected ['V10', 'V17', 'V7', 'V18', 'V14', 'V26', 'V8', 'V9', 'V5', 'V24', 'V2']\n",
      "tempcol ['V10', 'V17', 'V7', 'V18', 'V14', 'V26', 'V8', 'V9', 'V5', 'V24', 'V2', 'V1']\n",
      "V1\n"
     ]
    },
    {
     "name": "stderr",
     "output_type": "stream",
     "text": [
      "/Users/kte/opt/anaconda3/envs/tensor/lib/python3.7/site-packages/sklearn/base.py:451: UserWarning: X does not have valid feature names, but IsolationForest was fitted with feature names\n",
      "  \"X does not have valid feature names, but\"\n"
     ]
    },
    {
     "name": "stdout",
     "output_type": "stream",
     "text": [
      "              precision    recall  f1-score   support\n",
      "\n",
      "           0       1.00      1.00      1.00     28432\n",
      "           1       0.74      0.57      0.64        30\n",
      "\n",
      "    accuracy                           1.00     28462\n",
      "   macro avg       0.87      0.78      0.82     28462\n",
      "weighted avg       1.00      1.00      1.00     28462\n",
      "\n",
      "0.8205876722658993\n",
      "selected ['V10', 'V17', 'V7', 'V18', 'V14', 'V26', 'V8', 'V9', 'V5', 'V24', 'V2']\n",
      "tempcol ['V10', 'V17', 'V7', 'V18', 'V14', 'V26', 'V8', 'V9', 'V5', 'V24', 'V2', 'V3']\n",
      "V3\n"
     ]
    },
    {
     "name": "stderr",
     "output_type": "stream",
     "text": [
      "/Users/kte/opt/anaconda3/envs/tensor/lib/python3.7/site-packages/sklearn/base.py:451: UserWarning: X does not have valid feature names, but IsolationForest was fitted with feature names\n",
      "  \"X does not have valid feature names, but\"\n"
     ]
    },
    {
     "name": "stdout",
     "output_type": "stream",
     "text": [
      "              precision    recall  f1-score   support\n",
      "\n",
      "           0       1.00      1.00      1.00     28432\n",
      "           1       0.71      0.57      0.63        30\n",
      "\n",
      "    accuracy                           1.00     28462\n",
      "   macro avg       0.85      0.78      0.81     28462\n",
      "weighted avg       1.00      1.00      1.00     28462\n",
      "\n",
      "0.8146389751805612\n",
      "selected ['V10', 'V17', 'V7', 'V18', 'V14', 'V26', 'V8', 'V9', 'V5', 'V24', 'V2']\n",
      "tempcol ['V10', 'V17', 'V7', 'V18', 'V14', 'V26', 'V8', 'V9', 'V5', 'V24', 'V2', 'V4']\n",
      "V4\n"
     ]
    },
    {
     "name": "stderr",
     "output_type": "stream",
     "text": [
      "/Users/kte/opt/anaconda3/envs/tensor/lib/python3.7/site-packages/sklearn/base.py:451: UserWarning: X does not have valid feature names, but IsolationForest was fitted with feature names\n",
      "  \"X does not have valid feature names, but\"\n"
     ]
    },
    {
     "name": "stdout",
     "output_type": "stream",
     "text": [
      "              precision    recall  f1-score   support\n",
      "\n",
      "           0       1.00      1.00      1.00     28432\n",
      "           1       0.77      0.57      0.65        30\n",
      "\n",
      "    accuracy                           1.00     28462\n",
      "   macro avg       0.89      0.78      0.83     28462\n",
      "weighted avg       1.00      1.00      1.00     28462\n",
      "\n",
      "0.8267648268175769\n",
      "selected ['V10', 'V17', 'V7', 'V18', 'V14', 'V26', 'V8', 'V9', 'V5', 'V24', 'V2']\n",
      "tempcol ['V10', 'V17', 'V7', 'V18', 'V14', 'V26', 'V8', 'V9', 'V5', 'V24', 'V2', 'V6']\n",
      "V6\n"
     ]
    },
    {
     "name": "stderr",
     "output_type": "stream",
     "text": [
      "/Users/kte/opt/anaconda3/envs/tensor/lib/python3.7/site-packages/sklearn/base.py:451: UserWarning: X does not have valid feature names, but IsolationForest was fitted with feature names\n",
      "  \"X does not have valid feature names, but\"\n"
     ]
    },
    {
     "name": "stdout",
     "output_type": "stream",
     "text": [
      "              precision    recall  f1-score   support\n",
      "\n",
      "           0       1.00      1.00      1.00     28432\n",
      "           1       0.71      0.57      0.63        30\n",
      "\n",
      "    accuracy                           1.00     28462\n",
      "   macro avg       0.85      0.78      0.81     28462\n",
      "weighted avg       1.00      1.00      1.00     28462\n",
      "\n",
      "0.8146389751805612\n",
      "selected ['V10', 'V17', 'V7', 'V18', 'V14', 'V26', 'V8', 'V9', 'V5', 'V24', 'V2']\n",
      "tempcol ['V10', 'V17', 'V7', 'V18', 'V14', 'V26', 'V8', 'V9', 'V5', 'V24', 'V2', 'V11']\n",
      "V11\n"
     ]
    },
    {
     "name": "stderr",
     "output_type": "stream",
     "text": [
      "/Users/kte/opt/anaconda3/envs/tensor/lib/python3.7/site-packages/sklearn/base.py:451: UserWarning: X does not have valid feature names, but IsolationForest was fitted with feature names\n",
      "  \"X does not have valid feature names, but\"\n"
     ]
    },
    {
     "name": "stdout",
     "output_type": "stream",
     "text": [
      "              precision    recall  f1-score   support\n",
      "\n",
      "           0       1.00      1.00      1.00     28432\n",
      "           1       0.75      0.60      0.67        30\n",
      "\n",
      "    accuracy                           1.00     28462\n",
      "   macro avg       0.87      0.80      0.83     28462\n",
      "weighted avg       1.00      1.00      1.00     28462\n",
      "\n",
      "0.8331750776625051\n",
      "selected ['V10', 'V17', 'V7', 'V18', 'V14', 'V26', 'V8', 'V9', 'V5', 'V24', 'V2']\n",
      "tempcol ['V10', 'V17', 'V7', 'V18', 'V14', 'V26', 'V8', 'V9', 'V5', 'V24', 'V2', 'V12']\n",
      "V12\n"
     ]
    },
    {
     "name": "stderr",
     "output_type": "stream",
     "text": [
      "/Users/kte/opt/anaconda3/envs/tensor/lib/python3.7/site-packages/sklearn/base.py:451: UserWarning: X does not have valid feature names, but IsolationForest was fitted with feature names\n",
      "  \"X does not have valid feature names, but\"\n"
     ]
    },
    {
     "name": "stdout",
     "output_type": "stream",
     "text": [
      "              precision    recall  f1-score   support\n",
      "\n",
      "           0       1.00      1.00      1.00     28432\n",
      "           1       0.77      0.57      0.65        30\n",
      "\n",
      "    accuracy                           1.00     28462\n",
      "   macro avg       0.89      0.78      0.83     28462\n",
      "weighted avg       1.00      1.00      1.00     28462\n",
      "\n",
      "0.8267648268175769\n",
      "selected ['V10', 'V17', 'V7', 'V18', 'V14', 'V26', 'V8', 'V9', 'V5', 'V24', 'V2']\n",
      "tempcol ['V10', 'V17', 'V7', 'V18', 'V14', 'V26', 'V8', 'V9', 'V5', 'V24', 'V2', 'V13']\n",
      "V13\n"
     ]
    },
    {
     "name": "stderr",
     "output_type": "stream",
     "text": [
      "/Users/kte/opt/anaconda3/envs/tensor/lib/python3.7/site-packages/sklearn/base.py:451: UserWarning: X does not have valid feature names, but IsolationForest was fitted with feature names\n",
      "  \"X does not have valid feature names, but\"\n"
     ]
    },
    {
     "name": "stdout",
     "output_type": "stream",
     "text": [
      "              precision    recall  f1-score   support\n",
      "\n",
      "           0       1.00      1.00      1.00     28432\n",
      "           1       0.78      0.60      0.68        30\n",
      "\n",
      "    accuracy                           1.00     28462\n",
      "   macro avg       0.89      0.80      0.84     28462\n",
      "weighted avg       1.00      1.00      1.00     28462\n",
      "\n",
      "0.8394731804484362\n",
      "selected ['V10', 'V17', 'V7', 'V18', 'V14', 'V26', 'V8', 'V9', 'V5', 'V24', 'V2']\n",
      "tempcol ['V10', 'V17', 'V7', 'V18', 'V14', 'V26', 'V8', 'V9', 'V5', 'V24', 'V2', 'V15']\n",
      "V15\n"
     ]
    },
    {
     "name": "stderr",
     "output_type": "stream",
     "text": [
      "/Users/kte/opt/anaconda3/envs/tensor/lib/python3.7/site-packages/sklearn/base.py:451: UserWarning: X does not have valid feature names, but IsolationForest was fitted with feature names\n",
      "  \"X does not have valid feature names, but\"\n"
     ]
    },
    {
     "name": "stdout",
     "output_type": "stream",
     "text": [
      "              precision    recall  f1-score   support\n",
      "\n",
      "           0       1.00      1.00      1.00     28432\n",
      "           1       0.83      0.63      0.72        30\n",
      "\n",
      "    accuracy                           1.00     28462\n",
      "   macro avg       0.91      0.82      0.86     28462\n",
      "weighted avg       1.00      1.00      1.00     28462\n",
      "\n",
      "0.8583586886309732\n",
      "selected ['V10', 'V17', 'V7', 'V18', 'V14', 'V26', 'V8', 'V9', 'V5', 'V24', 'V2']\n",
      "tempcol ['V10', 'V17', 'V7', 'V18', 'V14', 'V26', 'V8', 'V9', 'V5', 'V24', 'V2', 'V16']\n",
      "V16\n"
     ]
    },
    {
     "name": "stderr",
     "output_type": "stream",
     "text": [
      "/Users/kte/opt/anaconda3/envs/tensor/lib/python3.7/site-packages/sklearn/base.py:451: UserWarning: X does not have valid feature names, but IsolationForest was fitted with feature names\n",
      "  \"X does not have valid feature names, but\"\n"
     ]
    },
    {
     "name": "stdout",
     "output_type": "stream",
     "text": [
      "              precision    recall  f1-score   support\n",
      "\n",
      "           0       1.00      1.00      1.00     28432\n",
      "           1       0.77      0.57      0.65        30\n",
      "\n",
      "    accuracy                           1.00     28462\n",
      "   macro avg       0.89      0.78      0.83     28462\n",
      "weighted avg       1.00      1.00      1.00     28462\n",
      "\n",
      "0.8267648268175769\n",
      "selected ['V10', 'V17', 'V7', 'V18', 'V14', 'V26', 'V8', 'V9', 'V5', 'V24', 'V2']\n",
      "tempcol ['V10', 'V17', 'V7', 'V18', 'V14', 'V26', 'V8', 'V9', 'V5', 'V24', 'V2', 'V19']\n",
      "V19\n"
     ]
    },
    {
     "name": "stderr",
     "output_type": "stream",
     "text": [
      "/Users/kte/opt/anaconda3/envs/tensor/lib/python3.7/site-packages/sklearn/base.py:451: UserWarning: X does not have valid feature names, but IsolationForest was fitted with feature names\n",
      "  \"X does not have valid feature names, but\"\n"
     ]
    },
    {
     "name": "stdout",
     "output_type": "stream",
     "text": [
      "              precision    recall  f1-score   support\n",
      "\n",
      "           0       1.00      1.00      1.00     28432\n",
      "           1       0.77      0.57      0.65        30\n",
      "\n",
      "    accuracy                           1.00     28462\n",
      "   macro avg       0.89      0.78      0.83     28462\n",
      "weighted avg       1.00      1.00      1.00     28462\n",
      "\n",
      "0.8267648268175769\n",
      "selected ['V10', 'V17', 'V7', 'V18', 'V14', 'V26', 'V8', 'V9', 'V5', 'V24', 'V2']\n",
      "tempcol ['V10', 'V17', 'V7', 'V18', 'V14', 'V26', 'V8', 'V9', 'V5', 'V24', 'V2', 'V20']\n",
      "V20\n"
     ]
    },
    {
     "name": "stderr",
     "output_type": "stream",
     "text": [
      "/Users/kte/opt/anaconda3/envs/tensor/lib/python3.7/site-packages/sklearn/base.py:451: UserWarning: X does not have valid feature names, but IsolationForest was fitted with feature names\n",
      "  \"X does not have valid feature names, but\"\n"
     ]
    },
    {
     "name": "stdout",
     "output_type": "stream",
     "text": [
      "              precision    recall  f1-score   support\n",
      "\n",
      "           0       1.00      1.00      1.00     28432\n",
      "           1       0.77      0.57      0.65        30\n",
      "\n",
      "    accuracy                           1.00     28462\n",
      "   macro avg       0.89      0.78      0.83     28462\n",
      "weighted avg       1.00      1.00      1.00     28462\n",
      "\n",
      "0.8267648268175769\n",
      "selected ['V10', 'V17', 'V7', 'V18', 'V14', 'V26', 'V8', 'V9', 'V5', 'V24', 'V2']\n",
      "tempcol ['V10', 'V17', 'V7', 'V18', 'V14', 'V26', 'V8', 'V9', 'V5', 'V24', 'V2', 'V21']\n",
      "V21\n"
     ]
    },
    {
     "name": "stderr",
     "output_type": "stream",
     "text": [
      "/Users/kte/opt/anaconda3/envs/tensor/lib/python3.7/site-packages/sklearn/base.py:451: UserWarning: X does not have valid feature names, but IsolationForest was fitted with feature names\n",
      "  \"X does not have valid feature names, but\"\n"
     ]
    },
    {
     "name": "stdout",
     "output_type": "stream",
     "text": [
      "              precision    recall  f1-score   support\n",
      "\n",
      "           0       1.00      1.00      1.00     28432\n",
      "           1       0.75      0.60      0.67        30\n",
      "\n",
      "    accuracy                           1.00     28462\n",
      "   macro avg       0.87      0.80      0.83     28462\n",
      "weighted avg       1.00      1.00      1.00     28462\n",
      "\n",
      "0.8331750776625051\n",
      "selected ['V10', 'V17', 'V7', 'V18', 'V14', 'V26', 'V8', 'V9', 'V5', 'V24', 'V2']\n",
      "tempcol ['V10', 'V17', 'V7', 'V18', 'V14', 'V26', 'V8', 'V9', 'V5', 'V24', 'V2', 'V22']\n",
      "V22\n"
     ]
    },
    {
     "name": "stderr",
     "output_type": "stream",
     "text": [
      "/Users/kte/opt/anaconda3/envs/tensor/lib/python3.7/site-packages/sklearn/base.py:451: UserWarning: X does not have valid feature names, but IsolationForest was fitted with feature names\n",
      "  \"X does not have valid feature names, but\"\n"
     ]
    },
    {
     "name": "stdout",
     "output_type": "stream",
     "text": [
      "              precision    recall  f1-score   support\n",
      "\n",
      "           0       1.00      1.00      1.00     28432\n",
      "           1       0.68      0.57      0.62        30\n",
      "\n",
      "    accuracy                           1.00     28462\n",
      "   macro avg       0.84      0.78      0.81     28462\n",
      "weighted avg       1.00      1.00      1.00     28462\n",
      "\n",
      "0.8089062742283302\n",
      "selected ['V10', 'V17', 'V7', 'V18', 'V14', 'V26', 'V8', 'V9', 'V5', 'V24', 'V2']\n",
      "tempcol ['V10', 'V17', 'V7', 'V18', 'V14', 'V26', 'V8', 'V9', 'V5', 'V24', 'V2', 'V23']\n",
      "V23\n"
     ]
    },
    {
     "name": "stderr",
     "output_type": "stream",
     "text": [
      "/Users/kte/opt/anaconda3/envs/tensor/lib/python3.7/site-packages/sklearn/base.py:451: UserWarning: X does not have valid feature names, but IsolationForest was fitted with feature names\n",
      "  \"X does not have valid feature names, but\"\n"
     ]
    },
    {
     "name": "stdout",
     "output_type": "stream",
     "text": [
      "              precision    recall  f1-score   support\n",
      "\n",
      "           0       1.00      1.00      1.00     28432\n",
      "           1       0.71      0.57      0.63        30\n",
      "\n",
      "    accuracy                           1.00     28462\n",
      "   macro avg       0.85      0.78      0.81     28462\n",
      "weighted avg       1.00      1.00      1.00     28462\n",
      "\n",
      "0.8146389751805612\n",
      "selected ['V10', 'V17', 'V7', 'V18', 'V14', 'V26', 'V8', 'V9', 'V5', 'V24', 'V2']\n",
      "tempcol ['V10', 'V17', 'V7', 'V18', 'V14', 'V26', 'V8', 'V9', 'V5', 'V24', 'V2', 'V25']\n",
      "V25\n"
     ]
    },
    {
     "name": "stderr",
     "output_type": "stream",
     "text": [
      "/Users/kte/opt/anaconda3/envs/tensor/lib/python3.7/site-packages/sklearn/base.py:451: UserWarning: X does not have valid feature names, but IsolationForest was fitted with feature names\n",
      "  \"X does not have valid feature names, but\"\n"
     ]
    },
    {
     "name": "stdout",
     "output_type": "stream",
     "text": [
      "              precision    recall  f1-score   support\n",
      "\n",
      "           0       1.00      1.00      1.00     28432\n",
      "           1       0.82      0.60      0.69        30\n",
      "\n",
      "    accuracy                           1.00     28462\n",
      "   macro avg       0.91      0.80      0.85     28462\n",
      "weighted avg       1.00      1.00      1.00     28462\n",
      "\n",
      "0.8460131793934016\n",
      "selected ['V10', 'V17', 'V7', 'V18', 'V14', 'V26', 'V8', 'V9', 'V5', 'V24', 'V2']\n",
      "tempcol ['V10', 'V17', 'V7', 'V18', 'V14', 'V26', 'V8', 'V9', 'V5', 'V24', 'V2', 'V27']\n",
      "V27\n"
     ]
    },
    {
     "name": "stderr",
     "output_type": "stream",
     "text": [
      "/Users/kte/opt/anaconda3/envs/tensor/lib/python3.7/site-packages/sklearn/base.py:451: UserWarning: X does not have valid feature names, but IsolationForest was fitted with feature names\n",
      "  \"X does not have valid feature names, but\"\n"
     ]
    },
    {
     "name": "stdout",
     "output_type": "stream",
     "text": [
      "              precision    recall  f1-score   support\n",
      "\n",
      "           0       1.00      1.00      1.00     28432\n",
      "           1       0.74      0.57      0.64        30\n",
      "\n",
      "    accuracy                           1.00     28462\n",
      "   macro avg       0.87      0.78      0.82     28462\n",
      "weighted avg       1.00      1.00      1.00     28462\n",
      "\n",
      "0.8205876722658993\n",
      "selected ['V10', 'V17', 'V7', 'V18', 'V14', 'V26', 'V8', 'V9', 'V5', 'V24', 'V2']\n",
      "tempcol ['V10', 'V17', 'V7', 'V18', 'V14', 'V26', 'V8', 'V9', 'V5', 'V24', 'V2', 'V28']\n",
      "V28\n"
     ]
    },
    {
     "name": "stderr",
     "output_type": "stream",
     "text": [
      "/Users/kte/opt/anaconda3/envs/tensor/lib/python3.7/site-packages/sklearn/base.py:451: UserWarning: X does not have valid feature names, but IsolationForest was fitted with feature names\n",
      "  \"X does not have valid feature names, but\"\n"
     ]
    },
    {
     "name": "stdout",
     "output_type": "stream",
     "text": [
      "              precision    recall  f1-score   support\n",
      "\n",
      "           0       1.00      1.00      1.00     28432\n",
      "           1       0.68      0.57      0.62        30\n",
      "\n",
      "    accuracy                           1.00     28462\n",
      "   macro avg       0.84      0.78      0.81     28462\n",
      "weighted avg       1.00      1.00      1.00     28462\n",
      "\n",
      "0.8089062742283302\n",
      "추가\n",
      "count : 216 번\n",
      "selected ['V10', 'V17', 'V7', 'V18', 'V14', 'V26', 'V8', 'V9', 'V5', 'V24', 'V2', 'V15']\n",
      "tempcol ['V10', 'V17', 'V7', 'V18', 'V14', 'V26', 'V8', 'V9', 'V5', 'V24', 'V2', 'V15', 'V1']\n",
      "V1\n"
     ]
    },
    {
     "name": "stderr",
     "output_type": "stream",
     "text": [
      "/Users/kte/opt/anaconda3/envs/tensor/lib/python3.7/site-packages/sklearn/base.py:451: UserWarning: X does not have valid feature names, but IsolationForest was fitted with feature names\n",
      "  \"X does not have valid feature names, but\"\n"
     ]
    },
    {
     "name": "stdout",
     "output_type": "stream",
     "text": [
      "              precision    recall  f1-score   support\n",
      "\n",
      "           0       1.00      1.00      1.00     28432\n",
      "           1       0.82      0.60      0.69        30\n",
      "\n",
      "    accuracy                           1.00     28462\n",
      "   macro avg       0.91      0.80      0.85     28462\n",
      "weighted avg       1.00      1.00      1.00     28462\n",
      "\n",
      "0.8460131793934016\n",
      "selected ['V10', 'V17', 'V7', 'V18', 'V14', 'V26', 'V8', 'V9', 'V5', 'V24', 'V2', 'V15']\n",
      "tempcol ['V10', 'V17', 'V7', 'V18', 'V14', 'V26', 'V8', 'V9', 'V5', 'V24', 'V2', 'V15', 'V3']\n",
      "V3\n"
     ]
    },
    {
     "name": "stderr",
     "output_type": "stream",
     "text": [
      "/Users/kte/opt/anaconda3/envs/tensor/lib/python3.7/site-packages/sklearn/base.py:451: UserWarning: X does not have valid feature names, but IsolationForest was fitted with feature names\n",
      "  \"X does not have valid feature names, but\"\n"
     ]
    },
    {
     "name": "stdout",
     "output_type": "stream",
     "text": [
      "              precision    recall  f1-score   support\n",
      "\n",
      "           0       1.00      1.00      1.00     28432\n",
      "           1       0.90      0.60      0.72        30\n",
      "\n",
      "    accuracy                           1.00     28462\n",
      "   macro avg       0.95      0.80      0.86     28462\n",
      "weighted avg       1.00      1.00      1.00     28462\n",
      "\n",
      "0.8598769209128951\n",
      "selected ['V10', 'V17', 'V7', 'V18', 'V14', 'V26', 'V8', 'V9', 'V5', 'V24', 'V2', 'V15']\n",
      "tempcol ['V10', 'V17', 'V7', 'V18', 'V14', 'V26', 'V8', 'V9', 'V5', 'V24', 'V2', 'V15', 'V4']\n",
      "V4\n"
     ]
    },
    {
     "name": "stderr",
     "output_type": "stream",
     "text": [
      "/Users/kte/opt/anaconda3/envs/tensor/lib/python3.7/site-packages/sklearn/base.py:451: UserWarning: X does not have valid feature names, but IsolationForest was fitted with feature names\n",
      "  \"X does not have valid feature names, but\"\n"
     ]
    },
    {
     "name": "stdout",
     "output_type": "stream",
     "text": [
      "              precision    recall  f1-score   support\n",
      "\n",
      "           0       1.00      1.00      1.00     28432\n",
      "           1       0.82      0.60      0.69        30\n",
      "\n",
      "    accuracy                           1.00     28462\n",
      "   macro avg       0.91      0.80      0.85     28462\n",
      "weighted avg       1.00      1.00      1.00     28462\n",
      "\n",
      "0.8460131793934016\n",
      "selected ['V10', 'V17', 'V7', 'V18', 'V14', 'V26', 'V8', 'V9', 'V5', 'V24', 'V2', 'V15']\n",
      "tempcol ['V10', 'V17', 'V7', 'V18', 'V14', 'V26', 'V8', 'V9', 'V5', 'V24', 'V2', 'V15', 'V6']\n",
      "V6\n"
     ]
    },
    {
     "name": "stderr",
     "output_type": "stream",
     "text": [
      "/Users/kte/opt/anaconda3/envs/tensor/lib/python3.7/site-packages/sklearn/base.py:451: UserWarning: X does not have valid feature names, but IsolationForest was fitted with feature names\n",
      "  \"X does not have valid feature names, but\"\n"
     ]
    },
    {
     "name": "stdout",
     "output_type": "stream",
     "text": [
      "              precision    recall  f1-score   support\n",
      "\n",
      "           0       1.00      1.00      1.00     28432\n",
      "           1       0.86      0.60      0.71        30\n",
      "\n",
      "    accuracy                           1.00     28462\n",
      "   macro avg       0.93      0.80      0.85     28462\n",
      "weighted avg       1.00      1.00      1.00     28462\n",
      "\n",
      "0.8528093037014359\n",
      "selected ['V10', 'V17', 'V7', 'V18', 'V14', 'V26', 'V8', 'V9', 'V5', 'V24', 'V2', 'V15']\n",
      "tempcol ['V10', 'V17', 'V7', 'V18', 'V14', 'V26', 'V8', 'V9', 'V5', 'V24', 'V2', 'V15', 'V11']\n",
      "V11\n"
     ]
    },
    {
     "name": "stderr",
     "output_type": "stream",
     "text": [
      "/Users/kte/opt/anaconda3/envs/tensor/lib/python3.7/site-packages/sklearn/base.py:451: UserWarning: X does not have valid feature names, but IsolationForest was fitted with feature names\n",
      "  \"X does not have valid feature names, but\"\n"
     ]
    },
    {
     "name": "stdout",
     "output_type": "stream",
     "text": [
      "              precision    recall  f1-score   support\n",
      "\n",
      "           0       1.00      1.00      1.00     28432\n",
      "           1       0.75      0.60      0.67        30\n",
      "\n",
      "    accuracy                           1.00     28462\n",
      "   macro avg       0.87      0.80      0.83     28462\n",
      "weighted avg       1.00      1.00      1.00     28462\n",
      "\n",
      "0.8331750776625051\n",
      "selected ['V10', 'V17', 'V7', 'V18', 'V14', 'V26', 'V8', 'V9', 'V5', 'V24', 'V2', 'V15']\n",
      "tempcol ['V10', 'V17', 'V7', 'V18', 'V14', 'V26', 'V8', 'V9', 'V5', 'V24', 'V2', 'V15', 'V12']\n",
      "V12\n"
     ]
    },
    {
     "name": "stderr",
     "output_type": "stream",
     "text": [
      "/Users/kte/opt/anaconda3/envs/tensor/lib/python3.7/site-packages/sklearn/base.py:451: UserWarning: X does not have valid feature names, but IsolationForest was fitted with feature names\n",
      "  \"X does not have valid feature names, but\"\n"
     ]
    },
    {
     "name": "stdout",
     "output_type": "stream",
     "text": [
      "              precision    recall  f1-score   support\n",
      "\n",
      "           0       1.00      1.00      1.00     28432\n",
      "           1       0.86      0.63      0.73        30\n",
      "\n",
      "    accuracy                           1.00     28462\n",
      "   macro avg       0.93      0.82      0.87     28462\n",
      "weighted avg       1.00      1.00      1.00     28462\n",
      "\n",
      "0.8652615319692264\n",
      "selected ['V10', 'V17', 'V7', 'V18', 'V14', 'V26', 'V8', 'V9', 'V5', 'V24', 'V2', 'V15']\n",
      "tempcol ['V10', 'V17', 'V7', 'V18', 'V14', 'V26', 'V8', 'V9', 'V5', 'V24', 'V2', 'V15', 'V13']\n",
      "V13\n"
     ]
    },
    {
     "name": "stderr",
     "output_type": "stream",
     "text": [
      "/Users/kte/opt/anaconda3/envs/tensor/lib/python3.7/site-packages/sklearn/base.py:451: UserWarning: X does not have valid feature names, but IsolationForest was fitted with feature names\n",
      "  \"X does not have valid feature names, but\"\n"
     ]
    },
    {
     "name": "stdout",
     "output_type": "stream",
     "text": [
      "              precision    recall  f1-score   support\n",
      "\n",
      "           0       1.00      1.00      1.00     28432\n",
      "           1       0.82      0.60      0.69        30\n",
      "\n",
      "    accuracy                           1.00     28462\n",
      "   macro avg       0.91      0.80      0.85     28462\n",
      "weighted avg       1.00      1.00      1.00     28462\n",
      "\n",
      "0.8460131793934016\n",
      "selected ['V10', 'V17', 'V7', 'V18', 'V14', 'V26', 'V8', 'V9', 'V5', 'V24', 'V2', 'V15']\n",
      "tempcol ['V10', 'V17', 'V7', 'V18', 'V14', 'V26', 'V8', 'V9', 'V5', 'V24', 'V2', 'V15', 'V16']\n",
      "V16\n"
     ]
    },
    {
     "name": "stderr",
     "output_type": "stream",
     "text": [
      "/Users/kte/opt/anaconda3/envs/tensor/lib/python3.7/site-packages/sklearn/base.py:451: UserWarning: X does not have valid feature names, but IsolationForest was fitted with feature names\n",
      "  \"X does not have valid feature names, but\"\n"
     ]
    },
    {
     "name": "stdout",
     "output_type": "stream",
     "text": [
      "              precision    recall  f1-score   support\n",
      "\n",
      "           0       1.00      1.00      1.00     28432\n",
      "           1       0.81      0.57      0.67        30\n",
      "\n",
      "    accuracy                           1.00     28462\n",
      "   macro avg       0.90      0.78      0.83     28462\n",
      "weighted avg       1.00      1.00      1.00     28462\n",
      "\n",
      "0.833183877528294\n",
      "selected ['V10', 'V17', 'V7', 'V18', 'V14', 'V26', 'V8', 'V9', 'V5', 'V24', 'V2', 'V15']\n",
      "tempcol ['V10', 'V17', 'V7', 'V18', 'V14', 'V26', 'V8', 'V9', 'V5', 'V24', 'V2', 'V15', 'V19']\n",
      "V19\n"
     ]
    },
    {
     "name": "stderr",
     "output_type": "stream",
     "text": [
      "/Users/kte/opt/anaconda3/envs/tensor/lib/python3.7/site-packages/sklearn/base.py:451: UserWarning: X does not have valid feature names, but IsolationForest was fitted with feature names\n",
      "  \"X does not have valid feature names, but\"\n"
     ]
    },
    {
     "name": "stdout",
     "output_type": "stream",
     "text": [
      "              precision    recall  f1-score   support\n",
      "\n",
      "           0       1.00      1.00      1.00     28432\n",
      "           1       0.82      0.60      0.69        30\n",
      "\n",
      "    accuracy                           1.00     28462\n",
      "   macro avg       0.91      0.80      0.85     28462\n",
      "weighted avg       1.00      1.00      1.00     28462\n",
      "\n",
      "0.8460131793934016\n",
      "selected ['V10', 'V17', 'V7', 'V18', 'V14', 'V26', 'V8', 'V9', 'V5', 'V24', 'V2', 'V15']\n",
      "tempcol ['V10', 'V17', 'V7', 'V18', 'V14', 'V26', 'V8', 'V9', 'V5', 'V24', 'V2', 'V15', 'V20']\n",
      "V20\n"
     ]
    },
    {
     "name": "stderr",
     "output_type": "stream",
     "text": [
      "/Users/kte/opt/anaconda3/envs/tensor/lib/python3.7/site-packages/sklearn/base.py:451: UserWarning: X does not have valid feature names, but IsolationForest was fitted with feature names\n",
      "  \"X does not have valid feature names, but\"\n"
     ]
    },
    {
     "name": "stdout",
     "output_type": "stream",
     "text": [
      "              precision    recall  f1-score   support\n",
      "\n",
      "           0       1.00      1.00      1.00     28432\n",
      "           1       0.86      0.63      0.73        30\n",
      "\n",
      "    accuracy                           1.00     28462\n",
      "   macro avg       0.93      0.82      0.87     28462\n",
      "weighted avg       1.00      1.00      1.00     28462\n",
      "\n",
      "0.8652615319692264\n",
      "selected ['V10', 'V17', 'V7', 'V18', 'V14', 'V26', 'V8', 'V9', 'V5', 'V24', 'V2', 'V15']\n",
      "tempcol ['V10', 'V17', 'V7', 'V18', 'V14', 'V26', 'V8', 'V9', 'V5', 'V24', 'V2', 'V15', 'V21']\n",
      "V21\n"
     ]
    },
    {
     "name": "stderr",
     "output_type": "stream",
     "text": [
      "/Users/kte/opt/anaconda3/envs/tensor/lib/python3.7/site-packages/sklearn/base.py:451: UserWarning: X does not have valid feature names, but IsolationForest was fitted with feature names\n",
      "  \"X does not have valid feature names, but\"\n"
     ]
    },
    {
     "name": "stdout",
     "output_type": "stream",
     "text": [
      "              precision    recall  f1-score   support\n",
      "\n",
      "           0       1.00      1.00      1.00     28432\n",
      "           1       0.77      0.57      0.65        30\n",
      "\n",
      "    accuracy                           1.00     28462\n",
      "   macro avg       0.89      0.78      0.83     28462\n",
      "weighted avg       1.00      1.00      1.00     28462\n",
      "\n",
      "0.8267648268175769\n",
      "selected ['V10', 'V17', 'V7', 'V18', 'V14', 'V26', 'V8', 'V9', 'V5', 'V24', 'V2', 'V15']\n",
      "tempcol ['V10', 'V17', 'V7', 'V18', 'V14', 'V26', 'V8', 'V9', 'V5', 'V24', 'V2', 'V15', 'V22']\n",
      "V22\n"
     ]
    },
    {
     "name": "stderr",
     "output_type": "stream",
     "text": [
      "/Users/kte/opt/anaconda3/envs/tensor/lib/python3.7/site-packages/sklearn/base.py:451: UserWarning: X does not have valid feature names, but IsolationForest was fitted with feature names\n",
      "  \"X does not have valid feature names, but\"\n"
     ]
    },
    {
     "name": "stdout",
     "output_type": "stream",
     "text": [
      "              precision    recall  f1-score   support\n",
      "\n",
      "           0       1.00      1.00      1.00     28432\n",
      "           1       0.78      0.60      0.68        30\n",
      "\n",
      "    accuracy                           1.00     28462\n",
      "   macro avg       0.89      0.80      0.84     28462\n",
      "weighted avg       1.00      1.00      1.00     28462\n",
      "\n",
      "0.8394731804484362\n",
      "selected ['V10', 'V17', 'V7', 'V18', 'V14', 'V26', 'V8', 'V9', 'V5', 'V24', 'V2', 'V15']\n",
      "tempcol ['V10', 'V17', 'V7', 'V18', 'V14', 'V26', 'V8', 'V9', 'V5', 'V24', 'V2', 'V15', 'V23']\n",
      "V23\n"
     ]
    },
    {
     "name": "stderr",
     "output_type": "stream",
     "text": [
      "/Users/kte/opt/anaconda3/envs/tensor/lib/python3.7/site-packages/sklearn/base.py:451: UserWarning: X does not have valid feature names, but IsolationForest was fitted with feature names\n",
      "  \"X does not have valid feature names, but\"\n"
     ]
    },
    {
     "name": "stdout",
     "output_type": "stream",
     "text": [
      "              precision    recall  f1-score   support\n",
      "\n",
      "           0       1.00      1.00      1.00     28432\n",
      "           1       0.81      0.57      0.67        30\n",
      "\n",
      "    accuracy                           1.00     28462\n",
      "   macro avg       0.90      0.78      0.83     28462\n",
      "weighted avg       1.00      1.00      1.00     28462\n",
      "\n",
      "0.833183877528294\n",
      "selected ['V10', 'V17', 'V7', 'V18', 'V14', 'V26', 'V8', 'V9', 'V5', 'V24', 'V2', 'V15']\n",
      "tempcol ['V10', 'V17', 'V7', 'V18', 'V14', 'V26', 'V8', 'V9', 'V5', 'V24', 'V2', 'V15', 'V25']\n",
      "V25\n"
     ]
    },
    {
     "name": "stderr",
     "output_type": "stream",
     "text": [
      "/Users/kte/opt/anaconda3/envs/tensor/lib/python3.7/site-packages/sklearn/base.py:451: UserWarning: X does not have valid feature names, but IsolationForest was fitted with feature names\n",
      "  \"X does not have valid feature names, but\"\n"
     ]
    },
    {
     "name": "stdout",
     "output_type": "stream",
     "text": [
      "              precision    recall  f1-score   support\n",
      "\n",
      "           0       1.00      1.00      1.00     28432\n",
      "           1       0.81      0.57      0.67        30\n",
      "\n",
      "    accuracy                           1.00     28462\n",
      "   macro avg       0.90      0.78      0.83     28462\n",
      "weighted avg       1.00      1.00      1.00     28462\n",
      "\n",
      "0.833183877528294\n",
      "selected ['V10', 'V17', 'V7', 'V18', 'V14', 'V26', 'V8', 'V9', 'V5', 'V24', 'V2', 'V15']\n",
      "tempcol ['V10', 'V17', 'V7', 'V18', 'V14', 'V26', 'V8', 'V9', 'V5', 'V24', 'V2', 'V15', 'V27']\n",
      "V27\n"
     ]
    },
    {
     "name": "stderr",
     "output_type": "stream",
     "text": [
      "/Users/kte/opt/anaconda3/envs/tensor/lib/python3.7/site-packages/sklearn/base.py:451: UserWarning: X does not have valid feature names, but IsolationForest was fitted with feature names\n",
      "  \"X does not have valid feature names, but\"\n"
     ]
    },
    {
     "name": "stdout",
     "output_type": "stream",
     "text": [
      "              precision    recall  f1-score   support\n",
      "\n",
      "           0       1.00      1.00      1.00     28432\n",
      "           1       0.71      0.57      0.63        30\n",
      "\n",
      "    accuracy                           1.00     28462\n",
      "   macro avg       0.85      0.78      0.81     28462\n",
      "weighted avg       1.00      1.00      1.00     28462\n",
      "\n",
      "0.8146389751805612\n",
      "selected ['V10', 'V17', 'V7', 'V18', 'V14', 'V26', 'V8', 'V9', 'V5', 'V24', 'V2', 'V15']\n",
      "tempcol ['V10', 'V17', 'V7', 'V18', 'V14', 'V26', 'V8', 'V9', 'V5', 'V24', 'V2', 'V15', 'V28']\n",
      "V28\n"
     ]
    },
    {
     "name": "stderr",
     "output_type": "stream",
     "text": [
      "/Users/kte/opt/anaconda3/envs/tensor/lib/python3.7/site-packages/sklearn/base.py:451: UserWarning: X does not have valid feature names, but IsolationForest was fitted with feature names\n",
      "  \"X does not have valid feature names, but\"\n"
     ]
    },
    {
     "name": "stdout",
     "output_type": "stream",
     "text": [
      "              precision    recall  f1-score   support\n",
      "\n",
      "           0       1.00      1.00      1.00     28432\n",
      "           1       0.77      0.57      0.65        30\n",
      "\n",
      "    accuracy                           1.00     28462\n",
      "   macro avg       0.89      0.78      0.83     28462\n",
      "weighted avg       1.00      1.00      1.00     28462\n",
      "\n",
      "0.8267648268175769\n",
      "추가\n",
      "count : 232 번\n",
      "selected ['V10', 'V17', 'V7', 'V18', 'V14', 'V26', 'V8', 'V9', 'V5', 'V24', 'V2', 'V15', 'V12']\n",
      "tempcol ['V10', 'V17', 'V7', 'V18', 'V14', 'V26', 'V8', 'V9', 'V5', 'V24', 'V2', 'V15', 'V12', 'V1']\n",
      "V1\n"
     ]
    },
    {
     "name": "stderr",
     "output_type": "stream",
     "text": [
      "/Users/kte/opt/anaconda3/envs/tensor/lib/python3.7/site-packages/sklearn/base.py:451: UserWarning: X does not have valid feature names, but IsolationForest was fitted with feature names\n",
      "  \"X does not have valid feature names, but\"\n"
     ]
    },
    {
     "name": "stdout",
     "output_type": "stream",
     "text": [
      "              precision    recall  f1-score   support\n",
      "\n",
      "           0       1.00      1.00      1.00     28432\n",
      "           1       0.86      0.60      0.71        30\n",
      "\n",
      "    accuracy                           1.00     28462\n",
      "   macro avg       0.93      0.80      0.85     28462\n",
      "weighted avg       1.00      1.00      1.00     28462\n",
      "\n",
      "0.8528093037014359\n",
      "selected ['V10', 'V17', 'V7', 'V18', 'V14', 'V26', 'V8', 'V9', 'V5', 'V24', 'V2', 'V15', 'V12']\n",
      "tempcol ['V10', 'V17', 'V7', 'V18', 'V14', 'V26', 'V8', 'V9', 'V5', 'V24', 'V2', 'V15', 'V12', 'V3']\n",
      "V3\n"
     ]
    },
    {
     "name": "stderr",
     "output_type": "stream",
     "text": [
      "/Users/kte/opt/anaconda3/envs/tensor/lib/python3.7/site-packages/sklearn/base.py:451: UserWarning: X does not have valid feature names, but IsolationForest was fitted with feature names\n",
      "  \"X does not have valid feature names, but\"\n"
     ]
    },
    {
     "name": "stdout",
     "output_type": "stream",
     "text": [
      "              precision    recall  f1-score   support\n",
      "\n",
      "           0       1.00      1.00      1.00     28432\n",
      "           1       0.82      0.60      0.69        30\n",
      "\n",
      "    accuracy                           1.00     28462\n",
      "   macro avg       0.91      0.80      0.85     28462\n",
      "weighted avg       1.00      1.00      1.00     28462\n",
      "\n",
      "0.8460131793934016\n",
      "selected ['V10', 'V17', 'V7', 'V18', 'V14', 'V26', 'V8', 'V9', 'V5', 'V24', 'V2', 'V15', 'V12']\n",
      "tempcol ['V10', 'V17', 'V7', 'V18', 'V14', 'V26', 'V8', 'V9', 'V5', 'V24', 'V2', 'V15', 'V12', 'V4']\n",
      "V4\n"
     ]
    },
    {
     "name": "stderr",
     "output_type": "stream",
     "text": [
      "/Users/kte/opt/anaconda3/envs/tensor/lib/python3.7/site-packages/sklearn/base.py:451: UserWarning: X does not have valid feature names, but IsolationForest was fitted with feature names\n",
      "  \"X does not have valid feature names, but\"\n"
     ]
    },
    {
     "name": "stdout",
     "output_type": "stream",
     "text": [
      "              precision    recall  f1-score   support\n",
      "\n",
      "           0       1.00      1.00      1.00     28432\n",
      "           1       0.74      0.57      0.64        30\n",
      "\n",
      "    accuracy                           1.00     28462\n",
      "   macro avg       0.87      0.78      0.82     28462\n",
      "weighted avg       1.00      1.00      1.00     28462\n",
      "\n",
      "0.8205876722658993\n",
      "selected ['V10', 'V17', 'V7', 'V18', 'V14', 'V26', 'V8', 'V9', 'V5', 'V24', 'V2', 'V15', 'V12']\n",
      "tempcol ['V10', 'V17', 'V7', 'V18', 'V14', 'V26', 'V8', 'V9', 'V5', 'V24', 'V2', 'V15', 'V12', 'V6']\n",
      "V6\n"
     ]
    },
    {
     "name": "stderr",
     "output_type": "stream",
     "text": [
      "/Users/kte/opt/anaconda3/envs/tensor/lib/python3.7/site-packages/sklearn/base.py:451: UserWarning: X does not have valid feature names, but IsolationForest was fitted with feature names\n",
      "  \"X does not have valid feature names, but\"\n"
     ]
    },
    {
     "name": "stdout",
     "output_type": "stream",
     "text": [
      "              precision    recall  f1-score   support\n",
      "\n",
      "           0       1.00      1.00      1.00     28432\n",
      "           1       0.75      0.60      0.67        30\n",
      "\n",
      "    accuracy                           1.00     28462\n",
      "   macro avg       0.87      0.80      0.83     28462\n",
      "weighted avg       1.00      1.00      1.00     28462\n",
      "\n",
      "0.8331750776625051\n",
      "selected ['V10', 'V17', 'V7', 'V18', 'V14', 'V26', 'V8', 'V9', 'V5', 'V24', 'V2', 'V15', 'V12']\n",
      "tempcol ['V10', 'V17', 'V7', 'V18', 'V14', 'V26', 'V8', 'V9', 'V5', 'V24', 'V2', 'V15', 'V12', 'V11']\n",
      "V11\n"
     ]
    },
    {
     "name": "stderr",
     "output_type": "stream",
     "text": [
      "/Users/kte/opt/anaconda3/envs/tensor/lib/python3.7/site-packages/sklearn/base.py:451: UserWarning: X does not have valid feature names, but IsolationForest was fitted with feature names\n",
      "  \"X does not have valid feature names, but\"\n"
     ]
    },
    {
     "name": "stdout",
     "output_type": "stream",
     "text": [
      "              precision    recall  f1-score   support\n",
      "\n",
      "           0       1.00      1.00      1.00     28432\n",
      "           1       0.86      0.60      0.71        30\n",
      "\n",
      "    accuracy                           1.00     28462\n",
      "   macro avg       0.93      0.80      0.85     28462\n",
      "weighted avg       1.00      1.00      1.00     28462\n",
      "\n",
      "0.8528093037014359\n",
      "selected ['V10', 'V17', 'V7', 'V18', 'V14', 'V26', 'V8', 'V9', 'V5', 'V24', 'V2', 'V15', 'V12']\n",
      "tempcol ['V10', 'V17', 'V7', 'V18', 'V14', 'V26', 'V8', 'V9', 'V5', 'V24', 'V2', 'V15', 'V12', 'V13']\n",
      "V13\n"
     ]
    },
    {
     "name": "stderr",
     "output_type": "stream",
     "text": [
      "/Users/kte/opt/anaconda3/envs/tensor/lib/python3.7/site-packages/sklearn/base.py:451: UserWarning: X does not have valid feature names, but IsolationForest was fitted with feature names\n",
      "  \"X does not have valid feature names, but\"\n"
     ]
    },
    {
     "name": "stdout",
     "output_type": "stream",
     "text": [
      "              precision    recall  f1-score   support\n",
      "\n",
      "           0       1.00      1.00      1.00     28432\n",
      "           1       0.82      0.60      0.69        30\n",
      "\n",
      "    accuracy                           1.00     28462\n",
      "   macro avg       0.91      0.80      0.85     28462\n",
      "weighted avg       1.00      1.00      1.00     28462\n",
      "\n",
      "0.8460131793934016\n",
      "selected ['V10', 'V17', 'V7', 'V18', 'V14', 'V26', 'V8', 'V9', 'V5', 'V24', 'V2', 'V15', 'V12']\n",
      "tempcol ['V10', 'V17', 'V7', 'V18', 'V14', 'V26', 'V8', 'V9', 'V5', 'V24', 'V2', 'V15', 'V12', 'V16']\n",
      "V16\n"
     ]
    },
    {
     "name": "stderr",
     "output_type": "stream",
     "text": [
      "/Users/kte/opt/anaconda3/envs/tensor/lib/python3.7/site-packages/sklearn/base.py:451: UserWarning: X does not have valid feature names, but IsolationForest was fitted with feature names\n",
      "  \"X does not have valid feature names, but\"\n"
     ]
    },
    {
     "name": "stdout",
     "output_type": "stream",
     "text": [
      "              precision    recall  f1-score   support\n",
      "\n",
      "           0       1.00      1.00      1.00     28432\n",
      "           1       0.82      0.60      0.69        30\n",
      "\n",
      "    accuracy                           1.00     28462\n",
      "   macro avg       0.91      0.80      0.85     28462\n",
      "weighted avg       1.00      1.00      1.00     28462\n",
      "\n",
      "0.8460131793934016\n",
      "selected ['V10', 'V17', 'V7', 'V18', 'V14', 'V26', 'V8', 'V9', 'V5', 'V24', 'V2', 'V15', 'V12']\n",
      "tempcol ['V10', 'V17', 'V7', 'V18', 'V14', 'V26', 'V8', 'V9', 'V5', 'V24', 'V2', 'V15', 'V12', 'V19']\n",
      "V19\n"
     ]
    },
    {
     "name": "stderr",
     "output_type": "stream",
     "text": [
      "/Users/kte/opt/anaconda3/envs/tensor/lib/python3.7/site-packages/sklearn/base.py:451: UserWarning: X does not have valid feature names, but IsolationForest was fitted with feature names\n",
      "  \"X does not have valid feature names, but\"\n"
     ]
    },
    {
     "name": "stdout",
     "output_type": "stream",
     "text": [
      "              precision    recall  f1-score   support\n",
      "\n",
      "           0       1.00      1.00      1.00     28432\n",
      "           1       0.85      0.57      0.68        30\n",
      "\n",
      "    accuracy                           1.00     28462\n",
      "   macro avg       0.92      0.78      0.84     28462\n",
      "weighted avg       1.00      1.00      1.00     28462\n",
      "\n",
      "0.8398593381861659\n",
      "selected ['V10', 'V17', 'V7', 'V18', 'V14', 'V26', 'V8', 'V9', 'V5', 'V24', 'V2', 'V15', 'V12']\n",
      "tempcol ['V10', 'V17', 'V7', 'V18', 'V14', 'V26', 'V8', 'V9', 'V5', 'V24', 'V2', 'V15', 'V12', 'V20']\n",
      "V20\n"
     ]
    },
    {
     "name": "stderr",
     "output_type": "stream",
     "text": [
      "/Users/kte/opt/anaconda3/envs/tensor/lib/python3.7/site-packages/sklearn/base.py:451: UserWarning: X does not have valid feature names, but IsolationForest was fitted with feature names\n",
      "  \"X does not have valid feature names, but\"\n"
     ]
    },
    {
     "name": "stdout",
     "output_type": "stream",
     "text": [
      "              precision    recall  f1-score   support\n",
      "\n",
      "           0       1.00      1.00      1.00     28432\n",
      "           1       0.81      0.57      0.67        30\n",
      "\n",
      "    accuracy                           1.00     28462\n",
      "   macro avg       0.90      0.78      0.83     28462\n",
      "weighted avg       1.00      1.00      1.00     28462\n",
      "\n",
      "0.833183877528294\n",
      "selected ['V10', 'V17', 'V7', 'V18', 'V14', 'V26', 'V8', 'V9', 'V5', 'V24', 'V2', 'V15', 'V12']\n",
      "tempcol ['V10', 'V17', 'V7', 'V18', 'V14', 'V26', 'V8', 'V9', 'V5', 'V24', 'V2', 'V15', 'V12', 'V21']\n",
      "V21\n"
     ]
    },
    {
     "name": "stderr",
     "output_type": "stream",
     "text": [
      "/Users/kte/opt/anaconda3/envs/tensor/lib/python3.7/site-packages/sklearn/base.py:451: UserWarning: X does not have valid feature names, but IsolationForest was fitted with feature names\n",
      "  \"X does not have valid feature names, but\"\n"
     ]
    },
    {
     "name": "stdout",
     "output_type": "stream",
     "text": [
      "              precision    recall  f1-score   support\n",
      "\n",
      "           0       1.00      1.00      1.00     28432\n",
      "           1       0.77      0.57      0.65        30\n",
      "\n",
      "    accuracy                           1.00     28462\n",
      "   macro avg       0.89      0.78      0.83     28462\n",
      "weighted avg       1.00      1.00      1.00     28462\n",
      "\n",
      "0.8267648268175769\n",
      "selected ['V10', 'V17', 'V7', 'V18', 'V14', 'V26', 'V8', 'V9', 'V5', 'V24', 'V2', 'V15', 'V12']\n",
      "tempcol ['V10', 'V17', 'V7', 'V18', 'V14', 'V26', 'V8', 'V9', 'V5', 'V24', 'V2', 'V15', 'V12', 'V22']\n",
      "V22\n"
     ]
    },
    {
     "name": "stderr",
     "output_type": "stream",
     "text": [
      "/Users/kte/opt/anaconda3/envs/tensor/lib/python3.7/site-packages/sklearn/base.py:451: UserWarning: X does not have valid feature names, but IsolationForest was fitted with feature names\n",
      "  \"X does not have valid feature names, but\"\n"
     ]
    },
    {
     "name": "stdout",
     "output_type": "stream",
     "text": [
      "              precision    recall  f1-score   support\n",
      "\n",
      "           0       1.00      1.00      1.00     28432\n",
      "           1       0.83      0.63      0.72        30\n",
      "\n",
      "    accuracy                           1.00     28462\n",
      "   macro avg       0.91      0.82      0.86     28462\n",
      "weighted avg       1.00      1.00      1.00     28462\n",
      "\n",
      "0.8583586886309732\n",
      "selected ['V10', 'V17', 'V7', 'V18', 'V14', 'V26', 'V8', 'V9', 'V5', 'V24', 'V2', 'V15', 'V12']\n",
      "tempcol ['V10', 'V17', 'V7', 'V18', 'V14', 'V26', 'V8', 'V9', 'V5', 'V24', 'V2', 'V15', 'V12', 'V23']\n",
      "V23\n"
     ]
    },
    {
     "name": "stderr",
     "output_type": "stream",
     "text": [
      "/Users/kte/opt/anaconda3/envs/tensor/lib/python3.7/site-packages/sklearn/base.py:451: UserWarning: X does not have valid feature names, but IsolationForest was fitted with feature names\n",
      "  \"X does not have valid feature names, but\"\n"
     ]
    },
    {
     "name": "stdout",
     "output_type": "stream",
     "text": [
      "              precision    recall  f1-score   support\n",
      "\n",
      "           0       1.00      1.00      1.00     28432\n",
      "           1       0.78      0.60      0.68        30\n",
      "\n",
      "    accuracy                           1.00     28462\n",
      "   macro avg       0.89      0.80      0.84     28462\n",
      "weighted avg       1.00      1.00      1.00     28462\n",
      "\n",
      "0.8394731804484362\n",
      "selected ['V10', 'V17', 'V7', 'V18', 'V14', 'V26', 'V8', 'V9', 'V5', 'V24', 'V2', 'V15', 'V12']\n",
      "tempcol ['V10', 'V17', 'V7', 'V18', 'V14', 'V26', 'V8', 'V9', 'V5', 'V24', 'V2', 'V15', 'V12', 'V25']\n",
      "V25\n"
     ]
    },
    {
     "name": "stderr",
     "output_type": "stream",
     "text": [
      "/Users/kte/opt/anaconda3/envs/tensor/lib/python3.7/site-packages/sklearn/base.py:451: UserWarning: X does not have valid feature names, but IsolationForest was fitted with feature names\n",
      "  \"X does not have valid feature names, but\"\n"
     ]
    },
    {
     "name": "stdout",
     "output_type": "stream",
     "text": [
      "              precision    recall  f1-score   support\n",
      "\n",
      "           0       1.00      1.00      1.00     28432\n",
      "           1       0.86      0.60      0.71        30\n",
      "\n",
      "    accuracy                           1.00     28462\n",
      "   macro avg       0.93      0.80      0.85     28462\n",
      "weighted avg       1.00      1.00      1.00     28462\n",
      "\n",
      "0.8528093037014359\n",
      "selected ['V10', 'V17', 'V7', 'V18', 'V14', 'V26', 'V8', 'V9', 'V5', 'V24', 'V2', 'V15', 'V12']\n",
      "tempcol ['V10', 'V17', 'V7', 'V18', 'V14', 'V26', 'V8', 'V9', 'V5', 'V24', 'V2', 'V15', 'V12', 'V27']\n",
      "V27\n"
     ]
    },
    {
     "name": "stderr",
     "output_type": "stream",
     "text": [
      "/Users/kte/opt/anaconda3/envs/tensor/lib/python3.7/site-packages/sklearn/base.py:451: UserWarning: X does not have valid feature names, but IsolationForest was fitted with feature names\n",
      "  \"X does not have valid feature names, but\"\n"
     ]
    },
    {
     "name": "stdout",
     "output_type": "stream",
     "text": [
      "              precision    recall  f1-score   support\n",
      "\n",
      "           0       1.00      1.00      1.00     28432\n",
      "           1       0.71      0.57      0.63        30\n",
      "\n",
      "    accuracy                           1.00     28462\n",
      "   macro avg       0.85      0.78      0.81     28462\n",
      "weighted avg       1.00      1.00      1.00     28462\n",
      "\n",
      "0.8146389751805612\n",
      "selected ['V10', 'V17', 'V7', 'V18', 'V14', 'V26', 'V8', 'V9', 'V5', 'V24', 'V2', 'V15', 'V12']\n",
      "tempcol ['V10', 'V17', 'V7', 'V18', 'V14', 'V26', 'V8', 'V9', 'V5', 'V24', 'V2', 'V15', 'V12', 'V28']\n",
      "V28\n"
     ]
    },
    {
     "name": "stderr",
     "output_type": "stream",
     "text": [
      "/Users/kte/opt/anaconda3/envs/tensor/lib/python3.7/site-packages/sklearn/base.py:451: UserWarning: X does not have valid feature names, but IsolationForest was fitted with feature names\n",
      "  \"X does not have valid feature names, but\"\n"
     ]
    },
    {
     "name": "stdout",
     "output_type": "stream",
     "text": [
      "              precision    recall  f1-score   support\n",
      "\n",
      "           0       1.00      1.00      1.00     28432\n",
      "           1       0.78      0.60      0.68        30\n",
      "\n",
      "    accuracy                           1.00     28462\n",
      "   macro avg       0.89      0.80      0.84     28462\n",
      "weighted avg       1.00      1.00      1.00     28462\n",
      "\n",
      "0.8394731804484362\n",
      "추가\n",
      "count : 247 번\n",
      "selected ['V10', 'V17', 'V7', 'V18', 'V14', 'V26', 'V8', 'V9', 'V5', 'V24', 'V2', 'V15', 'V12', 'V22']\n",
      "tempcol ['V10', 'V17', 'V7', 'V18', 'V14', 'V26', 'V8', 'V9', 'V5', 'V24', 'V2', 'V15', 'V12', 'V22', 'V1']\n",
      "V1\n"
     ]
    },
    {
     "name": "stderr",
     "output_type": "stream",
     "text": [
      "/Users/kte/opt/anaconda3/envs/tensor/lib/python3.7/site-packages/sklearn/base.py:451: UserWarning: X does not have valid feature names, but IsolationForest was fitted with feature names\n",
      "  \"X does not have valid feature names, but\"\n"
     ]
    },
    {
     "name": "stdout",
     "output_type": "stream",
     "text": [
      "              precision    recall  f1-score   support\n",
      "\n",
      "           0       1.00      1.00      1.00     28432\n",
      "           1       0.67      0.60      0.63        30\n",
      "\n",
      "    accuracy                           1.00     28462\n",
      "   macro avg       0.83      0.80      0.82     28462\n",
      "weighted avg       1.00      1.00      1.00     28462\n",
      "\n",
      "0.8156048323280637\n",
      "selected ['V10', 'V17', 'V7', 'V18', 'V14', 'V26', 'V8', 'V9', 'V5', 'V24', 'V2', 'V15', 'V12', 'V22']\n",
      "tempcol ['V10', 'V17', 'V7', 'V18', 'V14', 'V26', 'V8', 'V9', 'V5', 'V24', 'V2', 'V15', 'V12', 'V22', 'V3']\n",
      "V3\n"
     ]
    },
    {
     "name": "stderr",
     "output_type": "stream",
     "text": [
      "/Users/kte/opt/anaconda3/envs/tensor/lib/python3.7/site-packages/sklearn/base.py:451: UserWarning: X does not have valid feature names, but IsolationForest was fitted with feature names\n",
      "  \"X does not have valid feature names, but\"\n"
     ]
    },
    {
     "name": "stdout",
     "output_type": "stream",
     "text": [
      "              precision    recall  f1-score   support\n",
      "\n",
      "           0       1.00      1.00      1.00     28432\n",
      "           1       0.77      0.57      0.65        30\n",
      "\n",
      "    accuracy                           1.00     28462\n",
      "   macro avg       0.89      0.78      0.83     28462\n",
      "weighted avg       1.00      1.00      1.00     28462\n",
      "\n",
      "0.8267648268175769\n",
      "selected ['V10', 'V17', 'V7', 'V18', 'V14', 'V26', 'V8', 'V9', 'V5', 'V24', 'V2', 'V15', 'V12', 'V22']\n",
      "tempcol ['V10', 'V17', 'V7', 'V18', 'V14', 'V26', 'V8', 'V9', 'V5', 'V24', 'V2', 'V15', 'V12', 'V22', 'V4']\n",
      "V4\n"
     ]
    },
    {
     "name": "stderr",
     "output_type": "stream",
     "text": [
      "/Users/kte/opt/anaconda3/envs/tensor/lib/python3.7/site-packages/sklearn/base.py:451: UserWarning: X does not have valid feature names, but IsolationForest was fitted with feature names\n",
      "  \"X does not have valid feature names, but\"\n"
     ]
    },
    {
     "name": "stdout",
     "output_type": "stream",
     "text": [
      "              precision    recall  f1-score   support\n",
      "\n",
      "           0       1.00      1.00      1.00     28432\n",
      "           1       0.63      0.57      0.60        30\n",
      "\n",
      "    accuracy                           1.00     28462\n",
      "   macro avg       0.81      0.78      0.80     28462\n",
      "weighted avg       1.00      1.00      1.00     28462\n",
      "\n",
      "0.7980433877878794\n",
      "selected ['V10', 'V17', 'V7', 'V18', 'V14', 'V26', 'V8', 'V9', 'V5', 'V24', 'V2', 'V15', 'V12', 'V22']\n",
      "tempcol ['V10', 'V17', 'V7', 'V18', 'V14', 'V26', 'V8', 'V9', 'V5', 'V24', 'V2', 'V15', 'V12', 'V22', 'V6']\n",
      "V6\n"
     ]
    },
    {
     "name": "stderr",
     "output_type": "stream",
     "text": [
      "/Users/kte/opt/anaconda3/envs/tensor/lib/python3.7/site-packages/sklearn/base.py:451: UserWarning: X does not have valid feature names, but IsolationForest was fitted with feature names\n",
      "  \"X does not have valid feature names, but\"\n"
     ]
    },
    {
     "name": "stdout",
     "output_type": "stream",
     "text": [
      "              precision    recall  f1-score   support\n",
      "\n",
      "           0       1.00      1.00      1.00     28432\n",
      "           1       0.72      0.60      0.65        30\n",
      "\n",
      "    accuracy                           1.00     28462\n",
      "   macro avg       0.86      0.80      0.83     28462\n",
      "weighted avg       1.00      1.00      1.00     28462\n",
      "\n",
      "0.8271056766827749\n",
      "selected ['V10', 'V17', 'V7', 'V18', 'V14', 'V26', 'V8', 'V9', 'V5', 'V24', 'V2', 'V15', 'V12', 'V22']\n",
      "tempcol ['V10', 'V17', 'V7', 'V18', 'V14', 'V26', 'V8', 'V9', 'V5', 'V24', 'V2', 'V15', 'V12', 'V22', 'V11']\n",
      "V11\n"
     ]
    },
    {
     "name": "stderr",
     "output_type": "stream",
     "text": [
      "/Users/kte/opt/anaconda3/envs/tensor/lib/python3.7/site-packages/sklearn/base.py:451: UserWarning: X does not have valid feature names, but IsolationForest was fitted with feature names\n",
      "  \"X does not have valid feature names, but\"\n"
     ]
    },
    {
     "name": "stdout",
     "output_type": "stream",
     "text": [
      "              precision    recall  f1-score   support\n",
      "\n",
      "           0       1.00      1.00      1.00     28432\n",
      "           1       0.77      0.57      0.65        30\n",
      "\n",
      "    accuracy                           1.00     28462\n",
      "   macro avg       0.89      0.78      0.83     28462\n",
      "weighted avg       1.00      1.00      1.00     28462\n",
      "\n",
      "0.8267648268175769\n",
      "selected ['V10', 'V17', 'V7', 'V18', 'V14', 'V26', 'V8', 'V9', 'V5', 'V24', 'V2', 'V15', 'V12', 'V22']\n",
      "tempcol ['V10', 'V17', 'V7', 'V18', 'V14', 'V26', 'V8', 'V9', 'V5', 'V24', 'V2', 'V15', 'V12', 'V22', 'V13']\n",
      "V13\n"
     ]
    },
    {
     "name": "stderr",
     "output_type": "stream",
     "text": [
      "/Users/kte/opt/anaconda3/envs/tensor/lib/python3.7/site-packages/sklearn/base.py:451: UserWarning: X does not have valid feature names, but IsolationForest was fitted with feature names\n",
      "  \"X does not have valid feature names, but\"\n"
     ]
    },
    {
     "name": "stdout",
     "output_type": "stream",
     "text": [
      "              precision    recall  f1-score   support\n",
      "\n",
      "           0       1.00      1.00      1.00     28432\n",
      "           1       0.71      0.57      0.63        30\n",
      "\n",
      "    accuracy                           1.00     28462\n",
      "   macro avg       0.85      0.78      0.81     28462\n",
      "weighted avg       1.00      1.00      1.00     28462\n",
      "\n",
      "0.8146389751805612\n",
      "selected ['V10', 'V17', 'V7', 'V18', 'V14', 'V26', 'V8', 'V9', 'V5', 'V24', 'V2', 'V15', 'V12', 'V22']\n",
      "tempcol ['V10', 'V17', 'V7', 'V18', 'V14', 'V26', 'V8', 'V9', 'V5', 'V24', 'V2', 'V15', 'V12', 'V22', 'V16']\n",
      "V16\n"
     ]
    },
    {
     "name": "stderr",
     "output_type": "stream",
     "text": [
      "/Users/kte/opt/anaconda3/envs/tensor/lib/python3.7/site-packages/sklearn/base.py:451: UserWarning: X does not have valid feature names, but IsolationForest was fitted with feature names\n",
      "  \"X does not have valid feature names, but\"\n"
     ]
    },
    {
     "name": "stdout",
     "output_type": "stream",
     "text": [
      "              precision    recall  f1-score   support\n",
      "\n",
      "           0       1.00      1.00      1.00     28432\n",
      "           1       0.74      0.57      0.64        30\n",
      "\n",
      "    accuracy                           1.00     28462\n",
      "   macro avg       0.87      0.78      0.82     28462\n",
      "weighted avg       1.00      1.00      1.00     28462\n",
      "\n",
      "0.8205876722658993\n",
      "selected ['V10', 'V17', 'V7', 'V18', 'V14', 'V26', 'V8', 'V9', 'V5', 'V24', 'V2', 'V15', 'V12', 'V22']\n",
      "tempcol ['V10', 'V17', 'V7', 'V18', 'V14', 'V26', 'V8', 'V9', 'V5', 'V24', 'V2', 'V15', 'V12', 'V22', 'V19']\n",
      "V19\n"
     ]
    },
    {
     "name": "stderr",
     "output_type": "stream",
     "text": [
      "/Users/kte/opt/anaconda3/envs/tensor/lib/python3.7/site-packages/sklearn/base.py:451: UserWarning: X does not have valid feature names, but IsolationForest was fitted with feature names\n",
      "  \"X does not have valid feature names, but\"\n"
     ]
    },
    {
     "name": "stdout",
     "output_type": "stream",
     "text": [
      "              precision    recall  f1-score   support\n",
      "\n",
      "           0       1.00      1.00      1.00     28432\n",
      "           1       0.72      0.60      0.65        30\n",
      "\n",
      "    accuracy                           1.00     28462\n",
      "   macro avg       0.86      0.80      0.83     28462\n",
      "weighted avg       1.00      1.00      1.00     28462\n",
      "\n",
      "0.8271056766827749\n",
      "selected ['V10', 'V17', 'V7', 'V18', 'V14', 'V26', 'V8', 'V9', 'V5', 'V24', 'V2', 'V15', 'V12', 'V22']\n",
      "tempcol ['V10', 'V17', 'V7', 'V18', 'V14', 'V26', 'V8', 'V9', 'V5', 'V24', 'V2', 'V15', 'V12', 'V22', 'V20']\n",
      "V20\n"
     ]
    },
    {
     "name": "stderr",
     "output_type": "stream",
     "text": [
      "/Users/kte/opt/anaconda3/envs/tensor/lib/python3.7/site-packages/sklearn/base.py:451: UserWarning: X does not have valid feature names, but IsolationForest was fitted with feature names\n",
      "  \"X does not have valid feature names, but\"\n"
     ]
    },
    {
     "name": "stdout",
     "output_type": "stream",
     "text": [
      "              precision    recall  f1-score   support\n",
      "\n",
      "           0       1.00      1.00      1.00     28432\n",
      "           1       0.68      0.57      0.62        30\n",
      "\n",
      "    accuracy                           1.00     28462\n",
      "   macro avg       0.84      0.78      0.81     28462\n",
      "weighted avg       1.00      1.00      1.00     28462\n",
      "\n",
      "0.8089062742283302\n",
      "selected ['V10', 'V17', 'V7', 'V18', 'V14', 'V26', 'V8', 'V9', 'V5', 'V24', 'V2', 'V15', 'V12', 'V22']\n",
      "tempcol ['V10', 'V17', 'V7', 'V18', 'V14', 'V26', 'V8', 'V9', 'V5', 'V24', 'V2', 'V15', 'V12', 'V22', 'V21']\n",
      "V21\n"
     ]
    },
    {
     "name": "stderr",
     "output_type": "stream",
     "text": [
      "/Users/kte/opt/anaconda3/envs/tensor/lib/python3.7/site-packages/sklearn/base.py:451: UserWarning: X does not have valid feature names, but IsolationForest was fitted with feature names\n",
      "  \"X does not have valid feature names, but\"\n"
     ]
    },
    {
     "name": "stdout",
     "output_type": "stream",
     "text": [
      "              precision    recall  f1-score   support\n",
      "\n",
      "           0       1.00      1.00      1.00     28432\n",
      "           1       0.74      0.57      0.64        30\n",
      "\n",
      "    accuracy                           1.00     28462\n",
      "   macro avg       0.87      0.78      0.82     28462\n",
      "weighted avg       1.00      1.00      1.00     28462\n",
      "\n",
      "0.8205876722658993\n",
      "selected ['V10', 'V17', 'V7', 'V18', 'V14', 'V26', 'V8', 'V9', 'V5', 'V24', 'V2', 'V15', 'V12', 'V22']\n",
      "tempcol ['V10', 'V17', 'V7', 'V18', 'V14', 'V26', 'V8', 'V9', 'V5', 'V24', 'V2', 'V15', 'V12', 'V22', 'V23']\n",
      "V23\n"
     ]
    },
    {
     "name": "stderr",
     "output_type": "stream",
     "text": [
      "/Users/kte/opt/anaconda3/envs/tensor/lib/python3.7/site-packages/sklearn/base.py:451: UserWarning: X does not have valid feature names, but IsolationForest was fitted with feature names\n",
      "  \"X does not have valid feature names, but\"\n"
     ]
    },
    {
     "name": "stdout",
     "output_type": "stream",
     "text": [
      "              precision    recall  f1-score   support\n",
      "\n",
      "           0       1.00      1.00      1.00     28432\n",
      "           1       0.68      0.57      0.62        30\n",
      "\n",
      "    accuracy                           1.00     28462\n",
      "   macro avg       0.84      0.78      0.81     28462\n",
      "weighted avg       1.00      1.00      1.00     28462\n",
      "\n",
      "0.8089062742283302\n",
      "selected ['V10', 'V17', 'V7', 'V18', 'V14', 'V26', 'V8', 'V9', 'V5', 'V24', 'V2', 'V15', 'V12', 'V22']\n",
      "tempcol ['V10', 'V17', 'V7', 'V18', 'V14', 'V26', 'V8', 'V9', 'V5', 'V24', 'V2', 'V15', 'V12', 'V22', 'V25']\n",
      "V25\n"
     ]
    },
    {
     "name": "stderr",
     "output_type": "stream",
     "text": [
      "/Users/kte/opt/anaconda3/envs/tensor/lib/python3.7/site-packages/sklearn/base.py:451: UserWarning: X does not have valid feature names, but IsolationForest was fitted with feature names\n",
      "  \"X does not have valid feature names, but\"\n"
     ]
    },
    {
     "name": "stdout",
     "output_type": "stream",
     "text": [
      "              precision    recall  f1-score   support\n",
      "\n",
      "           0       1.00      1.00      1.00     28432\n",
      "           1       0.68      0.57      0.62        30\n",
      "\n",
      "    accuracy                           1.00     28462\n",
      "   macro avg       0.84      0.78      0.81     28462\n",
      "weighted avg       1.00      1.00      1.00     28462\n",
      "\n",
      "0.8089062742283302\n",
      "selected ['V10', 'V17', 'V7', 'V18', 'V14', 'V26', 'V8', 'V9', 'V5', 'V24', 'V2', 'V15', 'V12', 'V22']\n",
      "tempcol ['V10', 'V17', 'V7', 'V18', 'V14', 'V26', 'V8', 'V9', 'V5', 'V24', 'V2', 'V15', 'V12', 'V22', 'V27']\n",
      "V27\n"
     ]
    },
    {
     "name": "stderr",
     "output_type": "stream",
     "text": [
      "/Users/kte/opt/anaconda3/envs/tensor/lib/python3.7/site-packages/sklearn/base.py:451: UserWarning: X does not have valid feature names, but IsolationForest was fitted with feature names\n",
      "  \"X does not have valid feature names, but\"\n"
     ]
    },
    {
     "name": "stdout",
     "output_type": "stream",
     "text": [
      "              precision    recall  f1-score   support\n",
      "\n",
      "           0       1.00      1.00      1.00     28432\n",
      "           1       0.65      0.57      0.61        30\n",
      "\n",
      "    accuracy                           1.00     28462\n",
      "   macro avg       0.83      0.78      0.80     28462\n",
      "weighted avg       1.00      1.00      1.00     28462\n",
      "\n",
      "0.8033779981712035\n",
      "selected ['V10', 'V17', 'V7', 'V18', 'V14', 'V26', 'V8', 'V9', 'V5', 'V24', 'V2', 'V15', 'V12', 'V22']\n",
      "tempcol ['V10', 'V17', 'V7', 'V18', 'V14', 'V26', 'V8', 'V9', 'V5', 'V24', 'V2', 'V15', 'V12', 'V22', 'V28']\n",
      "V28\n"
     ]
    },
    {
     "name": "stderr",
     "output_type": "stream",
     "text": [
      "/Users/kte/opt/anaconda3/envs/tensor/lib/python3.7/site-packages/sklearn/base.py:451: UserWarning: X does not have valid feature names, but IsolationForest was fitted with feature names\n",
      "  \"X does not have valid feature names, but\"\n"
     ]
    },
    {
     "name": "stdout",
     "output_type": "stream",
     "text": [
      "              precision    recall  f1-score   support\n",
      "\n",
      "           0       1.00      1.00      1.00     28432\n",
      "           1       0.65      0.57      0.61        30\n",
      "\n",
      "    accuracy                           1.00     28462\n",
      "   macro avg       0.83      0.78      0.80     28462\n",
      "weighted avg       1.00      1.00      1.00     28462\n",
      "\n",
      "0.8033779981712035\n",
      "추가\n",
      "count : 261 번\n",
      "selected ['V10', 'V17', 'V7', 'V18', 'V14', 'V26', 'V8', 'V9', 'V5', 'V24', 'V2', 'V15', 'V12', 'V22', 'V6']\n",
      "tempcol ['V10', 'V17', 'V7', 'V18', 'V14', 'V26', 'V8', 'V9', 'V5', 'V24', 'V2', 'V15', 'V12', 'V22', 'V6', 'V1']\n",
      "V1\n"
     ]
    },
    {
     "name": "stderr",
     "output_type": "stream",
     "text": [
      "/Users/kte/opt/anaconda3/envs/tensor/lib/python3.7/site-packages/sklearn/base.py:451: UserWarning: X does not have valid feature names, but IsolationForest was fitted with feature names\n",
      "  \"X does not have valid feature names, but\"\n"
     ]
    },
    {
     "name": "stdout",
     "output_type": "stream",
     "text": [
      "              precision    recall  f1-score   support\n",
      "\n",
      "           0       1.00      1.00      1.00     28432\n",
      "           1       0.72      0.60      0.65        30\n",
      "\n",
      "    accuracy                           1.00     28462\n",
      "   macro avg       0.86      0.80      0.83     28462\n",
      "weighted avg       1.00      1.00      1.00     28462\n",
      "\n",
      "0.8271056766827749\n",
      "selected ['V10', 'V17', 'V7', 'V18', 'V14', 'V26', 'V8', 'V9', 'V5', 'V24', 'V2', 'V15', 'V12', 'V22', 'V6']\n",
      "tempcol ['V10', 'V17', 'V7', 'V18', 'V14', 'V26', 'V8', 'V9', 'V5', 'V24', 'V2', 'V15', 'V12', 'V22', 'V6', 'V3']\n",
      "V3\n"
     ]
    },
    {
     "name": "stderr",
     "output_type": "stream",
     "text": [
      "/Users/kte/opt/anaconda3/envs/tensor/lib/python3.7/site-packages/sklearn/base.py:451: UserWarning: X does not have valid feature names, but IsolationForest was fitted with feature names\n",
      "  \"X does not have valid feature names, but\"\n"
     ]
    },
    {
     "name": "stdout",
     "output_type": "stream",
     "text": [
      "              precision    recall  f1-score   support\n",
      "\n",
      "           0       1.00      1.00      1.00     28432\n",
      "           1       0.68      0.57      0.62        30\n",
      "\n",
      "    accuracy                           1.00     28462\n",
      "   macro avg       0.84      0.78      0.81     28462\n",
      "weighted avg       1.00      1.00      1.00     28462\n",
      "\n",
      "0.8089062742283302\n",
      "selected ['V10', 'V17', 'V7', 'V18', 'V14', 'V26', 'V8', 'V9', 'V5', 'V24', 'V2', 'V15', 'V12', 'V22', 'V6']\n",
      "tempcol ['V10', 'V17', 'V7', 'V18', 'V14', 'V26', 'V8', 'V9', 'V5', 'V24', 'V2', 'V15', 'V12', 'V22', 'V6', 'V4']\n",
      "V4\n"
     ]
    },
    {
     "name": "stderr",
     "output_type": "stream",
     "text": [
      "/Users/kte/opt/anaconda3/envs/tensor/lib/python3.7/site-packages/sklearn/base.py:451: UserWarning: X does not have valid feature names, but IsolationForest was fitted with feature names\n",
      "  \"X does not have valid feature names, but\"\n"
     ]
    },
    {
     "name": "stdout",
     "output_type": "stream",
     "text": [
      "              precision    recall  f1-score   support\n",
      "\n",
      "           0       1.00      1.00      1.00     28432\n",
      "           1       0.72      0.60      0.65        30\n",
      "\n",
      "    accuracy                           1.00     28462\n",
      "   macro avg       0.86      0.80      0.83     28462\n",
      "weighted avg       1.00      1.00      1.00     28462\n",
      "\n",
      "0.8271056766827749\n",
      "selected ['V10', 'V17', 'V7', 'V18', 'V14', 'V26', 'V8', 'V9', 'V5', 'V24', 'V2', 'V15', 'V12', 'V22', 'V6']\n",
      "tempcol ['V10', 'V17', 'V7', 'V18', 'V14', 'V26', 'V8', 'V9', 'V5', 'V24', 'V2', 'V15', 'V12', 'V22', 'V6', 'V11']\n",
      "V11\n"
     ]
    },
    {
     "name": "stderr",
     "output_type": "stream",
     "text": [
      "/Users/kte/opt/anaconda3/envs/tensor/lib/python3.7/site-packages/sklearn/base.py:451: UserWarning: X does not have valid feature names, but IsolationForest was fitted with feature names\n",
      "  \"X does not have valid feature names, but\"\n"
     ]
    },
    {
     "name": "stdout",
     "output_type": "stream",
     "text": [
      "              precision    recall  f1-score   support\n",
      "\n",
      "           0       1.00      1.00      1.00     28432\n",
      "           1       0.77      0.57      0.65        30\n",
      "\n",
      "    accuracy                           1.00     28462\n",
      "   macro avg       0.89      0.78      0.83     28462\n",
      "weighted avg       1.00      1.00      1.00     28462\n",
      "\n",
      "0.8267648268175769\n",
      "selected ['V10', 'V17', 'V7', 'V18', 'V14', 'V26', 'V8', 'V9', 'V5', 'V24', 'V2', 'V15', 'V12', 'V22', 'V6']\n",
      "tempcol ['V10', 'V17', 'V7', 'V18', 'V14', 'V26', 'V8', 'V9', 'V5', 'V24', 'V2', 'V15', 'V12', 'V22', 'V6', 'V13']\n",
      "V13\n"
     ]
    },
    {
     "name": "stderr",
     "output_type": "stream",
     "text": [
      "/Users/kte/opt/anaconda3/envs/tensor/lib/python3.7/site-packages/sklearn/base.py:451: UserWarning: X does not have valid feature names, but IsolationForest was fitted with feature names\n",
      "  \"X does not have valid feature names, but\"\n"
     ]
    },
    {
     "name": "stdout",
     "output_type": "stream",
     "text": [
      "              precision    recall  f1-score   support\n",
      "\n",
      "           0       1.00      1.00      1.00     28432\n",
      "           1       0.71      0.57      0.63        30\n",
      "\n",
      "    accuracy                           1.00     28462\n",
      "   macro avg       0.85      0.78      0.81     28462\n",
      "weighted avg       1.00      1.00      1.00     28462\n",
      "\n",
      "0.8146389751805612\n",
      "selected ['V10', 'V17', 'V7', 'V18', 'V14', 'V26', 'V8', 'V9', 'V5', 'V24', 'V2', 'V15', 'V12', 'V22', 'V6']\n",
      "tempcol ['V10', 'V17', 'V7', 'V18', 'V14', 'V26', 'V8', 'V9', 'V5', 'V24', 'V2', 'V15', 'V12', 'V22', 'V6', 'V16']\n",
      "V16\n"
     ]
    },
    {
     "name": "stderr",
     "output_type": "stream",
     "text": [
      "/Users/kte/opt/anaconda3/envs/tensor/lib/python3.7/site-packages/sklearn/base.py:451: UserWarning: X does not have valid feature names, but IsolationForest was fitted with feature names\n",
      "  \"X does not have valid feature names, but\"\n"
     ]
    },
    {
     "name": "stdout",
     "output_type": "stream",
     "text": [
      "              precision    recall  f1-score   support\n",
      "\n",
      "           0       1.00      1.00      1.00     28432\n",
      "           1       0.74      0.57      0.64        30\n",
      "\n",
      "    accuracy                           1.00     28462\n",
      "   macro avg       0.87      0.78      0.82     28462\n",
      "weighted avg       1.00      1.00      1.00     28462\n",
      "\n",
      "0.8205876722658993\n",
      "selected ['V10', 'V17', 'V7', 'V18', 'V14', 'V26', 'V8', 'V9', 'V5', 'V24', 'V2', 'V15', 'V12', 'V22', 'V6']\n",
      "tempcol ['V10', 'V17', 'V7', 'V18', 'V14', 'V26', 'V8', 'V9', 'V5', 'V24', 'V2', 'V15', 'V12', 'V22', 'V6', 'V19']\n",
      "V19\n"
     ]
    },
    {
     "name": "stderr",
     "output_type": "stream",
     "text": [
      "/Users/kte/opt/anaconda3/envs/tensor/lib/python3.7/site-packages/sklearn/base.py:451: UserWarning: X does not have valid feature names, but IsolationForest was fitted with feature names\n",
      "  \"X does not have valid feature names, but\"\n"
     ]
    },
    {
     "name": "stdout",
     "output_type": "stream",
     "text": [
      "              precision    recall  f1-score   support\n",
      "\n",
      "           0       1.00      1.00      1.00     28432\n",
      "           1       0.78      0.60      0.68        30\n",
      "\n",
      "    accuracy                           1.00     28462\n",
      "   macro avg       0.89      0.80      0.84     28462\n",
      "weighted avg       1.00      1.00      1.00     28462\n",
      "\n",
      "0.8394731804484362\n",
      "selected ['V10', 'V17', 'V7', 'V18', 'V14', 'V26', 'V8', 'V9', 'V5', 'V24', 'V2', 'V15', 'V12', 'V22', 'V6']\n",
      "tempcol ['V10', 'V17', 'V7', 'V18', 'V14', 'V26', 'V8', 'V9', 'V5', 'V24', 'V2', 'V15', 'V12', 'V22', 'V6', 'V20']\n",
      "V20\n"
     ]
    },
    {
     "name": "stderr",
     "output_type": "stream",
     "text": [
      "/Users/kte/opt/anaconda3/envs/tensor/lib/python3.7/site-packages/sklearn/base.py:451: UserWarning: X does not have valid feature names, but IsolationForest was fitted with feature names\n",
      "  \"X does not have valid feature names, but\"\n"
     ]
    },
    {
     "name": "stdout",
     "output_type": "stream",
     "text": [
      "              precision    recall  f1-score   support\n",
      "\n",
      "           0       1.00      1.00      1.00     28432\n",
      "           1       0.61      0.57      0.59        30\n",
      "\n",
      "    accuracy                           1.00     28462\n",
      "   macro avg       0.80      0.78      0.79     28462\n",
      "weighted avg       1.00      1.00      1.00     28462\n",
      "\n",
      "0.7928924258723169\n",
      "selected ['V10', 'V17', 'V7', 'V18', 'V14', 'V26', 'V8', 'V9', 'V5', 'V24', 'V2', 'V15', 'V12', 'V22', 'V6']\n",
      "tempcol ['V10', 'V17', 'V7', 'V18', 'V14', 'V26', 'V8', 'V9', 'V5', 'V24', 'V2', 'V15', 'V12', 'V22', 'V6', 'V21']\n",
      "V21\n"
     ]
    },
    {
     "name": "stderr",
     "output_type": "stream",
     "text": [
      "/Users/kte/opt/anaconda3/envs/tensor/lib/python3.7/site-packages/sklearn/base.py:451: UserWarning: X does not have valid feature names, but IsolationForest was fitted with feature names\n",
      "  \"X does not have valid feature names, but\"\n"
     ]
    },
    {
     "name": "stdout",
     "output_type": "stream",
     "text": [
      "              precision    recall  f1-score   support\n",
      "\n",
      "           0       1.00      1.00      1.00     28432\n",
      "           1       0.72      0.60      0.65        30\n",
      "\n",
      "    accuracy                           1.00     28462\n",
      "   macro avg       0.86      0.80      0.83     28462\n",
      "weighted avg       1.00      1.00      1.00     28462\n",
      "\n",
      "0.8271056766827749\n",
      "selected ['V10', 'V17', 'V7', 'V18', 'V14', 'V26', 'V8', 'V9', 'V5', 'V24', 'V2', 'V15', 'V12', 'V22', 'V6']\n",
      "tempcol ['V10', 'V17', 'V7', 'V18', 'V14', 'V26', 'V8', 'V9', 'V5', 'V24', 'V2', 'V15', 'V12', 'V22', 'V6', 'V23']\n",
      "V23\n"
     ]
    },
    {
     "name": "stderr",
     "output_type": "stream",
     "text": [
      "/Users/kte/opt/anaconda3/envs/tensor/lib/python3.7/site-packages/sklearn/base.py:451: UserWarning: X does not have valid feature names, but IsolationForest was fitted with feature names\n",
      "  \"X does not have valid feature names, but\"\n"
     ]
    },
    {
     "name": "stdout",
     "output_type": "stream",
     "text": [
      "              precision    recall  f1-score   support\n",
      "\n",
      "           0       1.00      1.00      1.00     28432\n",
      "           1       0.71      0.57      0.63        30\n",
      "\n",
      "    accuracy                           1.00     28462\n",
      "   macro avg       0.85      0.78      0.81     28462\n",
      "weighted avg       1.00      1.00      1.00     28462\n",
      "\n",
      "0.8146389751805612\n",
      "selected ['V10', 'V17', 'V7', 'V18', 'V14', 'V26', 'V8', 'V9', 'V5', 'V24', 'V2', 'V15', 'V12', 'V22', 'V6']\n",
      "tempcol ['V10', 'V17', 'V7', 'V18', 'V14', 'V26', 'V8', 'V9', 'V5', 'V24', 'V2', 'V15', 'V12', 'V22', 'V6', 'V25']\n",
      "V25\n"
     ]
    },
    {
     "name": "stderr",
     "output_type": "stream",
     "text": [
      "/Users/kte/opt/anaconda3/envs/tensor/lib/python3.7/site-packages/sklearn/base.py:451: UserWarning: X does not have valid feature names, but IsolationForest was fitted with feature names\n",
      "  \"X does not have valid feature names, but\"\n"
     ]
    },
    {
     "name": "stdout",
     "output_type": "stream",
     "text": [
      "              precision    recall  f1-score   support\n",
      "\n",
      "           0       1.00      1.00      1.00     28432\n",
      "           1       0.77      0.57      0.65        30\n",
      "\n",
      "    accuracy                           1.00     28462\n",
      "   macro avg       0.89      0.78      0.83     28462\n",
      "weighted avg       1.00      1.00      1.00     28462\n",
      "\n",
      "0.8267648268175769\n",
      "selected ['V10', 'V17', 'V7', 'V18', 'V14', 'V26', 'V8', 'V9', 'V5', 'V24', 'V2', 'V15', 'V12', 'V22', 'V6']\n",
      "tempcol ['V10', 'V17', 'V7', 'V18', 'V14', 'V26', 'V8', 'V9', 'V5', 'V24', 'V2', 'V15', 'V12', 'V22', 'V6', 'V27']\n",
      "V27\n"
     ]
    },
    {
     "name": "stderr",
     "output_type": "stream",
     "text": [
      "/Users/kte/opt/anaconda3/envs/tensor/lib/python3.7/site-packages/sklearn/base.py:451: UserWarning: X does not have valid feature names, but IsolationForest was fitted with feature names\n",
      "  \"X does not have valid feature names, but\"\n"
     ]
    },
    {
     "name": "stdout",
     "output_type": "stream",
     "text": [
      "              precision    recall  f1-score   support\n",
      "\n",
      "           0       1.00      1.00      1.00     28432\n",
      "           1       0.65      0.57      0.61        30\n",
      "\n",
      "    accuracy                           1.00     28462\n",
      "   macro avg       0.83      0.78      0.80     28462\n",
      "weighted avg       1.00      1.00      1.00     28462\n",
      "\n",
      "0.8033779981712035\n",
      "selected ['V10', 'V17', 'V7', 'V18', 'V14', 'V26', 'V8', 'V9', 'V5', 'V24', 'V2', 'V15', 'V12', 'V22', 'V6']\n",
      "tempcol ['V10', 'V17', 'V7', 'V18', 'V14', 'V26', 'V8', 'V9', 'V5', 'V24', 'V2', 'V15', 'V12', 'V22', 'V6', 'V28']\n",
      "V28\n"
     ]
    },
    {
     "name": "stderr",
     "output_type": "stream",
     "text": [
      "/Users/kte/opt/anaconda3/envs/tensor/lib/python3.7/site-packages/sklearn/base.py:451: UserWarning: X does not have valid feature names, but IsolationForest was fitted with feature names\n",
      "  \"X does not have valid feature names, but\"\n"
     ]
    },
    {
     "name": "stdout",
     "output_type": "stream",
     "text": [
      "              precision    recall  f1-score   support\n",
      "\n",
      "           0       1.00      1.00      1.00     28432\n",
      "           1       0.68      0.57      0.62        30\n",
      "\n",
      "    accuracy                           1.00     28462\n",
      "   macro avg       0.84      0.78      0.81     28462\n",
      "weighted avg       1.00      1.00      1.00     28462\n",
      "\n",
      "0.8089062742283302\n",
      "추가\n",
      "count : 274 번\n",
      "selected ['V10', 'V17', 'V7', 'V18', 'V14', 'V26', 'V8', 'V9', 'V5', 'V24', 'V2', 'V15', 'V12', 'V22', 'V6', 'V19']\n",
      "tempcol ['V10', 'V17', 'V7', 'V18', 'V14', 'V26', 'V8', 'V9', 'V5', 'V24', 'V2', 'V15', 'V12', 'V22', 'V6', 'V19', 'V1']\n",
      "V1\n"
     ]
    },
    {
     "name": "stderr",
     "output_type": "stream",
     "text": [
      "/Users/kte/opt/anaconda3/envs/tensor/lib/python3.7/site-packages/sklearn/base.py:451: UserWarning: X does not have valid feature names, but IsolationForest was fitted with feature names\n",
      "  \"X does not have valid feature names, but\"\n"
     ]
    },
    {
     "name": "stdout",
     "output_type": "stream",
     "text": [
      "              precision    recall  f1-score   support\n",
      "\n",
      "           0       1.00      1.00      1.00     28432\n",
      "           1       0.63      0.57      0.60        30\n",
      "\n",
      "    accuracy                           1.00     28462\n",
      "   macro avg       0.81      0.78      0.80     28462\n",
      "weighted avg       1.00      1.00      1.00     28462\n",
      "\n",
      "0.7980433877878794\n",
      "selected ['V10', 'V17', 'V7', 'V18', 'V14', 'V26', 'V8', 'V9', 'V5', 'V24', 'V2', 'V15', 'V12', 'V22', 'V6', 'V19']\n",
      "tempcol ['V10', 'V17', 'V7', 'V18', 'V14', 'V26', 'V8', 'V9', 'V5', 'V24', 'V2', 'V15', 'V12', 'V22', 'V6', 'V19', 'V3']\n",
      "V3\n"
     ]
    },
    {
     "name": "stderr",
     "output_type": "stream",
     "text": [
      "/Users/kte/opt/anaconda3/envs/tensor/lib/python3.7/site-packages/sklearn/base.py:451: UserWarning: X does not have valid feature names, but IsolationForest was fitted with feature names\n",
      "  \"X does not have valid feature names, but\"\n"
     ]
    },
    {
     "name": "stdout",
     "output_type": "stream",
     "text": [
      "              precision    recall  f1-score   support\n",
      "\n",
      "           0       1.00      1.00      1.00     28432\n",
      "           1       0.65      0.57      0.61        30\n",
      "\n",
      "    accuracy                           1.00     28462\n",
      "   macro avg       0.83      0.78      0.80     28462\n",
      "weighted avg       1.00      1.00      1.00     28462\n",
      "\n",
      "0.8033779981712035\n",
      "selected ['V10', 'V17', 'V7', 'V18', 'V14', 'V26', 'V8', 'V9', 'V5', 'V24', 'V2', 'V15', 'V12', 'V22', 'V6', 'V19']\n",
      "tempcol ['V10', 'V17', 'V7', 'V18', 'V14', 'V26', 'V8', 'V9', 'V5', 'V24', 'V2', 'V15', 'V12', 'V22', 'V6', 'V19', 'V4']\n",
      "V4\n"
     ]
    },
    {
     "name": "stderr",
     "output_type": "stream",
     "text": [
      "/Users/kte/opt/anaconda3/envs/tensor/lib/python3.7/site-packages/sklearn/base.py:451: UserWarning: X does not have valid feature names, but IsolationForest was fitted with feature names\n",
      "  \"X does not have valid feature names, but\"\n"
     ]
    },
    {
     "name": "stdout",
     "output_type": "stream",
     "text": [
      "              precision    recall  f1-score   support\n",
      "\n",
      "           0       1.00      1.00      1.00     28432\n",
      "           1       0.63      0.57      0.60        30\n",
      "\n",
      "    accuracy                           1.00     28462\n",
      "   macro avg       0.81      0.78      0.80     28462\n",
      "weighted avg       1.00      1.00      1.00     28462\n",
      "\n",
      "0.7980433877878794\n",
      "selected ['V10', 'V17', 'V7', 'V18', 'V14', 'V26', 'V8', 'V9', 'V5', 'V24', 'V2', 'V15', 'V12', 'V22', 'V6', 'V19']\n",
      "tempcol ['V10', 'V17', 'V7', 'V18', 'V14', 'V26', 'V8', 'V9', 'V5', 'V24', 'V2', 'V15', 'V12', 'V22', 'V6', 'V19', 'V11']\n",
      "V11\n"
     ]
    },
    {
     "name": "stderr",
     "output_type": "stream",
     "text": [
      "/Users/kte/opt/anaconda3/envs/tensor/lib/python3.7/site-packages/sklearn/base.py:451: UserWarning: X does not have valid feature names, but IsolationForest was fitted with feature names\n",
      "  \"X does not have valid feature names, but\"\n"
     ]
    },
    {
     "name": "stdout",
     "output_type": "stream",
     "text": [
      "              precision    recall  f1-score   support\n",
      "\n",
      "           0       1.00      1.00      1.00     28432\n",
      "           1       0.68      0.57      0.62        30\n",
      "\n",
      "    accuracy                           1.00     28462\n",
      "   macro avg       0.84      0.78      0.81     28462\n",
      "weighted avg       1.00      1.00      1.00     28462\n",
      "\n",
      "0.8089062742283302\n",
      "selected ['V10', 'V17', 'V7', 'V18', 'V14', 'V26', 'V8', 'V9', 'V5', 'V24', 'V2', 'V15', 'V12', 'V22', 'V6', 'V19']\n",
      "tempcol ['V10', 'V17', 'V7', 'V18', 'V14', 'V26', 'V8', 'V9', 'V5', 'V24', 'V2', 'V15', 'V12', 'V22', 'V6', 'V19', 'V13']\n",
      "V13\n"
     ]
    },
    {
     "name": "stderr",
     "output_type": "stream",
     "text": [
      "/Users/kte/opt/anaconda3/envs/tensor/lib/python3.7/site-packages/sklearn/base.py:451: UserWarning: X does not have valid feature names, but IsolationForest was fitted with feature names\n",
      "  \"X does not have valid feature names, but\"\n"
     ]
    },
    {
     "name": "stdout",
     "output_type": "stream",
     "text": [
      "              precision    recall  f1-score   support\n",
      "\n",
      "           0       1.00      1.00      1.00     28432\n",
      "           1       0.63      0.57      0.60        30\n",
      "\n",
      "    accuracy                           1.00     28462\n",
      "   macro avg       0.81      0.78      0.80     28462\n",
      "weighted avg       1.00      1.00      1.00     28462\n",
      "\n",
      "0.7980433877878794\n",
      "selected ['V10', 'V17', 'V7', 'V18', 'V14', 'V26', 'V8', 'V9', 'V5', 'V24', 'V2', 'V15', 'V12', 'V22', 'V6', 'V19']\n",
      "tempcol ['V10', 'V17', 'V7', 'V18', 'V14', 'V26', 'V8', 'V9', 'V5', 'V24', 'V2', 'V15', 'V12', 'V22', 'V6', 'V19', 'V16']\n",
      "V16\n"
     ]
    },
    {
     "name": "stderr",
     "output_type": "stream",
     "text": [
      "/Users/kte/opt/anaconda3/envs/tensor/lib/python3.7/site-packages/sklearn/base.py:451: UserWarning: X does not have valid feature names, but IsolationForest was fitted with feature names\n",
      "  \"X does not have valid feature names, but\"\n"
     ]
    },
    {
     "name": "stdout",
     "output_type": "stream",
     "text": [
      "              precision    recall  f1-score   support\n",
      "\n",
      "           0       1.00      1.00      1.00     28432\n",
      "           1       0.63      0.57      0.60        30\n",
      "\n",
      "    accuracy                           1.00     28462\n",
      "   macro avg       0.81      0.78      0.80     28462\n",
      "weighted avg       1.00      1.00      1.00     28462\n",
      "\n",
      "0.7980433877878794\n",
      "selected ['V10', 'V17', 'V7', 'V18', 'V14', 'V26', 'V8', 'V9', 'V5', 'V24', 'V2', 'V15', 'V12', 'V22', 'V6', 'V19']\n",
      "tempcol ['V10', 'V17', 'V7', 'V18', 'V14', 'V26', 'V8', 'V9', 'V5', 'V24', 'V2', 'V15', 'V12', 'V22', 'V6', 'V19', 'V20']\n",
      "V20\n"
     ]
    },
    {
     "name": "stderr",
     "output_type": "stream",
     "text": [
      "/Users/kte/opt/anaconda3/envs/tensor/lib/python3.7/site-packages/sklearn/base.py:451: UserWarning: X does not have valid feature names, but IsolationForest was fitted with feature names\n",
      "  \"X does not have valid feature names, but\"\n"
     ]
    },
    {
     "name": "stdout",
     "output_type": "stream",
     "text": [
      "              precision    recall  f1-score   support\n",
      "\n",
      "           0       1.00      1.00      1.00     28432\n",
      "           1       0.63      0.57      0.60        30\n",
      "\n",
      "    accuracy                           1.00     28462\n",
      "   macro avg       0.81      0.78      0.80     28462\n",
      "weighted avg       1.00      1.00      1.00     28462\n",
      "\n",
      "0.7980433877878794\n",
      "selected ['V10', 'V17', 'V7', 'V18', 'V14', 'V26', 'V8', 'V9', 'V5', 'V24', 'V2', 'V15', 'V12', 'V22', 'V6', 'V19']\n",
      "tempcol ['V10', 'V17', 'V7', 'V18', 'V14', 'V26', 'V8', 'V9', 'V5', 'V24', 'V2', 'V15', 'V12', 'V22', 'V6', 'V19', 'V21']\n",
      "V21\n"
     ]
    },
    {
     "name": "stderr",
     "output_type": "stream",
     "text": [
      "/Users/kte/opt/anaconda3/envs/tensor/lib/python3.7/site-packages/sklearn/base.py:451: UserWarning: X does not have valid feature names, but IsolationForest was fitted with feature names\n",
      "  \"X does not have valid feature names, but\"\n"
     ]
    },
    {
     "name": "stdout",
     "output_type": "stream",
     "text": [
      "              precision    recall  f1-score   support\n",
      "\n",
      "           0       1.00      1.00      1.00     28432\n",
      "           1       0.65      0.57      0.61        30\n",
      "\n",
      "    accuracy                           1.00     28462\n",
      "   macro avg       0.83      0.78      0.80     28462\n",
      "weighted avg       1.00      1.00      1.00     28462\n",
      "\n",
      "0.8033779981712035\n",
      "selected ['V10', 'V17', 'V7', 'V18', 'V14', 'V26', 'V8', 'V9', 'V5', 'V24', 'V2', 'V15', 'V12', 'V22', 'V6', 'V19']\n",
      "tempcol ['V10', 'V17', 'V7', 'V18', 'V14', 'V26', 'V8', 'V9', 'V5', 'V24', 'V2', 'V15', 'V12', 'V22', 'V6', 'V19', 'V23']\n",
      "V23\n"
     ]
    },
    {
     "name": "stderr",
     "output_type": "stream",
     "text": [
      "/Users/kte/opt/anaconda3/envs/tensor/lib/python3.7/site-packages/sklearn/base.py:451: UserWarning: X does not have valid feature names, but IsolationForest was fitted with feature names\n",
      "  \"X does not have valid feature names, but\"\n"
     ]
    },
    {
     "name": "stdout",
     "output_type": "stream",
     "text": [
      "              precision    recall  f1-score   support\n",
      "\n",
      "           0       1.00      1.00      1.00     28432\n",
      "           1       0.61      0.57      0.59        30\n",
      "\n",
      "    accuracy                           1.00     28462\n",
      "   macro avg       0.80      0.78      0.79     28462\n",
      "weighted avg       1.00      1.00      1.00     28462\n",
      "\n",
      "0.7928924258723169\n",
      "selected ['V10', 'V17', 'V7', 'V18', 'V14', 'V26', 'V8', 'V9', 'V5', 'V24', 'V2', 'V15', 'V12', 'V22', 'V6', 'V19']\n",
      "tempcol ['V10', 'V17', 'V7', 'V18', 'V14', 'V26', 'V8', 'V9', 'V5', 'V24', 'V2', 'V15', 'V12', 'V22', 'V6', 'V19', 'V25']\n",
      "V25\n"
     ]
    },
    {
     "name": "stderr",
     "output_type": "stream",
     "text": [
      "/Users/kte/opt/anaconda3/envs/tensor/lib/python3.7/site-packages/sklearn/base.py:451: UserWarning: X does not have valid feature names, but IsolationForest was fitted with feature names\n",
      "  \"X does not have valid feature names, but\"\n"
     ]
    },
    {
     "name": "stdout",
     "output_type": "stream",
     "text": [
      "              precision    recall  f1-score   support\n",
      "\n",
      "           0       1.00      1.00      1.00     28432\n",
      "           1       0.63      0.57      0.60        30\n",
      "\n",
      "    accuracy                           1.00     28462\n",
      "   macro avg       0.81      0.78      0.80     28462\n",
      "weighted avg       1.00      1.00      1.00     28462\n",
      "\n",
      "0.7980433877878794\n",
      "selected ['V10', 'V17', 'V7', 'V18', 'V14', 'V26', 'V8', 'V9', 'V5', 'V24', 'V2', 'V15', 'V12', 'V22', 'V6', 'V19']\n",
      "tempcol ['V10', 'V17', 'V7', 'V18', 'V14', 'V26', 'V8', 'V9', 'V5', 'V24', 'V2', 'V15', 'V12', 'V22', 'V6', 'V19', 'V27']\n",
      "V27\n"
     ]
    },
    {
     "name": "stderr",
     "output_type": "stream",
     "text": [
      "/Users/kte/opt/anaconda3/envs/tensor/lib/python3.7/site-packages/sklearn/base.py:451: UserWarning: X does not have valid feature names, but IsolationForest was fitted with feature names\n",
      "  \"X does not have valid feature names, but\"\n"
     ]
    },
    {
     "name": "stdout",
     "output_type": "stream",
     "text": [
      "              precision    recall  f1-score   support\n",
      "\n",
      "           0       1.00      1.00      1.00     28432\n",
      "           1       0.61      0.57      0.59        30\n",
      "\n",
      "    accuracy                           1.00     28462\n",
      "   macro avg       0.80      0.78      0.79     28462\n",
      "weighted avg       1.00      1.00      1.00     28462\n",
      "\n",
      "0.7928924258723169\n",
      "selected ['V10', 'V17', 'V7', 'V18', 'V14', 'V26', 'V8', 'V9', 'V5', 'V24', 'V2', 'V15', 'V12', 'V22', 'V6', 'V19']\n",
      "tempcol ['V10', 'V17', 'V7', 'V18', 'V14', 'V26', 'V8', 'V9', 'V5', 'V24', 'V2', 'V15', 'V12', 'V22', 'V6', 'V19', 'V28']\n",
      "V28\n"
     ]
    },
    {
     "name": "stderr",
     "output_type": "stream",
     "text": [
      "/Users/kte/opt/anaconda3/envs/tensor/lib/python3.7/site-packages/sklearn/base.py:451: UserWarning: X does not have valid feature names, but IsolationForest was fitted with feature names\n",
      "  \"X does not have valid feature names, but\"\n"
     ]
    },
    {
     "name": "stdout",
     "output_type": "stream",
     "text": [
      "              precision    recall  f1-score   support\n",
      "\n",
      "           0       1.00      1.00      1.00     28432\n",
      "           1       0.61      0.57      0.59        30\n",
      "\n",
      "    accuracy                           1.00     28462\n",
      "   macro avg       0.80      0.78      0.79     28462\n",
      "weighted avg       1.00      1.00      1.00     28462\n",
      "\n",
      "0.7928924258723169\n",
      "추가\n",
      "count : 286 번\n",
      "selected ['V10', 'V17', 'V7', 'V18', 'V14', 'V26', 'V8', 'V9', 'V5', 'V24', 'V2', 'V15', 'V12', 'V22', 'V6', 'V19', 'V11']\n",
      "tempcol ['V10', 'V17', 'V7', 'V18', 'V14', 'V26', 'V8', 'V9', 'V5', 'V24', 'V2', 'V15', 'V12', 'V22', 'V6', 'V19', 'V11', 'V1']\n",
      "V1\n"
     ]
    },
    {
     "name": "stderr",
     "output_type": "stream",
     "text": [
      "/Users/kte/opt/anaconda3/envs/tensor/lib/python3.7/site-packages/sklearn/base.py:451: UserWarning: X does not have valid feature names, but IsolationForest was fitted with feature names\n",
      "  \"X does not have valid feature names, but\"\n"
     ]
    },
    {
     "name": "stdout",
     "output_type": "stream",
     "text": [
      "              precision    recall  f1-score   support\n",
      "\n",
      "           0       1.00      1.00      1.00     28432\n",
      "           1       0.68      0.57      0.62        30\n",
      "\n",
      "    accuracy                           1.00     28462\n",
      "   macro avg       0.84      0.78      0.81     28462\n",
      "weighted avg       1.00      1.00      1.00     28462\n",
      "\n",
      "0.8089062742283302\n",
      "selected ['V10', 'V17', 'V7', 'V18', 'V14', 'V26', 'V8', 'V9', 'V5', 'V24', 'V2', 'V15', 'V12', 'V22', 'V6', 'V19', 'V11']\n",
      "tempcol ['V10', 'V17', 'V7', 'V18', 'V14', 'V26', 'V8', 'V9', 'V5', 'V24', 'V2', 'V15', 'V12', 'V22', 'V6', 'V19', 'V11', 'V3']\n",
      "V3\n"
     ]
    },
    {
     "name": "stderr",
     "output_type": "stream",
     "text": [
      "/Users/kte/opt/anaconda3/envs/tensor/lib/python3.7/site-packages/sklearn/base.py:451: UserWarning: X does not have valid feature names, but IsolationForest was fitted with feature names\n",
      "  \"X does not have valid feature names, but\"\n"
     ]
    },
    {
     "name": "stdout",
     "output_type": "stream",
     "text": [
      "              precision    recall  f1-score   support\n",
      "\n",
      "           0       1.00      1.00      1.00     28432\n",
      "           1       0.74      0.57      0.64        30\n",
      "\n",
      "    accuracy                           1.00     28462\n",
      "   macro avg       0.87      0.78      0.82     28462\n",
      "weighted avg       1.00      1.00      1.00     28462\n",
      "\n",
      "0.8205876722658993\n",
      "selected ['V10', 'V17', 'V7', 'V18', 'V14', 'V26', 'V8', 'V9', 'V5', 'V24', 'V2', 'V15', 'V12', 'V22', 'V6', 'V19', 'V11']\n",
      "tempcol ['V10', 'V17', 'V7', 'V18', 'V14', 'V26', 'V8', 'V9', 'V5', 'V24', 'V2', 'V15', 'V12', 'V22', 'V6', 'V19', 'V11', 'V4']\n",
      "V4\n"
     ]
    },
    {
     "name": "stderr",
     "output_type": "stream",
     "text": [
      "/Users/kte/opt/anaconda3/envs/tensor/lib/python3.7/site-packages/sklearn/base.py:451: UserWarning: X does not have valid feature names, but IsolationForest was fitted with feature names\n",
      "  \"X does not have valid feature names, but\"\n"
     ]
    },
    {
     "name": "stdout",
     "output_type": "stream",
     "text": [
      "              precision    recall  f1-score   support\n",
      "\n",
      "           0       1.00      1.00      1.00     28432\n",
      "           1       0.63      0.57      0.60        30\n",
      "\n",
      "    accuracy                           1.00     28462\n",
      "   macro avg       0.81      0.78      0.80     28462\n",
      "weighted avg       1.00      1.00      1.00     28462\n",
      "\n",
      "0.7980433877878794\n",
      "selected ['V10', 'V17', 'V7', 'V18', 'V14', 'V26', 'V8', 'V9', 'V5', 'V24', 'V2', 'V15', 'V12', 'V22', 'V6', 'V19', 'V11']\n",
      "tempcol ['V10', 'V17', 'V7', 'V18', 'V14', 'V26', 'V8', 'V9', 'V5', 'V24', 'V2', 'V15', 'V12', 'V22', 'V6', 'V19', 'V11', 'V13']\n",
      "V13\n"
     ]
    },
    {
     "name": "stderr",
     "output_type": "stream",
     "text": [
      "/Users/kte/opt/anaconda3/envs/tensor/lib/python3.7/site-packages/sklearn/base.py:451: UserWarning: X does not have valid feature names, but IsolationForest was fitted with feature names\n",
      "  \"X does not have valid feature names, but\"\n"
     ]
    },
    {
     "name": "stdout",
     "output_type": "stream",
     "text": [
      "              precision    recall  f1-score   support\n",
      "\n",
      "           0       1.00      1.00      1.00     28432\n",
      "           1       0.59      0.57      0.58        30\n",
      "\n",
      "    accuracy                           1.00     28462\n",
      "   macro avg       0.79      0.78      0.79     28462\n",
      "weighted avg       1.00      1.00      1.00     28462\n",
      "\n",
      "0.7879157743510873\n",
      "selected ['V10', 'V17', 'V7', 'V18', 'V14', 'V26', 'V8', 'V9', 'V5', 'V24', 'V2', 'V15', 'V12', 'V22', 'V6', 'V19', 'V11']\n",
      "tempcol ['V10', 'V17', 'V7', 'V18', 'V14', 'V26', 'V8', 'V9', 'V5', 'V24', 'V2', 'V15', 'V12', 'V22', 'V6', 'V19', 'V11', 'V16']\n",
      "V16\n"
     ]
    },
    {
     "name": "stderr",
     "output_type": "stream",
     "text": [
      "/Users/kte/opt/anaconda3/envs/tensor/lib/python3.7/site-packages/sklearn/base.py:451: UserWarning: X does not have valid feature names, but IsolationForest was fitted with feature names\n",
      "  \"X does not have valid feature names, but\"\n"
     ]
    },
    {
     "name": "stdout",
     "output_type": "stream",
     "text": [
      "              precision    recall  f1-score   support\n",
      "\n",
      "           0       1.00      1.00      1.00     28432\n",
      "           1       0.68      0.57      0.62        30\n",
      "\n",
      "    accuracy                           1.00     28462\n",
      "   macro avg       0.84      0.78      0.81     28462\n",
      "weighted avg       1.00      1.00      1.00     28462\n",
      "\n",
      "0.8089062742283302\n",
      "selected ['V10', 'V17', 'V7', 'V18', 'V14', 'V26', 'V8', 'V9', 'V5', 'V24', 'V2', 'V15', 'V12', 'V22', 'V6', 'V19', 'V11']\n",
      "tempcol ['V10', 'V17', 'V7', 'V18', 'V14', 'V26', 'V8', 'V9', 'V5', 'V24', 'V2', 'V15', 'V12', 'V22', 'V6', 'V19', 'V11', 'V20']\n",
      "V20\n"
     ]
    },
    {
     "name": "stderr",
     "output_type": "stream",
     "text": [
      "/Users/kte/opt/anaconda3/envs/tensor/lib/python3.7/site-packages/sklearn/base.py:451: UserWarning: X does not have valid feature names, but IsolationForest was fitted with feature names\n",
      "  \"X does not have valid feature names, but\"\n"
     ]
    },
    {
     "name": "stdout",
     "output_type": "stream",
     "text": [
      "              precision    recall  f1-score   support\n",
      "\n",
      "           0       1.00      1.00      1.00     28432\n",
      "           1       0.63      0.57      0.60        30\n",
      "\n",
      "    accuracy                           1.00     28462\n",
      "   macro avg       0.81      0.78      0.80     28462\n",
      "weighted avg       1.00      1.00      1.00     28462\n",
      "\n",
      "0.7980433877878794\n",
      "selected ['V10', 'V17', 'V7', 'V18', 'V14', 'V26', 'V8', 'V9', 'V5', 'V24', 'V2', 'V15', 'V12', 'V22', 'V6', 'V19', 'V11']\n",
      "tempcol ['V10', 'V17', 'V7', 'V18', 'V14', 'V26', 'V8', 'V9', 'V5', 'V24', 'V2', 'V15', 'V12', 'V22', 'V6', 'V19', 'V11', 'V21']\n",
      "V21\n"
     ]
    },
    {
     "name": "stderr",
     "output_type": "stream",
     "text": [
      "/Users/kte/opt/anaconda3/envs/tensor/lib/python3.7/site-packages/sklearn/base.py:451: UserWarning: X does not have valid feature names, but IsolationForest was fitted with feature names\n",
      "  \"X does not have valid feature names, but\"\n"
     ]
    },
    {
     "name": "stdout",
     "output_type": "stream",
     "text": [
      "              precision    recall  f1-score   support\n",
      "\n",
      "           0       1.00      1.00      1.00     28432\n",
      "           1       0.65      0.57      0.61        30\n",
      "\n",
      "    accuracy                           1.00     28462\n",
      "   macro avg       0.83      0.78      0.80     28462\n",
      "weighted avg       1.00      1.00      1.00     28462\n",
      "\n",
      "0.8033779981712035\n",
      "selected ['V10', 'V17', 'V7', 'V18', 'V14', 'V26', 'V8', 'V9', 'V5', 'V24', 'V2', 'V15', 'V12', 'V22', 'V6', 'V19', 'V11']\n",
      "tempcol ['V10', 'V17', 'V7', 'V18', 'V14', 'V26', 'V8', 'V9', 'V5', 'V24', 'V2', 'V15', 'V12', 'V22', 'V6', 'V19', 'V11', 'V23']\n",
      "V23\n"
     ]
    },
    {
     "name": "stderr",
     "output_type": "stream",
     "text": [
      "/Users/kte/opt/anaconda3/envs/tensor/lib/python3.7/site-packages/sklearn/base.py:451: UserWarning: X does not have valid feature names, but IsolationForest was fitted with feature names\n",
      "  \"X does not have valid feature names, but\"\n"
     ]
    },
    {
     "name": "stdout",
     "output_type": "stream",
     "text": [
      "              precision    recall  f1-score   support\n",
      "\n",
      "           0       1.00      1.00      1.00     28432\n",
      "           1       0.71      0.57      0.63        30\n",
      "\n",
      "    accuracy                           1.00     28462\n",
      "   macro avg       0.85      0.78      0.81     28462\n",
      "weighted avg       1.00      1.00      1.00     28462\n",
      "\n",
      "0.8146389751805612\n",
      "selected ['V10', 'V17', 'V7', 'V18', 'V14', 'V26', 'V8', 'V9', 'V5', 'V24', 'V2', 'V15', 'V12', 'V22', 'V6', 'V19', 'V11']\n",
      "tempcol ['V10', 'V17', 'V7', 'V18', 'V14', 'V26', 'V8', 'V9', 'V5', 'V24', 'V2', 'V15', 'V12', 'V22', 'V6', 'V19', 'V11', 'V25']\n",
      "V25\n"
     ]
    },
    {
     "name": "stderr",
     "output_type": "stream",
     "text": [
      "/Users/kte/opt/anaconda3/envs/tensor/lib/python3.7/site-packages/sklearn/base.py:451: UserWarning: X does not have valid feature names, but IsolationForest was fitted with feature names\n",
      "  \"X does not have valid feature names, but\"\n"
     ]
    },
    {
     "name": "stdout",
     "output_type": "stream",
     "text": [
      "              precision    recall  f1-score   support\n",
      "\n",
      "           0       1.00      1.00      1.00     28432\n",
      "           1       0.68      0.57      0.62        30\n",
      "\n",
      "    accuracy                           1.00     28462\n",
      "   macro avg       0.84      0.78      0.81     28462\n",
      "weighted avg       1.00      1.00      1.00     28462\n",
      "\n",
      "0.8089062742283302\n",
      "selected ['V10', 'V17', 'V7', 'V18', 'V14', 'V26', 'V8', 'V9', 'V5', 'V24', 'V2', 'V15', 'V12', 'V22', 'V6', 'V19', 'V11']\n",
      "tempcol ['V10', 'V17', 'V7', 'V18', 'V14', 'V26', 'V8', 'V9', 'V5', 'V24', 'V2', 'V15', 'V12', 'V22', 'V6', 'V19', 'V11', 'V27']\n",
      "V27\n"
     ]
    },
    {
     "name": "stderr",
     "output_type": "stream",
     "text": [
      "/Users/kte/opt/anaconda3/envs/tensor/lib/python3.7/site-packages/sklearn/base.py:451: UserWarning: X does not have valid feature names, but IsolationForest was fitted with feature names\n",
      "  \"X does not have valid feature names, but\"\n"
     ]
    },
    {
     "name": "stdout",
     "output_type": "stream",
     "text": [
      "              precision    recall  f1-score   support\n",
      "\n",
      "           0       1.00      1.00      1.00     28432\n",
      "           1       0.63      0.57      0.60        30\n",
      "\n",
      "    accuracy                           1.00     28462\n",
      "   macro avg       0.81      0.78      0.80     28462\n",
      "weighted avg       1.00      1.00      1.00     28462\n",
      "\n",
      "0.7980433877878794\n",
      "selected ['V10', 'V17', 'V7', 'V18', 'V14', 'V26', 'V8', 'V9', 'V5', 'V24', 'V2', 'V15', 'V12', 'V22', 'V6', 'V19', 'V11']\n",
      "tempcol ['V10', 'V17', 'V7', 'V18', 'V14', 'V26', 'V8', 'V9', 'V5', 'V24', 'V2', 'V15', 'V12', 'V22', 'V6', 'V19', 'V11', 'V28']\n",
      "V28\n"
     ]
    },
    {
     "name": "stderr",
     "output_type": "stream",
     "text": [
      "/Users/kte/opt/anaconda3/envs/tensor/lib/python3.7/site-packages/sklearn/base.py:451: UserWarning: X does not have valid feature names, but IsolationForest was fitted with feature names\n",
      "  \"X does not have valid feature names, but\"\n"
     ]
    },
    {
     "name": "stdout",
     "output_type": "stream",
     "text": [
      "              precision    recall  f1-score   support\n",
      "\n",
      "           0       1.00      1.00      1.00     28432\n",
      "           1       0.65      0.57      0.61        30\n",
      "\n",
      "    accuracy                           1.00     28462\n",
      "   macro avg       0.83      0.78      0.80     28462\n",
      "weighted avg       1.00      1.00      1.00     28462\n",
      "\n",
      "0.8033779981712035\n",
      "추가\n"
     ]
    }
   ],
   "source": [
    "from select import select\n",
    "\n",
    "\n",
    "all_cols = list(val_x.columns)\n",
    "\n",
    "selected_cols = ['V10','V17']\n",
    "deselected_cols = all_cols\n",
    "\n",
    "for col in selected_cols:\n",
    "    deselected_cols.remove(col)\n",
    "    \n",
    "\n",
    "count = 1\n",
    "\n",
    "maxf1s = []\n",
    "frame = pd.DataFrame({'len':[0],'colnames':['V0'] ,'f1s':[0]})\n",
    "\n",
    "for j in range(1,17):\n",
    "    print('count :' ,count,\"번\")\n",
    "\n",
    "    \n",
    "    length = []\n",
    "    colnames = []\n",
    "    f1s = []    \n",
    "    for col in deselected_cols:\n",
    "        count+=1\n",
    "        \n",
    "        temp_cols = selected_cols.copy()\n",
    "        temp_cols.append(col)\n",
    "        \n",
    "        print(\"selected\",selected_cols)\n",
    "        print(\"tempcol\",temp_cols)\n",
    "        print(col)\n",
    "        \n",
    "        model = IsolationForest(n_estimators=125, max_samples=len(train_x), contamination=val_contamination, random_state=42, verbose=0)\n",
    "        model.fit(train_x.loc[:,temp_cols])\n",
    "\n",
    "        pred = model.predict(val_x.loc[:,temp_cols])\n",
    "        pred = get_pred_label(pred)\n",
    "        f1score = f1_score(val_y, pred, average='macro')\n",
    "        print(classification_report(val_y,pred))\n",
    "        print(f1score)\n",
    "        \n",
    "        length.append(len(temp_cols))\n",
    "        colnames.append(temp_cols)\n",
    "        f1s.append(f1score)\n",
    "\n",
    "    temp_df = pd.DataFrame({'len':length,'colnames':colnames ,'f1s':f1s})\n",
    "    frame = pd.concat([frame,temp_df],axis=0)\n",
    "\n",
    "    for i in range(len(f1s)):\n",
    "        if(f1s[i] == max(f1s)):\n",
    "            print('추가')\n",
    "            temp_index = i\n",
    "            selected_cols.append(colnames[i][-1])\n",
    "            deselected_cols.remove(colnames[i][-1])\n",
    "            break\n",
    "    \n",
    "    \n",
    "    "
   ]
  },
  {
   "cell_type": "code",
   "execution_count": null,
   "metadata": {},
   "outputs": [],
   "source": []
  },
  {
   "cell_type": "code",
   "execution_count": 102,
   "metadata": {},
   "outputs": [
    {
     "data": {
      "text/html": [
       "<div>\n",
       "<style scoped>\n",
       "    .dataframe tbody tr th:only-of-type {\n",
       "        vertical-align: middle;\n",
       "    }\n",
       "\n",
       "    .dataframe tbody tr th {\n",
       "        vertical-align: top;\n",
       "    }\n",
       "\n",
       "    .dataframe thead th {\n",
       "        text-align: right;\n",
       "    }\n",
       "</style>\n",
       "<table border=\"1\" class=\"dataframe\">\n",
       "  <thead>\n",
       "    <tr style=\"text-align: right;\">\n",
       "      <th></th>\n",
       "      <th>len</th>\n",
       "      <th>colnames</th>\n",
       "      <th>f1s</th>\n",
       "    </tr>\n",
       "  </thead>\n",
       "  <tbody>\n",
       "    <tr>\n",
       "      <th>6</th>\n",
       "      <td>7</td>\n",
       "      <td>[V10, V17, V7, V18, V14, V26, V8]</td>\n",
       "      <td>0.870247</td>\n",
       "    </tr>\n",
       "    <tr>\n",
       "      <th>4</th>\n",
       "      <td>9</td>\n",
       "      <td>[V10, V17, V7, V18, V14, V26, V8, V9, V5]</td>\n",
       "      <td>0.870247</td>\n",
       "    </tr>\n",
       "    <tr>\n",
       "      <th>14</th>\n",
       "      <td>4</td>\n",
       "      <td>[V10, V17, V7, V18]</td>\n",
       "      <td>0.865262</td>\n",
       "    </tr>\n",
       "    <tr>\n",
       "      <th>9</th>\n",
       "      <td>13</td>\n",
       "      <td>[V10, V17, V7, V18, V14, V26, V8, V9, V5, V24,...</td>\n",
       "      <td>0.865262</td>\n",
       "    </tr>\n",
       "    <tr>\n",
       "      <th>11</th>\n",
       "      <td>5</td>\n",
       "      <td>[V10, V17, V7, V18, V14]</td>\n",
       "      <td>0.865262</td>\n",
       "    </tr>\n",
       "    <tr>\n",
       "      <th>13</th>\n",
       "      <td>5</td>\n",
       "      <td>[V10, V17, V7, V18, V16]</td>\n",
       "      <td>0.865262</td>\n",
       "    </tr>\n",
       "    <tr>\n",
       "      <th>5</th>\n",
       "      <td>13</td>\n",
       "      <td>[V10, V17, V7, V18, V14, V26, V8, V9, V5, V24,...</td>\n",
       "      <td>0.865262</td>\n",
       "    </tr>\n",
       "    <tr>\n",
       "      <th>20</th>\n",
       "      <td>6</td>\n",
       "      <td>[V10, V17, V7, V18, V14, V26]</td>\n",
       "      <td>0.863504</td>\n",
       "    </tr>\n",
       "    <tr>\n",
       "      <th>5</th>\n",
       "      <td>9</td>\n",
       "      <td>[V10, V17, V7, V18, V14, V26, V8, V9, V6]</td>\n",
       "      <td>0.863504</td>\n",
       "    </tr>\n",
       "    <tr>\n",
       "      <th>1</th>\n",
       "      <td>13</td>\n",
       "      <td>[V10, V17, V7, V18, V14, V26, V8, V9, V5, V24,...</td>\n",
       "      <td>0.859877</td>\n",
       "    </tr>\n",
       "    <tr>\n",
       "      <th>4</th>\n",
       "      <td>11</td>\n",
       "      <td>[V10, V17, V7, V18, V14, V26, V8, V9, V5, V24,...</td>\n",
       "      <td>0.858359</td>\n",
       "    </tr>\n",
       "    <tr>\n",
       "      <th>20</th>\n",
       "      <td>4</td>\n",
       "      <td>[V10, V17, V7, V24]</td>\n",
       "      <td>0.858359</td>\n",
       "    </tr>\n",
       "    <tr>\n",
       "      <th>21</th>\n",
       "      <td>4</td>\n",
       "      <td>[V10, V17, V7, V25]</td>\n",
       "      <td>0.858359</td>\n",
       "    </tr>\n",
       "    <tr>\n",
       "      <th>1</th>\n",
       "      <td>11</td>\n",
       "      <td>[V10, V17, V7, V18, V14, V26, V8, V9, V5, V24,...</td>\n",
       "      <td>0.858359</td>\n",
       "    </tr>\n",
       "    <tr>\n",
       "      <th>9</th>\n",
       "      <td>9</td>\n",
       "      <td>[V10, V17, V7, V18, V14, V26, V8, V9, V15]</td>\n",
       "      <td>0.858359</td>\n",
       "    </tr>\n",
       "    <tr>\n",
       "      <th>1</th>\n",
       "      <td>6</td>\n",
       "      <td>[V10, V17, V7, V18, V14, V2]</td>\n",
       "      <td>0.858359</td>\n",
       "    </tr>\n",
       "    <tr>\n",
       "      <th>10</th>\n",
       "      <td>14</td>\n",
       "      <td>[V10, V17, V7, V18, V14, V26, V8, V9, V5, V24,...</td>\n",
       "      <td>0.858359</td>\n",
       "    </tr>\n",
       "    <tr>\n",
       "      <th>15</th>\n",
       "      <td>3</td>\n",
       "      <td>[V10, V17, V18]</td>\n",
       "      <td>0.858359</td>\n",
       "    </tr>\n",
       "    <tr>\n",
       "      <th>13</th>\n",
       "      <td>4</td>\n",
       "      <td>[V10, V17, V7, V16]</td>\n",
       "      <td>0.858359</td>\n",
       "    </tr>\n",
       "    <tr>\n",
       "      <th>7</th>\n",
       "      <td>12</td>\n",
       "      <td>[V10, V17, V7, V18, V14, V26, V8, V9, V5, V24,...</td>\n",
       "      <td>0.858359</td>\n",
       "    </tr>\n",
       "  </tbody>\n",
       "</table>\n",
       "</div>"
      ],
      "text/plain": [
       "    len                                           colnames       f1s\n",
       "6     7                  [V10, V17, V7, V18, V14, V26, V8]  0.870247\n",
       "4     9          [V10, V17, V7, V18, V14, V26, V8, V9, V5]  0.870247\n",
       "14    4                                [V10, V17, V7, V18]  0.865262\n",
       "9    13  [V10, V17, V7, V18, V14, V26, V8, V9, V5, V24,...  0.865262\n",
       "11    5                           [V10, V17, V7, V18, V14]  0.865262\n",
       "13    5                           [V10, V17, V7, V18, V16]  0.865262\n",
       "5    13  [V10, V17, V7, V18, V14, V26, V8, V9, V5, V24,...  0.865262\n",
       "20    6                      [V10, V17, V7, V18, V14, V26]  0.863504\n",
       "5     9          [V10, V17, V7, V18, V14, V26, V8, V9, V6]  0.863504\n",
       "1    13  [V10, V17, V7, V18, V14, V26, V8, V9, V5, V24,...  0.859877\n",
       "4    11  [V10, V17, V7, V18, V14, V26, V8, V9, V5, V24,...  0.858359\n",
       "20    4                                [V10, V17, V7, V24]  0.858359\n",
       "21    4                                [V10, V17, V7, V25]  0.858359\n",
       "1    11  [V10, V17, V7, V18, V14, V26, V8, V9, V5, V24,...  0.858359\n",
       "9     9         [V10, V17, V7, V18, V14, V26, V8, V9, V15]  0.858359\n",
       "1     6                       [V10, V17, V7, V18, V14, V2]  0.858359\n",
       "10   14  [V10, V17, V7, V18, V14, V26, V8, V9, V5, V24,...  0.858359\n",
       "15    3                                    [V10, V17, V18]  0.858359\n",
       "13    4                                [V10, V17, V7, V16]  0.858359\n",
       "7    12  [V10, V17, V7, V18, V14, V26, V8, V9, V5, V24,...  0.858359"
      ]
     },
     "execution_count": 102,
     "metadata": {},
     "output_type": "execute_result"
    }
   ],
   "source": [
    "frame.sort_values('f1s',ascending=False).head(20)"
   ]
  },
  {
   "cell_type": "code",
   "execution_count": 86,
   "metadata": {},
   "outputs": [
    {
     "ename": "TypeError",
     "evalue": "unhashable type: 'list'",
     "output_type": "error",
     "traceback": [
      "\u001b[0;31m---------------------------------------------------------------------------\u001b[0m",
      "\u001b[0;31mTypeError\u001b[0m                                 Traceback (most recent call last)",
      "\u001b[0;32m/var/folders/t8/fgx0kt2j66zf6nrrj6v3_t9w0000gn/T/ipykernel_73248/3516086705.py\u001b[0m in \u001b[0;36m<module>\u001b[0;34m\u001b[0m\n\u001b[1;32m      1\u001b[0m \u001b[0mframe\u001b[0m\u001b[0;34m=\u001b[0m\u001b[0mframe\u001b[0m\u001b[0;34m.\u001b[0m\u001b[0mreset_index\u001b[0m\u001b[0;34m(\u001b[0m\u001b[0mdrop\u001b[0m\u001b[0;34m=\u001b[0m\u001b[0;32mTrue\u001b[0m\u001b[0;34m)\u001b[0m\u001b[0;34m\u001b[0m\u001b[0;34m\u001b[0m\u001b[0m\n\u001b[0;32m----> 2\u001b[0;31m \u001b[0mframe\u001b[0m\u001b[0;34m[\u001b[0m\u001b[0;34m'colnames'\u001b[0m\u001b[0;34m]\u001b[0m\u001b[0;34m.\u001b[0m\u001b[0munique\u001b[0m\u001b[0;34m(\u001b[0m\u001b[0;34m)\u001b[0m\u001b[0;34m\u001b[0m\u001b[0;34m\u001b[0m\u001b[0m\n\u001b[0m",
      "\u001b[0;32m~/opt/anaconda3/envs/tensor/lib/python3.7/site-packages/pandas/core/series.py\u001b[0m in \u001b[0;36munique\u001b[0;34m(self)\u001b[0m\n\u001b[1;32m   2037\u001b[0m         \u001b[0mCategories\u001b[0m \u001b[0;34m(\u001b[0m\u001b[0;36m3\u001b[0m\u001b[0;34m,\u001b[0m \u001b[0mobject\u001b[0m\u001b[0;34m)\u001b[0m\u001b[0;34m:\u001b[0m \u001b[0;34m[\u001b[0m\u001b[0;34m'a'\u001b[0m \u001b[0;34m<\u001b[0m \u001b[0;34m'b'\u001b[0m \u001b[0;34m<\u001b[0m \u001b[0;34m'c'\u001b[0m\u001b[0;34m]\u001b[0m\u001b[0;34m\u001b[0m\u001b[0;34m\u001b[0m\u001b[0m\n\u001b[1;32m   2038\u001b[0m         \"\"\"\n\u001b[0;32m-> 2039\u001b[0;31m         \u001b[0;32mreturn\u001b[0m \u001b[0msuper\u001b[0m\u001b[0;34m(\u001b[0m\u001b[0;34m)\u001b[0m\u001b[0;34m.\u001b[0m\u001b[0munique\u001b[0m\u001b[0;34m(\u001b[0m\u001b[0;34m)\u001b[0m\u001b[0;34m\u001b[0m\u001b[0;34m\u001b[0m\u001b[0m\n\u001b[0m\u001b[1;32m   2040\u001b[0m \u001b[0;34m\u001b[0m\u001b[0m\n\u001b[1;32m   2041\u001b[0m     \u001b[0;34m@\u001b[0m\u001b[0moverload\u001b[0m\u001b[0;34m\u001b[0m\u001b[0;34m\u001b[0m\u001b[0m\n",
      "\u001b[0;32m~/opt/anaconda3/envs/tensor/lib/python3.7/site-packages/pandas/core/base.py\u001b[0m in \u001b[0;36munique\u001b[0;34m(self)\u001b[0m\n\u001b[1;32m    977\u001b[0m                     \u001b[0mresult\u001b[0m \u001b[0;34m=\u001b[0m \u001b[0mnp\u001b[0m\u001b[0;34m.\u001b[0m\u001b[0masarray\u001b[0m\u001b[0;34m(\u001b[0m\u001b[0mresult\u001b[0m\u001b[0;34m)\u001b[0m\u001b[0;34m\u001b[0m\u001b[0;34m\u001b[0m\u001b[0m\n\u001b[1;32m    978\u001b[0m         \u001b[0;32melse\u001b[0m\u001b[0;34m:\u001b[0m\u001b[0;34m\u001b[0m\u001b[0;34m\u001b[0m\u001b[0m\n\u001b[0;32m--> 979\u001b[0;31m             \u001b[0mresult\u001b[0m \u001b[0;34m=\u001b[0m \u001b[0munique1d\u001b[0m\u001b[0;34m(\u001b[0m\u001b[0mvalues\u001b[0m\u001b[0;34m)\u001b[0m\u001b[0;34m\u001b[0m\u001b[0;34m\u001b[0m\u001b[0m\n\u001b[0m\u001b[1;32m    980\u001b[0m \u001b[0;34m\u001b[0m\u001b[0m\n\u001b[1;32m    981\u001b[0m         \u001b[0;32mreturn\u001b[0m \u001b[0mresult\u001b[0m\u001b[0;34m\u001b[0m\u001b[0;34m\u001b[0m\u001b[0m\n",
      "\u001b[0;32m~/opt/anaconda3/envs/tensor/lib/python3.7/site-packages/pandas/core/algorithms.py\u001b[0m in \u001b[0;36munique\u001b[0;34m(values)\u001b[0m\n\u001b[1;32m    429\u001b[0m \u001b[0;34m\u001b[0m\u001b[0m\n\u001b[1;32m    430\u001b[0m     \u001b[0mtable\u001b[0m \u001b[0;34m=\u001b[0m \u001b[0mhtable\u001b[0m\u001b[0;34m(\u001b[0m\u001b[0mlen\u001b[0m\u001b[0;34m(\u001b[0m\u001b[0mvalues\u001b[0m\u001b[0;34m)\u001b[0m\u001b[0;34m)\u001b[0m\u001b[0;34m\u001b[0m\u001b[0;34m\u001b[0m\u001b[0m\n\u001b[0;32m--> 431\u001b[0;31m     \u001b[0muniques\u001b[0m \u001b[0;34m=\u001b[0m \u001b[0mtable\u001b[0m\u001b[0;34m.\u001b[0m\u001b[0munique\u001b[0m\u001b[0;34m(\u001b[0m\u001b[0mvalues\u001b[0m\u001b[0;34m)\u001b[0m\u001b[0;34m\u001b[0m\u001b[0;34m\u001b[0m\u001b[0m\n\u001b[0m\u001b[1;32m    432\u001b[0m     \u001b[0muniques\u001b[0m \u001b[0;34m=\u001b[0m \u001b[0m_reconstruct_data\u001b[0m\u001b[0;34m(\u001b[0m\u001b[0muniques\u001b[0m\u001b[0;34m,\u001b[0m \u001b[0moriginal\u001b[0m\u001b[0;34m.\u001b[0m\u001b[0mdtype\u001b[0m\u001b[0;34m,\u001b[0m \u001b[0moriginal\u001b[0m\u001b[0;34m)\u001b[0m\u001b[0;34m\u001b[0m\u001b[0;34m\u001b[0m\u001b[0m\n\u001b[1;32m    433\u001b[0m     \u001b[0;32mreturn\u001b[0m \u001b[0muniques\u001b[0m\u001b[0;34m\u001b[0m\u001b[0;34m\u001b[0m\u001b[0m\n",
      "\u001b[0;32mpandas/_libs/hashtable_class_helper.pxi\u001b[0m in \u001b[0;36mpandas._libs.hashtable.PyObjectHashTable.unique\u001b[0;34m()\u001b[0m\n",
      "\u001b[0;32mpandas/_libs/hashtable_class_helper.pxi\u001b[0m in \u001b[0;36mpandas._libs.hashtable.PyObjectHashTable._unique\u001b[0;34m()\u001b[0m\n",
      "\u001b[0;31mTypeError\u001b[0m: unhashable type: 'list'"
     ]
    }
   ],
   "source": [
    "frame=frame.reset_index(drop=True)\n",
    "frame['colnames'].unique()"
   ]
  },
  {
   "cell_type": "code",
   "execution_count": 89,
   "metadata": {},
   "outputs": [],
   "source": [
    "frame3 = frame[:]"
   ]
  },
  {
   "cell_type": "code",
   "execution_count": null,
   "metadata": {},
   "outputs": [],
   "source": [
    "list(frame[frame.f1s == frame.f1s.max()]['colnames'])\n"
   ]
  },
  {
   "cell_type": "code",
   "execution_count": 103,
   "metadata": {},
   "outputs": [
    {
     "data": {
      "text/html": [
       "<div>\n",
       "<style scoped>\n",
       "    .dataframe tbody tr th:only-of-type {\n",
       "        vertical-align: middle;\n",
       "    }\n",
       "\n",
       "    .dataframe tbody tr th {\n",
       "        vertical-align: top;\n",
       "    }\n",
       "\n",
       "    .dataframe thead th {\n",
       "        text-align: right;\n",
       "    }\n",
       "</style>\n",
       "<table border=\"1\" class=\"dataframe\">\n",
       "  <thead>\n",
       "    <tr style=\"text-align: right;\">\n",
       "      <th></th>\n",
       "      <th>len</th>\n",
       "      <th>colnames</th>\n",
       "      <th>f1s</th>\n",
       "    </tr>\n",
       "  </thead>\n",
       "  <tbody>\n",
       "    <tr>\n",
       "      <th>6</th>\n",
       "      <td>2</td>\n",
       "      <td>[V10, V7]</td>\n",
       "      <td>0.865262</td>\n",
       "    </tr>\n",
       "    <tr>\n",
       "      <th>18</th>\n",
       "      <td>7</td>\n",
       "      <td>[V10, V7, V2, V18, V6, V15, V25]</td>\n",
       "      <td>0.859877</td>\n",
       "    </tr>\n",
       "    <tr>\n",
       "      <th>15</th>\n",
       "      <td>2</td>\n",
       "      <td>[V10, V17]</td>\n",
       "      <td>0.858359</td>\n",
       "    </tr>\n",
       "    <tr>\n",
       "      <th>17</th>\n",
       "      <td>7</td>\n",
       "      <td>[V10, V7, V2, V18, V6, V15, V24]</td>\n",
       "      <td>0.852809</td>\n",
       "    </tr>\n",
       "    <tr>\n",
       "      <th>11</th>\n",
       "      <td>5</td>\n",
       "      <td>[V10, V7, V2, V18, V15]</td>\n",
       "      <td>0.852809</td>\n",
       "    </tr>\n",
       "    <tr>\n",
       "      <th>...</th>\n",
       "      <td>...</td>\n",
       "      <td>...</td>\n",
       "      <td>...</td>\n",
       "    </tr>\n",
       "    <tr>\n",
       "      <th>22</th>\n",
       "      <td>1</td>\n",
       "      <td>[V23]</td>\n",
       "      <td>0.499464</td>\n",
       "    </tr>\n",
       "    <tr>\n",
       "      <th>23</th>\n",
       "      <td>1</td>\n",
       "      <td>[V24]</td>\n",
       "      <td>0.499437</td>\n",
       "    </tr>\n",
       "    <tr>\n",
       "      <th>14</th>\n",
       "      <td>1</td>\n",
       "      <td>[V15]</td>\n",
       "      <td>0.499384</td>\n",
       "    </tr>\n",
       "    <tr>\n",
       "      <th>12</th>\n",
       "      <td>1</td>\n",
       "      <td>[V13]</td>\n",
       "      <td>0.499340</td>\n",
       "    </tr>\n",
       "    <tr>\n",
       "      <th>0</th>\n",
       "      <td>0</td>\n",
       "      <td>V0</td>\n",
       "      <td>0.000000</td>\n",
       "    </tr>\n",
       "  </tbody>\n",
       "</table>\n",
       "<p>169 rows × 3 columns</p>\n",
       "</div>"
      ],
      "text/plain": [
       "    len                          colnames       f1s\n",
       "6     2                         [V10, V7]  0.865262\n",
       "18    7  [V10, V7, V2, V18, V6, V15, V25]  0.859877\n",
       "15    2                        [V10, V17]  0.858359\n",
       "17    7  [V10, V7, V2, V18, V6, V15, V24]  0.852809\n",
       "11    5           [V10, V7, V2, V18, V15]  0.852809\n",
       "..  ...                               ...       ...\n",
       "22    1                             [V23]  0.499464\n",
       "23    1                             [V24]  0.499437\n",
       "14    1                             [V15]  0.499384\n",
       "12    1                             [V13]  0.499340\n",
       "0     0                                V0  0.000000\n",
       "\n",
       "[169 rows x 3 columns]"
      ]
     },
     "execution_count": 103,
     "metadata": {},
     "output_type": "execute_result"
    }
   ],
   "source": [
    "frame2.sort_values('f1s', ascending=False)"
   ]
  },
  {
   "cell_type": "code",
   "execution_count": 111,
   "metadata": {},
   "outputs": [
    {
     "name": "stderr",
     "output_type": "stream",
     "text": [
      "/Users/kte/opt/anaconda3/envs/tensor/lib/python3.7/site-packages/sklearn/base.py:451: UserWarning: X does not have valid feature names, but IsolationForest was fitted with feature names\n",
      "  \"X does not have valid feature names, but\"\n",
      "/Users/kte/opt/anaconda3/envs/tensor/lib/python3.7/site-packages/sklearn/base.py:451: UserWarning: X does not have valid feature names, but IsolationForest was fitted with feature names\n",
      "  \"X does not have valid feature names, but\"\n",
      "/Users/kte/opt/anaconda3/envs/tensor/lib/python3.7/site-packages/sklearn/base.py:451: UserWarning: X does not have valid feature names, but IsolationForest was fitted with feature names\n",
      "  \"X does not have valid feature names, but\"\n",
      "/Users/kte/opt/anaconda3/envs/tensor/lib/python3.7/site-packages/sklearn/base.py:451: UserWarning: X does not have valid feature names, but IsolationForest was fitted with feature names\n",
      "  \"X does not have valid feature names, but\"\n",
      "/Users/kte/opt/anaconda3/envs/tensor/lib/python3.7/site-packages/sklearn/base.py:451: UserWarning: X does not have valid feature names, but IsolationForest was fitted with feature names\n",
      "  \"X does not have valid feature names, but\"\n",
      "/Users/kte/opt/anaconda3/envs/tensor/lib/python3.7/site-packages/sklearn/base.py:451: UserWarning: X does not have valid feature names, but IsolationForest was fitted with feature names\n",
      "  \"X does not have valid feature names, but\"\n",
      "/Users/kte/opt/anaconda3/envs/tensor/lib/python3.7/site-packages/sklearn/base.py:451: UserWarning: X does not have valid feature names, but IsolationForest was fitted with feature names\n",
      "  \"X does not have valid feature names, but\"\n",
      "/Users/kte/opt/anaconda3/envs/tensor/lib/python3.7/site-packages/sklearn/base.py:451: UserWarning: X does not have valid feature names, but IsolationForest was fitted with feature names\n",
      "  \"X does not have valid feature names, but\"\n",
      "/Users/kte/opt/anaconda3/envs/tensor/lib/python3.7/site-packages/sklearn/base.py:451: UserWarning: X does not have valid feature names, but IsolationForest was fitted with feature names\n",
      "  \"X does not have valid feature names, but\"\n",
      "/Users/kte/opt/anaconda3/envs/tensor/lib/python3.7/site-packages/sklearn/base.py:451: UserWarning: X does not have valid feature names, but IsolationForest was fitted with feature names\n",
      "  \"X does not have valid feature names, but\"\n",
      "/Users/kte/opt/anaconda3/envs/tensor/lib/python3.7/site-packages/sklearn/base.py:451: UserWarning: X does not have valid feature names, but IsolationForest was fitted with feature names\n",
      "  \"X does not have valid feature names, but\"\n",
      "/Users/kte/opt/anaconda3/envs/tensor/lib/python3.7/site-packages/sklearn/base.py:451: UserWarning: X does not have valid feature names, but IsolationForest was fitted with feature names\n",
      "  \"X does not have valid feature names, but\"\n",
      "/Users/kte/opt/anaconda3/envs/tensor/lib/python3.7/site-packages/sklearn/base.py:451: UserWarning: X does not have valid feature names, but IsolationForest was fitted with feature names\n",
      "  \"X does not have valid feature names, but\"\n",
      "/Users/kte/opt/anaconda3/envs/tensor/lib/python3.7/site-packages/sklearn/base.py:451: UserWarning: X does not have valid feature names, but IsolationForest was fitted with feature names\n",
      "  \"X does not have valid feature names, but\"\n",
      "/Users/kte/opt/anaconda3/envs/tensor/lib/python3.7/site-packages/sklearn/base.py:451: UserWarning: X does not have valid feature names, but IsolationForest was fitted with feature names\n",
      "  \"X does not have valid feature names, but\"\n",
      "/Users/kte/opt/anaconda3/envs/tensor/lib/python3.7/site-packages/sklearn/base.py:451: UserWarning: X does not have valid feature names, but IsolationForest was fitted with feature names\n",
      "  \"X does not have valid feature names, but\"\n",
      "/Users/kte/opt/anaconda3/envs/tensor/lib/python3.7/site-packages/sklearn/base.py:451: UserWarning: X does not have valid feature names, but IsolationForest was fitted with feature names\n",
      "  \"X does not have valid feature names, but\"\n",
      "/Users/kte/opt/anaconda3/envs/tensor/lib/python3.7/site-packages/sklearn/base.py:451: UserWarning: X does not have valid feature names, but IsolationForest was fitted with feature names\n",
      "  \"X does not have valid feature names, but\"\n",
      "/Users/kte/opt/anaconda3/envs/tensor/lib/python3.7/site-packages/sklearn/base.py:451: UserWarning: X does not have valid feature names, but IsolationForest was fitted with feature names\n",
      "  \"X does not have valid feature names, but\"\n",
      "/Users/kte/opt/anaconda3/envs/tensor/lib/python3.7/site-packages/sklearn/base.py:451: UserWarning: X does not have valid feature names, but IsolationForest was fitted with feature names\n",
      "  \"X does not have valid feature names, but\"\n",
      "/Users/kte/opt/anaconda3/envs/tensor/lib/python3.7/site-packages/sklearn/base.py:451: UserWarning: X does not have valid feature names, but IsolationForest was fitted with feature names\n",
      "  \"X does not have valid feature names, but\"\n"
     ]
    }
   ],
   "source": [
    "temp_cols = ['V10','V7']\n",
    "iss = []\n",
    "f1s = []\n",
    "for i in range(50,151,5):\n",
    "    model = IsolationForest(n_estimators=i, max_samples=len(train_x), contamination=val_contamination, random_state=42, verbose=0)\n",
    "    model.fit(train_x.loc[:,temp_cols])\n",
    "\n",
    "    pred = model.predict(val_x.loc[:,temp_cols])\n",
    "    pred = get_pred_label(pred)\n",
    "    f1score = f1_score(val_y, pred, average='macro')\n",
    "    iss.append(i)\n",
    "    f1s.append(f1score)\n"
   ]
  },
  {
   "cell_type": "code",
   "execution_count": 112,
   "metadata": {},
   "outputs": [
    {
     "data": {
      "text/html": [
       "<div>\n",
       "<style scoped>\n",
       "    .dataframe tbody tr th:only-of-type {\n",
       "        vertical-align: middle;\n",
       "    }\n",
       "\n",
       "    .dataframe tbody tr th {\n",
       "        vertical-align: top;\n",
       "    }\n",
       "\n",
       "    .dataframe thead th {\n",
       "        text-align: right;\n",
       "    }\n",
       "</style>\n",
       "<table border=\"1\" class=\"dataframe\">\n",
       "  <thead>\n",
       "    <tr style=\"text-align: right;\">\n",
       "      <th></th>\n",
       "      <th>i</th>\n",
       "      <th>f1s</th>\n",
       "    </tr>\n",
       "  </thead>\n",
       "  <tbody>\n",
       "    <tr>\n",
       "      <th>0</th>\n",
       "      <td>50</td>\n",
       "      <td>0.852809</td>\n",
       "    </tr>\n",
       "    <tr>\n",
       "      <th>1</th>\n",
       "      <td>55</td>\n",
       "      <td>0.865262</td>\n",
       "    </tr>\n",
       "    <tr>\n",
       "      <th>2</th>\n",
       "      <td>60</td>\n",
       "      <td>0.865262</td>\n",
       "    </tr>\n",
       "    <tr>\n",
       "      <th>3</th>\n",
       "      <td>65</td>\n",
       "      <td>0.865262</td>\n",
       "    </tr>\n",
       "    <tr>\n",
       "      <th>4</th>\n",
       "      <td>70</td>\n",
       "      <td>0.865262</td>\n",
       "    </tr>\n",
       "    <tr>\n",
       "      <th>5</th>\n",
       "      <td>75</td>\n",
       "      <td>0.865262</td>\n",
       "    </tr>\n",
       "    <tr>\n",
       "      <th>6</th>\n",
       "      <td>80</td>\n",
       "      <td>0.865262</td>\n",
       "    </tr>\n",
       "    <tr>\n",
       "      <th>7</th>\n",
       "      <td>85</td>\n",
       "      <td>0.865262</td>\n",
       "    </tr>\n",
       "    <tr>\n",
       "      <th>8</th>\n",
       "      <td>90</td>\n",
       "      <td>0.865262</td>\n",
       "    </tr>\n",
       "    <tr>\n",
       "      <th>9</th>\n",
       "      <td>95</td>\n",
       "      <td>0.865262</td>\n",
       "    </tr>\n",
       "    <tr>\n",
       "      <th>10</th>\n",
       "      <td>100</td>\n",
       "      <td>0.865262</td>\n",
       "    </tr>\n",
       "    <tr>\n",
       "      <th>11</th>\n",
       "      <td>105</td>\n",
       "      <td>0.865262</td>\n",
       "    </tr>\n",
       "    <tr>\n",
       "      <th>12</th>\n",
       "      <td>110</td>\n",
       "      <td>0.865262</td>\n",
       "    </tr>\n",
       "    <tr>\n",
       "      <th>13</th>\n",
       "      <td>115</td>\n",
       "      <td>0.865262</td>\n",
       "    </tr>\n",
       "    <tr>\n",
       "      <th>14</th>\n",
       "      <td>120</td>\n",
       "      <td>0.865262</td>\n",
       "    </tr>\n",
       "    <tr>\n",
       "      <th>15</th>\n",
       "      <td>125</td>\n",
       "      <td>0.865262</td>\n",
       "    </tr>\n",
       "    <tr>\n",
       "      <th>16</th>\n",
       "      <td>130</td>\n",
       "      <td>0.865262</td>\n",
       "    </tr>\n",
       "    <tr>\n",
       "      <th>17</th>\n",
       "      <td>135</td>\n",
       "      <td>0.852809</td>\n",
       "    </tr>\n",
       "    <tr>\n",
       "      <th>18</th>\n",
       "      <td>140</td>\n",
       "      <td>0.852809</td>\n",
       "    </tr>\n",
       "    <tr>\n",
       "      <th>19</th>\n",
       "      <td>145</td>\n",
       "      <td>0.852809</td>\n",
       "    </tr>\n",
       "    <tr>\n",
       "      <th>20</th>\n",
       "      <td>150</td>\n",
       "      <td>0.852809</td>\n",
       "    </tr>\n",
       "  </tbody>\n",
       "</table>\n",
       "</div>"
      ],
      "text/plain": [
       "      i       f1s\n",
       "0    50  0.852809\n",
       "1    55  0.865262\n",
       "2    60  0.865262\n",
       "3    65  0.865262\n",
       "4    70  0.865262\n",
       "5    75  0.865262\n",
       "6    80  0.865262\n",
       "7    85  0.865262\n",
       "8    90  0.865262\n",
       "9    95  0.865262\n",
       "10  100  0.865262\n",
       "11  105  0.865262\n",
       "12  110  0.865262\n",
       "13  115  0.865262\n",
       "14  120  0.865262\n",
       "15  125  0.865262\n",
       "16  130  0.865262\n",
       "17  135  0.852809\n",
       "18  140  0.852809\n",
       "19  145  0.852809\n",
       "20  150  0.852809"
      ]
     },
     "execution_count": 112,
     "metadata": {},
     "output_type": "execute_result"
    }
   ],
   "source": [
    "i_df = pd.DataFrame({'i':iss , 'f1s' : f1s})\n",
    "i_df"
   ]
  },
  {
   "cell_type": "code",
   "execution_count": 113,
   "metadata": {},
   "outputs": [
    {
     "name": "stderr",
     "output_type": "stream",
     "text": [
      "/Users/kte/opt/anaconda3/envs/tensor/lib/python3.7/site-packages/sklearn/base.py:451: UserWarning: X does not have valid feature names, but IsolationForest was fitted with feature names\n",
      "  \"X does not have valid feature names, but\"\n",
      "/Users/kte/opt/anaconda3/envs/tensor/lib/python3.7/site-packages/sklearn/base.py:451: UserWarning: X does not have valid feature names, but IsolationForest was fitted with feature names\n",
      "  \"X does not have valid feature names, but\"\n",
      "/Users/kte/opt/anaconda3/envs/tensor/lib/python3.7/site-packages/sklearn/base.py:451: UserWarning: X does not have valid feature names, but IsolationForest was fitted with feature names\n",
      "  \"X does not have valid feature names, but\"\n",
      "/Users/kte/opt/anaconda3/envs/tensor/lib/python3.7/site-packages/sklearn/base.py:451: UserWarning: X does not have valid feature names, but IsolationForest was fitted with feature names\n",
      "  \"X does not have valid feature names, but\"\n",
      "/Users/kte/opt/anaconda3/envs/tensor/lib/python3.7/site-packages/sklearn/base.py:451: UserWarning: X does not have valid feature names, but IsolationForest was fitted with feature names\n",
      "  \"X does not have valid feature names, but\"\n",
      "/Users/kte/opt/anaconda3/envs/tensor/lib/python3.7/site-packages/sklearn/base.py:451: UserWarning: X does not have valid feature names, but IsolationForest was fitted with feature names\n",
      "  \"X does not have valid feature names, but\"\n",
      "/Users/kte/opt/anaconda3/envs/tensor/lib/python3.7/site-packages/sklearn/base.py:451: UserWarning: X does not have valid feature names, but IsolationForest was fitted with feature names\n",
      "  \"X does not have valid feature names, but\"\n",
      "/Users/kte/opt/anaconda3/envs/tensor/lib/python3.7/site-packages/sklearn/base.py:451: UserWarning: X does not have valid feature names, but IsolationForest was fitted with feature names\n",
      "  \"X does not have valid feature names, but\"\n",
      "/Users/kte/opt/anaconda3/envs/tensor/lib/python3.7/site-packages/sklearn/base.py:451: UserWarning: X does not have valid feature names, but IsolationForest was fitted with feature names\n",
      "  \"X does not have valid feature names, but\"\n",
      "/Users/kte/opt/anaconda3/envs/tensor/lib/python3.7/site-packages/sklearn/base.py:451: UserWarning: X does not have valid feature names, but IsolationForest was fitted with feature names\n",
      "  \"X does not have valid feature names, but\"\n",
      "/Users/kte/opt/anaconda3/envs/tensor/lib/python3.7/site-packages/sklearn/base.py:451: UserWarning: X does not have valid feature names, but IsolationForest was fitted with feature names\n",
      "  \"X does not have valid feature names, but\"\n",
      "/Users/kte/opt/anaconda3/envs/tensor/lib/python3.7/site-packages/sklearn/base.py:451: UserWarning: X does not have valid feature names, but IsolationForest was fitted with feature names\n",
      "  \"X does not have valid feature names, but\"\n",
      "/Users/kte/opt/anaconda3/envs/tensor/lib/python3.7/site-packages/sklearn/base.py:451: UserWarning: X does not have valid feature names, but IsolationForest was fitted with feature names\n",
      "  \"X does not have valid feature names, but\"\n",
      "/Users/kte/opt/anaconda3/envs/tensor/lib/python3.7/site-packages/sklearn/base.py:451: UserWarning: X does not have valid feature names, but IsolationForest was fitted with feature names\n",
      "  \"X does not have valid feature names, but\"\n",
      "/Users/kte/opt/anaconda3/envs/tensor/lib/python3.7/site-packages/sklearn/base.py:451: UserWarning: X does not have valid feature names, but IsolationForest was fitted with feature names\n",
      "  \"X does not have valid feature names, but\"\n",
      "/Users/kte/opt/anaconda3/envs/tensor/lib/python3.7/site-packages/sklearn/base.py:451: UserWarning: X does not have valid feature names, but IsolationForest was fitted with feature names\n",
      "  \"X does not have valid feature names, but\"\n",
      "/Users/kte/opt/anaconda3/envs/tensor/lib/python3.7/site-packages/sklearn/base.py:451: UserWarning: X does not have valid feature names, but IsolationForest was fitted with feature names\n",
      "  \"X does not have valid feature names, but\"\n",
      "/Users/kte/opt/anaconda3/envs/tensor/lib/python3.7/site-packages/sklearn/base.py:451: UserWarning: X does not have valid feature names, but IsolationForest was fitted with feature names\n",
      "  \"X does not have valid feature names, but\"\n",
      "/Users/kte/opt/anaconda3/envs/tensor/lib/python3.7/site-packages/sklearn/base.py:451: UserWarning: X does not have valid feature names, but IsolationForest was fitted with feature names\n",
      "  \"X does not have valid feature names, but\"\n",
      "/Users/kte/opt/anaconda3/envs/tensor/lib/python3.7/site-packages/sklearn/base.py:451: UserWarning: X does not have valid feature names, but IsolationForest was fitted with feature names\n",
      "  \"X does not have valid feature names, but\"\n",
      "/Users/kte/opt/anaconda3/envs/tensor/lib/python3.7/site-packages/sklearn/base.py:451: UserWarning: X does not have valid feature names, but IsolationForest was fitted with feature names\n",
      "  \"X does not have valid feature names, but\"\n",
      "/Users/kte/opt/anaconda3/envs/tensor/lib/python3.7/site-packages/sklearn/base.py:451: UserWarning: X does not have valid feature names, but IsolationForest was fitted with feature names\n",
      "  \"X does not have valid feature names, but\"\n",
      "/Users/kte/opt/anaconda3/envs/tensor/lib/python3.7/site-packages/sklearn/base.py:451: UserWarning: X does not have valid feature names, but IsolationForest was fitted with feature names\n",
      "  \"X does not have valid feature names, but\"\n",
      "/Users/kte/opt/anaconda3/envs/tensor/lib/python3.7/site-packages/sklearn/base.py:451: UserWarning: X does not have valid feature names, but IsolationForest was fitted with feature names\n",
      "  \"X does not have valid feature names, but\"\n",
      "/Users/kte/opt/anaconda3/envs/tensor/lib/python3.7/site-packages/sklearn/base.py:451: UserWarning: X does not have valid feature names, but IsolationForest was fitted with feature names\n",
      "  \"X does not have valid feature names, but\"\n",
      "/Users/kte/opt/anaconda3/envs/tensor/lib/python3.7/site-packages/sklearn/base.py:451: UserWarning: X does not have valid feature names, but IsolationForest was fitted with feature names\n",
      "  \"X does not have valid feature names, but\"\n",
      "/Users/kte/opt/anaconda3/envs/tensor/lib/python3.7/site-packages/sklearn/base.py:451: UserWarning: X does not have valid feature names, but IsolationForest was fitted with feature names\n",
      "  \"X does not have valid feature names, but\"\n",
      "/Users/kte/opt/anaconda3/envs/tensor/lib/python3.7/site-packages/sklearn/base.py:451: UserWarning: X does not have valid feature names, but IsolationForest was fitted with feature names\n",
      "  \"X does not have valid feature names, but\"\n",
      "/Users/kte/opt/anaconda3/envs/tensor/lib/python3.7/site-packages/sklearn/base.py:451: UserWarning: X does not have valid feature names, but IsolationForest was fitted with feature names\n",
      "  \"X does not have valid feature names, but\"\n",
      "/Users/kte/opt/anaconda3/envs/tensor/lib/python3.7/site-packages/sklearn/base.py:451: UserWarning: X does not have valid feature names, but IsolationForest was fitted with feature names\n",
      "  \"X does not have valid feature names, but\"\n",
      "/Users/kte/opt/anaconda3/envs/tensor/lib/python3.7/site-packages/sklearn/base.py:451: UserWarning: X does not have valid feature names, but IsolationForest was fitted with feature names\n",
      "  \"X does not have valid feature names, but\"\n",
      "/Users/kte/opt/anaconda3/envs/tensor/lib/python3.7/site-packages/sklearn/base.py:451: UserWarning: X does not have valid feature names, but IsolationForest was fitted with feature names\n",
      "  \"X does not have valid feature names, but\"\n",
      "/Users/kte/opt/anaconda3/envs/tensor/lib/python3.7/site-packages/sklearn/base.py:451: UserWarning: X does not have valid feature names, but IsolationForest was fitted with feature names\n",
      "  \"X does not have valid feature names, but\"\n",
      "/Users/kte/opt/anaconda3/envs/tensor/lib/python3.7/site-packages/sklearn/base.py:451: UserWarning: X does not have valid feature names, but IsolationForest was fitted with feature names\n",
      "  \"X does not have valid feature names, but\"\n",
      "/Users/kte/opt/anaconda3/envs/tensor/lib/python3.7/site-packages/sklearn/base.py:451: UserWarning: X does not have valid feature names, but IsolationForest was fitted with feature names\n",
      "  \"X does not have valid feature names, but\"\n",
      "/Users/kte/opt/anaconda3/envs/tensor/lib/python3.7/site-packages/sklearn/base.py:451: UserWarning: X does not have valid feature names, but IsolationForest was fitted with feature names\n",
      "  \"X does not have valid feature names, but\"\n",
      "/Users/kte/opt/anaconda3/envs/tensor/lib/python3.7/site-packages/sklearn/base.py:451: UserWarning: X does not have valid feature names, but IsolationForest was fitted with feature names\n",
      "  \"X does not have valid feature names, but\"\n",
      "/Users/kte/opt/anaconda3/envs/tensor/lib/python3.7/site-packages/sklearn/base.py:451: UserWarning: X does not have valid feature names, but IsolationForest was fitted with feature names\n",
      "  \"X does not have valid feature names, but\"\n",
      "/Users/kte/opt/anaconda3/envs/tensor/lib/python3.7/site-packages/sklearn/base.py:451: UserWarning: X does not have valid feature names, but IsolationForest was fitted with feature names\n",
      "  \"X does not have valid feature names, but\"\n",
      "/Users/kte/opt/anaconda3/envs/tensor/lib/python3.7/site-packages/sklearn/base.py:451: UserWarning: X does not have valid feature names, but IsolationForest was fitted with feature names\n",
      "  \"X does not have valid feature names, but\"\n",
      "/Users/kte/opt/anaconda3/envs/tensor/lib/python3.7/site-packages/sklearn/base.py:451: UserWarning: X does not have valid feature names, but IsolationForest was fitted with feature names\n",
      "  \"X does not have valid feature names, but\"\n",
      "/Users/kte/opt/anaconda3/envs/tensor/lib/python3.7/site-packages/sklearn/base.py:451: UserWarning: X does not have valid feature names, but IsolationForest was fitted with feature names\n",
      "  \"X does not have valid feature names, but\"\n",
      "/Users/kte/opt/anaconda3/envs/tensor/lib/python3.7/site-packages/sklearn/base.py:451: UserWarning: X does not have valid feature names, but IsolationForest was fitted with feature names\n",
      "  \"X does not have valid feature names, but\"\n",
      "/Users/kte/opt/anaconda3/envs/tensor/lib/python3.7/site-packages/sklearn/base.py:451: UserWarning: X does not have valid feature names, but IsolationForest was fitted with feature names\n",
      "  \"X does not have valid feature names, but\"\n",
      "/Users/kte/opt/anaconda3/envs/tensor/lib/python3.7/site-packages/sklearn/base.py:451: UserWarning: X does not have valid feature names, but IsolationForest was fitted with feature names\n",
      "  \"X does not have valid feature names, but\"\n",
      "/Users/kte/opt/anaconda3/envs/tensor/lib/python3.7/site-packages/sklearn/base.py:451: UserWarning: X does not have valid feature names, but IsolationForest was fitted with feature names\n",
      "  \"X does not have valid feature names, but\"\n",
      "/Users/kte/opt/anaconda3/envs/tensor/lib/python3.7/site-packages/sklearn/base.py:451: UserWarning: X does not have valid feature names, but IsolationForest was fitted with feature names\n",
      "  \"X does not have valid feature names, but\"\n",
      "/Users/kte/opt/anaconda3/envs/tensor/lib/python3.7/site-packages/sklearn/base.py:451: UserWarning: X does not have valid feature names, but IsolationForest was fitted with feature names\n",
      "  \"X does not have valid feature names, but\"\n",
      "/Users/kte/opt/anaconda3/envs/tensor/lib/python3.7/site-packages/sklearn/base.py:451: UserWarning: X does not have valid feature names, but IsolationForest was fitted with feature names\n",
      "  \"X does not have valid feature names, but\"\n",
      "/Users/kte/opt/anaconda3/envs/tensor/lib/python3.7/site-packages/sklearn/base.py:451: UserWarning: X does not have valid feature names, but IsolationForest was fitted with feature names\n",
      "  \"X does not have valid feature names, but\"\n",
      "/Users/kte/opt/anaconda3/envs/tensor/lib/python3.7/site-packages/sklearn/base.py:451: UserWarning: X does not have valid feature names, but IsolationForest was fitted with feature names\n",
      "  \"X does not have valid feature names, but\"\n",
      "/Users/kte/opt/anaconda3/envs/tensor/lib/python3.7/site-packages/sklearn/base.py:451: UserWarning: X does not have valid feature names, but IsolationForest was fitted with feature names\n",
      "  \"X does not have valid feature names, but\"\n",
      "/Users/kte/opt/anaconda3/envs/tensor/lib/python3.7/site-packages/sklearn/base.py:451: UserWarning: X does not have valid feature names, but IsolationForest was fitted with feature names\n",
      "  \"X does not have valid feature names, but\"\n",
      "/Users/kte/opt/anaconda3/envs/tensor/lib/python3.7/site-packages/sklearn/base.py:451: UserWarning: X does not have valid feature names, but IsolationForest was fitted with feature names\n",
      "  \"X does not have valid feature names, but\"\n",
      "/Users/kte/opt/anaconda3/envs/tensor/lib/python3.7/site-packages/sklearn/base.py:451: UserWarning: X does not have valid feature names, but IsolationForest was fitted with feature names\n",
      "  \"X does not have valid feature names, but\"\n",
      "/Users/kte/opt/anaconda3/envs/tensor/lib/python3.7/site-packages/sklearn/base.py:451: UserWarning: X does not have valid feature names, but IsolationForest was fitted with feature names\n",
      "  \"X does not have valid feature names, but\"\n",
      "/Users/kte/opt/anaconda3/envs/tensor/lib/python3.7/site-packages/sklearn/base.py:451: UserWarning: X does not have valid feature names, but IsolationForest was fitted with feature names\n",
      "  \"X does not have valid feature names, but\"\n",
      "/Users/kte/opt/anaconda3/envs/tensor/lib/python3.7/site-packages/sklearn/base.py:451: UserWarning: X does not have valid feature names, but IsolationForest was fitted with feature names\n",
      "  \"X does not have valid feature names, but\"\n",
      "/Users/kte/opt/anaconda3/envs/tensor/lib/python3.7/site-packages/sklearn/base.py:451: UserWarning: X does not have valid feature names, but IsolationForest was fitted with feature names\n",
      "  \"X does not have valid feature names, but\"\n",
      "/Users/kte/opt/anaconda3/envs/tensor/lib/python3.7/site-packages/sklearn/base.py:451: UserWarning: X does not have valid feature names, but IsolationForest was fitted with feature names\n",
      "  \"X does not have valid feature names, but\"\n"
     ]
    }
   ],
   "source": [
    "temp_cols = ['V10','V7']\n",
    "iss2 = []\n",
    "f1s2 = []\n",
    "for i in range(70,130,1):\n",
    "    model = IsolationForest(n_estimators=125, max_samples=len(train_x), contamination=0.00001 * i, random_state=42, verbose=0)\n",
    "    model.fit(train_x.loc[:,temp_cols])\n",
    "\n",
    "    pred = model.predict(val_x.loc[:,temp_cols])\n",
    "    pred = get_pred_label(pred)\n",
    "    f1score = f1_score(val_y, pred, average='macro')\n",
    "    iss2.append(i)\n",
    "    f1s2.append(f1score)\n"
   ]
  },
  {
   "cell_type": "code",
   "execution_count": 114,
   "metadata": {},
   "outputs": [
    {
     "data": {
      "text/html": [
       "<div>\n",
       "<style scoped>\n",
       "    .dataframe tbody tr th:only-of-type {\n",
       "        vertical-align: middle;\n",
       "    }\n",
       "\n",
       "    .dataframe tbody tr th {\n",
       "        vertical-align: top;\n",
       "    }\n",
       "\n",
       "    .dataframe thead th {\n",
       "        text-align: right;\n",
       "    }\n",
       "</style>\n",
       "<table border=\"1\" class=\"dataframe\">\n",
       "  <thead>\n",
       "    <tr style=\"text-align: right;\">\n",
       "      <th></th>\n",
       "      <th>i</th>\n",
       "      <th>f1s</th>\n",
       "    </tr>\n",
       "  </thead>\n",
       "  <tbody>\n",
       "    <tr>\n",
       "      <th>0</th>\n",
       "      <td>70</td>\n",
       "      <td>0.826381</td>\n",
       "    </tr>\n",
       "    <tr>\n",
       "      <th>1</th>\n",
       "      <td>71</td>\n",
       "      <td>0.839859</td>\n",
       "    </tr>\n",
       "    <tr>\n",
       "      <th>2</th>\n",
       "      <td>72</td>\n",
       "      <td>0.839859</td>\n",
       "    </tr>\n",
       "    <tr>\n",
       "      <th>3</th>\n",
       "      <td>73</td>\n",
       "      <td>0.839859</td>\n",
       "    </tr>\n",
       "    <tr>\n",
       "      <th>4</th>\n",
       "      <td>74</td>\n",
       "      <td>0.839859</td>\n",
       "    </tr>\n",
       "    <tr>\n",
       "      <th>5</th>\n",
       "      <td>75</td>\n",
       "      <td>0.839859</td>\n",
       "    </tr>\n",
       "    <tr>\n",
       "      <th>6</th>\n",
       "      <td>76</td>\n",
       "      <td>0.839859</td>\n",
       "    </tr>\n",
       "    <tr>\n",
       "      <th>7</th>\n",
       "      <td>77</td>\n",
       "      <td>0.839859</td>\n",
       "    </tr>\n",
       "    <tr>\n",
       "      <th>8</th>\n",
       "      <td>78</td>\n",
       "      <td>0.839859</td>\n",
       "    </tr>\n",
       "    <tr>\n",
       "      <th>9</th>\n",
       "      <td>79</td>\n",
       "      <td>0.839859</td>\n",
       "    </tr>\n",
       "    <tr>\n",
       "      <th>10</th>\n",
       "      <td>80</td>\n",
       "      <td>0.839859</td>\n",
       "    </tr>\n",
       "    <tr>\n",
       "      <th>11</th>\n",
       "      <td>81</td>\n",
       "      <td>0.839859</td>\n",
       "    </tr>\n",
       "    <tr>\n",
       "      <th>12</th>\n",
       "      <td>82</td>\n",
       "      <td>0.839859</td>\n",
       "    </tr>\n",
       "    <tr>\n",
       "      <th>13</th>\n",
       "      <td>83</td>\n",
       "      <td>0.839859</td>\n",
       "    </tr>\n",
       "    <tr>\n",
       "      <th>14</th>\n",
       "      <td>84</td>\n",
       "      <td>0.839859</td>\n",
       "    </tr>\n",
       "    <tr>\n",
       "      <th>15</th>\n",
       "      <td>85</td>\n",
       "      <td>0.839859</td>\n",
       "    </tr>\n",
       "    <tr>\n",
       "      <th>16</th>\n",
       "      <td>86</td>\n",
       "      <td>0.852809</td>\n",
       "    </tr>\n",
       "    <tr>\n",
       "      <th>17</th>\n",
       "      <td>87</td>\n",
       "      <td>0.852809</td>\n",
       "    </tr>\n",
       "    <tr>\n",
       "      <th>18</th>\n",
       "      <td>88</td>\n",
       "      <td>0.852809</td>\n",
       "    </tr>\n",
       "    <tr>\n",
       "      <th>19</th>\n",
       "      <td>89</td>\n",
       "      <td>0.852809</td>\n",
       "    </tr>\n",
       "    <tr>\n",
       "      <th>20</th>\n",
       "      <td>90</td>\n",
       "      <td>0.852809</td>\n",
       "    </tr>\n",
       "    <tr>\n",
       "      <th>21</th>\n",
       "      <td>91</td>\n",
       "      <td>0.852809</td>\n",
       "    </tr>\n",
       "    <tr>\n",
       "      <th>22</th>\n",
       "      <td>92</td>\n",
       "      <td>0.852809</td>\n",
       "    </tr>\n",
       "    <tr>\n",
       "      <th>23</th>\n",
       "      <td>93</td>\n",
       "      <td>0.852809</td>\n",
       "    </tr>\n",
       "    <tr>\n",
       "      <th>24</th>\n",
       "      <td>94</td>\n",
       "      <td>0.852809</td>\n",
       "    </tr>\n",
       "    <tr>\n",
       "      <th>25</th>\n",
       "      <td>95</td>\n",
       "      <td>0.852809</td>\n",
       "    </tr>\n",
       "    <tr>\n",
       "      <th>26</th>\n",
       "      <td>96</td>\n",
       "      <td>0.852809</td>\n",
       "    </tr>\n",
       "    <tr>\n",
       "      <th>27</th>\n",
       "      <td>97</td>\n",
       "      <td>0.852809</td>\n",
       "    </tr>\n",
       "    <tr>\n",
       "      <th>28</th>\n",
       "      <td>98</td>\n",
       "      <td>0.852809</td>\n",
       "    </tr>\n",
       "    <tr>\n",
       "      <th>29</th>\n",
       "      <td>99</td>\n",
       "      <td>0.852809</td>\n",
       "    </tr>\n",
       "    <tr>\n",
       "      <th>30</th>\n",
       "      <td>100</td>\n",
       "      <td>0.852809</td>\n",
       "    </tr>\n",
       "    <tr>\n",
       "      <th>31</th>\n",
       "      <td>101</td>\n",
       "      <td>0.852809</td>\n",
       "    </tr>\n",
       "    <tr>\n",
       "      <th>32</th>\n",
       "      <td>102</td>\n",
       "      <td>0.852809</td>\n",
       "    </tr>\n",
       "    <tr>\n",
       "      <th>33</th>\n",
       "      <td>103</td>\n",
       "      <td>0.852809</td>\n",
       "    </tr>\n",
       "    <tr>\n",
       "      <th>34</th>\n",
       "      <td>104</td>\n",
       "      <td>0.852809</td>\n",
       "    </tr>\n",
       "    <tr>\n",
       "      <th>35</th>\n",
       "      <td>105</td>\n",
       "      <td>0.852809</td>\n",
       "    </tr>\n",
       "    <tr>\n",
       "      <th>36</th>\n",
       "      <td>106</td>\n",
       "      <td>0.865262</td>\n",
       "    </tr>\n",
       "    <tr>\n",
       "      <th>37</th>\n",
       "      <td>107</td>\n",
       "      <td>0.865262</td>\n",
       "    </tr>\n",
       "    <tr>\n",
       "      <th>38</th>\n",
       "      <td>108</td>\n",
       "      <td>0.865262</td>\n",
       "    </tr>\n",
       "    <tr>\n",
       "      <th>39</th>\n",
       "      <td>109</td>\n",
       "      <td>0.865262</td>\n",
       "    </tr>\n",
       "    <tr>\n",
       "      <th>40</th>\n",
       "      <td>110</td>\n",
       "      <td>0.865262</td>\n",
       "    </tr>\n",
       "    <tr>\n",
       "      <th>41</th>\n",
       "      <td>111</td>\n",
       "      <td>0.865262</td>\n",
       "    </tr>\n",
       "    <tr>\n",
       "      <th>42</th>\n",
       "      <td>112</td>\n",
       "      <td>0.865262</td>\n",
       "    </tr>\n",
       "    <tr>\n",
       "      <th>43</th>\n",
       "      <td>113</td>\n",
       "      <td>0.865262</td>\n",
       "    </tr>\n",
       "    <tr>\n",
       "      <th>44</th>\n",
       "      <td>114</td>\n",
       "      <td>0.865262</td>\n",
       "    </tr>\n",
       "    <tr>\n",
       "      <th>45</th>\n",
       "      <td>115</td>\n",
       "      <td>0.865262</td>\n",
       "    </tr>\n",
       "    <tr>\n",
       "      <th>46</th>\n",
       "      <td>116</td>\n",
       "      <td>0.865262</td>\n",
       "    </tr>\n",
       "    <tr>\n",
       "      <th>47</th>\n",
       "      <td>117</td>\n",
       "      <td>0.865262</td>\n",
       "    </tr>\n",
       "    <tr>\n",
       "      <th>48</th>\n",
       "      <td>118</td>\n",
       "      <td>0.870247</td>\n",
       "    </tr>\n",
       "    <tr>\n",
       "      <th>49</th>\n",
       "      <td>119</td>\n",
       "      <td>0.870247</td>\n",
       "    </tr>\n",
       "    <tr>\n",
       "      <th>50</th>\n",
       "      <td>120</td>\n",
       "      <td>0.870247</td>\n",
       "    </tr>\n",
       "    <tr>\n",
       "      <th>51</th>\n",
       "      <td>121</td>\n",
       "      <td>0.870247</td>\n",
       "    </tr>\n",
       "    <tr>\n",
       "      <th>52</th>\n",
       "      <td>122</td>\n",
       "      <td>0.870247</td>\n",
       "    </tr>\n",
       "    <tr>\n",
       "      <th>53</th>\n",
       "      <td>123</td>\n",
       "      <td>0.870247</td>\n",
       "    </tr>\n",
       "    <tr>\n",
       "      <th>54</th>\n",
       "      <td>124</td>\n",
       "      <td>0.870247</td>\n",
       "    </tr>\n",
       "    <tr>\n",
       "      <th>55</th>\n",
       "      <td>125</td>\n",
       "      <td>0.870247</td>\n",
       "    </tr>\n",
       "    <tr>\n",
       "      <th>56</th>\n",
       "      <td>126</td>\n",
       "      <td>0.870247</td>\n",
       "    </tr>\n",
       "    <tr>\n",
       "      <th>57</th>\n",
       "      <td>127</td>\n",
       "      <td>0.863504</td>\n",
       "    </tr>\n",
       "    <tr>\n",
       "      <th>58</th>\n",
       "      <td>128</td>\n",
       "      <td>0.863504</td>\n",
       "    </tr>\n",
       "    <tr>\n",
       "      <th>59</th>\n",
       "      <td>129</td>\n",
       "      <td>0.863504</td>\n",
       "    </tr>\n",
       "  </tbody>\n",
       "</table>\n",
       "</div>"
      ],
      "text/plain": [
       "      i       f1s\n",
       "0    70  0.826381\n",
       "1    71  0.839859\n",
       "2    72  0.839859\n",
       "3    73  0.839859\n",
       "4    74  0.839859\n",
       "5    75  0.839859\n",
       "6    76  0.839859\n",
       "7    77  0.839859\n",
       "8    78  0.839859\n",
       "9    79  0.839859\n",
       "10   80  0.839859\n",
       "11   81  0.839859\n",
       "12   82  0.839859\n",
       "13   83  0.839859\n",
       "14   84  0.839859\n",
       "15   85  0.839859\n",
       "16   86  0.852809\n",
       "17   87  0.852809\n",
       "18   88  0.852809\n",
       "19   89  0.852809\n",
       "20   90  0.852809\n",
       "21   91  0.852809\n",
       "22   92  0.852809\n",
       "23   93  0.852809\n",
       "24   94  0.852809\n",
       "25   95  0.852809\n",
       "26   96  0.852809\n",
       "27   97  0.852809\n",
       "28   98  0.852809\n",
       "29   99  0.852809\n",
       "30  100  0.852809\n",
       "31  101  0.852809\n",
       "32  102  0.852809\n",
       "33  103  0.852809\n",
       "34  104  0.852809\n",
       "35  105  0.852809\n",
       "36  106  0.865262\n",
       "37  107  0.865262\n",
       "38  108  0.865262\n",
       "39  109  0.865262\n",
       "40  110  0.865262\n",
       "41  111  0.865262\n",
       "42  112  0.865262\n",
       "43  113  0.865262\n",
       "44  114  0.865262\n",
       "45  115  0.865262\n",
       "46  116  0.865262\n",
       "47  117  0.865262\n",
       "48  118  0.870247\n",
       "49  119  0.870247\n",
       "50  120  0.870247\n",
       "51  121  0.870247\n",
       "52  122  0.870247\n",
       "53  123  0.870247\n",
       "54  124  0.870247\n",
       "55  125  0.870247\n",
       "56  126  0.870247\n",
       "57  127  0.863504\n",
       "58  128  0.863504\n",
       "59  129  0.863504"
      ]
     },
     "execution_count": 114,
     "metadata": {},
     "output_type": "execute_result"
    }
   ],
   "source": [
    "i2_df = pd.DataFrame({'i':iss2 , 'f1s' : f1s2})\n",
    "i2_df"
   ]
  },
  {
   "cell_type": "code",
   "execution_count": 119,
   "metadata": {},
   "outputs": [
    {
     "name": "stderr",
     "output_type": "stream",
     "text": [
      "/Users/kte/opt/anaconda3/envs/tensor/lib/python3.7/site-packages/sklearn/base.py:451: UserWarning: X does not have valid feature names, but IsolationForest was fitted with feature names\n",
      "  \"X does not have valid feature names, but\"\n"
     ]
    },
    {
     "name": "stdout",
     "output_type": "stream",
     "text": [
      "0.870247282626393\n",
      "              precision    recall  f1-score   support\n",
      "\n",
      "           0       1.00      1.00      1.00     28432\n",
      "           1       0.83      0.67      0.74        30\n",
      "\n",
      "    accuracy                           1.00     28462\n",
      "   macro avg       0.92      0.83      0.87     28462\n",
      "weighted avg       1.00      1.00      1.00     28462\n",
      "\n"
     ]
    }
   ],
   "source": [
    "model = IsolationForest(n_estimators=125, max_samples=len(train_x), contamination=0.0012, random_state=42, verbose=0)\n",
    "model.fit(train_x.loc[:,temp_cols])\n",
    "\n",
    "pred = model.predict(val_x.loc[:,temp_cols])\n",
    "pred = get_pred_label(pred)\n",
    "f1score = f1_score(val_y, pred, average='macro')\n",
    "print(f1score)\n",
    "print(classification_report(val_y,pred))"
   ]
  },
  {
   "cell_type": "code",
   "execution_count": null,
   "metadata": {},
   "outputs": [],
   "source": []
  },
  {
   "cell_type": "code",
   "execution_count": 100,
   "metadata": {},
   "outputs": [],
   "source": [
    "testcols = ['V10', 'V17', 'V7', 'V18', 'V14', 'V26', 'V8']\n",
    "model = IsolationForest(n_estimators=100, max_samples=len(train_x), contamination=val_contamination, random_state=42, verbose=0)\n",
    "model.fit(train_x.loc[:,testcols])\n",
    "\n",
    "test_pred = model.predict(test_df.loc[:,testcols]) # model prediction\n",
    "test_pred = get_pred_label(test_pred)\n",
    "## Submission\n",
    "submit = pd.read_csv('../Data/sample_submission.csv')\n",
    "submit.head()\n",
    "submit['Class'] = test_pred\n",
    "submit.to_csv('./submit.csv', index=False)"
   ]
  },
  {
   "cell_type": "code",
   "execution_count": null,
   "metadata": {},
   "outputs": [],
   "source": []
  }
 ],
 "metadata": {
  "kernelspec": {
   "display_name": "Python 3.7.13 ('tensor')",
   "language": "python",
   "name": "python3"
  },
  "language_info": {
   "codemirror_mode": {
    "name": "ipython",
    "version": 3
   },
   "file_extension": ".py",
   "mimetype": "text/x-python",
   "name": "python",
   "nbconvert_exporter": "python",
   "pygments_lexer": "ipython3",
   "version": "3.7.13"
  },
  "orig_nbformat": 4,
  "vscode": {
   "interpreter": {
    "hash": "2cd8ab235991ec21a8c18909a3ffb6c6aa655e4cacee6331ca5c07df8f3aac09"
   }
  }
 },
 "nbformat": 4,
 "nbformat_minor": 2
}
