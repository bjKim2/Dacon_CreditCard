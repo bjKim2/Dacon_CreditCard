{
 "cells": [
  {
   "cell_type": "code",
   "execution_count": 2,
   "metadata": {},
   "outputs": [],
   "source": [
    "import pandas as pd\n",
    "import numpy as np"
   ]
  },
  {
   "cell_type": "code",
   "execution_count": 3,
   "metadata": {},
   "outputs": [],
   "source": [
    "train_df = pd.read_csv(\"../ica_Data/mod_train_inica.csv\")\n",
    "val_df = pd.read_csv(\"../ica_Data/mod_val_inica.csv\")\n",
    "test_df = pd.read_csv(\"../ica_Data/mod_test_inica.csv\")\n",
    "\n",
    "# train_df = pd.read_csv(\"../pca_Data/train_pca.csv\")\n",
    "# val_df = pd.read_csv(\"../pca_Data/val_pca.csv\")\n",
    "# test_df = pd.read_csv(\"../pca_Data/test_pca.csv\")\n",
    "\n",
    "\n",
    "\n"
   ]
  },
  {
   "cell_type": "code",
   "execution_count": 4,
   "metadata": {},
   "outputs": [],
   "source": [
    "#functions\n",
    "def get_pred_label(model_pred):\n",
    "    # IsolationForest 모델 출력 (1:정상, -1:불량(사기)) 이므로 (0:정상, 1:불량(사기))로 Label 변환\n",
    "    model_pred = np.where(model_pred == 1, 0, model_pred)\n",
    "    model_pred = np.where(model_pred == -1, 1, model_pred)\n",
    "    return model_pred"
   ]
  },
  {
   "cell_type": "code",
   "execution_count": 5,
   "metadata": {},
   "outputs": [
    {
     "data": {
      "text/html": [
       "<div>\n",
       "<style scoped>\n",
       "    .dataframe tbody tr th:only-of-type {\n",
       "        vertical-align: middle;\n",
       "    }\n",
       "\n",
       "    .dataframe tbody tr th {\n",
       "        vertical-align: top;\n",
       "    }\n",
       "\n",
       "    .dataframe thead th {\n",
       "        text-align: right;\n",
       "    }\n",
       "</style>\n",
       "<table border=\"1\" class=\"dataframe\">\n",
       "  <thead>\n",
       "    <tr style=\"text-align: right;\">\n",
       "      <th></th>\n",
       "      <th>V2</th>\n",
       "      <th>V3</th>\n",
       "      <th>V6</th>\n",
       "      <th>V7</th>\n",
       "      <th>V9</th>\n",
       "      <th>V10</th>\n",
       "      <th>V11</th>\n",
       "      <th>V12</th>\n",
       "      <th>V13</th>\n",
       "      <th>V14</th>\n",
       "      <th>V15</th>\n",
       "      <th>V16</th>\n",
       "      <th>V17</th>\n",
       "      <th>V18</th>\n",
       "      <th>V19</th>\n",
       "      <th>V20</th>\n",
       "      <th>V23</th>\n",
       "      <th>V24</th>\n",
       "      <th>V25</th>\n",
       "      <th>V28</th>\n",
       "    </tr>\n",
       "  </thead>\n",
       "  <tbody>\n",
       "    <tr>\n",
       "      <th>113373</th>\n",
       "      <td>0.771828</td>\n",
       "      <td>0.641183</td>\n",
       "      <td>0.520302</td>\n",
       "      <td>0.484821</td>\n",
       "      <td>0.765109</td>\n",
       "      <td>0.611742</td>\n",
       "      <td>0.242903</td>\n",
       "      <td>0.919594</td>\n",
       "      <td>0.586143</td>\n",
       "      <td>0.713100</td>\n",
       "      <td>0.324051</td>\n",
       "      <td>0.647755</td>\n",
       "      <td>0.690716</td>\n",
       "      <td>0.659210</td>\n",
       "      <td>0.452847</td>\n",
       "      <td>0.515235</td>\n",
       "      <td>0.664967</td>\n",
       "      <td>0.229716</td>\n",
       "      <td>0.577471</td>\n",
       "      <td>0.222794</td>\n",
       "    </tr>\n",
       "    <tr>\n",
       "      <th>113374</th>\n",
       "      <td>0.772340</td>\n",
       "      <td>0.863727</td>\n",
       "      <td>0.521992</td>\n",
       "      <td>0.484964</td>\n",
       "      <td>0.593178</td>\n",
       "      <td>0.612784</td>\n",
       "      <td>0.234012</td>\n",
       "      <td>0.845138</td>\n",
       "      <td>0.498073</td>\n",
       "      <td>0.683037</td>\n",
       "      <td>0.349484</td>\n",
       "      <td>0.598874</td>\n",
       "      <td>0.694941</td>\n",
       "      <td>0.636806</td>\n",
       "      <td>0.481802</td>\n",
       "      <td>0.516153</td>\n",
       "      <td>0.665368</td>\n",
       "      <td>0.404771</td>\n",
       "      <td>0.578110</td>\n",
       "      <td>0.221332</td>\n",
       "    </tr>\n",
       "    <tr>\n",
       "      <th>113375</th>\n",
       "      <td>0.772034</td>\n",
       "      <td>0.895964</td>\n",
       "      <td>0.522400</td>\n",
       "      <td>0.485395</td>\n",
       "      <td>0.568367</td>\n",
       "      <td>0.614396</td>\n",
       "      <td>0.268937</td>\n",
       "      <td>0.808312</td>\n",
       "      <td>0.369876</td>\n",
       "      <td>0.684451</td>\n",
       "      <td>0.388255</td>\n",
       "      <td>0.603855</td>\n",
       "      <td>0.697564</td>\n",
       "      <td>0.599980</td>\n",
       "      <td>0.481123</td>\n",
       "      <td>0.516356</td>\n",
       "      <td>0.665429</td>\n",
       "      <td>0.466764</td>\n",
       "      <td>0.578142</td>\n",
       "      <td>0.221111</td>\n",
       "    </tr>\n",
       "    <tr>\n",
       "      <th>113376</th>\n",
       "      <td>0.771877</td>\n",
       "      <td>0.873210</td>\n",
       "      <td>0.522376</td>\n",
       "      <td>0.485260</td>\n",
       "      <td>0.555870</td>\n",
       "      <td>0.614750</td>\n",
       "      <td>0.351850</td>\n",
       "      <td>0.821787</td>\n",
       "      <td>0.392067</td>\n",
       "      <td>0.646800</td>\n",
       "      <td>0.336540</td>\n",
       "      <td>0.647465</td>\n",
       "      <td>0.697659</td>\n",
       "      <td>0.697746</td>\n",
       "      <td>0.524538</td>\n",
       "      <td>0.516432</td>\n",
       "      <td>0.665463</td>\n",
       "      <td>0.427502</td>\n",
       "      <td>0.577581</td>\n",
       "      <td>0.221340</td>\n",
       "    </tr>\n",
       "    <tr>\n",
       "      <th>113377</th>\n",
       "      <td>0.772054</td>\n",
       "      <td>0.580598</td>\n",
       "      <td>0.520380</td>\n",
       "      <td>0.485057</td>\n",
       "      <td>0.633835</td>\n",
       "      <td>0.611914</td>\n",
       "      <td>0.208970</td>\n",
       "      <td>0.896871</td>\n",
       "      <td>0.375006</td>\n",
       "      <td>0.823210</td>\n",
       "      <td>0.324707</td>\n",
       "      <td>0.611986</td>\n",
       "      <td>0.692008</td>\n",
       "      <td>0.702896</td>\n",
       "      <td>0.441598</td>\n",
       "      <td>0.515005</td>\n",
       "      <td>0.665466</td>\n",
       "      <td>0.338163</td>\n",
       "      <td>0.578714</td>\n",
       "      <td>0.222709</td>\n",
       "    </tr>\n",
       "  </tbody>\n",
       "</table>\n",
       "</div>"
      ],
      "text/plain": [
       "              V2        V3        V6        V7        V9       V10       V11  \\\n",
       "113373  0.771828  0.641183  0.520302  0.484821  0.765109  0.611742  0.242903   \n",
       "113374  0.772340  0.863727  0.521992  0.484964  0.593178  0.612784  0.234012   \n",
       "113375  0.772034  0.895964  0.522400  0.485395  0.568367  0.614396  0.268937   \n",
       "113376  0.771877  0.873210  0.522376  0.485260  0.555870  0.614750  0.351850   \n",
       "113377  0.772054  0.580598  0.520380  0.485057  0.633835  0.611914  0.208970   \n",
       "\n",
       "             V12       V13       V14       V15       V16       V17       V18  \\\n",
       "113373  0.919594  0.586143  0.713100  0.324051  0.647755  0.690716  0.659210   \n",
       "113374  0.845138  0.498073  0.683037  0.349484  0.598874  0.694941  0.636806   \n",
       "113375  0.808312  0.369876  0.684451  0.388255  0.603855  0.697564  0.599980   \n",
       "113376  0.821787  0.392067  0.646800  0.336540  0.647465  0.697659  0.697746   \n",
       "113377  0.896871  0.375006  0.823210  0.324707  0.611986  0.692008  0.702896   \n",
       "\n",
       "             V19       V20       V23       V24       V25       V28  \n",
       "113373  0.452847  0.515235  0.664967  0.229716  0.577471  0.222794  \n",
       "113374  0.481802  0.516153  0.665368  0.404771  0.578110  0.221332  \n",
       "113375  0.481123  0.516356  0.665429  0.466764  0.578142  0.221111  \n",
       "113376  0.524538  0.516432  0.665463  0.427502  0.577581  0.221340  \n",
       "113377  0.441598  0.515005  0.665466  0.338163  0.578714  0.222709  "
      ]
     },
     "execution_count": 5,
     "metadata": {},
     "output_type": "execute_result"
    }
   ],
   "source": [
    "train_df.tail()"
   ]
  },
  {
   "cell_type": "code",
   "execution_count": 6,
   "metadata": {},
   "outputs": [],
   "source": [
    "train_x = train_df[:]\n",
    "val_x = val_df.drop('Class',axis=1)\n",
    "val_y = val_df['Class']"
   ]
  },
  {
   "cell_type": "code",
   "execution_count": 7,
   "metadata": {},
   "outputs": [
    {
     "name": "stdout",
     "output_type": "stream",
     "text": [
      "0.0010540369615627855\n"
     ]
    }
   ],
   "source": [
    "from sklearn.ensemble import IsolationForest \n",
    "from sklearn.metrics import classification_report,f1_score\n",
    "\n",
    "val_contamination = val_y.mean()\n",
    "print(val_contamination)\n"
   ]
  },
  {
   "cell_type": "code",
   "execution_count": 8,
   "metadata": {},
   "outputs": [],
   "source": [
    "# colnames = ['V12','V17','V18','V19','V9','V14']\n",
    "# colnames = val_x.columns"
   ]
  },
  {
   "cell_type": "code",
   "execution_count": 9,
   "metadata": {},
   "outputs": [
    {
     "name": "stdout",
     "output_type": "stream",
     "text": [
      "count : 1 번\n",
      "selected []\n",
      "tempcol ['V2']\n"
     ]
    },
    {
     "name": "stderr",
     "output_type": "stream",
     "text": [
      "/Users/kte/opt/anaconda3/envs/tensor/lib/python3.7/site-packages/sklearn/base.py:451: UserWarning: X does not have valid feature names, but IsolationForest was fitted with feature names\n",
      "  \"X does not have valid feature names, but\"\n"
     ]
    },
    {
     "name": "stdout",
     "output_type": "stream",
     "text": [
      "              precision    recall  f1-score   support\n",
      "\n",
      "           0       1.00      1.00      1.00     28432\n",
      "           1       0.54      0.43      0.48        30\n",
      "\n",
      "    accuracy                           1.00     28462\n",
      "   macro avg       0.77      0.72      0.74     28462\n",
      "weighted avg       1.00      1.00      1.00     28462\n",
      "\n",
      "0.7404945652527857\n",
      "selected []\n",
      "tempcol ['V3']\n"
     ]
    },
    {
     "name": "stderr",
     "output_type": "stream",
     "text": [
      "/Users/kte/opt/anaconda3/envs/tensor/lib/python3.7/site-packages/sklearn/base.py:451: UserWarning: X does not have valid feature names, but IsolationForest was fitted with feature names\n",
      "  \"X does not have valid feature names, but\"\n"
     ]
    },
    {
     "name": "stdout",
     "output_type": "stream",
     "text": [
      "              precision    recall  f1-score   support\n",
      "\n",
      "           0       1.00      1.00      1.00     28432\n",
      "           1       0.11      0.17      0.14        30\n",
      "\n",
      "    accuracy                           1.00     28462\n",
      "   macro avg       0.56      0.58      0.57     28462\n",
      "weighted avg       1.00      1.00      1.00     28462\n",
      "\n",
      "0.5670046827830468\n",
      "selected []\n",
      "tempcol ['V6']\n"
     ]
    },
    {
     "name": "stderr",
     "output_type": "stream",
     "text": [
      "/Users/kte/opt/anaconda3/envs/tensor/lib/python3.7/site-packages/sklearn/base.py:451: UserWarning: X does not have valid feature names, but IsolationForest was fitted with feature names\n",
      "  \"X does not have valid feature names, but\"\n"
     ]
    },
    {
     "name": "stdout",
     "output_type": "stream",
     "text": [
      "              precision    recall  f1-score   support\n",
      "\n",
      "           0       1.00      1.00      1.00     28432\n",
      "           1       0.26      0.33      0.29        30\n",
      "\n",
      "    accuracy                           1.00     28462\n",
      "   macro avg       0.63      0.67      0.64     28462\n",
      "weighted avg       1.00      1.00      1.00     28462\n",
      "\n",
      "0.6444966154685386\n",
      "selected []\n",
      "tempcol ['V7']\n"
     ]
    },
    {
     "name": "stderr",
     "output_type": "stream",
     "text": [
      "/Users/kte/opt/anaconda3/envs/tensor/lib/python3.7/site-packages/sklearn/base.py:451: UserWarning: X does not have valid feature names, but IsolationForest was fitted with feature names\n",
      "  \"X does not have valid feature names, but\"\n"
     ]
    },
    {
     "name": "stdout",
     "output_type": "stream",
     "text": [
      "              precision    recall  f1-score   support\n",
      "\n",
      "           0       1.00      1.00      1.00     28432\n",
      "           1       0.40      0.47      0.43        30\n",
      "\n",
      "    accuracy                           1.00     28462\n",
      "   macro avg       0.70      0.73      0.72     28462\n",
      "weighted avg       1.00      1.00      1.00     28462\n",
      "\n",
      "0.7150592491277343\n",
      "selected []\n",
      "tempcol ['V9']\n"
     ]
    },
    {
     "name": "stderr",
     "output_type": "stream",
     "text": [
      "/Users/kte/opt/anaconda3/envs/tensor/lib/python3.7/site-packages/sklearn/base.py:451: UserWarning: X does not have valid feature names, but IsolationForest was fitted with feature names\n",
      "  \"X does not have valid feature names, but\"\n"
     ]
    },
    {
     "name": "stdout",
     "output_type": "stream",
     "text": [
      "              precision    recall  f1-score   support\n",
      "\n",
      "           0       1.00      1.00      1.00     28432\n",
      "           1       0.10      0.10      0.10        30\n",
      "\n",
      "    accuracy                           1.00     28462\n",
      "   macro avg       0.55      0.55      0.55     28462\n",
      "weighted avg       1.00      1.00      1.00     28462\n",
      "\n",
      "0.5486967093471424\n",
      "selected []\n",
      "tempcol ['V10']\n"
     ]
    },
    {
     "name": "stderr",
     "output_type": "stream",
     "text": [
      "/Users/kte/opt/anaconda3/envs/tensor/lib/python3.7/site-packages/sklearn/base.py:451: UserWarning: X does not have valid feature names, but IsolationForest was fitted with feature names\n",
      "  \"X does not have valid feature names, but\"\n"
     ]
    },
    {
     "name": "stdout",
     "output_type": "stream",
     "text": [
      "              precision    recall  f1-score   support\n",
      "\n",
      "           0       1.00      1.00      1.00     28432\n",
      "           1       0.52      0.57      0.54        30\n",
      "\n",
      "    accuracy                           1.00     28462\n",
      "   macro avg       0.76      0.78      0.77     28462\n",
      "weighted avg       1.00      1.00      1.00     28462\n",
      "\n",
      "0.7695862620151677\n",
      "selected []\n",
      "tempcol ['V11']\n"
     ]
    },
    {
     "name": "stderr",
     "output_type": "stream",
     "text": [
      "/Users/kte/opt/anaconda3/envs/tensor/lib/python3.7/site-packages/sklearn/base.py:451: UserWarning: X does not have valid feature names, but IsolationForest was fitted with feature names\n",
      "  \"X does not have valid feature names, but\"\n"
     ]
    },
    {
     "name": "stdout",
     "output_type": "stream",
     "text": [
      "              precision    recall  f1-score   support\n",
      "\n",
      "           0       1.00      1.00      1.00     28432\n",
      "           1       0.42      0.57      0.49        30\n",
      "\n",
      "    accuracy                           1.00     28462\n",
      "   macro avg       0.71      0.78      0.74     28462\n",
      "weighted avg       1.00      1.00      1.00     28462\n",
      "\n",
      "0.7425405424420445\n",
      "selected []\n",
      "tempcol ['V12']\n"
     ]
    },
    {
     "name": "stderr",
     "output_type": "stream",
     "text": [
      "/Users/kte/opt/anaconda3/envs/tensor/lib/python3.7/site-packages/sklearn/base.py:451: UserWarning: X does not have valid feature names, but IsolationForest was fitted with feature names\n",
      "  \"X does not have valid feature names, but\"\n"
     ]
    },
    {
     "name": "stdout",
     "output_type": "stream",
     "text": [
      "              precision    recall  f1-score   support\n",
      "\n",
      "           0       1.00      1.00      1.00     28432\n",
      "           1       0.22      0.30      0.25        30\n",
      "\n",
      "    accuracy                           1.00     28462\n",
      "   macro avg       0.61      0.65      0.63     28462\n",
      "weighted avg       1.00      1.00      1.00     28462\n",
      "\n",
      "0.6262944490151647\n",
      "selected []\n",
      "tempcol ['V13']\n"
     ]
    },
    {
     "name": "stderr",
     "output_type": "stream",
     "text": [
      "/Users/kte/opt/anaconda3/envs/tensor/lib/python3.7/site-packages/sklearn/base.py:451: UserWarning: X does not have valid feature names, but IsolationForest was fitted with feature names\n",
      "  \"X does not have valid feature names, but\"\n"
     ]
    },
    {
     "name": "stdout",
     "output_type": "stream",
     "text": [
      "              precision    recall  f1-score   support\n",
      "\n",
      "           0       1.00      1.00      1.00     28432\n",
      "           1       0.00      0.00      0.00        30\n",
      "\n",
      "    accuracy                           1.00     28462\n",
      "   macro avg       0.50      0.50      0.50     28462\n",
      "weighted avg       1.00      1.00      1.00     28462\n",
      "\n",
      "0.4993579708360451\n",
      "selected []\n",
      "tempcol ['V14']\n"
     ]
    },
    {
     "name": "stderr",
     "output_type": "stream",
     "text": [
      "/Users/kte/opt/anaconda3/envs/tensor/lib/python3.7/site-packages/sklearn/base.py:451: UserWarning: X does not have valid feature names, but IsolationForest was fitted with feature names\n",
      "  \"X does not have valid feature names, but\"\n"
     ]
    },
    {
     "name": "stdout",
     "output_type": "stream",
     "text": [
      "              precision    recall  f1-score   support\n",
      "\n",
      "           0       1.00      1.00      1.00     28432\n",
      "           1       0.20      0.23      0.22        30\n",
      "\n",
      "    accuracy                           1.00     28462\n",
      "   macro avg       0.60      0.62      0.61     28462\n",
      "weighted avg       1.00      1.00      1.00     28462\n",
      "\n",
      "0.6072438298787689\n",
      "selected []\n",
      "tempcol ['V15']\n"
     ]
    },
    {
     "name": "stderr",
     "output_type": "stream",
     "text": [
      "/Users/kte/opt/anaconda3/envs/tensor/lib/python3.7/site-packages/sklearn/base.py:451: UserWarning: X does not have valid feature names, but IsolationForest was fitted with feature names\n",
      "  \"X does not have valid feature names, but\"\n"
     ]
    },
    {
     "name": "stdout",
     "output_type": "stream",
     "text": [
      "              precision    recall  f1-score   support\n",
      "\n",
      "           0       1.00      1.00      1.00     28432\n",
      "           1       0.00      0.00      0.00        30\n",
      "\n",
      "    accuracy                           1.00     28462\n",
      "   macro avg       0.50      0.50      0.50     28462\n",
      "weighted avg       1.00      1.00      1.00     28462\n",
      "\n",
      "0.4993843880817532\n",
      "selected []\n",
      "tempcol ['V16']\n"
     ]
    },
    {
     "name": "stderr",
     "output_type": "stream",
     "text": [
      "/Users/kte/opt/anaconda3/envs/tensor/lib/python3.7/site-packages/sklearn/base.py:451: UserWarning: X does not have valid feature names, but IsolationForest was fitted with feature names\n",
      "  \"X does not have valid feature names, but\"\n"
     ]
    },
    {
     "name": "stdout",
     "output_type": "stream",
     "text": [
      "              precision    recall  f1-score   support\n",
      "\n",
      "           0       1.00      1.00      1.00     28432\n",
      "           1       0.43      0.43      0.43        30\n",
      "\n",
      "    accuracy                           1.00     28462\n",
      "   macro avg       0.72      0.72      0.72     28462\n",
      "weighted avg       1.00      1.00      1.00     28462\n",
      "\n",
      "0.7163677077471393\n",
      "selected []\n",
      "tempcol ['V17']\n"
     ]
    },
    {
     "name": "stderr",
     "output_type": "stream",
     "text": [
      "/Users/kte/opt/anaconda3/envs/tensor/lib/python3.7/site-packages/sklearn/base.py:451: UserWarning: X does not have valid feature names, but IsolationForest was fitted with feature names\n",
      "  \"X does not have valid feature names, but\"\n"
     ]
    },
    {
     "name": "stdout",
     "output_type": "stream",
     "text": [
      "              precision    recall  f1-score   support\n",
      "\n",
      "           0       1.00      1.00      1.00     28432\n",
      "           1       0.46      0.60      0.52        30\n",
      "\n",
      "    accuracy                           1.00     28462\n",
      "   macro avg       0.73      0.80      0.76     28462\n",
      "weighted avg       1.00      1.00      1.00     28462\n",
      "\n",
      "0.7605793532747301\n",
      "selected []\n",
      "tempcol ['V18']\n"
     ]
    },
    {
     "name": "stderr",
     "output_type": "stream",
     "text": [
      "/Users/kte/opt/anaconda3/envs/tensor/lib/python3.7/site-packages/sklearn/base.py:451: UserWarning: X does not have valid feature names, but IsolationForest was fitted with feature names\n",
      "  \"X does not have valid feature names, but\"\n"
     ]
    },
    {
     "name": "stdout",
     "output_type": "stream",
     "text": [
      "              precision    recall  f1-score   support\n",
      "\n",
      "           0       1.00      1.00      1.00     28432\n",
      "           1       0.38      0.43      0.41        30\n",
      "\n",
      "    accuracy                           1.00     28462\n",
      "   macro avg       0.69      0.72      0.70     28462\n",
      "weighted avg       1.00      1.00      1.00     28462\n",
      "\n",
      "0.7027908459373902\n",
      "selected []\n",
      "tempcol ['V19']\n"
     ]
    },
    {
     "name": "stderr",
     "output_type": "stream",
     "text": [
      "/Users/kte/opt/anaconda3/envs/tensor/lib/python3.7/site-packages/sklearn/base.py:451: UserWarning: X does not have valid feature names, but IsolationForest was fitted with feature names\n",
      "  \"X does not have valid feature names, but\"\n"
     ]
    },
    {
     "name": "stdout",
     "output_type": "stream",
     "text": [
      "              precision    recall  f1-score   support\n",
      "\n",
      "           0       1.00      1.00      1.00     28432\n",
      "           1       0.06      0.07      0.06        30\n",
      "\n",
      "    accuracy                           1.00     28462\n",
      "   macro avg       0.53      0.53      0.53     28462\n",
      "weighted avg       1.00      1.00      1.00     28462\n",
      "\n",
      "0.5312272227205134\n",
      "selected []\n",
      "tempcol ['V20']\n"
     ]
    },
    {
     "name": "stderr",
     "output_type": "stream",
     "text": [
      "/Users/kte/opt/anaconda3/envs/tensor/lib/python3.7/site-packages/sklearn/base.py:451: UserWarning: X does not have valid feature names, but IsolationForest was fitted with feature names\n",
      "  \"X does not have valid feature names, but\"\n"
     ]
    },
    {
     "name": "stdout",
     "output_type": "stream",
     "text": [
      "              precision    recall  f1-score   support\n",
      "\n",
      "           0       1.00      1.00      1.00     28432\n",
      "           1       0.06      0.10      0.08        30\n",
      "\n",
      "    accuracy                           1.00     28462\n",
      "   macro avg       0.53      0.55      0.54     28462\n",
      "weighted avg       1.00      1.00      1.00     28462\n",
      "\n",
      "0.5373325866140549\n",
      "selected []\n",
      "tempcol ['V23']\n"
     ]
    },
    {
     "name": "stderr",
     "output_type": "stream",
     "text": [
      "/Users/kte/opt/anaconda3/envs/tensor/lib/python3.7/site-packages/sklearn/base.py:451: UserWarning: X does not have valid feature names, but IsolationForest was fitted with feature names\n",
      "  \"X does not have valid feature names, but\"\n"
     ]
    },
    {
     "name": "stdout",
     "output_type": "stream",
     "text": [
      "              precision    recall  f1-score   support\n",
      "\n",
      "           0       1.00      1.00      1.00     28432\n",
      "           1       0.04      0.03      0.04        30\n",
      "\n",
      "    accuracy                           1.00     28462\n",
      "   macro avg       0.52      0.52      0.52     28462\n",
      "weighted avg       1.00      1.00      1.00     28462\n",
      "\n",
      "0.5170602751449289\n",
      "selected []\n",
      "tempcol ['V24']\n"
     ]
    },
    {
     "name": "stderr",
     "output_type": "stream",
     "text": [
      "/Users/kte/opt/anaconda3/envs/tensor/lib/python3.7/site-packages/sklearn/base.py:451: UserWarning: X does not have valid feature names, but IsolationForest was fitted with feature names\n",
      "  \"X does not have valid feature names, but\"\n"
     ]
    },
    {
     "name": "stdout",
     "output_type": "stream",
     "text": [
      "              precision    recall  f1-score   support\n",
      "\n",
      "           0       1.00      1.00      1.00     28432\n",
      "           1       0.00      0.00      0.00        30\n",
      "\n",
      "    accuracy                           1.00     28462\n",
      "   macro avg       0.50      0.50      0.50     28462\n",
      "weighted avg       1.00      1.00      1.00     28462\n",
      "\n",
      "0.49945482044247475\n",
      "selected []\n",
      "tempcol ['V25']\n"
     ]
    },
    {
     "name": "stderr",
     "output_type": "stream",
     "text": [
      "/Users/kte/opt/anaconda3/envs/tensor/lib/python3.7/site-packages/sklearn/base.py:451: UserWarning: X does not have valid feature names, but IsolationForest was fitted with feature names\n",
      "  \"X does not have valid feature names, but\"\n"
     ]
    },
    {
     "name": "stdout",
     "output_type": "stream",
     "text": [
      "              precision    recall  f1-score   support\n",
      "\n",
      "           0       1.00      1.00      1.00     28432\n",
      "           1       0.33      0.37      0.35        30\n",
      "\n",
      "    accuracy                           1.00     28462\n",
      "   macro avg       0.67      0.68      0.67     28462\n",
      "weighted avg       1.00      1.00      1.00     28462\n",
      "\n",
      "0.6742426462973059\n",
      "selected []\n",
      "tempcol ['V28']\n"
     ]
    },
    {
     "name": "stderr",
     "output_type": "stream",
     "text": [
      "/Users/kte/opt/anaconda3/envs/tensor/lib/python3.7/site-packages/sklearn/base.py:451: UserWarning: X does not have valid feature names, but IsolationForest was fitted with feature names\n",
      "  \"X does not have valid feature names, but\"\n"
     ]
    },
    {
     "name": "stdout",
     "output_type": "stream",
     "text": [
      "              precision    recall  f1-score   support\n",
      "\n",
      "           0       1.00      1.00      1.00     28432\n",
      "           1       0.02      0.03      0.03        30\n",
      "\n",
      "    accuracy                           1.00     28462\n",
      "   macro avg       0.51      0.52      0.51     28462\n",
      "weighted avg       1.00      1.00      1.00     28462\n",
      "\n",
      "0.5132732553139927\n",
      "추가\n",
      "count : 21 번\n",
      "selected ['V10']\n",
      "tempcol ['V10', 'V2']\n"
     ]
    },
    {
     "name": "stderr",
     "output_type": "stream",
     "text": [
      "/Users/kte/opt/anaconda3/envs/tensor/lib/python3.7/site-packages/sklearn/base.py:451: UserWarning: X does not have valid feature names, but IsolationForest was fitted with feature names\n",
      "  \"X does not have valid feature names, but\"\n"
     ]
    },
    {
     "name": "stdout",
     "output_type": "stream",
     "text": [
      "              precision    recall  f1-score   support\n",
      "\n",
      "           0       1.00      1.00      1.00     28432\n",
      "           1       0.40      0.53      0.46        30\n",
      "\n",
      "    accuracy                           1.00     28462\n",
      "   macro avg       0.70      0.77      0.73     28462\n",
      "weighted avg       1.00      1.00      1.00     28462\n",
      "\n",
      "0.7282372392443803\n",
      "selected ['V10']\n",
      "tempcol ['V10', 'V3']\n"
     ]
    },
    {
     "name": "stderr",
     "output_type": "stream",
     "text": [
      "/Users/kte/opt/anaconda3/envs/tensor/lib/python3.7/site-packages/sklearn/base.py:451: UserWarning: X does not have valid feature names, but IsolationForest was fitted with feature names\n",
      "  \"X does not have valid feature names, but\"\n"
     ]
    },
    {
     "name": "stdout",
     "output_type": "stream",
     "text": [
      "              precision    recall  f1-score   support\n",
      "\n",
      "           0       1.00      1.00      1.00     28432\n",
      "           1       0.37      0.53      0.44        30\n",
      "\n",
      "    accuracy                           1.00     28462\n",
      "   macro avg       0.69      0.77      0.72     28462\n",
      "weighted avg       1.00      1.00      1.00     28462\n",
      "\n",
      "0.7188174904695596\n",
      "selected ['V10']\n",
      "tempcol ['V10', 'V6']\n"
     ]
    },
    {
     "name": "stderr",
     "output_type": "stream",
     "text": [
      "/Users/kte/opt/anaconda3/envs/tensor/lib/python3.7/site-packages/sklearn/base.py:451: UserWarning: X does not have valid feature names, but IsolationForest was fitted with feature names\n",
      "  \"X does not have valid feature names, but\"\n"
     ]
    },
    {
     "name": "stdout",
     "output_type": "stream",
     "text": [
      "              precision    recall  f1-score   support\n",
      "\n",
      "           0       1.00      1.00      1.00     28432\n",
      "           1       0.38      0.53      0.44        30\n",
      "\n",
      "    accuracy                           1.00     28462\n",
      "   macro avg       0.69      0.77      0.72     28462\n",
      "weighted avg       1.00      1.00      1.00     28462\n",
      "\n",
      "0.7218704316079958\n",
      "selected ['V10']\n",
      "tempcol ['V10', 'V7']\n"
     ]
    },
    {
     "name": "stderr",
     "output_type": "stream",
     "text": [
      "/Users/kte/opt/anaconda3/envs/tensor/lib/python3.7/site-packages/sklearn/base.py:451: UserWarning: X does not have valid feature names, but IsolationForest was fitted with feature names\n",
      "  \"X does not have valid feature names, but\"\n"
     ]
    },
    {
     "name": "stdout",
     "output_type": "stream",
     "text": [
      "              precision    recall  f1-score   support\n",
      "\n",
      "           0       1.00      1.00      1.00     28432\n",
      "           1       0.50      0.63      0.56        30\n",
      "\n",
      "    accuracy                           1.00     28462\n",
      "   macro avg       0.75      0.82      0.78     28462\n",
      "weighted avg       1.00      1.00      1.00     28462\n",
      "\n",
      "0.779147940307402\n",
      "selected ['V10']\n",
      "tempcol ['V10', 'V9']\n"
     ]
    },
    {
     "name": "stderr",
     "output_type": "stream",
     "text": [
      "/Users/kte/opt/anaconda3/envs/tensor/lib/python3.7/site-packages/sklearn/base.py:451: UserWarning: X does not have valid feature names, but IsolationForest was fitted with feature names\n",
      "  \"X does not have valid feature names, but\"\n"
     ]
    },
    {
     "name": "stdout",
     "output_type": "stream",
     "text": [
      "              precision    recall  f1-score   support\n",
      "\n",
      "           0       1.00      1.00      1.00     28432\n",
      "           1       0.44      0.53      0.48        30\n",
      "\n",
      "    accuracy                           1.00     28462\n",
      "   macro avg       0.72      0.77      0.74     28462\n",
      "weighted avg       1.00      1.00      1.00     28462\n",
      "\n",
      "0.7421252519567619\n",
      "selected ['V10']\n",
      "tempcol ['V10', 'V11']\n"
     ]
    },
    {
     "name": "stderr",
     "output_type": "stream",
     "text": [
      "/Users/kte/opt/anaconda3/envs/tensor/lib/python3.7/site-packages/sklearn/base.py:451: UserWarning: X does not have valid feature names, but IsolationForest was fitted with feature names\n",
      "  \"X does not have valid feature names, but\"\n"
     ]
    },
    {
     "name": "stdout",
     "output_type": "stream",
     "text": [
      "              precision    recall  f1-score   support\n",
      "\n",
      "           0       1.00      1.00      1.00     28432\n",
      "           1       0.40      0.57      0.47        30\n",
      "\n",
      "    accuracy                           1.00     28462\n",
      "   macro avg       0.70      0.78      0.73     28462\n",
      "weighted avg       1.00      1.00      1.00     28462\n",
      "\n",
      "0.7325337104466542\n",
      "selected ['V10']\n",
      "tempcol ['V10', 'V12']\n"
     ]
    },
    {
     "name": "stderr",
     "output_type": "stream",
     "text": [
      "/Users/kte/opt/anaconda3/envs/tensor/lib/python3.7/site-packages/sklearn/base.py:451: UserWarning: X does not have valid feature names, but IsolationForest was fitted with feature names\n",
      "  \"X does not have valid feature names, but\"\n"
     ]
    },
    {
     "name": "stdout",
     "output_type": "stream",
     "text": [
      "              precision    recall  f1-score   support\n",
      "\n",
      "           0       1.00      1.00      1.00     28432\n",
      "           1       0.44      0.53      0.48        30\n",
      "\n",
      "    accuracy                           1.00     28462\n",
      "   macro avg       0.72      0.77      0.74     28462\n",
      "weighted avg       1.00      1.00      1.00     28462\n",
      "\n",
      "0.7421252519567619\n",
      "selected ['V10']\n",
      "tempcol ['V10', 'V13']\n"
     ]
    },
    {
     "name": "stderr",
     "output_type": "stream",
     "text": [
      "/Users/kte/opt/anaconda3/envs/tensor/lib/python3.7/site-packages/sklearn/base.py:451: UserWarning: X does not have valid feature names, but IsolationForest was fitted with feature names\n",
      "  \"X does not have valid feature names, but\"\n"
     ]
    },
    {
     "name": "stdout",
     "output_type": "stream",
     "text": [
      "              precision    recall  f1-score   support\n",
      "\n",
      "           0       1.00      1.00      1.00     28432\n",
      "           1       0.44      0.57      0.49        30\n",
      "\n",
      "    accuracy                           1.00     28462\n",
      "   macro avg       0.72      0.78      0.75     28462\n",
      "weighted avg       1.00      1.00      1.00     28462\n",
      "\n",
      "0.7460690110489563\n",
      "selected ['V10']\n",
      "tempcol ['V10', 'V14']\n"
     ]
    },
    {
     "name": "stderr",
     "output_type": "stream",
     "text": [
      "/Users/kte/opt/anaconda3/envs/tensor/lib/python3.7/site-packages/sklearn/base.py:451: UserWarning: X does not have valid feature names, but IsolationForest was fitted with feature names\n",
      "  \"X does not have valid feature names, but\"\n"
     ]
    },
    {
     "name": "stdout",
     "output_type": "stream",
     "text": [
      "              precision    recall  f1-score   support\n",
      "\n",
      "           0       1.00      1.00      1.00     28432\n",
      "           1       0.53      0.63      0.58        30\n",
      "\n",
      "    accuracy                           1.00     28462\n",
      "   macro avg       0.76      0.82      0.79     28462\n",
      "weighted avg       1.00      1.00      1.00     28462\n",
      "\n",
      "0.7876325604349805\n",
      "selected ['V10']\n",
      "tempcol ['V10', 'V15']\n"
     ]
    },
    {
     "name": "stderr",
     "output_type": "stream",
     "text": [
      "/Users/kte/opt/anaconda3/envs/tensor/lib/python3.7/site-packages/sklearn/base.py:451: UserWarning: X does not have valid feature names, but IsolationForest was fitted with feature names\n",
      "  \"X does not have valid feature names, but\"\n"
     ]
    },
    {
     "name": "stdout",
     "output_type": "stream",
     "text": [
      "              precision    recall  f1-score   support\n",
      "\n",
      "           0       1.00      1.00      1.00     28432\n",
      "           1       0.38      0.50      0.43        30\n",
      "\n",
      "    accuracy                           1.00     28462\n",
      "   macro avg       0.69      0.75      0.71     28462\n",
      "weighted avg       1.00      1.00      1.00     28462\n",
      "\n",
      "0.7139339360467162\n",
      "selected ['V10']\n",
      "tempcol ['V10', 'V16']\n"
     ]
    },
    {
     "name": "stderr",
     "output_type": "stream",
     "text": [
      "/Users/kte/opt/anaconda3/envs/tensor/lib/python3.7/site-packages/sklearn/base.py:451: UserWarning: X does not have valid feature names, but IsolationForest was fitted with feature names\n",
      "  \"X does not have valid feature names, but\"\n"
     ]
    },
    {
     "name": "stdout",
     "output_type": "stream",
     "text": [
      "              precision    recall  f1-score   support\n",
      "\n",
      "           0       1.00      1.00      1.00     28432\n",
      "           1       0.50      0.60      0.55        30\n",
      "\n",
      "    accuracy                           1.00     28462\n",
      "   macro avg       0.75      0.80      0.77     28462\n",
      "weighted avg       1.00      1.00      1.00     28462\n",
      "\n",
      "0.7724634576089076\n",
      "selected ['V10']\n",
      "tempcol ['V10', 'V17']\n"
     ]
    },
    {
     "name": "stderr",
     "output_type": "stream",
     "text": [
      "/Users/kte/opt/anaconda3/envs/tensor/lib/python3.7/site-packages/sklearn/base.py:451: UserWarning: X does not have valid feature names, but IsolationForest was fitted with feature names\n",
      "  \"X does not have valid feature names, but\"\n"
     ]
    },
    {
     "name": "stdout",
     "output_type": "stream",
     "text": [
      "              precision    recall  f1-score   support\n",
      "\n",
      "           0       1.00      1.00      1.00     28432\n",
      "           1       0.50      0.60      0.55        30\n",
      "\n",
      "    accuracy                           1.00     28462\n",
      "   macro avg       0.75      0.80      0.77     28462\n",
      "weighted avg       1.00      1.00      1.00     28462\n",
      "\n",
      "0.7724634576089076\n",
      "selected ['V10']\n",
      "tempcol ['V10', 'V18']\n"
     ]
    },
    {
     "name": "stderr",
     "output_type": "stream",
     "text": [
      "/Users/kte/opt/anaconda3/envs/tensor/lib/python3.7/site-packages/sklearn/base.py:451: UserWarning: X does not have valid feature names, but IsolationForest was fitted with feature names\n",
      "  \"X does not have valid feature names, but\"\n"
     ]
    },
    {
     "name": "stdout",
     "output_type": "stream",
     "text": [
      "              precision    recall  f1-score   support\n",
      "\n",
      "           0       1.00      1.00      1.00     28432\n",
      "           1       0.53      0.57      0.55        30\n",
      "\n",
      "    accuracy                           1.00     28462\n",
      "   macro avg       0.77      0.78      0.77     28462\n",
      "weighted avg       1.00      1.00      1.00     28462\n",
      "\n",
      "0.7739473382643435\n",
      "selected ['V10']\n",
      "tempcol ['V10', 'V19']\n"
     ]
    },
    {
     "name": "stderr",
     "output_type": "stream",
     "text": [
      "/Users/kte/opt/anaconda3/envs/tensor/lib/python3.7/site-packages/sklearn/base.py:451: UserWarning: X does not have valid feature names, but IsolationForest was fitted with feature names\n",
      "  \"X does not have valid feature names, but\"\n"
     ]
    },
    {
     "name": "stdout",
     "output_type": "stream",
     "text": [
      "              precision    recall  f1-score   support\n",
      "\n",
      "           0       1.00      1.00      1.00     28432\n",
      "           1       0.47      0.53      0.50        30\n",
      "\n",
      "    accuracy                           1.00     28462\n",
      "   macro avg       0.74      0.77      0.75     28462\n",
      "weighted avg       1.00      1.00      1.00     28462\n",
      "\n",
      "0.7497186071051706\n",
      "selected ['V10']\n",
      "tempcol ['V10', 'V20']\n"
     ]
    },
    {
     "name": "stderr",
     "output_type": "stream",
     "text": [
      "/Users/kte/opt/anaconda3/envs/tensor/lib/python3.7/site-packages/sklearn/base.py:451: UserWarning: X does not have valid feature names, but IsolationForest was fitted with feature names\n",
      "  \"X does not have valid feature names, but\"\n"
     ]
    },
    {
     "name": "stdout",
     "output_type": "stream",
     "text": [
      "              precision    recall  f1-score   support\n",
      "\n",
      "           0       1.00      1.00      1.00     28432\n",
      "           1       0.35      0.50      0.41        30\n",
      "\n",
      "    accuracy                           1.00     28462\n",
      "   macro avg       0.67      0.75      0.71     28462\n",
      "weighted avg       1.00      1.00      1.00     28462\n",
      "\n",
      "0.705101270492465\n",
      "selected ['V10']\n",
      "tempcol ['V10', 'V23']\n"
     ]
    },
    {
     "name": "stderr",
     "output_type": "stream",
     "text": [
      "/Users/kte/opt/anaconda3/envs/tensor/lib/python3.7/site-packages/sklearn/base.py:451: UserWarning: X does not have valid feature names, but IsolationForest was fitted with feature names\n",
      "  \"X does not have valid feature names, but\"\n"
     ]
    },
    {
     "name": "stdout",
     "output_type": "stream",
     "text": [
      "              precision    recall  f1-score   support\n",
      "\n",
      "           0       1.00      1.00      1.00     28432\n",
      "           1       0.38      0.47      0.42        30\n",
      "\n",
      "    accuracy                           1.00     28462\n",
      "   macro avg       0.69      0.73      0.71     28462\n",
      "weighted avg       1.00      1.00      1.00     28462\n",
      "\n",
      "0.7086122581947536\n",
      "selected ['V10']\n",
      "tempcol ['V10', 'V24']\n"
     ]
    },
    {
     "name": "stderr",
     "output_type": "stream",
     "text": [
      "/Users/kte/opt/anaconda3/envs/tensor/lib/python3.7/site-packages/sklearn/base.py:451: UserWarning: X does not have valid feature names, but IsolationForest was fitted with feature names\n",
      "  \"X does not have valid feature names, but\"\n"
     ]
    },
    {
     "name": "stdout",
     "output_type": "stream",
     "text": [
      "              precision    recall  f1-score   support\n",
      "\n",
      "           0       1.00      1.00      1.00     28432\n",
      "           1       0.34      0.43      0.38        30\n",
      "\n",
      "    accuracy                           1.00     28462\n",
      "   macro avg       0.67      0.72      0.69     28462\n",
      "weighted avg       1.00      1.00      1.00     28462\n",
      "\n",
      "0.6908071164303629\n",
      "selected ['V10']\n",
      "tempcol ['V10', 'V25']\n"
     ]
    },
    {
     "name": "stderr",
     "output_type": "stream",
     "text": [
      "/Users/kte/opt/anaconda3/envs/tensor/lib/python3.7/site-packages/sklearn/base.py:451: UserWarning: X does not have valid feature names, but IsolationForest was fitted with feature names\n",
      "  \"X does not have valid feature names, but\"\n"
     ]
    },
    {
     "name": "stdout",
     "output_type": "stream",
     "text": [
      "              precision    recall  f1-score   support\n",
      "\n",
      "           0       1.00      1.00      1.00     28432\n",
      "           1       0.50      0.57      0.53        30\n",
      "\n",
      "    accuracy                           1.00     28462\n",
      "   macro avg       0.75      0.78      0.77     28462\n",
      "weighted avg       1.00      1.00      1.00     28462\n",
      "\n",
      "0.7653611941610974\n",
      "selected ['V10']\n",
      "tempcol ['V10', 'V28']\n"
     ]
    },
    {
     "name": "stderr",
     "output_type": "stream",
     "text": [
      "/Users/kte/opt/anaconda3/envs/tensor/lib/python3.7/site-packages/sklearn/base.py:451: UserWarning: X does not have valid feature names, but IsolationForest was fitted with feature names\n",
      "  \"X does not have valid feature names, but\"\n"
     ]
    },
    {
     "name": "stdout",
     "output_type": "stream",
     "text": [
      "              precision    recall  f1-score   support\n",
      "\n",
      "           0       1.00      1.00      1.00     28432\n",
      "           1       0.34      0.50      0.41        30\n",
      "\n",
      "    accuracy                           1.00     28462\n",
      "   macro avg       0.67      0.75      0.70     28462\n",
      "weighted avg       1.00      1.00      1.00     28462\n",
      "\n",
      "0.7023157194133448\n",
      "추가\n",
      "count : 40 번\n",
      "selected ['V10', 'V14']\n",
      "tempcol ['V10', 'V14', 'V2']\n"
     ]
    },
    {
     "name": "stderr",
     "output_type": "stream",
     "text": [
      "/Users/kte/opt/anaconda3/envs/tensor/lib/python3.7/site-packages/sklearn/base.py:451: UserWarning: X does not have valid feature names, but IsolationForest was fitted with feature names\n",
      "  \"X does not have valid feature names, but\"\n"
     ]
    },
    {
     "name": "stdout",
     "output_type": "stream",
     "text": [
      "              precision    recall  f1-score   support\n",
      "\n",
      "           0       1.00      1.00      1.00     28432\n",
      "           1       0.56      0.60      0.58        30\n",
      "\n",
      "    accuracy                           1.00     28462\n",
      "   macro avg       0.78      0.80      0.79     28462\n",
      "weighted avg       1.00      1.00      1.00     28462\n",
      "\n",
      "0.7900939569597474\n",
      "selected ['V10', 'V14']\n",
      "tempcol ['V10', 'V14', 'V3']\n"
     ]
    },
    {
     "name": "stderr",
     "output_type": "stream",
     "text": [
      "/Users/kte/opt/anaconda3/envs/tensor/lib/python3.7/site-packages/sklearn/base.py:451: UserWarning: X does not have valid feature names, but IsolationForest was fitted with feature names\n",
      "  \"X does not have valid feature names, but\"\n"
     ]
    },
    {
     "name": "stdout",
     "output_type": "stream",
     "text": [
      "              precision    recall  f1-score   support\n",
      "\n",
      "           0       1.00      1.00      1.00     28432\n",
      "           1       0.43      0.53      0.48        30\n",
      "\n",
      "    accuracy                           1.00     28462\n",
      "   macro avg       0.72      0.77      0.74     28462\n",
      "weighted avg       1.00      1.00      1.00     28462\n",
      "\n",
      "0.7384981804311891\n",
      "selected ['V10', 'V14']\n",
      "tempcol ['V10', 'V14', 'V6']\n"
     ]
    },
    {
     "name": "stderr",
     "output_type": "stream",
     "text": [
      "/Users/kte/opt/anaconda3/envs/tensor/lib/python3.7/site-packages/sklearn/base.py:451: UserWarning: X does not have valid feature names, but IsolationForest was fitted with feature names\n",
      "  \"X does not have valid feature names, but\"\n"
     ]
    },
    {
     "name": "stdout",
     "output_type": "stream",
     "text": [
      "              precision    recall  f1-score   support\n",
      "\n",
      "           0       1.00      1.00      1.00     28432\n",
      "           1       0.53      0.57      0.55        30\n",
      "\n",
      "    accuracy                           1.00     28462\n",
      "   macro avg       0.77      0.78      0.77     28462\n",
      "weighted avg       1.00      1.00      1.00     28462\n",
      "\n",
      "0.7739473382643435\n",
      "selected ['V10', 'V14']\n",
      "tempcol ['V10', 'V14', 'V7']\n"
     ]
    },
    {
     "name": "stderr",
     "output_type": "stream",
     "text": [
      "/Users/kte/opt/anaconda3/envs/tensor/lib/python3.7/site-packages/sklearn/base.py:451: UserWarning: X does not have valid feature names, but IsolationForest was fitted with feature names\n",
      "  \"X does not have valid feature names, but\"\n"
     ]
    },
    {
     "name": "stdout",
     "output_type": "stream",
     "text": [
      "              precision    recall  f1-score   support\n",
      "\n",
      "           0       1.00      1.00      1.00     28432\n",
      "           1       0.54      0.63      0.58        30\n",
      "\n",
      "    accuracy                           1.00     28462\n",
      "   macro avg       0.77      0.82      0.79     28462\n",
      "weighted avg       1.00      1.00      1.00     28462\n",
      "\n",
      "0.7920702628769953\n",
      "selected ['V10', 'V14']\n",
      "tempcol ['V10', 'V14', 'V9']\n"
     ]
    },
    {
     "name": "stderr",
     "output_type": "stream",
     "text": [
      "/Users/kte/opt/anaconda3/envs/tensor/lib/python3.7/site-packages/sklearn/base.py:451: UserWarning: X does not have valid feature names, but IsolationForest was fitted with feature names\n",
      "  \"X does not have valid feature names, but\"\n"
     ]
    },
    {
     "name": "stdout",
     "output_type": "stream",
     "text": [
      "              precision    recall  f1-score   support\n",
      "\n",
      "           0       1.00      1.00      1.00     28432\n",
      "           1       0.55      0.57      0.56        30\n",
      "\n",
      "    accuracy                           1.00     28462\n",
      "   macro avg       0.77      0.78      0.78     28462\n",
      "weighted avg       1.00      1.00      1.00     28462\n",
      "\n",
      "0.7784511118613244\n",
      "selected ['V10', 'V14']\n",
      "tempcol ['V10', 'V14', 'V11']\n"
     ]
    },
    {
     "name": "stderr",
     "output_type": "stream",
     "text": [
      "/Users/kte/opt/anaconda3/envs/tensor/lib/python3.7/site-packages/sklearn/base.py:451: UserWarning: X does not have valid feature names, but IsolationForest was fitted with feature names\n",
      "  \"X does not have valid feature names, but\"\n"
     ]
    },
    {
     "name": "stdout",
     "output_type": "stream",
     "text": [
      "              precision    recall  f1-score   support\n",
      "\n",
      "           0       1.00      1.00      1.00     28432\n",
      "           1       0.50      0.60      0.55        30\n",
      "\n",
      "    accuracy                           1.00     28462\n",
      "   macro avg       0.75      0.80      0.77     28462\n",
      "weighted avg       1.00      1.00      1.00     28462\n",
      "\n",
      "0.7724634576089076\n",
      "selected ['V10', 'V14']\n",
      "tempcol ['V10', 'V14', 'V12']\n"
     ]
    },
    {
     "name": "stderr",
     "output_type": "stream",
     "text": [
      "/Users/kte/opt/anaconda3/envs/tensor/lib/python3.7/site-packages/sklearn/base.py:451: UserWarning: X does not have valid feature names, but IsolationForest was fitted with feature names\n",
      "  \"X does not have valid feature names, but\"\n"
     ]
    },
    {
     "name": "stdout",
     "output_type": "stream",
     "text": [
      "              precision    recall  f1-score   support\n",
      "\n",
      "           0       1.00      1.00      1.00     28432\n",
      "           1       0.50      0.57      0.53        30\n",
      "\n",
      "    accuracy                           1.00     28462\n",
      "   macro avg       0.75      0.78      0.77     28462\n",
      "weighted avg       1.00      1.00      1.00     28462\n",
      "\n",
      "0.7653611941610974\n",
      "selected ['V10', 'V14']\n",
      "tempcol ['V10', 'V14', 'V13']\n"
     ]
    },
    {
     "name": "stderr",
     "output_type": "stream",
     "text": [
      "/Users/kte/opt/anaconda3/envs/tensor/lib/python3.7/site-packages/sklearn/base.py:451: UserWarning: X does not have valid feature names, but IsolationForest was fitted with feature names\n",
      "  \"X does not have valid feature names, but\"\n"
     ]
    },
    {
     "name": "stdout",
     "output_type": "stream",
     "text": [
      "              precision    recall  f1-score   support\n",
      "\n",
      "           0       1.00      1.00      1.00     28432\n",
      "           1       0.50      0.60      0.55        30\n",
      "\n",
      "    accuracy                           1.00     28462\n",
      "   macro avg       0.75      0.80      0.77     28462\n",
      "weighted avg       1.00      1.00      1.00     28462\n",
      "\n",
      "0.7724634576089076\n",
      "selected ['V10', 'V14']\n",
      "tempcol ['V10', 'V14', 'V15']\n"
     ]
    },
    {
     "name": "stderr",
     "output_type": "stream",
     "text": [
      "/Users/kte/opt/anaconda3/envs/tensor/lib/python3.7/site-packages/sklearn/base.py:451: UserWarning: X does not have valid feature names, but IsolationForest was fitted with feature names\n",
      "  \"X does not have valid feature names, but\"\n"
     ]
    },
    {
     "name": "stdout",
     "output_type": "stream",
     "text": [
      "              precision    recall  f1-score   support\n",
      "\n",
      "           0       1.00      1.00      1.00     28432\n",
      "           1       0.50      0.53      0.52        30\n",
      "\n",
      "    accuracy                           1.00     28462\n",
      "   macro avg       0.75      0.77      0.76     28462\n",
      "weighted avg       1.00      1.00      1.00     28462\n",
      "\n",
      "0.7578007195689396\n",
      "selected ['V10', 'V14']\n",
      "tempcol ['V10', 'V14', 'V16']\n"
     ]
    },
    {
     "name": "stderr",
     "output_type": "stream",
     "text": [
      "/Users/kte/opt/anaconda3/envs/tensor/lib/python3.7/site-packages/sklearn/base.py:451: UserWarning: X does not have valid feature names, but IsolationForest was fitted with feature names\n",
      "  \"X does not have valid feature names, but\"\n"
     ]
    },
    {
     "name": "stdout",
     "output_type": "stream",
     "text": [
      "              precision    recall  f1-score   support\n",
      "\n",
      "           0       1.00      1.00      1.00     28432\n",
      "           1       0.53      0.60      0.56        30\n",
      "\n",
      "    accuracy                           1.00     28462\n",
      "   macro avg       0.76      0.80      0.78     28462\n",
      "weighted avg       1.00      1.00      1.00     28462\n",
      "\n",
      "0.7810037812170243\n",
      "selected ['V10', 'V14']\n",
      "tempcol ['V10', 'V14', 'V17']\n"
     ]
    },
    {
     "name": "stderr",
     "output_type": "stream",
     "text": [
      "/Users/kte/opt/anaconda3/envs/tensor/lib/python3.7/site-packages/sklearn/base.py:451: UserWarning: X does not have valid feature names, but IsolationForest was fitted with feature names\n",
      "  \"X does not have valid feature names, but\"\n"
     ]
    },
    {
     "name": "stdout",
     "output_type": "stream",
     "text": [
      "              precision    recall  f1-score   support\n",
      "\n",
      "           0       1.00      1.00      1.00     28432\n",
      "           1       0.50      0.60      0.55        30\n",
      "\n",
      "    accuracy                           1.00     28462\n",
      "   macro avg       0.75      0.80      0.77     28462\n",
      "weighted avg       1.00      1.00      1.00     28462\n",
      "\n",
      "0.7724634576089076\n",
      "selected ['V10', 'V14']\n",
      "tempcol ['V10', 'V14', 'V18']\n"
     ]
    },
    {
     "name": "stderr",
     "output_type": "stream",
     "text": [
      "/Users/kte/opt/anaconda3/envs/tensor/lib/python3.7/site-packages/sklearn/base.py:451: UserWarning: X does not have valid feature names, but IsolationForest was fitted with feature names\n",
      "  \"X does not have valid feature names, but\"\n"
     ]
    },
    {
     "name": "stdout",
     "output_type": "stream",
     "text": [
      "              precision    recall  f1-score   support\n",
      "\n",
      "           0       1.00      1.00      1.00     28432\n",
      "           1       0.64      0.60      0.62        30\n",
      "\n",
      "    accuracy                           1.00     28462\n",
      "   macro avg       0.82      0.80      0.81     28462\n",
      "weighted avg       1.00      1.00      1.00     28462\n",
      "\n",
      "0.8101513903829571\n",
      "selected ['V10', 'V14']\n",
      "tempcol ['V10', 'V14', 'V19']\n"
     ]
    },
    {
     "name": "stderr",
     "output_type": "stream",
     "text": [
      "/Users/kte/opt/anaconda3/envs/tensor/lib/python3.7/site-packages/sklearn/base.py:451: UserWarning: X does not have valid feature names, but IsolationForest was fitted with feature names\n",
      "  \"X does not have valid feature names, but\"\n"
     ]
    },
    {
     "name": "stdout",
     "output_type": "stream",
     "text": [
      "              precision    recall  f1-score   support\n",
      "\n",
      "           0       1.00      1.00      1.00     28432\n",
      "           1       0.53      0.57      0.55        30\n",
      "\n",
      "    accuracy                           1.00     28462\n",
      "   macro avg       0.77      0.78      0.77     28462\n",
      "weighted avg       1.00      1.00      1.00     28462\n",
      "\n",
      "0.7739473382643435\n",
      "selected ['V10', 'V14']\n",
      "tempcol ['V10', 'V14', 'V20']\n"
     ]
    },
    {
     "name": "stderr",
     "output_type": "stream",
     "text": [
      "/Users/kte/opt/anaconda3/envs/tensor/lib/python3.7/site-packages/sklearn/base.py:451: UserWarning: X does not have valid feature names, but IsolationForest was fitted with feature names\n",
      "  \"X does not have valid feature names, but\"\n"
     ]
    },
    {
     "name": "stdout",
     "output_type": "stream",
     "text": [
      "              precision    recall  f1-score   support\n",
      "\n",
      "           0       1.00      1.00      1.00     28432\n",
      "           1       0.44      0.53      0.48        30\n",
      "\n",
      "    accuracy                           1.00     28462\n",
      "   macro avg       0.72      0.77      0.74     28462\n",
      "weighted avg       1.00      1.00      1.00     28462\n",
      "\n",
      "0.7421252519567619\n",
      "selected ['V10', 'V14']\n",
      "tempcol ['V10', 'V14', 'V23']\n"
     ]
    },
    {
     "name": "stderr",
     "output_type": "stream",
     "text": [
      "/Users/kte/opt/anaconda3/envs/tensor/lib/python3.7/site-packages/sklearn/base.py:451: UserWarning: X does not have valid feature names, but IsolationForest was fitted with feature names\n",
      "  \"X does not have valid feature names, but\"\n"
     ]
    },
    {
     "name": "stdout",
     "output_type": "stream",
     "text": [
      "              precision    recall  f1-score   support\n",
      "\n",
      "           0       1.00      1.00      1.00     28432\n",
      "           1       0.54      0.50      0.52        30\n",
      "\n",
      "    accuracy                           1.00     28462\n",
      "   macro avg       0.77      0.75      0.76     28462\n",
      "weighted avg       1.00      1.00      1.00     28462\n",
      "\n",
      "0.7583744968510364\n",
      "selected ['V10', 'V14']\n",
      "tempcol ['V10', 'V14', 'V24']\n"
     ]
    },
    {
     "name": "stderr",
     "output_type": "stream",
     "text": [
      "/Users/kte/opt/anaconda3/envs/tensor/lib/python3.7/site-packages/sklearn/base.py:451: UserWarning: X does not have valid feature names, but IsolationForest was fitted with feature names\n",
      "  \"X does not have valid feature names, but\"\n"
     ]
    },
    {
     "name": "stdout",
     "output_type": "stream",
     "text": [
      "              precision    recall  f1-score   support\n",
      "\n",
      "           0       1.00      1.00      1.00     28432\n",
      "           1       0.43      0.53      0.48        30\n",
      "\n",
      "    accuracy                           1.00     28462\n",
      "   macro avg       0.72      0.77      0.74     28462\n",
      "weighted avg       1.00      1.00      1.00     28462\n",
      "\n",
      "0.7384981804311891\n",
      "selected ['V10', 'V14']\n",
      "tempcol ['V10', 'V14', 'V25']\n"
     ]
    },
    {
     "name": "stderr",
     "output_type": "stream",
     "text": [
      "/Users/kte/opt/anaconda3/envs/tensor/lib/python3.7/site-packages/sklearn/base.py:451: UserWarning: X does not have valid feature names, but IsolationForest was fitted with feature names\n",
      "  \"X does not have valid feature names, but\"\n"
     ]
    },
    {
     "name": "stdout",
     "output_type": "stream",
     "text": [
      "              precision    recall  f1-score   support\n",
      "\n",
      "           0       1.00      1.00      1.00     28432\n",
      "           1       0.55      0.57      0.56        30\n",
      "\n",
      "    accuracy                           1.00     28462\n",
      "   macro avg       0.77      0.78      0.78     28462\n",
      "weighted avg       1.00      1.00      1.00     28462\n",
      "\n",
      "0.7784511118613244\n",
      "selected ['V10', 'V14']\n",
      "tempcol ['V10', 'V14', 'V28']\n"
     ]
    },
    {
     "name": "stderr",
     "output_type": "stream",
     "text": [
      "/Users/kte/opt/anaconda3/envs/tensor/lib/python3.7/site-packages/sklearn/base.py:451: UserWarning: X does not have valid feature names, but IsolationForest was fitted with feature names\n",
      "  \"X does not have valid feature names, but\"\n"
     ]
    },
    {
     "name": "stdout",
     "output_type": "stream",
     "text": [
      "              precision    recall  f1-score   support\n",
      "\n",
      "           0       1.00      1.00      1.00     28432\n",
      "           1       0.50      0.53      0.52        30\n",
      "\n",
      "    accuracy                           1.00     28462\n",
      "   macro avg       0.75      0.77      0.76     28462\n",
      "weighted avg       1.00      1.00      1.00     28462\n",
      "\n",
      "0.7578007195689396\n",
      "추가\n",
      "count : 58 번\n",
      "selected ['V10', 'V14', 'V18']\n",
      "tempcol ['V10', 'V14', 'V18', 'V2']\n"
     ]
    },
    {
     "name": "stderr",
     "output_type": "stream",
     "text": [
      "/Users/kte/opt/anaconda3/envs/tensor/lib/python3.7/site-packages/sklearn/base.py:451: UserWarning: X does not have valid feature names, but IsolationForest was fitted with feature names\n",
      "  \"X does not have valid feature names, but\"\n"
     ]
    },
    {
     "name": "stdout",
     "output_type": "stream",
     "text": [
      "              precision    recall  f1-score   support\n",
      "\n",
      "           0       1.00      1.00      1.00     28432\n",
      "           1       0.63      0.57      0.60        30\n",
      "\n",
      "    accuracy                           1.00     28462\n",
      "   macro avg       0.81      0.78      0.80     28462\n",
      "weighted avg       1.00      1.00      1.00     28462\n",
      "\n",
      "0.7980433877878794\n",
      "selected ['V10', 'V14', 'V18']\n",
      "tempcol ['V10', 'V14', 'V18', 'V3']\n"
     ]
    },
    {
     "name": "stderr",
     "output_type": "stream",
     "text": [
      "/Users/kte/opt/anaconda3/envs/tensor/lib/python3.7/site-packages/sklearn/base.py:451: UserWarning: X does not have valid feature names, but IsolationForest was fitted with feature names\n",
      "  \"X does not have valid feature names, but\"\n"
     ]
    },
    {
     "name": "stdout",
     "output_type": "stream",
     "text": [
      "              precision    recall  f1-score   support\n",
      "\n",
      "           0       1.00      1.00      1.00     28432\n",
      "           1       0.49      0.57      0.52        30\n",
      "\n",
      "    accuracy                           1.00     28462\n",
      "   macro avg       0.74      0.78      0.76     28462\n",
      "weighted avg       1.00      1.00      1.00     28462\n",
      "\n",
      "0.7612658573772909\n",
      "selected ['V10', 'V14', 'V18']\n",
      "tempcol ['V10', 'V14', 'V18', 'V6']\n"
     ]
    },
    {
     "name": "stderr",
     "output_type": "stream",
     "text": [
      "/Users/kte/opt/anaconda3/envs/tensor/lib/python3.7/site-packages/sklearn/base.py:451: UserWarning: X does not have valid feature names, but IsolationForest was fitted with feature names\n",
      "  \"X does not have valid feature names, but\"\n"
     ]
    },
    {
     "name": "stdout",
     "output_type": "stream",
     "text": [
      "              precision    recall  f1-score   support\n",
      "\n",
      "           0       1.00      1.00      1.00     28432\n",
      "           1       0.47      0.60      0.53        30\n",
      "\n",
      "    accuracy                           1.00     28462\n",
      "   macro avg       0.74      0.80      0.76     28462\n",
      "weighted avg       1.00      1.00      1.00     28462\n",
      "\n",
      "0.7644244696612288\n",
      "selected ['V10', 'V14', 'V18']\n",
      "tempcol ['V10', 'V14', 'V18', 'V7']\n"
     ]
    },
    {
     "name": "stderr",
     "output_type": "stream",
     "text": [
      "/Users/kte/opt/anaconda3/envs/tensor/lib/python3.7/site-packages/sklearn/base.py:451: UserWarning: X does not have valid feature names, but IsolationForest was fitted with feature names\n",
      "  \"X does not have valid feature names, but\"\n"
     ]
    },
    {
     "name": "stdout",
     "output_type": "stream",
     "text": [
      "              precision    recall  f1-score   support\n",
      "\n",
      "           0       1.00      1.00      1.00     28432\n",
      "           1       0.56      0.60      0.58        30\n",
      "\n",
      "    accuracy                           1.00     28462\n",
      "   macro avg       0.78      0.80      0.79     28462\n",
      "weighted avg       1.00      1.00      1.00     28462\n",
      "\n",
      "0.7900939569597474\n",
      "selected ['V10', 'V14', 'V18']\n",
      "tempcol ['V10', 'V14', 'V18', 'V9']\n"
     ]
    },
    {
     "name": "stderr",
     "output_type": "stream",
     "text": [
      "/Users/kte/opt/anaconda3/envs/tensor/lib/python3.7/site-packages/sklearn/base.py:451: UserWarning: X does not have valid feature names, but IsolationForest was fitted with feature names\n",
      "  \"X does not have valid feature names, but\"\n"
     ]
    },
    {
     "name": "stdout",
     "output_type": "stream",
     "text": [
      "              precision    recall  f1-score   support\n",
      "\n",
      "           0       1.00      1.00      1.00     28432\n",
      "           1       0.63      0.57      0.60        30\n",
      "\n",
      "    accuracy                           1.00     28462\n",
      "   macro avg       0.81      0.78      0.80     28462\n",
      "weighted avg       1.00      1.00      1.00     28462\n",
      "\n",
      "0.7980433877878794\n",
      "selected ['V10', 'V14', 'V18']\n",
      "tempcol ['V10', 'V14', 'V18', 'V11']\n"
     ]
    },
    {
     "name": "stderr",
     "output_type": "stream",
     "text": [
      "/Users/kte/opt/anaconda3/envs/tensor/lib/python3.7/site-packages/sklearn/base.py:451: UserWarning: X does not have valid feature names, but IsolationForest was fitted with feature names\n",
      "  \"X does not have valid feature names, but\"\n"
     ]
    },
    {
     "name": "stdout",
     "output_type": "stream",
     "text": [
      "              precision    recall  f1-score   support\n",
      "\n",
      "           0       1.00      1.00      1.00     28432\n",
      "           1       0.55      0.60      0.57        30\n",
      "\n",
      "    accuracy                           1.00     28462\n",
      "   macro avg       0.77      0.80      0.79     28462\n",
      "weighted avg       1.00      1.00      1.00     28462\n",
      "\n",
      "0.7854768646348111\n",
      "selected ['V10', 'V14', 'V18']\n",
      "tempcol ['V10', 'V14', 'V18', 'V12']\n"
     ]
    },
    {
     "name": "stderr",
     "output_type": "stream",
     "text": [
      "/Users/kte/opt/anaconda3/envs/tensor/lib/python3.7/site-packages/sklearn/base.py:451: UserWarning: X does not have valid feature names, but IsolationForest was fitted with feature names\n",
      "  \"X does not have valid feature names, but\"\n"
     ]
    },
    {
     "name": "stdout",
     "output_type": "stream",
     "text": [
      "              precision    recall  f1-score   support\n",
      "\n",
      "           0       1.00      1.00      1.00     28432\n",
      "           1       0.58      0.60      0.59        30\n",
      "\n",
      "    accuracy                           1.00     28462\n",
      "   macro avg       0.79      0.80      0.79     28462\n",
      "weighted avg       1.00      1.00      1.00     28462\n",
      "\n",
      "0.7948621406123374\n",
      "selected ['V10', 'V14', 'V18']\n",
      "tempcol ['V10', 'V14', 'V18', 'V13']\n"
     ]
    },
    {
     "name": "stderr",
     "output_type": "stream",
     "text": [
      "/Users/kte/opt/anaconda3/envs/tensor/lib/python3.7/site-packages/sklearn/base.py:451: UserWarning: X does not have valid feature names, but IsolationForest was fitted with feature names\n",
      "  \"X does not have valid feature names, but\"\n"
     ]
    },
    {
     "name": "stdout",
     "output_type": "stream",
     "text": [
      "              precision    recall  f1-score   support\n",
      "\n",
      "           0       1.00      1.00      1.00     28432\n",
      "           1       0.58      0.60      0.59        30\n",
      "\n",
      "    accuracy                           1.00     28462\n",
      "   macro avg       0.79      0.80      0.79     28462\n",
      "weighted avg       1.00      1.00      1.00     28462\n",
      "\n",
      "0.7948621406123374\n",
      "selected ['V10', 'V14', 'V18']\n",
      "tempcol ['V10', 'V14', 'V18', 'V15']\n"
     ]
    },
    {
     "name": "stderr",
     "output_type": "stream",
     "text": [
      "/Users/kte/opt/anaconda3/envs/tensor/lib/python3.7/site-packages/sklearn/base.py:451: UserWarning: X does not have valid feature names, but IsolationForest was fitted with feature names\n",
      "  \"X does not have valid feature names, but\"\n"
     ]
    },
    {
     "name": "stdout",
     "output_type": "stream",
     "text": [
      "              precision    recall  f1-score   support\n",
      "\n",
      "           0       1.00      1.00      1.00     28432\n",
      "           1       0.64      0.60      0.62        30\n",
      "\n",
      "    accuracy                           1.00     28462\n",
      "   macro avg       0.82      0.80      0.81     28462\n",
      "weighted avg       1.00      1.00      1.00     28462\n",
      "\n",
      "0.8101513903829571\n",
      "selected ['V10', 'V14', 'V18']\n",
      "tempcol ['V10', 'V14', 'V18', 'V16']\n"
     ]
    },
    {
     "name": "stderr",
     "output_type": "stream",
     "text": [
      "/Users/kte/opt/anaconda3/envs/tensor/lib/python3.7/site-packages/sklearn/base.py:451: UserWarning: X does not have valid feature names, but IsolationForest was fitted with feature names\n",
      "  \"X does not have valid feature names, but\"\n"
     ]
    },
    {
     "name": "stdout",
     "output_type": "stream",
     "text": [
      "              precision    recall  f1-score   support\n",
      "\n",
      "           0       1.00      1.00      1.00     28432\n",
      "           1       0.56      0.63      0.59        30\n",
      "\n",
      "    accuracy                           1.00     28462\n",
      "   macro avg       0.78      0.82      0.80     28462\n",
      "weighted avg       1.00      1.00      1.00     28462\n",
      "\n",
      "0.7966463682729511\n",
      "selected ['V10', 'V14', 'V18']\n",
      "tempcol ['V10', 'V14', 'V18', 'V17']\n"
     ]
    },
    {
     "name": "stderr",
     "output_type": "stream",
     "text": [
      "/Users/kte/opt/anaconda3/envs/tensor/lib/python3.7/site-packages/sklearn/base.py:451: UserWarning: X does not have valid feature names, but IsolationForest was fitted with feature names\n",
      "  \"X does not have valid feature names, but\"\n"
     ]
    },
    {
     "name": "stdout",
     "output_type": "stream",
     "text": [
      "              precision    recall  f1-score   support\n",
      "\n",
      "           0       1.00      1.00      1.00     28432\n",
      "           1       0.54      0.63      0.58        30\n",
      "\n",
      "    accuracy                           1.00     28462\n",
      "   macro avg       0.77      0.82      0.79     28462\n",
      "weighted avg       1.00      1.00      1.00     28462\n",
      "\n",
      "0.7920702628769953\n",
      "selected ['V10', 'V14', 'V18']\n",
      "tempcol ['V10', 'V14', 'V18', 'V19']\n"
     ]
    },
    {
     "name": "stderr",
     "output_type": "stream",
     "text": [
      "/Users/kte/opt/anaconda3/envs/tensor/lib/python3.7/site-packages/sklearn/base.py:451: UserWarning: X does not have valid feature names, but IsolationForest was fitted with feature names\n",
      "  \"X does not have valid feature names, but\"\n"
     ]
    },
    {
     "name": "stdout",
     "output_type": "stream",
     "text": [
      "              precision    recall  f1-score   support\n",
      "\n",
      "           0       1.00      1.00      1.00     28432\n",
      "           1       0.63      0.57      0.60        30\n",
      "\n",
      "    accuracy                           1.00     28462\n",
      "   macro avg       0.81      0.78      0.80     28462\n",
      "weighted avg       1.00      1.00      1.00     28462\n",
      "\n",
      "0.7980433877878794\n",
      "selected ['V10', 'V14', 'V18']\n",
      "tempcol ['V10', 'V14', 'V18', 'V20']\n"
     ]
    },
    {
     "name": "stderr",
     "output_type": "stream",
     "text": [
      "/Users/kte/opt/anaconda3/envs/tensor/lib/python3.7/site-packages/sklearn/base.py:451: UserWarning: X does not have valid feature names, but IsolationForest was fitted with feature names\n",
      "  \"X does not have valid feature names, but\"\n"
     ]
    },
    {
     "name": "stdout",
     "output_type": "stream",
     "text": [
      "              precision    recall  f1-score   support\n",
      "\n",
      "           0       1.00      1.00      1.00     28432\n",
      "           1       0.52      0.57      0.54        30\n",
      "\n",
      "    accuracy                           1.00     28462\n",
      "   macro avg       0.76      0.78      0.77     28462\n",
      "weighted avg       1.00      1.00      1.00     28462\n",
      "\n",
      "0.7695862620151677\n",
      "selected ['V10', 'V14', 'V18']\n",
      "tempcol ['V10', 'V14', 'V18', 'V23']\n"
     ]
    },
    {
     "name": "stderr",
     "output_type": "stream",
     "text": [
      "/Users/kte/opt/anaconda3/envs/tensor/lib/python3.7/site-packages/sklearn/base.py:451: UserWarning: X does not have valid feature names, but IsolationForest was fitted with feature names\n",
      "  \"X does not have valid feature names, but\"\n"
     ]
    },
    {
     "name": "stdout",
     "output_type": "stream",
     "text": [
      "              precision    recall  f1-score   support\n",
      "\n",
      "           0       1.00      1.00      1.00     28432\n",
      "           1       0.65      0.57      0.61        30\n",
      "\n",
      "    accuracy                           1.00     28462\n",
      "   macro avg       0.83      0.78      0.80     28462\n",
      "weighted avg       1.00      1.00      1.00     28462\n",
      "\n",
      "0.8033779981712035\n",
      "selected ['V10', 'V14', 'V18']\n",
      "tempcol ['V10', 'V14', 'V18', 'V24']\n"
     ]
    },
    {
     "name": "stderr",
     "output_type": "stream",
     "text": [
      "/Users/kte/opt/anaconda3/envs/tensor/lib/python3.7/site-packages/sklearn/base.py:451: UserWarning: X does not have valid feature names, but IsolationForest was fitted with feature names\n",
      "  \"X does not have valid feature names, but\"\n"
     ]
    },
    {
     "name": "stdout",
     "output_type": "stream",
     "text": [
      "              precision    recall  f1-score   support\n",
      "\n",
      "           0       1.00      1.00      1.00     28432\n",
      "           1       0.61      0.57      0.59        30\n",
      "\n",
      "    accuracy                           1.00     28462\n",
      "   macro avg       0.80      0.78      0.79     28462\n",
      "weighted avg       1.00      1.00      1.00     28462\n",
      "\n",
      "0.7928924258723169\n",
      "selected ['V10', 'V14', 'V18']\n",
      "tempcol ['V10', 'V14', 'V18', 'V25']\n"
     ]
    },
    {
     "name": "stderr",
     "output_type": "stream",
     "text": [
      "/Users/kte/opt/anaconda3/envs/tensor/lib/python3.7/site-packages/sklearn/base.py:451: UserWarning: X does not have valid feature names, but IsolationForest was fitted with feature names\n",
      "  \"X does not have valid feature names, but\"\n"
     ]
    },
    {
     "name": "stdout",
     "output_type": "stream",
     "text": [
      "              precision    recall  f1-score   support\n",
      "\n",
      "           0       1.00      1.00      1.00     28432\n",
      "           1       0.64      0.60      0.62        30\n",
      "\n",
      "    accuracy                           1.00     28462\n",
      "   macro avg       0.82      0.80      0.81     28462\n",
      "weighted avg       1.00      1.00      1.00     28462\n",
      "\n",
      "0.8101513903829571\n",
      "selected ['V10', 'V14', 'V18']\n",
      "tempcol ['V10', 'V14', 'V18', 'V28']\n"
     ]
    },
    {
     "name": "stderr",
     "output_type": "stream",
     "text": [
      "/Users/kte/opt/anaconda3/envs/tensor/lib/python3.7/site-packages/sklearn/base.py:451: UserWarning: X does not have valid feature names, but IsolationForest was fitted with feature names\n",
      "  \"X does not have valid feature names, but\"\n"
     ]
    },
    {
     "name": "stdout",
     "output_type": "stream",
     "text": [
      "              precision    recall  f1-score   support\n",
      "\n",
      "           0       1.00      1.00      1.00     28432\n",
      "           1       0.53      0.57      0.55        30\n",
      "\n",
      "    accuracy                           1.00     28462\n",
      "   macro avg       0.77      0.78      0.77     28462\n",
      "weighted avg       1.00      1.00      1.00     28462\n",
      "\n",
      "0.7739473382643435\n",
      "추가\n",
      "count : 75 번\n",
      "selected ['V10', 'V14', 'V18', 'V15']\n",
      "tempcol ['V10', 'V14', 'V18', 'V15', 'V2']\n"
     ]
    },
    {
     "name": "stderr",
     "output_type": "stream",
     "text": [
      "/Users/kte/opt/anaconda3/envs/tensor/lib/python3.7/site-packages/sklearn/base.py:451: UserWarning: X does not have valid feature names, but IsolationForest was fitted with feature names\n",
      "  \"X does not have valid feature names, but\"\n"
     ]
    },
    {
     "name": "stdout",
     "output_type": "stream",
     "text": [
      "              precision    recall  f1-score   support\n",
      "\n",
      "           0       1.00      1.00      1.00     28432\n",
      "           1       0.67      0.60      0.63        30\n",
      "\n",
      "    accuracy                           1.00     28462\n",
      "   macro avg       0.83      0.80      0.82     28462\n",
      "weighted avg       1.00      1.00      1.00     28462\n",
      "\n",
      "0.8156048323280637\n",
      "selected ['V10', 'V14', 'V18', 'V15']\n",
      "tempcol ['V10', 'V14', 'V18', 'V15', 'V3']\n"
     ]
    },
    {
     "name": "stderr",
     "output_type": "stream",
     "text": [
      "/Users/kte/opt/anaconda3/envs/tensor/lib/python3.7/site-packages/sklearn/base.py:451: UserWarning: X does not have valid feature names, but IsolationForest was fitted with feature names\n",
      "  \"X does not have valid feature names, but\"\n"
     ]
    },
    {
     "name": "stdout",
     "output_type": "stream",
     "text": [
      "              precision    recall  f1-score   support\n",
      "\n",
      "           0       1.00      1.00      1.00     28432\n",
      "           1       0.55      0.57      0.56        30\n",
      "\n",
      "    accuracy                           1.00     28462\n",
      "   macro avg       0.77      0.78      0.78     28462\n",
      "weighted avg       1.00      1.00      1.00     28462\n",
      "\n",
      "0.7784511118613244\n",
      "selected ['V10', 'V14', 'V18', 'V15']\n",
      "tempcol ['V10', 'V14', 'V18', 'V15', 'V6']\n"
     ]
    },
    {
     "name": "stderr",
     "output_type": "stream",
     "text": [
      "/Users/kte/opt/anaconda3/envs/tensor/lib/python3.7/site-packages/sklearn/base.py:451: UserWarning: X does not have valid feature names, but IsolationForest was fitted with feature names\n",
      "  \"X does not have valid feature names, but\"\n"
     ]
    },
    {
     "name": "stdout",
     "output_type": "stream",
     "text": [
      "              precision    recall  f1-score   support\n",
      "\n",
      "           0       1.00      1.00      1.00     28432\n",
      "           1       0.53      0.57      0.55        30\n",
      "\n",
      "    accuracy                           1.00     28462\n",
      "   macro avg       0.77      0.78      0.77     28462\n",
      "weighted avg       1.00      1.00      1.00     28462\n",
      "\n",
      "0.7739473382643435\n",
      "selected ['V10', 'V14', 'V18', 'V15']\n",
      "tempcol ['V10', 'V14', 'V18', 'V15', 'V7']\n"
     ]
    },
    {
     "name": "stderr",
     "output_type": "stream",
     "text": [
      "/Users/kte/opt/anaconda3/envs/tensor/lib/python3.7/site-packages/sklearn/base.py:451: UserWarning: X does not have valid feature names, but IsolationForest was fitted with feature names\n",
      "  \"X does not have valid feature names, but\"\n"
     ]
    },
    {
     "name": "stdout",
     "output_type": "stream",
     "text": [
      "              precision    recall  f1-score   support\n",
      "\n",
      "           0       1.00      1.00      1.00     28432\n",
      "           1       0.68      0.57      0.62        30\n",
      "\n",
      "    accuracy                           1.00     28462\n",
      "   macro avg       0.84      0.78      0.81     28462\n",
      "weighted avg       1.00      1.00      1.00     28462\n",
      "\n",
      "0.8089062742283302\n",
      "selected ['V10', 'V14', 'V18', 'V15']\n",
      "tempcol ['V10', 'V14', 'V18', 'V15', 'V9']\n"
     ]
    },
    {
     "name": "stderr",
     "output_type": "stream",
     "text": [
      "/Users/kte/opt/anaconda3/envs/tensor/lib/python3.7/site-packages/sklearn/base.py:451: UserWarning: X does not have valid feature names, but IsolationForest was fitted with feature names\n",
      "  \"X does not have valid feature names, but\"\n"
     ]
    },
    {
     "name": "stdout",
     "output_type": "stream",
     "text": [
      "              precision    recall  f1-score   support\n",
      "\n",
      "           0       1.00      1.00      1.00     28432\n",
      "           1       0.73      0.53      0.62        30\n",
      "\n",
      "    accuracy                           1.00     28462\n",
      "   macro avg       0.86      0.77      0.81     28462\n",
      "weighted avg       1.00      1.00      1.00     28462\n",
      "\n",
      "0.807516474241752\n",
      "selected ['V10', 'V14', 'V18', 'V15']\n",
      "tempcol ['V10', 'V14', 'V18', 'V15', 'V11']\n"
     ]
    },
    {
     "name": "stderr",
     "output_type": "stream",
     "text": [
      "/Users/kte/opt/anaconda3/envs/tensor/lib/python3.7/site-packages/sklearn/base.py:451: UserWarning: X does not have valid feature names, but IsolationForest was fitted with feature names\n",
      "  \"X does not have valid feature names, but\"\n"
     ]
    },
    {
     "name": "stdout",
     "output_type": "stream",
     "text": [
      "              precision    recall  f1-score   support\n",
      "\n",
      "           0       1.00      1.00      1.00     28432\n",
      "           1       0.60      0.60      0.60        30\n",
      "\n",
      "    accuracy                           1.00     28462\n",
      "   macro avg       0.80      0.80      0.80     28462\n",
      "weighted avg       1.00      1.00      1.00     28462\n",
      "\n",
      "0.7997889701744514\n",
      "selected ['V10', 'V14', 'V18', 'V15']\n",
      "tempcol ['V10', 'V14', 'V18', 'V15', 'V12']\n"
     ]
    },
    {
     "name": "stderr",
     "output_type": "stream",
     "text": [
      "/Users/kte/opt/anaconda3/envs/tensor/lib/python3.7/site-packages/sklearn/base.py:451: UserWarning: X does not have valid feature names, but IsolationForest was fitted with feature names\n",
      "  \"X does not have valid feature names, but\"\n"
     ]
    },
    {
     "name": "stdout",
     "output_type": "stream",
     "text": [
      "              precision    recall  f1-score   support\n",
      "\n",
      "           0       1.00      1.00      1.00     28432\n",
      "           1       0.61      0.57      0.59        30\n",
      "\n",
      "    accuracy                           1.00     28462\n",
      "   macro avg       0.80      0.78      0.79     28462\n",
      "weighted avg       1.00      1.00      1.00     28462\n",
      "\n",
      "0.7928924258723169\n",
      "selected ['V10', 'V14', 'V18', 'V15']\n",
      "tempcol ['V10', 'V14', 'V18', 'V15', 'V13']\n"
     ]
    },
    {
     "name": "stderr",
     "output_type": "stream",
     "text": [
      "/Users/kte/opt/anaconda3/envs/tensor/lib/python3.7/site-packages/sklearn/base.py:451: UserWarning: X does not have valid feature names, but IsolationForest was fitted with feature names\n",
      "  \"X does not have valid feature names, but\"\n"
     ]
    },
    {
     "name": "stdout",
     "output_type": "stream",
     "text": [
      "              precision    recall  f1-score   support\n",
      "\n",
      "           0       1.00      1.00      1.00     28432\n",
      "           1       0.68      0.57      0.62        30\n",
      "\n",
      "    accuracy                           1.00     28462\n",
      "   macro avg       0.84      0.78      0.81     28462\n",
      "weighted avg       1.00      1.00      1.00     28462\n",
      "\n",
      "0.8089062742283302\n",
      "selected ['V10', 'V14', 'V18', 'V15']\n",
      "tempcol ['V10', 'V14', 'V18', 'V15', 'V16']\n"
     ]
    },
    {
     "name": "stderr",
     "output_type": "stream",
     "text": [
      "/Users/kte/opt/anaconda3/envs/tensor/lib/python3.7/site-packages/sklearn/base.py:451: UserWarning: X does not have valid feature names, but IsolationForest was fitted with feature names\n",
      "  \"X does not have valid feature names, but\"\n"
     ]
    },
    {
     "name": "stdout",
     "output_type": "stream",
     "text": [
      "              precision    recall  f1-score   support\n",
      "\n",
      "           0       1.00      1.00      1.00     28432\n",
      "           1       0.72      0.60      0.65        30\n",
      "\n",
      "    accuracy                           1.00     28462\n",
      "   macro avg       0.86      0.80      0.83     28462\n",
      "weighted avg       1.00      1.00      1.00     28462\n",
      "\n",
      "0.8271056766827749\n",
      "selected ['V10', 'V14', 'V18', 'V15']\n",
      "tempcol ['V10', 'V14', 'V18', 'V15', 'V17']\n"
     ]
    },
    {
     "name": "stderr",
     "output_type": "stream",
     "text": [
      "/Users/kte/opt/anaconda3/envs/tensor/lib/python3.7/site-packages/sklearn/base.py:451: UserWarning: X does not have valid feature names, but IsolationForest was fitted with feature names\n",
      "  \"X does not have valid feature names, but\"\n"
     ]
    },
    {
     "name": "stdout",
     "output_type": "stream",
     "text": [
      "              precision    recall  f1-score   support\n",
      "\n",
      "           0       1.00      1.00      1.00     28432\n",
      "           1       0.64      0.60      0.62        30\n",
      "\n",
      "    accuracy                           1.00     28462\n",
      "   macro avg       0.82      0.80      0.81     28462\n",
      "weighted avg       1.00      1.00      1.00     28462\n",
      "\n",
      "0.8101513903829571\n",
      "selected ['V10', 'V14', 'V18', 'V15']\n",
      "tempcol ['V10', 'V14', 'V18', 'V15', 'V19']\n"
     ]
    },
    {
     "name": "stderr",
     "output_type": "stream",
     "text": [
      "/Users/kte/opt/anaconda3/envs/tensor/lib/python3.7/site-packages/sklearn/base.py:451: UserWarning: X does not have valid feature names, but IsolationForest was fitted with feature names\n",
      "  \"X does not have valid feature names, but\"\n"
     ]
    },
    {
     "name": "stdout",
     "output_type": "stream",
     "text": [
      "              precision    recall  f1-score   support\n",
      "\n",
      "           0       1.00      1.00      1.00     28432\n",
      "           1       0.63      0.57      0.60        30\n",
      "\n",
      "    accuracy                           1.00     28462\n",
      "   macro avg       0.81      0.78      0.80     28462\n",
      "weighted avg       1.00      1.00      1.00     28462\n",
      "\n",
      "0.7980433877878794\n",
      "selected ['V10', 'V14', 'V18', 'V15']\n",
      "tempcol ['V10', 'V14', 'V18', 'V15', 'V20']\n"
     ]
    },
    {
     "name": "stderr",
     "output_type": "stream",
     "text": [
      "/Users/kte/opt/anaconda3/envs/tensor/lib/python3.7/site-packages/sklearn/base.py:451: UserWarning: X does not have valid feature names, but IsolationForest was fitted with feature names\n",
      "  \"X does not have valid feature names, but\"\n"
     ]
    },
    {
     "name": "stdout",
     "output_type": "stream",
     "text": [
      "              precision    recall  f1-score   support\n",
      "\n",
      "           0       1.00      1.00      1.00     28432\n",
      "           1       0.55      0.57      0.56        30\n",
      "\n",
      "    accuracy                           1.00     28462\n",
      "   macro avg       0.77      0.78      0.78     28462\n",
      "weighted avg       1.00      1.00      1.00     28462\n",
      "\n",
      "0.7784511118613244\n",
      "selected ['V10', 'V14', 'V18', 'V15']\n",
      "tempcol ['V10', 'V14', 'V18', 'V15', 'V23']\n"
     ]
    },
    {
     "name": "stderr",
     "output_type": "stream",
     "text": [
      "/Users/kte/opt/anaconda3/envs/tensor/lib/python3.7/site-packages/sklearn/base.py:451: UserWarning: X does not have valid feature names, but IsolationForest was fitted with feature names\n",
      "  \"X does not have valid feature names, but\"\n"
     ]
    },
    {
     "name": "stdout",
     "output_type": "stream",
     "text": [
      "              precision    recall  f1-score   support\n",
      "\n",
      "           0       1.00      1.00      1.00     28432\n",
      "           1       0.67      0.60      0.63        30\n",
      "\n",
      "    accuracy                           1.00     28462\n",
      "   macro avg       0.83      0.80      0.82     28462\n",
      "weighted avg       1.00      1.00      1.00     28462\n",
      "\n",
      "0.8156048323280637\n",
      "selected ['V10', 'V14', 'V18', 'V15']\n",
      "tempcol ['V10', 'V14', 'V18', 'V15', 'V24']\n"
     ]
    },
    {
     "name": "stderr",
     "output_type": "stream",
     "text": [
      "/Users/kte/opt/anaconda3/envs/tensor/lib/python3.7/site-packages/sklearn/base.py:451: UserWarning: X does not have valid feature names, but IsolationForest was fitted with feature names\n",
      "  \"X does not have valid feature names, but\"\n"
     ]
    },
    {
     "name": "stdout",
     "output_type": "stream",
     "text": [
      "              precision    recall  f1-score   support\n",
      "\n",
      "           0       1.00      1.00      1.00     28432\n",
      "           1       0.68      0.50      0.58        30\n",
      "\n",
      "    accuracy                           1.00     28462\n",
      "   macro avg       0.84      0.75      0.79     28462\n",
      "weighted avg       1.00      1.00      1.00     28462\n",
      "\n",
      "0.7882681216659273\n",
      "selected ['V10', 'V14', 'V18', 'V15']\n",
      "tempcol ['V10', 'V14', 'V18', 'V15', 'V25']\n"
     ]
    },
    {
     "name": "stderr",
     "output_type": "stream",
     "text": [
      "/Users/kte/opt/anaconda3/envs/tensor/lib/python3.7/site-packages/sklearn/base.py:451: UserWarning: X does not have valid feature names, but IsolationForest was fitted with feature names\n",
      "  \"X does not have valid feature names, but\"\n"
     ]
    },
    {
     "name": "stdout",
     "output_type": "stream",
     "text": [
      "              precision    recall  f1-score   support\n",
      "\n",
      "           0       1.00      1.00      1.00     28432\n",
      "           1       0.67      0.60      0.63        30\n",
      "\n",
      "    accuracy                           1.00     28462\n",
      "   macro avg       0.83      0.80      0.82     28462\n",
      "weighted avg       1.00      1.00      1.00     28462\n",
      "\n",
      "0.8156048323280637\n",
      "selected ['V10', 'V14', 'V18', 'V15']\n",
      "tempcol ['V10', 'V14', 'V18', 'V15', 'V28']\n"
     ]
    },
    {
     "name": "stderr",
     "output_type": "stream",
     "text": [
      "/Users/kte/opt/anaconda3/envs/tensor/lib/python3.7/site-packages/sklearn/base.py:451: UserWarning: X does not have valid feature names, but IsolationForest was fitted with feature names\n",
      "  \"X does not have valid feature names, but\"\n"
     ]
    },
    {
     "name": "stdout",
     "output_type": "stream",
     "text": [
      "              precision    recall  f1-score   support\n",
      "\n",
      "           0       1.00      1.00      1.00     28432\n",
      "           1       0.52      0.53      0.52        30\n",
      "\n",
      "    accuracy                           1.00     28462\n",
      "   macro avg       0.76      0.77      0.76     28462\n",
      "weighted avg       1.00      1.00      1.00     28462\n",
      "\n",
      "0.7620400831103115\n",
      "추가\n",
      "count : 91 번\n",
      "selected ['V10', 'V14', 'V18', 'V15', 'V16']\n",
      "tempcol ['V10', 'V14', 'V18', 'V15', 'V16', 'V2']\n"
     ]
    },
    {
     "name": "stderr",
     "output_type": "stream",
     "text": [
      "/Users/kte/opt/anaconda3/envs/tensor/lib/python3.7/site-packages/sklearn/base.py:451: UserWarning: X does not have valid feature names, but IsolationForest was fitted with feature names\n",
      "  \"X does not have valid feature names, but\"\n"
     ]
    },
    {
     "name": "stdout",
     "output_type": "stream",
     "text": [
      "              precision    recall  f1-score   support\n",
      "\n",
      "           0       1.00      1.00      1.00     28432\n",
      "           1       0.67      0.60      0.63        30\n",
      "\n",
      "    accuracy                           1.00     28462\n",
      "   macro avg       0.83      0.80      0.82     28462\n",
      "weighted avg       1.00      1.00      1.00     28462\n",
      "\n",
      "0.8156048323280637\n",
      "selected ['V10', 'V14', 'V18', 'V15', 'V16']\n",
      "tempcol ['V10', 'V14', 'V18', 'V15', 'V16', 'V3']\n"
     ]
    },
    {
     "name": "stderr",
     "output_type": "stream",
     "text": [
      "/Users/kte/opt/anaconda3/envs/tensor/lib/python3.7/site-packages/sklearn/base.py:451: UserWarning: X does not have valid feature names, but IsolationForest was fitted with feature names\n",
      "  \"X does not have valid feature names, but\"\n"
     ]
    },
    {
     "name": "stdout",
     "output_type": "stream",
     "text": [
      "              precision    recall  f1-score   support\n",
      "\n",
      "           0       1.00      1.00      1.00     28432\n",
      "           1       0.55      0.57      0.56        30\n",
      "\n",
      "    accuracy                           1.00     28462\n",
      "   macro avg       0.77      0.78      0.78     28462\n",
      "weighted avg       1.00      1.00      1.00     28462\n",
      "\n",
      "0.7784511118613244\n",
      "selected ['V10', 'V14', 'V18', 'V15', 'V16']\n",
      "tempcol ['V10', 'V14', 'V18', 'V15', 'V16', 'V6']\n"
     ]
    },
    {
     "name": "stderr",
     "output_type": "stream",
     "text": [
      "/Users/kte/opt/anaconda3/envs/tensor/lib/python3.7/site-packages/sklearn/base.py:451: UserWarning: X does not have valid feature names, but IsolationForest was fitted with feature names\n",
      "  \"X does not have valid feature names, but\"\n"
     ]
    },
    {
     "name": "stdout",
     "output_type": "stream",
     "text": [
      "              precision    recall  f1-score   support\n",
      "\n",
      "           0       1.00      1.00      1.00     28432\n",
      "           1       0.63      0.63      0.63        30\n",
      "\n",
      "    accuracy                           1.00     28462\n",
      "   macro avg       0.82      0.82      0.82     28462\n",
      "weighted avg       1.00      1.00      1.00     28462\n",
      "\n",
      "0.8164732226599136\n",
      "selected ['V10', 'V14', 'V18', 'V15', 'V16']\n",
      "tempcol ['V10', 'V14', 'V18', 'V15', 'V16', 'V7']\n"
     ]
    },
    {
     "name": "stderr",
     "output_type": "stream",
     "text": [
      "/Users/kte/opt/anaconda3/envs/tensor/lib/python3.7/site-packages/sklearn/base.py:451: UserWarning: X does not have valid feature names, but IsolationForest was fitted with feature names\n",
      "  \"X does not have valid feature names, but\"\n"
     ]
    },
    {
     "name": "stdout",
     "output_type": "stream",
     "text": [
      "              precision    recall  f1-score   support\n",
      "\n",
      "           0       1.00      1.00      1.00     28432\n",
      "           1       0.68      0.63      0.66        30\n",
      "\n",
      "    accuracy                           1.00     28462\n",
      "   macro avg       0.84      0.82      0.83     28462\n",
      "weighted avg       1.00      1.00      1.00     28462\n",
      "\n",
      "0.8274103548935974\n",
      "selected ['V10', 'V14', 'V18', 'V15', 'V16']\n",
      "tempcol ['V10', 'V14', 'V18', 'V15', 'V16', 'V9']\n"
     ]
    },
    {
     "name": "stderr",
     "output_type": "stream",
     "text": [
      "/Users/kte/opt/anaconda3/envs/tensor/lib/python3.7/site-packages/sklearn/base.py:451: UserWarning: X does not have valid feature names, but IsolationForest was fitted with feature names\n",
      "  \"X does not have valid feature names, but\"\n"
     ]
    },
    {
     "name": "stdout",
     "output_type": "stream",
     "text": [
      "              precision    recall  f1-score   support\n",
      "\n",
      "           0       1.00      1.00      1.00     28432\n",
      "           1       0.70      0.53      0.60        30\n",
      "\n",
      "    accuracy                           1.00     28462\n",
      "   macro avg       0.85      0.77      0.80     28462\n",
      "weighted avg       1.00      1.00      1.00     28462\n",
      "\n",
      "0.8017021640833626\n",
      "selected ['V10', 'V14', 'V18', 'V15', 'V16']\n",
      "tempcol ['V10', 'V14', 'V18', 'V15', 'V16', 'V11']\n"
     ]
    },
    {
     "name": "stderr",
     "output_type": "stream",
     "text": [
      "/Users/kte/opt/anaconda3/envs/tensor/lib/python3.7/site-packages/sklearn/base.py:451: UserWarning: X does not have valid feature names, but IsolationForest was fitted with feature names\n",
      "  \"X does not have valid feature names, but\"\n"
     ]
    },
    {
     "name": "stdout",
     "output_type": "stream",
     "text": [
      "              precision    recall  f1-score   support\n",
      "\n",
      "           0       1.00      1.00      1.00     28432\n",
      "           1       0.67      0.60      0.63        30\n",
      "\n",
      "    accuracy                           1.00     28462\n",
      "   macro avg       0.83      0.80      0.82     28462\n",
      "weighted avg       1.00      1.00      1.00     28462\n",
      "\n",
      "0.8156048323280637\n",
      "selected ['V10', 'V14', 'V18', 'V15', 'V16']\n",
      "tempcol ['V10', 'V14', 'V18', 'V15', 'V16', 'V12']\n"
     ]
    },
    {
     "name": "stderr",
     "output_type": "stream",
     "text": [
      "/Users/kte/opt/anaconda3/envs/tensor/lib/python3.7/site-packages/sklearn/base.py:451: UserWarning: X does not have valid feature names, but IsolationForest was fitted with feature names\n",
      "  \"X does not have valid feature names, but\"\n"
     ]
    },
    {
     "name": "stdout",
     "output_type": "stream",
     "text": [
      "              precision    recall  f1-score   support\n",
      "\n",
      "           0       1.00      1.00      1.00     28432\n",
      "           1       0.69      0.60      0.64        30\n",
      "\n",
      "    accuracy                           1.00     28462\n",
      "   macro avg       0.85      0.80      0.82     28462\n",
      "weighted avg       1.00      1.00      1.00     28462\n",
      "\n",
      "0.8212527256101849\n",
      "selected ['V10', 'V14', 'V18', 'V15', 'V16']\n",
      "tempcol ['V10', 'V14', 'V18', 'V15', 'V16', 'V13']\n"
     ]
    },
    {
     "name": "stderr",
     "output_type": "stream",
     "text": [
      "/Users/kte/opt/anaconda3/envs/tensor/lib/python3.7/site-packages/sklearn/base.py:451: UserWarning: X does not have valid feature names, but IsolationForest was fitted with feature names\n",
      "  \"X does not have valid feature names, but\"\n"
     ]
    },
    {
     "name": "stdout",
     "output_type": "stream",
     "text": [
      "              precision    recall  f1-score   support\n",
      "\n",
      "           0       1.00      1.00      1.00     28432\n",
      "           1       0.62      0.60      0.61        30\n",
      "\n",
      "    accuracy                           1.00     28462\n",
      "   macro avg       0.81      0.80      0.80     28462\n",
      "weighted avg       1.00      1.00      1.00     28462\n",
      "\n",
      "0.8048825124030003\n",
      "selected ['V10', 'V14', 'V18', 'V15', 'V16']\n",
      "tempcol ['V10', 'V14', 'V18', 'V15', 'V16', 'V17']\n"
     ]
    },
    {
     "name": "stderr",
     "output_type": "stream",
     "text": [
      "/Users/kte/opt/anaconda3/envs/tensor/lib/python3.7/site-packages/sklearn/base.py:451: UserWarning: X does not have valid feature names, but IsolationForest was fitted with feature names\n",
      "  \"X does not have valid feature names, but\"\n"
     ]
    },
    {
     "name": "stdout",
     "output_type": "stream",
     "text": [
      "              precision    recall  f1-score   support\n",
      "\n",
      "           0       1.00      1.00      1.00     28432\n",
      "           1       0.66      0.63      0.64        30\n",
      "\n",
      "    accuracy                           1.00     28462\n",
      "   macro avg       0.83      0.82      0.82     28462\n",
      "weighted avg       1.00      1.00      1.00     28462\n",
      "\n",
      "0.8218492504549133\n",
      "selected ['V10', 'V14', 'V18', 'V15', 'V16']\n",
      "tempcol ['V10', 'V14', 'V18', 'V15', 'V16', 'V19']\n"
     ]
    },
    {
     "name": "stderr",
     "output_type": "stream",
     "text": [
      "/Users/kte/opt/anaconda3/envs/tensor/lib/python3.7/site-packages/sklearn/base.py:451: UserWarning: X does not have valid feature names, but IsolationForest was fitted with feature names\n",
      "  \"X does not have valid feature names, but\"\n"
     ]
    },
    {
     "name": "stdout",
     "output_type": "stream",
     "text": [
      "              precision    recall  f1-score   support\n",
      "\n",
      "           0       1.00      1.00      1.00     28432\n",
      "           1       0.57      0.53      0.55        30\n",
      "\n",
      "    accuracy                           1.00     28462\n",
      "   macro avg       0.79      0.77      0.78     28462\n",
      "weighted avg       1.00      1.00      1.00     28462\n",
      "\n",
      "0.7756334613616767\n",
      "selected ['V10', 'V14', 'V18', 'V15', 'V16']\n",
      "tempcol ['V10', 'V14', 'V18', 'V15', 'V16', 'V20']\n"
     ]
    },
    {
     "name": "stderr",
     "output_type": "stream",
     "text": [
      "/Users/kte/opt/anaconda3/envs/tensor/lib/python3.7/site-packages/sklearn/base.py:451: UserWarning: X does not have valid feature names, but IsolationForest was fitted with feature names\n",
      "  \"X does not have valid feature names, but\"\n"
     ]
    },
    {
     "name": "stdout",
     "output_type": "stream",
     "text": [
      "              precision    recall  f1-score   support\n",
      "\n",
      "           0       1.00      1.00      1.00     28432\n",
      "           1       0.55      0.60      0.57        30\n",
      "\n",
      "    accuracy                           1.00     28462\n",
      "   macro avg       0.77      0.80      0.79     28462\n",
      "weighted avg       1.00      1.00      1.00     28462\n",
      "\n",
      "0.7854768646348111\n",
      "selected ['V10', 'V14', 'V18', 'V15', 'V16']\n",
      "tempcol ['V10', 'V14', 'V18', 'V15', 'V16', 'V23']\n"
     ]
    },
    {
     "name": "stderr",
     "output_type": "stream",
     "text": [
      "/Users/kte/opt/anaconda3/envs/tensor/lib/python3.7/site-packages/sklearn/base.py:451: UserWarning: X does not have valid feature names, but IsolationForest was fitted with feature names\n",
      "  \"X does not have valid feature names, but\"\n"
     ]
    },
    {
     "name": "stdout",
     "output_type": "stream",
     "text": [
      "              precision    recall  f1-score   support\n",
      "\n",
      "           0       1.00      1.00      1.00     28432\n",
      "           1       0.64      0.60      0.62        30\n",
      "\n",
      "    accuracy                           1.00     28462\n",
      "   macro avg       0.82      0.80      0.81     28462\n",
      "weighted avg       1.00      1.00      1.00     28462\n",
      "\n",
      "0.8101513903829571\n",
      "selected ['V10', 'V14', 'V18', 'V15', 'V16']\n",
      "tempcol ['V10', 'V14', 'V18', 'V15', 'V16', 'V24']\n"
     ]
    },
    {
     "name": "stderr",
     "output_type": "stream",
     "text": [
      "/Users/kte/opt/anaconda3/envs/tensor/lib/python3.7/site-packages/sklearn/base.py:451: UserWarning: X does not have valid feature names, but IsolationForest was fitted with feature names\n",
      "  \"X does not have valid feature names, but\"\n"
     ]
    },
    {
     "name": "stdout",
     "output_type": "stream",
     "text": [
      "              precision    recall  f1-score   support\n",
      "\n",
      "           0       1.00      1.00      1.00     28432\n",
      "           1       0.69      0.60      0.64        30\n",
      "\n",
      "    accuracy                           1.00     28462\n",
      "   macro avg       0.85      0.80      0.82     28462\n",
      "weighted avg       1.00      1.00      1.00     28462\n",
      "\n",
      "0.8212527256101849\n",
      "selected ['V10', 'V14', 'V18', 'V15', 'V16']\n",
      "tempcol ['V10', 'V14', 'V18', 'V15', 'V16', 'V25']\n"
     ]
    },
    {
     "name": "stderr",
     "output_type": "stream",
     "text": [
      "/Users/kte/opt/anaconda3/envs/tensor/lib/python3.7/site-packages/sklearn/base.py:451: UserWarning: X does not have valid feature names, but IsolationForest was fitted with feature names\n",
      "  \"X does not have valid feature names, but\"\n"
     ]
    },
    {
     "name": "stdout",
     "output_type": "stream",
     "text": [
      "              precision    recall  f1-score   support\n",
      "\n",
      "           0       1.00      1.00      1.00     28432\n",
      "           1       0.65      0.57      0.61        30\n",
      "\n",
      "    accuracy                           1.00     28462\n",
      "   macro avg       0.83      0.78      0.80     28462\n",
      "weighted avg       1.00      1.00      1.00     28462\n",
      "\n",
      "0.8033779981712035\n",
      "selected ['V10', 'V14', 'V18', 'V15', 'V16']\n",
      "tempcol ['V10', 'V14', 'V18', 'V15', 'V16', 'V28']\n"
     ]
    },
    {
     "name": "stderr",
     "output_type": "stream",
     "text": [
      "/Users/kte/opt/anaconda3/envs/tensor/lib/python3.7/site-packages/sklearn/base.py:451: UserWarning: X does not have valid feature names, but IsolationForest was fitted with feature names\n",
      "  \"X does not have valid feature names, but\"\n"
     ]
    },
    {
     "name": "stdout",
     "output_type": "stream",
     "text": [
      "              precision    recall  f1-score   support\n",
      "\n",
      "           0       1.00      1.00      1.00     28432\n",
      "           1       0.56      0.60      0.58        30\n",
      "\n",
      "    accuracy                           1.00     28462\n",
      "   macro avg       0.78      0.80      0.79     28462\n",
      "weighted avg       1.00      1.00      1.00     28462\n",
      "\n",
      "0.7900939569597474\n",
      "추가\n",
      "count : 106 번\n",
      "selected ['V10', 'V14', 'V18', 'V15', 'V16', 'V7']\n",
      "tempcol ['V10', 'V14', 'V18', 'V15', 'V16', 'V7', 'V2']\n"
     ]
    },
    {
     "name": "stderr",
     "output_type": "stream",
     "text": [
      "/Users/kte/opt/anaconda3/envs/tensor/lib/python3.7/site-packages/sklearn/base.py:451: UserWarning: X does not have valid feature names, but IsolationForest was fitted with feature names\n",
      "  \"X does not have valid feature names, but\"\n"
     ]
    },
    {
     "name": "stdout",
     "output_type": "stream",
     "text": [
      "              precision    recall  f1-score   support\n",
      "\n",
      "           0       1.00      1.00      1.00     28432\n",
      "           1       0.78      0.60      0.68        30\n",
      "\n",
      "    accuracy                           1.00     28462\n",
      "   macro avg       0.89      0.80      0.84     28462\n",
      "weighted avg       1.00      1.00      1.00     28462\n",
      "\n",
      "0.8394731804484362\n",
      "selected ['V10', 'V14', 'V18', 'V15', 'V16', 'V7']\n",
      "tempcol ['V10', 'V14', 'V18', 'V15', 'V16', 'V7', 'V3']\n"
     ]
    },
    {
     "name": "stderr",
     "output_type": "stream",
     "text": [
      "/Users/kte/opt/anaconda3/envs/tensor/lib/python3.7/site-packages/sklearn/base.py:451: UserWarning: X does not have valid feature names, but IsolationForest was fitted with feature names\n",
      "  \"X does not have valid feature names, but\"\n"
     ]
    },
    {
     "name": "stdout",
     "output_type": "stream",
     "text": [
      "              precision    recall  f1-score   support\n",
      "\n",
      "           0       1.00      1.00      1.00     28432\n",
      "           1       0.60      0.60      0.60        30\n",
      "\n",
      "    accuracy                           1.00     28462\n",
      "   macro avg       0.80      0.80      0.80     28462\n",
      "weighted avg       1.00      1.00      1.00     28462\n",
      "\n",
      "0.7997889701744514\n",
      "selected ['V10', 'V14', 'V18', 'V15', 'V16', 'V7']\n",
      "tempcol ['V10', 'V14', 'V18', 'V15', 'V16', 'V7', 'V6']\n"
     ]
    },
    {
     "name": "stderr",
     "output_type": "stream",
     "text": [
      "/Users/kte/opt/anaconda3/envs/tensor/lib/python3.7/site-packages/sklearn/base.py:451: UserWarning: X does not have valid feature names, but IsolationForest was fitted with feature names\n",
      "  \"X does not have valid feature names, but\"\n"
     ]
    },
    {
     "name": "stdout",
     "output_type": "stream",
     "text": [
      "              precision    recall  f1-score   support\n",
      "\n",
      "           0       1.00      1.00      1.00     28432\n",
      "           1       0.58      0.63      0.60        30\n",
      "\n",
      "    accuracy                           1.00     28462\n",
      "   macro avg       0.79      0.82      0.80     28462\n",
      "weighted avg       1.00      1.00      1.00     28462\n",
      "\n",
      "0.8013674672544548\n",
      "selected ['V10', 'V14', 'V18', 'V15', 'V16', 'V7']\n",
      "tempcol ['V10', 'V14', 'V18', 'V15', 'V16', 'V7', 'V9']\n"
     ]
    },
    {
     "name": "stderr",
     "output_type": "stream",
     "text": [
      "/Users/kte/opt/anaconda3/envs/tensor/lib/python3.7/site-packages/sklearn/base.py:451: UserWarning: X does not have valid feature names, but IsolationForest was fitted with feature names\n",
      "  \"X does not have valid feature names, but\"\n"
     ]
    },
    {
     "name": "stdout",
     "output_type": "stream",
     "text": [
      "              precision    recall  f1-score   support\n",
      "\n",
      "           0       1.00      1.00      1.00     28432\n",
      "           1       0.64      0.60      0.62        30\n",
      "\n",
      "    accuracy                           1.00     28462\n",
      "   macro avg       0.82      0.80      0.81     28462\n",
      "weighted avg       1.00      1.00      1.00     28462\n",
      "\n",
      "0.8101513903829571\n",
      "selected ['V10', 'V14', 'V18', 'V15', 'V16', 'V7']\n",
      "tempcol ['V10', 'V14', 'V18', 'V15', 'V16', 'V7', 'V11']\n"
     ]
    },
    {
     "name": "stderr",
     "output_type": "stream",
     "text": [
      "/Users/kte/opt/anaconda3/envs/tensor/lib/python3.7/site-packages/sklearn/base.py:451: UserWarning: X does not have valid feature names, but IsolationForest was fitted with feature names\n",
      "  \"X does not have valid feature names, but\"\n"
     ]
    },
    {
     "name": "stdout",
     "output_type": "stream",
     "text": [
      "              precision    recall  f1-score   support\n",
      "\n",
      "           0       1.00      1.00      1.00     28432\n",
      "           1       0.68      0.57      0.62        30\n",
      "\n",
      "    accuracy                           1.00     28462\n",
      "   macro avg       0.84      0.78      0.81     28462\n",
      "weighted avg       1.00      1.00      1.00     28462\n",
      "\n",
      "0.8089062742283302\n",
      "selected ['V10', 'V14', 'V18', 'V15', 'V16', 'V7']\n",
      "tempcol ['V10', 'V14', 'V18', 'V15', 'V16', 'V7', 'V12']\n"
     ]
    },
    {
     "name": "stderr",
     "output_type": "stream",
     "text": [
      "/Users/kte/opt/anaconda3/envs/tensor/lib/python3.7/site-packages/sklearn/base.py:451: UserWarning: X does not have valid feature names, but IsolationForest was fitted with feature names\n",
      "  \"X does not have valid feature names, but\"\n"
     ]
    },
    {
     "name": "stdout",
     "output_type": "stream",
     "text": [
      "              precision    recall  f1-score   support\n",
      "\n",
      "           0       1.00      1.00      1.00     28432\n",
      "           1       0.77      0.57      0.65        30\n",
      "\n",
      "    accuracy                           1.00     28462\n",
      "   macro avg       0.89      0.78      0.83     28462\n",
      "weighted avg       1.00      1.00      1.00     28462\n",
      "\n",
      "0.8267648268175769\n",
      "selected ['V10', 'V14', 'V18', 'V15', 'V16', 'V7']\n",
      "tempcol ['V10', 'V14', 'V18', 'V15', 'V16', 'V7', 'V13']\n"
     ]
    },
    {
     "name": "stderr",
     "output_type": "stream",
     "text": [
      "/Users/kte/opt/anaconda3/envs/tensor/lib/python3.7/site-packages/sklearn/base.py:451: UserWarning: X does not have valid feature names, but IsolationForest was fitted with feature names\n",
      "  \"X does not have valid feature names, but\"\n"
     ]
    },
    {
     "name": "stdout",
     "output_type": "stream",
     "text": [
      "              precision    recall  f1-score   support\n",
      "\n",
      "           0       1.00      1.00      1.00     28432\n",
      "           1       0.69      0.60      0.64        30\n",
      "\n",
      "    accuracy                           1.00     28462\n",
      "   macro avg       0.85      0.80      0.82     28462\n",
      "weighted avg       1.00      1.00      1.00     28462\n",
      "\n",
      "0.8212527256101849\n",
      "selected ['V10', 'V14', 'V18', 'V15', 'V16', 'V7']\n",
      "tempcol ['V10', 'V14', 'V18', 'V15', 'V16', 'V7', 'V17']\n"
     ]
    },
    {
     "name": "stderr",
     "output_type": "stream",
     "text": [
      "/Users/kte/opt/anaconda3/envs/tensor/lib/python3.7/site-packages/sklearn/base.py:451: UserWarning: X does not have valid feature names, but IsolationForest was fitted with feature names\n",
      "  \"X does not have valid feature names, but\"\n"
     ]
    },
    {
     "name": "stdout",
     "output_type": "stream",
     "text": [
      "              precision    recall  f1-score   support\n",
      "\n",
      "           0       1.00      1.00      1.00     28432\n",
      "           1       0.63      0.63      0.63        30\n",
      "\n",
      "    accuracy                           1.00     28462\n",
      "   macro avg       0.82      0.82      0.82     28462\n",
      "weighted avg       1.00      1.00      1.00     28462\n",
      "\n",
      "0.8164732226599136\n",
      "selected ['V10', 'V14', 'V18', 'V15', 'V16', 'V7']\n",
      "tempcol ['V10', 'V14', 'V18', 'V15', 'V16', 'V7', 'V19']\n"
     ]
    },
    {
     "name": "stderr",
     "output_type": "stream",
     "text": [
      "/Users/kte/opt/anaconda3/envs/tensor/lib/python3.7/site-packages/sklearn/base.py:451: UserWarning: X does not have valid feature names, but IsolationForest was fitted with feature names\n",
      "  \"X does not have valid feature names, but\"\n"
     ]
    },
    {
     "name": "stdout",
     "output_type": "stream",
     "text": [
      "              precision    recall  f1-score   support\n",
      "\n",
      "           0       1.00      1.00      1.00     28432\n",
      "           1       0.72      0.60      0.65        30\n",
      "\n",
      "    accuracy                           1.00     28462\n",
      "   macro avg       0.86      0.80      0.83     28462\n",
      "weighted avg       1.00      1.00      1.00     28462\n",
      "\n",
      "0.8271056766827749\n",
      "selected ['V10', 'V14', 'V18', 'V15', 'V16', 'V7']\n",
      "tempcol ['V10', 'V14', 'V18', 'V15', 'V16', 'V7', 'V20']\n"
     ]
    },
    {
     "name": "stderr",
     "output_type": "stream",
     "text": [
      "/Users/kte/opt/anaconda3/envs/tensor/lib/python3.7/site-packages/sklearn/base.py:451: UserWarning: X does not have valid feature names, but IsolationForest was fitted with feature names\n",
      "  \"X does not have valid feature names, but\"\n"
     ]
    },
    {
     "name": "stdout",
     "output_type": "stream",
     "text": [
      "              precision    recall  f1-score   support\n",
      "\n",
      "           0       1.00      1.00      1.00     28432\n",
      "           1       0.61      0.57      0.59        30\n",
      "\n",
      "    accuracy                           1.00     28462\n",
      "   macro avg       0.80      0.78      0.79     28462\n",
      "weighted avg       1.00      1.00      1.00     28462\n",
      "\n",
      "0.7928924258723169\n",
      "selected ['V10', 'V14', 'V18', 'V15', 'V16', 'V7']\n",
      "tempcol ['V10', 'V14', 'V18', 'V15', 'V16', 'V7', 'V23']\n"
     ]
    },
    {
     "name": "stderr",
     "output_type": "stream",
     "text": [
      "/Users/kte/opt/anaconda3/envs/tensor/lib/python3.7/site-packages/sklearn/base.py:451: UserWarning: X does not have valid feature names, but IsolationForest was fitted with feature names\n",
      "  \"X does not have valid feature names, but\"\n"
     ]
    },
    {
     "name": "stdout",
     "output_type": "stream",
     "text": [
      "              precision    recall  f1-score   support\n",
      "\n",
      "           0       1.00      1.00      1.00     28432\n",
      "           1       0.68      0.57      0.62        30\n",
      "\n",
      "    accuracy                           1.00     28462\n",
      "   macro avg       0.84      0.78      0.81     28462\n",
      "weighted avg       1.00      1.00      1.00     28462\n",
      "\n",
      "0.8089062742283302\n",
      "selected ['V10', 'V14', 'V18', 'V15', 'V16', 'V7']\n",
      "tempcol ['V10', 'V14', 'V18', 'V15', 'V16', 'V7', 'V24']\n"
     ]
    },
    {
     "name": "stderr",
     "output_type": "stream",
     "text": [
      "/Users/kte/opt/anaconda3/envs/tensor/lib/python3.7/site-packages/sklearn/base.py:451: UserWarning: X does not have valid feature names, but IsolationForest was fitted with feature names\n",
      "  \"X does not have valid feature names, but\"\n"
     ]
    },
    {
     "name": "stdout",
     "output_type": "stream",
     "text": [
      "              precision    recall  f1-score   support\n",
      "\n",
      "           0       1.00      1.00      1.00     28432\n",
      "           1       0.75      0.60      0.67        30\n",
      "\n",
      "    accuracy                           1.00     28462\n",
      "   macro avg       0.87      0.80      0.83     28462\n",
      "weighted avg       1.00      1.00      1.00     28462\n",
      "\n",
      "0.8331750776625051\n",
      "selected ['V10', 'V14', 'V18', 'V15', 'V16', 'V7']\n",
      "tempcol ['V10', 'V14', 'V18', 'V15', 'V16', 'V7', 'V25']\n"
     ]
    },
    {
     "name": "stderr",
     "output_type": "stream",
     "text": [
      "/Users/kte/opt/anaconda3/envs/tensor/lib/python3.7/site-packages/sklearn/base.py:451: UserWarning: X does not have valid feature names, but IsolationForest was fitted with feature names\n",
      "  \"X does not have valid feature names, but\"\n"
     ]
    },
    {
     "name": "stdout",
     "output_type": "stream",
     "text": [
      "              precision    recall  f1-score   support\n",
      "\n",
      "           0       1.00      1.00      1.00     28432\n",
      "           1       0.73      0.63      0.68        30\n",
      "\n",
      "    accuracy                           1.00     28462\n",
      "   macro avg       0.87      0.82      0.84     28462\n",
      "weighted avg       1.00      1.00      1.00     28462\n",
      "\n",
      "0.8391274530491665\n",
      "selected ['V10', 'V14', 'V18', 'V15', 'V16', 'V7']\n",
      "tempcol ['V10', 'V14', 'V18', 'V15', 'V16', 'V7', 'V28']\n"
     ]
    },
    {
     "name": "stderr",
     "output_type": "stream",
     "text": [
      "/Users/kte/opt/anaconda3/envs/tensor/lib/python3.7/site-packages/sklearn/base.py:451: UserWarning: X does not have valid feature names, but IsolationForest was fitted with feature names\n",
      "  \"X does not have valid feature names, but\"\n"
     ]
    },
    {
     "name": "stdout",
     "output_type": "stream",
     "text": [
      "              precision    recall  f1-score   support\n",
      "\n",
      "           0       1.00      1.00      1.00     28432\n",
      "           1       0.61      0.57      0.59        30\n",
      "\n",
      "    accuracy                           1.00     28462\n",
      "   macro avg       0.80      0.78      0.79     28462\n",
      "weighted avg       1.00      1.00      1.00     28462\n",
      "\n",
      "0.7928924258723169\n",
      "추가\n",
      "count : 120 번\n",
      "selected ['V10', 'V14', 'V18', 'V15', 'V16', 'V7', 'V2']\n",
      "tempcol ['V10', 'V14', 'V18', 'V15', 'V16', 'V7', 'V2', 'V3']\n"
     ]
    },
    {
     "name": "stderr",
     "output_type": "stream",
     "text": [
      "/Users/kte/opt/anaconda3/envs/tensor/lib/python3.7/site-packages/sklearn/base.py:451: UserWarning: X does not have valid feature names, but IsolationForest was fitted with feature names\n",
      "  \"X does not have valid feature names, but\"\n"
     ]
    },
    {
     "name": "stdout",
     "output_type": "stream",
     "text": [
      "              precision    recall  f1-score   support\n",
      "\n",
      "           0       1.00      1.00      1.00     28432\n",
      "           1       0.68      0.57      0.62        30\n",
      "\n",
      "    accuracy                           1.00     28462\n",
      "   macro avg       0.84      0.78      0.81     28462\n",
      "weighted avg       1.00      1.00      1.00     28462\n",
      "\n",
      "0.8089062742283302\n",
      "selected ['V10', 'V14', 'V18', 'V15', 'V16', 'V7', 'V2']\n",
      "tempcol ['V10', 'V14', 'V18', 'V15', 'V16', 'V7', 'V2', 'V6']\n"
     ]
    },
    {
     "name": "stderr",
     "output_type": "stream",
     "text": [
      "/Users/kte/opt/anaconda3/envs/tensor/lib/python3.7/site-packages/sklearn/base.py:451: UserWarning: X does not have valid feature names, but IsolationForest was fitted with feature names\n",
      "  \"X does not have valid feature names, but\"\n"
     ]
    },
    {
     "name": "stdout",
     "output_type": "stream",
     "text": [
      "              precision    recall  f1-score   support\n",
      "\n",
      "           0       1.00      1.00      1.00     28432\n",
      "           1       0.55      0.57      0.56        30\n",
      "\n",
      "    accuracy                           1.00     28462\n",
      "   macro avg       0.77      0.78      0.78     28462\n",
      "weighted avg       1.00      1.00      1.00     28462\n",
      "\n",
      "0.7784511118613244\n",
      "selected ['V10', 'V14', 'V18', 'V15', 'V16', 'V7', 'V2']\n",
      "tempcol ['V10', 'V14', 'V18', 'V15', 'V16', 'V7', 'V2', 'V9']\n"
     ]
    },
    {
     "name": "stderr",
     "output_type": "stream",
     "text": [
      "/Users/kte/opt/anaconda3/envs/tensor/lib/python3.7/site-packages/sklearn/base.py:451: UserWarning: X does not have valid feature names, but IsolationForest was fitted with feature names\n",
      "  \"X does not have valid feature names, but\"\n"
     ]
    },
    {
     "name": "stdout",
     "output_type": "stream",
     "text": [
      "              precision    recall  f1-score   support\n",
      "\n",
      "           0       1.00      1.00      1.00     28432\n",
      "           1       0.74      0.57      0.64        30\n",
      "\n",
      "    accuracy                           1.00     28462\n",
      "   macro avg       0.87      0.78      0.82     28462\n",
      "weighted avg       1.00      1.00      1.00     28462\n",
      "\n",
      "0.8205876722658993\n",
      "selected ['V10', 'V14', 'V18', 'V15', 'V16', 'V7', 'V2']\n",
      "tempcol ['V10', 'V14', 'V18', 'V15', 'V16', 'V7', 'V2', 'V11']\n"
     ]
    },
    {
     "name": "stderr",
     "output_type": "stream",
     "text": [
      "/Users/kte/opt/anaconda3/envs/tensor/lib/python3.7/site-packages/sklearn/base.py:451: UserWarning: X does not have valid feature names, but IsolationForest was fitted with feature names\n",
      "  \"X does not have valid feature names, but\"\n"
     ]
    },
    {
     "name": "stdout",
     "output_type": "stream",
     "text": [
      "              precision    recall  f1-score   support\n",
      "\n",
      "           0       1.00      1.00      1.00     28432\n",
      "           1       0.67      0.60      0.63        30\n",
      "\n",
      "    accuracy                           1.00     28462\n",
      "   macro avg       0.83      0.80      0.82     28462\n",
      "weighted avg       1.00      1.00      1.00     28462\n",
      "\n",
      "0.8156048323280637\n",
      "selected ['V10', 'V14', 'V18', 'V15', 'V16', 'V7', 'V2']\n",
      "tempcol ['V10', 'V14', 'V18', 'V15', 'V16', 'V7', 'V2', 'V12']\n"
     ]
    },
    {
     "name": "stderr",
     "output_type": "stream",
     "text": [
      "/Users/kte/opt/anaconda3/envs/tensor/lib/python3.7/site-packages/sklearn/base.py:451: UserWarning: X does not have valid feature names, but IsolationForest was fitted with feature names\n",
      "  \"X does not have valid feature names, but\"\n"
     ]
    },
    {
     "name": "stdout",
     "output_type": "stream",
     "text": [
      "              precision    recall  f1-score   support\n",
      "\n",
      "           0       1.00      1.00      1.00     28432\n",
      "           1       0.74      0.57      0.64        30\n",
      "\n",
      "    accuracy                           1.00     28462\n",
      "   macro avg       0.87      0.78      0.82     28462\n",
      "weighted avg       1.00      1.00      1.00     28462\n",
      "\n",
      "0.8205876722658993\n",
      "selected ['V10', 'V14', 'V18', 'V15', 'V16', 'V7', 'V2']\n",
      "tempcol ['V10', 'V14', 'V18', 'V15', 'V16', 'V7', 'V2', 'V13']\n"
     ]
    },
    {
     "name": "stderr",
     "output_type": "stream",
     "text": [
      "/Users/kte/opt/anaconda3/envs/tensor/lib/python3.7/site-packages/sklearn/base.py:451: UserWarning: X does not have valid feature names, but IsolationForest was fitted with feature names\n",
      "  \"X does not have valid feature names, but\"\n"
     ]
    },
    {
     "name": "stdout",
     "output_type": "stream",
     "text": [
      "              precision    recall  f1-score   support\n",
      "\n",
      "           0       1.00      1.00      1.00     28432\n",
      "           1       0.70      0.63      0.67        30\n",
      "\n",
      "    accuracy                           1.00     28462\n",
      "   macro avg       0.85      0.82      0.83     28462\n",
      "weighted avg       1.00      1.00      1.00     28462\n",
      "\n",
      "0.8331662768682482\n",
      "selected ['V10', 'V14', 'V18', 'V15', 'V16', 'V7', 'V2']\n",
      "tempcol ['V10', 'V14', 'V18', 'V15', 'V16', 'V7', 'V2', 'V17']\n"
     ]
    },
    {
     "name": "stderr",
     "output_type": "stream",
     "text": [
      "/Users/kte/opt/anaconda3/envs/tensor/lib/python3.7/site-packages/sklearn/base.py:451: UserWarning: X does not have valid feature names, but IsolationForest was fitted with feature names\n",
      "  \"X does not have valid feature names, but\"\n"
     ]
    },
    {
     "name": "stdout",
     "output_type": "stream",
     "text": [
      "              precision    recall  f1-score   support\n",
      "\n",
      "           0       1.00      1.00      1.00     28432\n",
      "           1       0.71      0.57      0.63        30\n",
      "\n",
      "    accuracy                           1.00     28462\n",
      "   macro avg       0.85      0.78      0.81     28462\n",
      "weighted avg       1.00      1.00      1.00     28462\n",
      "\n",
      "0.8146389751805612\n",
      "selected ['V10', 'V14', 'V18', 'V15', 'V16', 'V7', 'V2']\n",
      "tempcol ['V10', 'V14', 'V18', 'V15', 'V16', 'V7', 'V2', 'V19']\n"
     ]
    },
    {
     "name": "stderr",
     "output_type": "stream",
     "text": [
      "/Users/kte/opt/anaconda3/envs/tensor/lib/python3.7/site-packages/sklearn/base.py:451: UserWarning: X does not have valid feature names, but IsolationForest was fitted with feature names\n",
      "  \"X does not have valid feature names, but\"\n"
     ]
    },
    {
     "name": "stdout",
     "output_type": "stream",
     "text": [
      "              precision    recall  f1-score   support\n",
      "\n",
      "           0       1.00      1.00      1.00     28432\n",
      "           1       0.69      0.60      0.64        30\n",
      "\n",
      "    accuracy                           1.00     28462\n",
      "   macro avg       0.85      0.80      0.82     28462\n",
      "weighted avg       1.00      1.00      1.00     28462\n",
      "\n",
      "0.8212527256101849\n",
      "selected ['V10', 'V14', 'V18', 'V15', 'V16', 'V7', 'V2']\n",
      "tempcol ['V10', 'V14', 'V18', 'V15', 'V16', 'V7', 'V2', 'V20']\n"
     ]
    },
    {
     "name": "stderr",
     "output_type": "stream",
     "text": [
      "/Users/kte/opt/anaconda3/envs/tensor/lib/python3.7/site-packages/sklearn/base.py:451: UserWarning: X does not have valid feature names, but IsolationForest was fitted with feature names\n",
      "  \"X does not have valid feature names, but\"\n"
     ]
    },
    {
     "name": "stdout",
     "output_type": "stream",
     "text": [
      "              precision    recall  f1-score   support\n",
      "\n",
      "           0       1.00      1.00      1.00     28432\n",
      "           1       0.63      0.57      0.60        30\n",
      "\n",
      "    accuracy                           1.00     28462\n",
      "   macro avg       0.81      0.78      0.80     28462\n",
      "weighted avg       1.00      1.00      1.00     28462\n",
      "\n",
      "0.7980433877878794\n",
      "selected ['V10', 'V14', 'V18', 'V15', 'V16', 'V7', 'V2']\n",
      "tempcol ['V10', 'V14', 'V18', 'V15', 'V16', 'V7', 'V2', 'V23']\n"
     ]
    },
    {
     "name": "stderr",
     "output_type": "stream",
     "text": [
      "/Users/kte/opt/anaconda3/envs/tensor/lib/python3.7/site-packages/sklearn/base.py:451: UserWarning: X does not have valid feature names, but IsolationForest was fitted with feature names\n",
      "  \"X does not have valid feature names, but\"\n"
     ]
    },
    {
     "name": "stdout",
     "output_type": "stream",
     "text": [
      "              precision    recall  f1-score   support\n",
      "\n",
      "           0       1.00      1.00      1.00     28432\n",
      "           1       0.74      0.57      0.64        30\n",
      "\n",
      "    accuracy                           1.00     28462\n",
      "   macro avg       0.87      0.78      0.82     28462\n",
      "weighted avg       1.00      1.00      1.00     28462\n",
      "\n",
      "0.8205876722658993\n",
      "selected ['V10', 'V14', 'V18', 'V15', 'V16', 'V7', 'V2']\n",
      "tempcol ['V10', 'V14', 'V18', 'V15', 'V16', 'V7', 'V2', 'V24']\n"
     ]
    },
    {
     "name": "stderr",
     "output_type": "stream",
     "text": [
      "/Users/kte/opt/anaconda3/envs/tensor/lib/python3.7/site-packages/sklearn/base.py:451: UserWarning: X does not have valid feature names, but IsolationForest was fitted with feature names\n",
      "  \"X does not have valid feature names, but\"\n"
     ]
    },
    {
     "name": "stdout",
     "output_type": "stream",
     "text": [
      "              precision    recall  f1-score   support\n",
      "\n",
      "           0       1.00      1.00      1.00     28432\n",
      "           1       0.74      0.57      0.64        30\n",
      "\n",
      "    accuracy                           1.00     28462\n",
      "   macro avg       0.87      0.78      0.82     28462\n",
      "weighted avg       1.00      1.00      1.00     28462\n",
      "\n",
      "0.8205876722658993\n",
      "selected ['V10', 'V14', 'V18', 'V15', 'V16', 'V7', 'V2']\n",
      "tempcol ['V10', 'V14', 'V18', 'V15', 'V16', 'V7', 'V2', 'V25']\n"
     ]
    },
    {
     "name": "stderr",
     "output_type": "stream",
     "text": [
      "/Users/kte/opt/anaconda3/envs/tensor/lib/python3.7/site-packages/sklearn/base.py:451: UserWarning: X does not have valid feature names, but IsolationForest was fitted with feature names\n",
      "  \"X does not have valid feature names, but\"\n"
     ]
    },
    {
     "name": "stdout",
     "output_type": "stream",
     "text": [
      "              precision    recall  f1-score   support\n",
      "\n",
      "           0       1.00      1.00      1.00     28432\n",
      "           1       0.76      0.63      0.69        30\n",
      "\n",
      "    accuracy                           1.00     28462\n",
      "   macro avg       0.88      0.82      0.85     28462\n",
      "weighted avg       1.00      1.00      1.00     28462\n",
      "\n",
      "0.8453050791372196\n",
      "selected ['V10', 'V14', 'V18', 'V15', 'V16', 'V7', 'V2']\n",
      "tempcol ['V10', 'V14', 'V18', 'V15', 'V16', 'V7', 'V2', 'V28']\n"
     ]
    },
    {
     "name": "stderr",
     "output_type": "stream",
     "text": [
      "/Users/kte/opt/anaconda3/envs/tensor/lib/python3.7/site-packages/sklearn/base.py:451: UserWarning: X does not have valid feature names, but IsolationForest was fitted with feature names\n",
      "  \"X does not have valid feature names, but\"\n"
     ]
    },
    {
     "name": "stdout",
     "output_type": "stream",
     "text": [
      "              precision    recall  f1-score   support\n",
      "\n",
      "           0       1.00      1.00      1.00     28432\n",
      "           1       0.63      0.57      0.60        30\n",
      "\n",
      "    accuracy                           1.00     28462\n",
      "   macro avg       0.81      0.78      0.80     28462\n",
      "weighted avg       1.00      1.00      1.00     28462\n",
      "\n",
      "0.7980433877878794\n",
      "추가\n",
      "count : 133 번\n",
      "selected ['V10', 'V14', 'V18', 'V15', 'V16', 'V7', 'V2', 'V25']\n",
      "tempcol ['V10', 'V14', 'V18', 'V15', 'V16', 'V7', 'V2', 'V25', 'V3']\n"
     ]
    },
    {
     "name": "stderr",
     "output_type": "stream",
     "text": [
      "/Users/kte/opt/anaconda3/envs/tensor/lib/python3.7/site-packages/sklearn/base.py:451: UserWarning: X does not have valid feature names, but IsolationForest was fitted with feature names\n",
      "  \"X does not have valid feature names, but\"\n"
     ]
    },
    {
     "name": "stdout",
     "output_type": "stream",
     "text": [
      "              precision    recall  f1-score   support\n",
      "\n",
      "           0       1.00      1.00      1.00     28432\n",
      "           1       0.63      0.57      0.60        30\n",
      "\n",
      "    accuracy                           1.00     28462\n",
      "   macro avg       0.81      0.78      0.80     28462\n",
      "weighted avg       1.00      1.00      1.00     28462\n",
      "\n",
      "0.7980433877878794\n",
      "selected ['V10', 'V14', 'V18', 'V15', 'V16', 'V7', 'V2', 'V25']\n",
      "tempcol ['V10', 'V14', 'V18', 'V15', 'V16', 'V7', 'V2', 'V25', 'V6']\n"
     ]
    },
    {
     "name": "stderr",
     "output_type": "stream",
     "text": [
      "/Users/kte/opt/anaconda3/envs/tensor/lib/python3.7/site-packages/sklearn/base.py:451: UserWarning: X does not have valid feature names, but IsolationForest was fitted with feature names\n",
      "  \"X does not have valid feature names, but\"\n"
     ]
    },
    {
     "name": "stdout",
     "output_type": "stream",
     "text": [
      "              precision    recall  f1-score   support\n",
      "\n",
      "           0       1.00      1.00      1.00     28432\n",
      "           1       0.68      0.57      0.62        30\n",
      "\n",
      "    accuracy                           1.00     28462\n",
      "   macro avg       0.84      0.78      0.81     28462\n",
      "weighted avg       1.00      1.00      1.00     28462\n",
      "\n",
      "0.8089062742283302\n",
      "selected ['V10', 'V14', 'V18', 'V15', 'V16', 'V7', 'V2', 'V25']\n",
      "tempcol ['V10', 'V14', 'V18', 'V15', 'V16', 'V7', 'V2', 'V25', 'V9']\n"
     ]
    },
    {
     "name": "stderr",
     "output_type": "stream",
     "text": [
      "/Users/kte/opt/anaconda3/envs/tensor/lib/python3.7/site-packages/sklearn/base.py:451: UserWarning: X does not have valid feature names, but IsolationForest was fitted with feature names\n",
      "  \"X does not have valid feature names, but\"\n"
     ]
    },
    {
     "name": "stdout",
     "output_type": "stream",
     "text": [
      "              precision    recall  f1-score   support\n",
      "\n",
      "           0       1.00      1.00      1.00     28432\n",
      "           1       0.74      0.57      0.64        30\n",
      "\n",
      "    accuracy                           1.00     28462\n",
      "   macro avg       0.87      0.78      0.82     28462\n",
      "weighted avg       1.00      1.00      1.00     28462\n",
      "\n",
      "0.8205876722658993\n",
      "selected ['V10', 'V14', 'V18', 'V15', 'V16', 'V7', 'V2', 'V25']\n",
      "tempcol ['V10', 'V14', 'V18', 'V15', 'V16', 'V7', 'V2', 'V25', 'V11']\n"
     ]
    },
    {
     "name": "stderr",
     "output_type": "stream",
     "text": [
      "/Users/kte/opt/anaconda3/envs/tensor/lib/python3.7/site-packages/sklearn/base.py:451: UserWarning: X does not have valid feature names, but IsolationForest was fitted with feature names\n",
      "  \"X does not have valid feature names, but\"\n"
     ]
    },
    {
     "name": "stdout",
     "output_type": "stream",
     "text": [
      "              precision    recall  f1-score   support\n",
      "\n",
      "           0       1.00      1.00      1.00     28432\n",
      "           1       0.74      0.57      0.64        30\n",
      "\n",
      "    accuracy                           1.00     28462\n",
      "   macro avg       0.87      0.78      0.82     28462\n",
      "weighted avg       1.00      1.00      1.00     28462\n",
      "\n",
      "0.8205876722658993\n",
      "selected ['V10', 'V14', 'V18', 'V15', 'V16', 'V7', 'V2', 'V25']\n",
      "tempcol ['V10', 'V14', 'V18', 'V15', 'V16', 'V7', 'V2', 'V25', 'V12']\n"
     ]
    },
    {
     "name": "stderr",
     "output_type": "stream",
     "text": [
      "/Users/kte/opt/anaconda3/envs/tensor/lib/python3.7/site-packages/sklearn/base.py:451: UserWarning: X does not have valid feature names, but IsolationForest was fitted with feature names\n",
      "  \"X does not have valid feature names, but\"\n"
     ]
    },
    {
     "name": "stdout",
     "output_type": "stream",
     "text": [
      "              precision    recall  f1-score   support\n",
      "\n",
      "           0       1.00      1.00      1.00     28432\n",
      "           1       0.71      0.57      0.63        30\n",
      "\n",
      "    accuracy                           1.00     28462\n",
      "   macro avg       0.85      0.78      0.81     28462\n",
      "weighted avg       1.00      1.00      1.00     28462\n",
      "\n",
      "0.8146389751805612\n",
      "selected ['V10', 'V14', 'V18', 'V15', 'V16', 'V7', 'V2', 'V25']\n",
      "tempcol ['V10', 'V14', 'V18', 'V15', 'V16', 'V7', 'V2', 'V25', 'V13']\n"
     ]
    },
    {
     "name": "stderr",
     "output_type": "stream",
     "text": [
      "/Users/kte/opt/anaconda3/envs/tensor/lib/python3.7/site-packages/sklearn/base.py:451: UserWarning: X does not have valid feature names, but IsolationForest was fitted with feature names\n",
      "  \"X does not have valid feature names, but\"\n"
     ]
    },
    {
     "name": "stdout",
     "output_type": "stream",
     "text": [
      "              precision    recall  f1-score   support\n",
      "\n",
      "           0       1.00      1.00      1.00     28432\n",
      "           1       0.67      0.60      0.63        30\n",
      "\n",
      "    accuracy                           1.00     28462\n",
      "   macro avg       0.83      0.80      0.82     28462\n",
      "weighted avg       1.00      1.00      1.00     28462\n",
      "\n",
      "0.8156048323280637\n",
      "selected ['V10', 'V14', 'V18', 'V15', 'V16', 'V7', 'V2', 'V25']\n",
      "tempcol ['V10', 'V14', 'V18', 'V15', 'V16', 'V7', 'V2', 'V25', 'V17']\n"
     ]
    },
    {
     "name": "stderr",
     "output_type": "stream",
     "text": [
      "/Users/kte/opt/anaconda3/envs/tensor/lib/python3.7/site-packages/sklearn/base.py:451: UserWarning: X does not have valid feature names, but IsolationForest was fitted with feature names\n",
      "  \"X does not have valid feature names, but\"\n"
     ]
    },
    {
     "name": "stdout",
     "output_type": "stream",
     "text": [
      "              precision    recall  f1-score   support\n",
      "\n",
      "           0       1.00      1.00      1.00     28432\n",
      "           1       0.75      0.60      0.67        30\n",
      "\n",
      "    accuracy                           1.00     28462\n",
      "   macro avg       0.87      0.80      0.83     28462\n",
      "weighted avg       1.00      1.00      1.00     28462\n",
      "\n",
      "0.8331750776625051\n",
      "selected ['V10', 'V14', 'V18', 'V15', 'V16', 'V7', 'V2', 'V25']\n",
      "tempcol ['V10', 'V14', 'V18', 'V15', 'V16', 'V7', 'V2', 'V25', 'V19']\n"
     ]
    },
    {
     "name": "stderr",
     "output_type": "stream",
     "text": [
      "/Users/kte/opt/anaconda3/envs/tensor/lib/python3.7/site-packages/sklearn/base.py:451: UserWarning: X does not have valid feature names, but IsolationForest was fitted with feature names\n",
      "  \"X does not have valid feature names, but\"\n"
     ]
    },
    {
     "name": "stdout",
     "output_type": "stream",
     "text": [
      "              precision    recall  f1-score   support\n",
      "\n",
      "           0       1.00      1.00      1.00     28432\n",
      "           1       0.62      0.60      0.61        30\n",
      "\n",
      "    accuracy                           1.00     28462\n",
      "   macro avg       0.81      0.80      0.80     28462\n",
      "weighted avg       1.00      1.00      1.00     28462\n",
      "\n",
      "0.8048825124030003\n",
      "selected ['V10', 'V14', 'V18', 'V15', 'V16', 'V7', 'V2', 'V25']\n",
      "tempcol ['V10', 'V14', 'V18', 'V15', 'V16', 'V7', 'V2', 'V25', 'V20']\n"
     ]
    },
    {
     "name": "stderr",
     "output_type": "stream",
     "text": [
      "/Users/kte/opt/anaconda3/envs/tensor/lib/python3.7/site-packages/sklearn/base.py:451: UserWarning: X does not have valid feature names, but IsolationForest was fitted with feature names\n",
      "  \"X does not have valid feature names, but\"\n"
     ]
    },
    {
     "name": "stdout",
     "output_type": "stream",
     "text": [
      "              precision    recall  f1-score   support\n",
      "\n",
      "           0       1.00      1.00      1.00     28432\n",
      "           1       0.63      0.57      0.60        30\n",
      "\n",
      "    accuracy                           1.00     28462\n",
      "   macro avg       0.81      0.78      0.80     28462\n",
      "weighted avg       1.00      1.00      1.00     28462\n",
      "\n",
      "0.7980433877878794\n",
      "selected ['V10', 'V14', 'V18', 'V15', 'V16', 'V7', 'V2', 'V25']\n",
      "tempcol ['V10', 'V14', 'V18', 'V15', 'V16', 'V7', 'V2', 'V25', 'V23']\n"
     ]
    },
    {
     "name": "stderr",
     "output_type": "stream",
     "text": [
      "/Users/kte/opt/anaconda3/envs/tensor/lib/python3.7/site-packages/sklearn/base.py:451: UserWarning: X does not have valid feature names, but IsolationForest was fitted with feature names\n",
      "  \"X does not have valid feature names, but\"\n"
     ]
    },
    {
     "name": "stdout",
     "output_type": "stream",
     "text": [
      "              precision    recall  f1-score   support\n",
      "\n",
      "           0       1.00      1.00      1.00     28432\n",
      "           1       0.65      0.57      0.61        30\n",
      "\n",
      "    accuracy                           1.00     28462\n",
      "   macro avg       0.83      0.78      0.80     28462\n",
      "weighted avg       1.00      1.00      1.00     28462\n",
      "\n",
      "0.8033779981712035\n",
      "selected ['V10', 'V14', 'V18', 'V15', 'V16', 'V7', 'V2', 'V25']\n",
      "tempcol ['V10', 'V14', 'V18', 'V15', 'V16', 'V7', 'V2', 'V25', 'V24']\n"
     ]
    },
    {
     "name": "stderr",
     "output_type": "stream",
     "text": [
      "/Users/kte/opt/anaconda3/envs/tensor/lib/python3.7/site-packages/sklearn/base.py:451: UserWarning: X does not have valid feature names, but IsolationForest was fitted with feature names\n",
      "  \"X does not have valid feature names, but\"\n"
     ]
    },
    {
     "name": "stdout",
     "output_type": "stream",
     "text": [
      "              precision    recall  f1-score   support\n",
      "\n",
      "           0       1.00      1.00      1.00     28432\n",
      "           1       0.74      0.57      0.64        30\n",
      "\n",
      "    accuracy                           1.00     28462\n",
      "   macro avg       0.87      0.78      0.82     28462\n",
      "weighted avg       1.00      1.00      1.00     28462\n",
      "\n",
      "0.8205876722658993\n",
      "selected ['V10', 'V14', 'V18', 'V15', 'V16', 'V7', 'V2', 'V25']\n",
      "tempcol ['V10', 'V14', 'V18', 'V15', 'V16', 'V7', 'V2', 'V25', 'V28']\n"
     ]
    },
    {
     "name": "stderr",
     "output_type": "stream",
     "text": [
      "/Users/kte/opt/anaconda3/envs/tensor/lib/python3.7/site-packages/sklearn/base.py:451: UserWarning: X does not have valid feature names, but IsolationForest was fitted with feature names\n",
      "  \"X does not have valid feature names, but\"\n"
     ]
    },
    {
     "name": "stdout",
     "output_type": "stream",
     "text": [
      "              precision    recall  f1-score   support\n",
      "\n",
      "           0       1.00      1.00      1.00     28432\n",
      "           1       0.65      0.57      0.61        30\n",
      "\n",
      "    accuracy                           1.00     28462\n",
      "   macro avg       0.83      0.78      0.80     28462\n",
      "weighted avg       1.00      1.00      1.00     28462\n",
      "\n",
      "0.8033779981712035\n",
      "추가\n",
      "count : 145 번\n",
      "selected ['V10', 'V14', 'V18', 'V15', 'V16', 'V7', 'V2', 'V25', 'V17']\n",
      "tempcol ['V10', 'V14', 'V18', 'V15', 'V16', 'V7', 'V2', 'V25', 'V17', 'V3']\n"
     ]
    },
    {
     "name": "stderr",
     "output_type": "stream",
     "text": [
      "/Users/kte/opt/anaconda3/envs/tensor/lib/python3.7/site-packages/sklearn/base.py:451: UserWarning: X does not have valid feature names, but IsolationForest was fitted with feature names\n",
      "  \"X does not have valid feature names, but\"\n"
     ]
    },
    {
     "name": "stdout",
     "output_type": "stream",
     "text": [
      "              precision    recall  f1-score   support\n",
      "\n",
      "           0       1.00      1.00      1.00     28432\n",
      "           1       0.67      0.60      0.63        30\n",
      "\n",
      "    accuracy                           1.00     28462\n",
      "   macro avg       0.83      0.80      0.82     28462\n",
      "weighted avg       1.00      1.00      1.00     28462\n",
      "\n",
      "0.8156048323280637\n",
      "selected ['V10', 'V14', 'V18', 'V15', 'V16', 'V7', 'V2', 'V25', 'V17']\n",
      "tempcol ['V10', 'V14', 'V18', 'V15', 'V16', 'V7', 'V2', 'V25', 'V17', 'V6']\n"
     ]
    },
    {
     "name": "stderr",
     "output_type": "stream",
     "text": [
      "/Users/kte/opt/anaconda3/envs/tensor/lib/python3.7/site-packages/sklearn/base.py:451: UserWarning: X does not have valid feature names, but IsolationForest was fitted with feature names\n",
      "  \"X does not have valid feature names, but\"\n"
     ]
    },
    {
     "name": "stdout",
     "output_type": "stream",
     "text": [
      "              precision    recall  f1-score   support\n",
      "\n",
      "           0       1.00      1.00      1.00     28432\n",
      "           1       0.61      0.57      0.59        30\n",
      "\n",
      "    accuracy                           1.00     28462\n",
      "   macro avg       0.80      0.78      0.79     28462\n",
      "weighted avg       1.00      1.00      1.00     28462\n",
      "\n",
      "0.7928924258723169\n",
      "selected ['V10', 'V14', 'V18', 'V15', 'V16', 'V7', 'V2', 'V25', 'V17']\n",
      "tempcol ['V10', 'V14', 'V18', 'V15', 'V16', 'V7', 'V2', 'V25', 'V17', 'V9']\n"
     ]
    },
    {
     "name": "stderr",
     "output_type": "stream",
     "text": [
      "/Users/kte/opt/anaconda3/envs/tensor/lib/python3.7/site-packages/sklearn/base.py:451: UserWarning: X does not have valid feature names, but IsolationForest was fitted with feature names\n",
      "  \"X does not have valid feature names, but\"\n"
     ]
    },
    {
     "name": "stdout",
     "output_type": "stream",
     "text": [
      "              precision    recall  f1-score   support\n",
      "\n",
      "           0       1.00      1.00      1.00     28432\n",
      "           1       0.68      0.57      0.62        30\n",
      "\n",
      "    accuracy                           1.00     28462\n",
      "   macro avg       0.84      0.78      0.81     28462\n",
      "weighted avg       1.00      1.00      1.00     28462\n",
      "\n",
      "0.8089062742283302\n",
      "selected ['V10', 'V14', 'V18', 'V15', 'V16', 'V7', 'V2', 'V25', 'V17']\n",
      "tempcol ['V10', 'V14', 'V18', 'V15', 'V16', 'V7', 'V2', 'V25', 'V17', 'V11']\n"
     ]
    },
    {
     "name": "stderr",
     "output_type": "stream",
     "text": [
      "/Users/kte/opt/anaconda3/envs/tensor/lib/python3.7/site-packages/sklearn/base.py:451: UserWarning: X does not have valid feature names, but IsolationForest was fitted with feature names\n",
      "  \"X does not have valid feature names, but\"\n"
     ]
    },
    {
     "name": "stdout",
     "output_type": "stream",
     "text": [
      "              precision    recall  f1-score   support\n",
      "\n",
      "           0       1.00      1.00      1.00     28432\n",
      "           1       0.71      0.57      0.63        30\n",
      "\n",
      "    accuracy                           1.00     28462\n",
      "   macro avg       0.85      0.78      0.81     28462\n",
      "weighted avg       1.00      1.00      1.00     28462\n",
      "\n",
      "0.8146389751805612\n",
      "selected ['V10', 'V14', 'V18', 'V15', 'V16', 'V7', 'V2', 'V25', 'V17']\n",
      "tempcol ['V10', 'V14', 'V18', 'V15', 'V16', 'V7', 'V2', 'V25', 'V17', 'V12']\n"
     ]
    },
    {
     "name": "stderr",
     "output_type": "stream",
     "text": [
      "/Users/kte/opt/anaconda3/envs/tensor/lib/python3.7/site-packages/sklearn/base.py:451: UserWarning: X does not have valid feature names, but IsolationForest was fitted with feature names\n",
      "  \"X does not have valid feature names, but\"\n"
     ]
    },
    {
     "name": "stdout",
     "output_type": "stream",
     "text": [
      "              precision    recall  f1-score   support\n",
      "\n",
      "           0       1.00      1.00      1.00     28432\n",
      "           1       0.74      0.57      0.64        30\n",
      "\n",
      "    accuracy                           1.00     28462\n",
      "   macro avg       0.87      0.78      0.82     28462\n",
      "weighted avg       1.00      1.00      1.00     28462\n",
      "\n",
      "0.8205876722658993\n",
      "selected ['V10', 'V14', 'V18', 'V15', 'V16', 'V7', 'V2', 'V25', 'V17']\n",
      "tempcol ['V10', 'V14', 'V18', 'V15', 'V16', 'V7', 'V2', 'V25', 'V17', 'V13']\n"
     ]
    },
    {
     "name": "stderr",
     "output_type": "stream",
     "text": [
      "/Users/kte/opt/anaconda3/envs/tensor/lib/python3.7/site-packages/sklearn/base.py:451: UserWarning: X does not have valid feature names, but IsolationForest was fitted with feature names\n",
      "  \"X does not have valid feature names, but\"\n"
     ]
    },
    {
     "name": "stdout",
     "output_type": "stream",
     "text": [
      "              precision    recall  f1-score   support\n",
      "\n",
      "           0       1.00      1.00      1.00     28432\n",
      "           1       0.70      0.63      0.67        30\n",
      "\n",
      "    accuracy                           1.00     28462\n",
      "   macro avg       0.85      0.82      0.83     28462\n",
      "weighted avg       1.00      1.00      1.00     28462\n",
      "\n",
      "0.8331662768682482\n",
      "selected ['V10', 'V14', 'V18', 'V15', 'V16', 'V7', 'V2', 'V25', 'V17']\n",
      "tempcol ['V10', 'V14', 'V18', 'V15', 'V16', 'V7', 'V2', 'V25', 'V17', 'V19']\n"
     ]
    },
    {
     "name": "stderr",
     "output_type": "stream",
     "text": [
      "/Users/kte/opt/anaconda3/envs/tensor/lib/python3.7/site-packages/sklearn/base.py:451: UserWarning: X does not have valid feature names, but IsolationForest was fitted with feature names\n",
      "  \"X does not have valid feature names, but\"\n"
     ]
    },
    {
     "name": "stdout",
     "output_type": "stream",
     "text": [
      "              precision    recall  f1-score   support\n",
      "\n",
      "           0       1.00      1.00      1.00     28432\n",
      "           1       0.63      0.57      0.60        30\n",
      "\n",
      "    accuracy                           1.00     28462\n",
      "   macro avg       0.81      0.78      0.80     28462\n",
      "weighted avg       1.00      1.00      1.00     28462\n",
      "\n",
      "0.7980433877878794\n",
      "selected ['V10', 'V14', 'V18', 'V15', 'V16', 'V7', 'V2', 'V25', 'V17']\n",
      "tempcol ['V10', 'V14', 'V18', 'V15', 'V16', 'V7', 'V2', 'V25', 'V17', 'V20']\n"
     ]
    },
    {
     "name": "stderr",
     "output_type": "stream",
     "text": [
      "/Users/kte/opt/anaconda3/envs/tensor/lib/python3.7/site-packages/sklearn/base.py:451: UserWarning: X does not have valid feature names, but IsolationForest was fitted with feature names\n",
      "  \"X does not have valid feature names, but\"\n"
     ]
    },
    {
     "name": "stdout",
     "output_type": "stream",
     "text": [
      "              precision    recall  f1-score   support\n",
      "\n",
      "           0       1.00      1.00      1.00     28432\n",
      "           1       0.63      0.57      0.60        30\n",
      "\n",
      "    accuracy                           1.00     28462\n",
      "   macro avg       0.81      0.78      0.80     28462\n",
      "weighted avg       1.00      1.00      1.00     28462\n",
      "\n",
      "0.7980433877878794\n",
      "selected ['V10', 'V14', 'V18', 'V15', 'V16', 'V7', 'V2', 'V25', 'V17']\n",
      "tempcol ['V10', 'V14', 'V18', 'V15', 'V16', 'V7', 'V2', 'V25', 'V17', 'V23']\n"
     ]
    },
    {
     "name": "stderr",
     "output_type": "stream",
     "text": [
      "/Users/kte/opt/anaconda3/envs/tensor/lib/python3.7/site-packages/sklearn/base.py:451: UserWarning: X does not have valid feature names, but IsolationForest was fitted with feature names\n",
      "  \"X does not have valid feature names, but\"\n"
     ]
    },
    {
     "name": "stdout",
     "output_type": "stream",
     "text": [
      "              precision    recall  f1-score   support\n",
      "\n",
      "           0       1.00      1.00      1.00     28432\n",
      "           1       0.69      0.60      0.64        30\n",
      "\n",
      "    accuracy                           1.00     28462\n",
      "   macro avg       0.85      0.80      0.82     28462\n",
      "weighted avg       1.00      1.00      1.00     28462\n",
      "\n",
      "0.8212527256101849\n",
      "selected ['V10', 'V14', 'V18', 'V15', 'V16', 'V7', 'V2', 'V25', 'V17']\n",
      "tempcol ['V10', 'V14', 'V18', 'V15', 'V16', 'V7', 'V2', 'V25', 'V17', 'V24']\n"
     ]
    },
    {
     "name": "stderr",
     "output_type": "stream",
     "text": [
      "/Users/kte/opt/anaconda3/envs/tensor/lib/python3.7/site-packages/sklearn/base.py:451: UserWarning: X does not have valid feature names, but IsolationForest was fitted with feature names\n",
      "  \"X does not have valid feature names, but\"\n"
     ]
    },
    {
     "name": "stdout",
     "output_type": "stream",
     "text": [
      "              precision    recall  f1-score   support\n",
      "\n",
      "           0       1.00      1.00      1.00     28432\n",
      "           1       0.71      0.57      0.63        30\n",
      "\n",
      "    accuracy                           1.00     28462\n",
      "   macro avg       0.85      0.78      0.81     28462\n",
      "weighted avg       1.00      1.00      1.00     28462\n",
      "\n",
      "0.8146389751805612\n",
      "selected ['V10', 'V14', 'V18', 'V15', 'V16', 'V7', 'V2', 'V25', 'V17']\n",
      "tempcol ['V10', 'V14', 'V18', 'V15', 'V16', 'V7', 'V2', 'V25', 'V17', 'V28']\n"
     ]
    },
    {
     "name": "stderr",
     "output_type": "stream",
     "text": [
      "/Users/kte/opt/anaconda3/envs/tensor/lib/python3.7/site-packages/sklearn/base.py:451: UserWarning: X does not have valid feature names, but IsolationForest was fitted with feature names\n",
      "  \"X does not have valid feature names, but\"\n"
     ]
    },
    {
     "name": "stdout",
     "output_type": "stream",
     "text": [
      "              precision    recall  f1-score   support\n",
      "\n",
      "           0       1.00      1.00      1.00     28432\n",
      "           1       0.69      0.60      0.64        30\n",
      "\n",
      "    accuracy                           1.00     28462\n",
      "   macro avg       0.85      0.80      0.82     28462\n",
      "weighted avg       1.00      1.00      1.00     28462\n",
      "\n",
      "0.8212527256101849\n",
      "추가\n",
      "count : 156 번\n",
      "selected ['V10', 'V14', 'V18', 'V15', 'V16', 'V7', 'V2', 'V25', 'V17', 'V13']\n",
      "tempcol ['V10', 'V14', 'V18', 'V15', 'V16', 'V7', 'V2', 'V25', 'V17', 'V13', 'V3']\n"
     ]
    },
    {
     "name": "stderr",
     "output_type": "stream",
     "text": [
      "/Users/kte/opt/anaconda3/envs/tensor/lib/python3.7/site-packages/sklearn/base.py:451: UserWarning: X does not have valid feature names, but IsolationForest was fitted with feature names\n",
      "  \"X does not have valid feature names, but\"\n"
     ]
    },
    {
     "name": "stdout",
     "output_type": "stream",
     "text": [
      "              precision    recall  f1-score   support\n",
      "\n",
      "           0       1.00      1.00      1.00     28432\n",
      "           1       0.59      0.57      0.58        30\n",
      "\n",
      "    accuracy                           1.00     28462\n",
      "   macro avg       0.79      0.78      0.79     28462\n",
      "weighted avg       1.00      1.00      1.00     28462\n",
      "\n",
      "0.7879157743510873\n",
      "selected ['V10', 'V14', 'V18', 'V15', 'V16', 'V7', 'V2', 'V25', 'V17', 'V13']\n",
      "tempcol ['V10', 'V14', 'V18', 'V15', 'V16', 'V7', 'V2', 'V25', 'V17', 'V13', 'V6']\n"
     ]
    },
    {
     "name": "stderr",
     "output_type": "stream",
     "text": [
      "/Users/kte/opt/anaconda3/envs/tensor/lib/python3.7/site-packages/sklearn/base.py:451: UserWarning: X does not have valid feature names, but IsolationForest was fitted with feature names\n",
      "  \"X does not have valid feature names, but\"\n"
     ]
    },
    {
     "name": "stdout",
     "output_type": "stream",
     "text": [
      "              precision    recall  f1-score   support\n",
      "\n",
      "           0       1.00      1.00      1.00     28432\n",
      "           1       0.71      0.57      0.63        30\n",
      "\n",
      "    accuracy                           1.00     28462\n",
      "   macro avg       0.85      0.78      0.81     28462\n",
      "weighted avg       1.00      1.00      1.00     28462\n",
      "\n",
      "0.8146389751805612\n",
      "selected ['V10', 'V14', 'V18', 'V15', 'V16', 'V7', 'V2', 'V25', 'V17', 'V13']\n",
      "tempcol ['V10', 'V14', 'V18', 'V15', 'V16', 'V7', 'V2', 'V25', 'V17', 'V13', 'V9']\n"
     ]
    },
    {
     "name": "stderr",
     "output_type": "stream",
     "text": [
      "/Users/kte/opt/anaconda3/envs/tensor/lib/python3.7/site-packages/sklearn/base.py:451: UserWarning: X does not have valid feature names, but IsolationForest was fitted with feature names\n",
      "  \"X does not have valid feature names, but\"\n"
     ]
    },
    {
     "name": "stdout",
     "output_type": "stream",
     "text": [
      "              precision    recall  f1-score   support\n",
      "\n",
      "           0       1.00      1.00      1.00     28432\n",
      "           1       0.65      0.57      0.61        30\n",
      "\n",
      "    accuracy                           1.00     28462\n",
      "   macro avg       0.83      0.78      0.80     28462\n",
      "weighted avg       1.00      1.00      1.00     28462\n",
      "\n",
      "0.8033779981712035\n",
      "selected ['V10', 'V14', 'V18', 'V15', 'V16', 'V7', 'V2', 'V25', 'V17', 'V13']\n",
      "tempcol ['V10', 'V14', 'V18', 'V15', 'V16', 'V7', 'V2', 'V25', 'V17', 'V13', 'V11']\n"
     ]
    },
    {
     "name": "stderr",
     "output_type": "stream",
     "text": [
      "/Users/kte/opt/anaconda3/envs/tensor/lib/python3.7/site-packages/sklearn/base.py:451: UserWarning: X does not have valid feature names, but IsolationForest was fitted with feature names\n",
      "  \"X does not have valid feature names, but\"\n"
     ]
    },
    {
     "name": "stdout",
     "output_type": "stream",
     "text": [
      "              precision    recall  f1-score   support\n",
      "\n",
      "           0       1.00      1.00      1.00     28432\n",
      "           1       0.65      0.57      0.61        30\n",
      "\n",
      "    accuracy                           1.00     28462\n",
      "   macro avg       0.83      0.78      0.80     28462\n",
      "weighted avg       1.00      1.00      1.00     28462\n",
      "\n",
      "0.8033779981712035\n",
      "selected ['V10', 'V14', 'V18', 'V15', 'V16', 'V7', 'V2', 'V25', 'V17', 'V13']\n",
      "tempcol ['V10', 'V14', 'V18', 'V15', 'V16', 'V7', 'V2', 'V25', 'V17', 'V13', 'V12']\n"
     ]
    },
    {
     "name": "stderr",
     "output_type": "stream",
     "text": [
      "/Users/kte/opt/anaconda3/envs/tensor/lib/python3.7/site-packages/sklearn/base.py:451: UserWarning: X does not have valid feature names, but IsolationForest was fitted with feature names\n",
      "  \"X does not have valid feature names, but\"\n"
     ]
    },
    {
     "name": "stdout",
     "output_type": "stream",
     "text": [
      "              precision    recall  f1-score   support\n",
      "\n",
      "           0       1.00      1.00      1.00     28432\n",
      "           1       0.77      0.57      0.65        30\n",
      "\n",
      "    accuracy                           1.00     28462\n",
      "   macro avg       0.89      0.78      0.83     28462\n",
      "weighted avg       1.00      1.00      1.00     28462\n",
      "\n",
      "0.8267648268175769\n",
      "selected ['V10', 'V14', 'V18', 'V15', 'V16', 'V7', 'V2', 'V25', 'V17', 'V13']\n",
      "tempcol ['V10', 'V14', 'V18', 'V15', 'V16', 'V7', 'V2', 'V25', 'V17', 'V13', 'V19']\n"
     ]
    },
    {
     "name": "stderr",
     "output_type": "stream",
     "text": [
      "/Users/kte/opt/anaconda3/envs/tensor/lib/python3.7/site-packages/sklearn/base.py:451: UserWarning: X does not have valid feature names, but IsolationForest was fitted with feature names\n",
      "  \"X does not have valid feature names, but\"\n"
     ]
    },
    {
     "name": "stdout",
     "output_type": "stream",
     "text": [
      "              precision    recall  f1-score   support\n",
      "\n",
      "           0       1.00      1.00      1.00     28432\n",
      "           1       0.64      0.60      0.62        30\n",
      "\n",
      "    accuracy                           1.00     28462\n",
      "   macro avg       0.82      0.80      0.81     28462\n",
      "weighted avg       1.00      1.00      1.00     28462\n",
      "\n",
      "0.8101513903829571\n",
      "selected ['V10', 'V14', 'V18', 'V15', 'V16', 'V7', 'V2', 'V25', 'V17', 'V13']\n",
      "tempcol ['V10', 'V14', 'V18', 'V15', 'V16', 'V7', 'V2', 'V25', 'V17', 'V13', 'V20']\n"
     ]
    },
    {
     "name": "stderr",
     "output_type": "stream",
     "text": [
      "/Users/kte/opt/anaconda3/envs/tensor/lib/python3.7/site-packages/sklearn/base.py:451: UserWarning: X does not have valid feature names, but IsolationForest was fitted with feature names\n",
      "  \"X does not have valid feature names, but\"\n"
     ]
    },
    {
     "name": "stdout",
     "output_type": "stream",
     "text": [
      "              precision    recall  f1-score   support\n",
      "\n",
      "           0       1.00      1.00      1.00     28432\n",
      "           1       0.68      0.57      0.62        30\n",
      "\n",
      "    accuracy                           1.00     28462\n",
      "   macro avg       0.84      0.78      0.81     28462\n",
      "weighted avg       1.00      1.00      1.00     28462\n",
      "\n",
      "0.8089062742283302\n",
      "selected ['V10', 'V14', 'V18', 'V15', 'V16', 'V7', 'V2', 'V25', 'V17', 'V13']\n",
      "tempcol ['V10', 'V14', 'V18', 'V15', 'V16', 'V7', 'V2', 'V25', 'V17', 'V13', 'V23']\n"
     ]
    },
    {
     "name": "stderr",
     "output_type": "stream",
     "text": [
      "/Users/kte/opt/anaconda3/envs/tensor/lib/python3.7/site-packages/sklearn/base.py:451: UserWarning: X does not have valid feature names, but IsolationForest was fitted with feature names\n",
      "  \"X does not have valid feature names, but\"\n"
     ]
    },
    {
     "name": "stdout",
     "output_type": "stream",
     "text": [
      "              precision    recall  f1-score   support\n",
      "\n",
      "           0       1.00      1.00      1.00     28432\n",
      "           1       0.68      0.57      0.62        30\n",
      "\n",
      "    accuracy                           1.00     28462\n",
      "   macro avg       0.84      0.78      0.81     28462\n",
      "weighted avg       1.00      1.00      1.00     28462\n",
      "\n",
      "0.8089062742283302\n",
      "selected ['V10', 'V14', 'V18', 'V15', 'V16', 'V7', 'V2', 'V25', 'V17', 'V13']\n",
      "tempcol ['V10', 'V14', 'V18', 'V15', 'V16', 'V7', 'V2', 'V25', 'V17', 'V13', 'V24']\n"
     ]
    },
    {
     "name": "stderr",
     "output_type": "stream",
     "text": [
      "/Users/kte/opt/anaconda3/envs/tensor/lib/python3.7/site-packages/sklearn/base.py:451: UserWarning: X does not have valid feature names, but IsolationForest was fitted with feature names\n",
      "  \"X does not have valid feature names, but\"\n"
     ]
    },
    {
     "name": "stdout",
     "output_type": "stream",
     "text": [
      "              precision    recall  f1-score   support\n",
      "\n",
      "           0       1.00      1.00      1.00     28432\n",
      "           1       0.72      0.60      0.65        30\n",
      "\n",
      "    accuracy                           1.00     28462\n",
      "   macro avg       0.86      0.80      0.83     28462\n",
      "weighted avg       1.00      1.00      1.00     28462\n",
      "\n",
      "0.8271056766827749\n",
      "selected ['V10', 'V14', 'V18', 'V15', 'V16', 'V7', 'V2', 'V25', 'V17', 'V13']\n",
      "tempcol ['V10', 'V14', 'V18', 'V15', 'V16', 'V7', 'V2', 'V25', 'V17', 'V13', 'V28']\n"
     ]
    },
    {
     "name": "stderr",
     "output_type": "stream",
     "text": [
      "/Users/kte/opt/anaconda3/envs/tensor/lib/python3.7/site-packages/sklearn/base.py:451: UserWarning: X does not have valid feature names, but IsolationForest was fitted with feature names\n",
      "  \"X does not have valid feature names, but\"\n"
     ]
    },
    {
     "name": "stdout",
     "output_type": "stream",
     "text": [
      "              precision    recall  f1-score   support\n",
      "\n",
      "           0       1.00      1.00      1.00     28432\n",
      "           1       0.62      0.60      0.61        30\n",
      "\n",
      "    accuracy                           1.00     28462\n",
      "   macro avg       0.81      0.80      0.80     28462\n",
      "weighted avg       1.00      1.00      1.00     28462\n",
      "\n",
      "0.8048825124030003\n",
      "추가\n",
      "count : 166 번\n",
      "selected ['V10', 'V14', 'V18', 'V15', 'V16', 'V7', 'V2', 'V25', 'V17', 'V13', 'V24']\n",
      "tempcol ['V10', 'V14', 'V18', 'V15', 'V16', 'V7', 'V2', 'V25', 'V17', 'V13', 'V24', 'V3']\n"
     ]
    },
    {
     "name": "stderr",
     "output_type": "stream",
     "text": [
      "/Users/kte/opt/anaconda3/envs/tensor/lib/python3.7/site-packages/sklearn/base.py:451: UserWarning: X does not have valid feature names, but IsolationForest was fitted with feature names\n",
      "  \"X does not have valid feature names, but\"\n"
     ]
    },
    {
     "name": "stdout",
     "output_type": "stream",
     "text": [
      "              precision    recall  f1-score   support\n",
      "\n",
      "           0       1.00      1.00      1.00     28432\n",
      "           1       0.59      0.57      0.58        30\n",
      "\n",
      "    accuracy                           1.00     28462\n",
      "   macro avg       0.79      0.78      0.79     28462\n",
      "weighted avg       1.00      1.00      1.00     28462\n",
      "\n",
      "0.7879157743510873\n",
      "selected ['V10', 'V14', 'V18', 'V15', 'V16', 'V7', 'V2', 'V25', 'V17', 'V13', 'V24']\n",
      "tempcol ['V10', 'V14', 'V18', 'V15', 'V16', 'V7', 'V2', 'V25', 'V17', 'V13', 'V24', 'V6']\n"
     ]
    },
    {
     "name": "stderr",
     "output_type": "stream",
     "text": [
      "/Users/kte/opt/anaconda3/envs/tensor/lib/python3.7/site-packages/sklearn/base.py:451: UserWarning: X does not have valid feature names, but IsolationForest was fitted with feature names\n",
      "  \"X does not have valid feature names, but\"\n"
     ]
    },
    {
     "name": "stdout",
     "output_type": "stream",
     "text": [
      "              precision    recall  f1-score   support\n",
      "\n",
      "           0       1.00      1.00      1.00     28432\n",
      "           1       0.67      0.60      0.63        30\n",
      "\n",
      "    accuracy                           1.00     28462\n",
      "   macro avg       0.83      0.80      0.82     28462\n",
      "weighted avg       1.00      1.00      1.00     28462\n",
      "\n",
      "0.8156048323280637\n",
      "selected ['V10', 'V14', 'V18', 'V15', 'V16', 'V7', 'V2', 'V25', 'V17', 'V13', 'V24']\n",
      "tempcol ['V10', 'V14', 'V18', 'V15', 'V16', 'V7', 'V2', 'V25', 'V17', 'V13', 'V24', 'V9']\n"
     ]
    },
    {
     "name": "stderr",
     "output_type": "stream",
     "text": [
      "/Users/kte/opt/anaconda3/envs/tensor/lib/python3.7/site-packages/sklearn/base.py:451: UserWarning: X does not have valid feature names, but IsolationForest was fitted with feature names\n",
      "  \"X does not have valid feature names, but\"\n"
     ]
    },
    {
     "name": "stdout",
     "output_type": "stream",
     "text": [
      "              precision    recall  f1-score   support\n",
      "\n",
      "           0       1.00      1.00      1.00     28432\n",
      "           1       0.69      0.60      0.64        30\n",
      "\n",
      "    accuracy                           1.00     28462\n",
      "   macro avg       0.85      0.80      0.82     28462\n",
      "weighted avg       1.00      1.00      1.00     28462\n",
      "\n",
      "0.8212527256101849\n",
      "selected ['V10', 'V14', 'V18', 'V15', 'V16', 'V7', 'V2', 'V25', 'V17', 'V13', 'V24']\n",
      "tempcol ['V10', 'V14', 'V18', 'V15', 'V16', 'V7', 'V2', 'V25', 'V17', 'V13', 'V24', 'V11']\n"
     ]
    },
    {
     "name": "stderr",
     "output_type": "stream",
     "text": [
      "/Users/kte/opt/anaconda3/envs/tensor/lib/python3.7/site-packages/sklearn/base.py:451: UserWarning: X does not have valid feature names, but IsolationForest was fitted with feature names\n",
      "  \"X does not have valid feature names, but\"\n"
     ]
    },
    {
     "name": "stdout",
     "output_type": "stream",
     "text": [
      "              precision    recall  f1-score   support\n",
      "\n",
      "           0       1.00      1.00      1.00     28432\n",
      "           1       0.72      0.60      0.65        30\n",
      "\n",
      "    accuracy                           1.00     28462\n",
      "   macro avg       0.86      0.80      0.83     28462\n",
      "weighted avg       1.00      1.00      1.00     28462\n",
      "\n",
      "0.8271056766827749\n",
      "selected ['V10', 'V14', 'V18', 'V15', 'V16', 'V7', 'V2', 'V25', 'V17', 'V13', 'V24']\n",
      "tempcol ['V10', 'V14', 'V18', 'V15', 'V16', 'V7', 'V2', 'V25', 'V17', 'V13', 'V24', 'V12']\n"
     ]
    },
    {
     "name": "stderr",
     "output_type": "stream",
     "text": [
      "/Users/kte/opt/anaconda3/envs/tensor/lib/python3.7/site-packages/sklearn/base.py:451: UserWarning: X does not have valid feature names, but IsolationForest was fitted with feature names\n",
      "  \"X does not have valid feature names, but\"\n"
     ]
    },
    {
     "name": "stdout",
     "output_type": "stream",
     "text": [
      "              precision    recall  f1-score   support\n",
      "\n",
      "           0       1.00      1.00      1.00     28432\n",
      "           1       0.72      0.60      0.65        30\n",
      "\n",
      "    accuracy                           1.00     28462\n",
      "   macro avg       0.86      0.80      0.83     28462\n",
      "weighted avg       1.00      1.00      1.00     28462\n",
      "\n",
      "0.8271056766827749\n",
      "selected ['V10', 'V14', 'V18', 'V15', 'V16', 'V7', 'V2', 'V25', 'V17', 'V13', 'V24']\n",
      "tempcol ['V10', 'V14', 'V18', 'V15', 'V16', 'V7', 'V2', 'V25', 'V17', 'V13', 'V24', 'V19']\n"
     ]
    },
    {
     "name": "stderr",
     "output_type": "stream",
     "text": [
      "/Users/kte/opt/anaconda3/envs/tensor/lib/python3.7/site-packages/sklearn/base.py:451: UserWarning: X does not have valid feature names, but IsolationForest was fitted with feature names\n",
      "  \"X does not have valid feature names, but\"\n"
     ]
    },
    {
     "name": "stdout",
     "output_type": "stream",
     "text": [
      "              precision    recall  f1-score   support\n",
      "\n",
      "           0       1.00      1.00      1.00     28432\n",
      "           1       0.68      0.63      0.66        30\n",
      "\n",
      "    accuracy                           1.00     28462\n",
      "   macro avg       0.84      0.82      0.83     28462\n",
      "weighted avg       1.00      1.00      1.00     28462\n",
      "\n",
      "0.8274103548935974\n",
      "selected ['V10', 'V14', 'V18', 'V15', 'V16', 'V7', 'V2', 'V25', 'V17', 'V13', 'V24']\n",
      "tempcol ['V10', 'V14', 'V18', 'V15', 'V16', 'V7', 'V2', 'V25', 'V17', 'V13', 'V24', 'V20']\n"
     ]
    },
    {
     "name": "stderr",
     "output_type": "stream",
     "text": [
      "/Users/kte/opt/anaconda3/envs/tensor/lib/python3.7/site-packages/sklearn/base.py:451: UserWarning: X does not have valid feature names, but IsolationForest was fitted with feature names\n",
      "  \"X does not have valid feature names, but\"\n"
     ]
    },
    {
     "name": "stdout",
     "output_type": "stream",
     "text": [
      "              precision    recall  f1-score   support\n",
      "\n",
      "           0       1.00      1.00      1.00     28432\n",
      "           1       0.64      0.60      0.62        30\n",
      "\n",
      "    accuracy                           1.00     28462\n",
      "   macro avg       0.82      0.80      0.81     28462\n",
      "weighted avg       1.00      1.00      1.00     28462\n",
      "\n",
      "0.8101513903829571\n",
      "selected ['V10', 'V14', 'V18', 'V15', 'V16', 'V7', 'V2', 'V25', 'V17', 'V13', 'V24']\n",
      "tempcol ['V10', 'V14', 'V18', 'V15', 'V16', 'V7', 'V2', 'V25', 'V17', 'V13', 'V24', 'V23']\n"
     ]
    },
    {
     "name": "stderr",
     "output_type": "stream",
     "text": [
      "/Users/kte/opt/anaconda3/envs/tensor/lib/python3.7/site-packages/sklearn/base.py:451: UserWarning: X does not have valid feature names, but IsolationForest was fitted with feature names\n",
      "  \"X does not have valid feature names, but\"\n"
     ]
    },
    {
     "name": "stdout",
     "output_type": "stream",
     "text": [
      "              precision    recall  f1-score   support\n",
      "\n",
      "           0       1.00      1.00      1.00     28432\n",
      "           1       0.71      0.57      0.63        30\n",
      "\n",
      "    accuracy                           1.00     28462\n",
      "   macro avg       0.85      0.78      0.81     28462\n",
      "weighted avg       1.00      1.00      1.00     28462\n",
      "\n",
      "0.8146389751805612\n",
      "selected ['V10', 'V14', 'V18', 'V15', 'V16', 'V7', 'V2', 'V25', 'V17', 'V13', 'V24']\n",
      "tempcol ['V10', 'V14', 'V18', 'V15', 'V16', 'V7', 'V2', 'V25', 'V17', 'V13', 'V24', 'V28']\n"
     ]
    },
    {
     "name": "stderr",
     "output_type": "stream",
     "text": [
      "/Users/kte/opt/anaconda3/envs/tensor/lib/python3.7/site-packages/sklearn/base.py:451: UserWarning: X does not have valid feature names, but IsolationForest was fitted with feature names\n",
      "  \"X does not have valid feature names, but\"\n"
     ]
    },
    {
     "name": "stdout",
     "output_type": "stream",
     "text": [
      "              precision    recall  f1-score   support\n",
      "\n",
      "           0       1.00      1.00      1.00     28432\n",
      "           1       0.74      0.57      0.64        30\n",
      "\n",
      "    accuracy                           1.00     28462\n",
      "   macro avg       0.87      0.78      0.82     28462\n",
      "weighted avg       1.00      1.00      1.00     28462\n",
      "\n",
      "0.8205876722658993\n",
      "추가\n",
      "count : 175 번\n",
      "selected ['V10', 'V14', 'V18', 'V15', 'V16', 'V7', 'V2', 'V25', 'V17', 'V13', 'V24', 'V19']\n",
      "tempcol ['V10', 'V14', 'V18', 'V15', 'V16', 'V7', 'V2', 'V25', 'V17', 'V13', 'V24', 'V19', 'V3']\n"
     ]
    },
    {
     "name": "stderr",
     "output_type": "stream",
     "text": [
      "/Users/kte/opt/anaconda3/envs/tensor/lib/python3.7/site-packages/sklearn/base.py:451: UserWarning: X does not have valid feature names, but IsolationForest was fitted with feature names\n",
      "  \"X does not have valid feature names, but\"\n"
     ]
    },
    {
     "name": "stdout",
     "output_type": "stream",
     "text": [
      "              precision    recall  f1-score   support\n",
      "\n",
      "           0       1.00      1.00      1.00     28432\n",
      "           1       0.61      0.57      0.59        30\n",
      "\n",
      "    accuracy                           1.00     28462\n",
      "   macro avg       0.80      0.78      0.79     28462\n",
      "weighted avg       1.00      1.00      1.00     28462\n",
      "\n",
      "0.7928924258723169\n",
      "selected ['V10', 'V14', 'V18', 'V15', 'V16', 'V7', 'V2', 'V25', 'V17', 'V13', 'V24', 'V19']\n",
      "tempcol ['V10', 'V14', 'V18', 'V15', 'V16', 'V7', 'V2', 'V25', 'V17', 'V13', 'V24', 'V19', 'V6']\n"
     ]
    },
    {
     "name": "stderr",
     "output_type": "stream",
     "text": [
      "/Users/kte/opt/anaconda3/envs/tensor/lib/python3.7/site-packages/sklearn/base.py:451: UserWarning: X does not have valid feature names, but IsolationForest was fitted with feature names\n",
      "  \"X does not have valid feature names, but\"\n"
     ]
    },
    {
     "name": "stdout",
     "output_type": "stream",
     "text": [
      "              precision    recall  f1-score   support\n",
      "\n",
      "           0       1.00      1.00      1.00     28432\n",
      "           1       0.65      0.57      0.61        30\n",
      "\n",
      "    accuracy                           1.00     28462\n",
      "   macro avg       0.83      0.78      0.80     28462\n",
      "weighted avg       1.00      1.00      1.00     28462\n",
      "\n",
      "0.8033779981712035\n",
      "selected ['V10', 'V14', 'V18', 'V15', 'V16', 'V7', 'V2', 'V25', 'V17', 'V13', 'V24', 'V19']\n",
      "tempcol ['V10', 'V14', 'V18', 'V15', 'V16', 'V7', 'V2', 'V25', 'V17', 'V13', 'V24', 'V19', 'V9']\n"
     ]
    },
    {
     "name": "stderr",
     "output_type": "stream",
     "text": [
      "/Users/kte/opt/anaconda3/envs/tensor/lib/python3.7/site-packages/sklearn/base.py:451: UserWarning: X does not have valid feature names, but IsolationForest was fitted with feature names\n",
      "  \"X does not have valid feature names, but\"\n"
     ]
    },
    {
     "name": "stdout",
     "output_type": "stream",
     "text": [
      "              precision    recall  f1-score   support\n",
      "\n",
      "           0       1.00      1.00      1.00     28432\n",
      "           1       0.65      0.57      0.61        30\n",
      "\n",
      "    accuracy                           1.00     28462\n",
      "   macro avg       0.83      0.78      0.80     28462\n",
      "weighted avg       1.00      1.00      1.00     28462\n",
      "\n",
      "0.8033779981712035\n",
      "selected ['V10', 'V14', 'V18', 'V15', 'V16', 'V7', 'V2', 'V25', 'V17', 'V13', 'V24', 'V19']\n",
      "tempcol ['V10', 'V14', 'V18', 'V15', 'V16', 'V7', 'V2', 'V25', 'V17', 'V13', 'V24', 'V19', 'V11']\n"
     ]
    },
    {
     "name": "stderr",
     "output_type": "stream",
     "text": [
      "/Users/kte/opt/anaconda3/envs/tensor/lib/python3.7/site-packages/sklearn/base.py:451: UserWarning: X does not have valid feature names, but IsolationForest was fitted with feature names\n",
      "  \"X does not have valid feature names, but\"\n"
     ]
    },
    {
     "name": "stdout",
     "output_type": "stream",
     "text": [
      "              precision    recall  f1-score   support\n",
      "\n",
      "           0       1.00      1.00      1.00     28432\n",
      "           1       0.71      0.57      0.63        30\n",
      "\n",
      "    accuracy                           1.00     28462\n",
      "   macro avg       0.85      0.78      0.81     28462\n",
      "weighted avg       1.00      1.00      1.00     28462\n",
      "\n",
      "0.8146389751805612\n",
      "selected ['V10', 'V14', 'V18', 'V15', 'V16', 'V7', 'V2', 'V25', 'V17', 'V13', 'V24', 'V19']\n",
      "tempcol ['V10', 'V14', 'V18', 'V15', 'V16', 'V7', 'V2', 'V25', 'V17', 'V13', 'V24', 'V19', 'V12']\n"
     ]
    },
    {
     "name": "stderr",
     "output_type": "stream",
     "text": [
      "/Users/kte/opt/anaconda3/envs/tensor/lib/python3.7/site-packages/sklearn/base.py:451: UserWarning: X does not have valid feature names, but IsolationForest was fitted with feature names\n",
      "  \"X does not have valid feature names, but\"\n"
     ]
    },
    {
     "name": "stdout",
     "output_type": "stream",
     "text": [
      "              precision    recall  f1-score   support\n",
      "\n",
      "           0       1.00      1.00      1.00     28432\n",
      "           1       0.67      0.60      0.63        30\n",
      "\n",
      "    accuracy                           1.00     28462\n",
      "   macro avg       0.83      0.80      0.82     28462\n",
      "weighted avg       1.00      1.00      1.00     28462\n",
      "\n",
      "0.8156048323280637\n",
      "selected ['V10', 'V14', 'V18', 'V15', 'V16', 'V7', 'V2', 'V25', 'V17', 'V13', 'V24', 'V19']\n",
      "tempcol ['V10', 'V14', 'V18', 'V15', 'V16', 'V7', 'V2', 'V25', 'V17', 'V13', 'V24', 'V19', 'V20']\n"
     ]
    },
    {
     "name": "stderr",
     "output_type": "stream",
     "text": [
      "/Users/kte/opt/anaconda3/envs/tensor/lib/python3.7/site-packages/sklearn/base.py:451: UserWarning: X does not have valid feature names, but IsolationForest was fitted with feature names\n",
      "  \"X does not have valid feature names, but\"\n"
     ]
    },
    {
     "name": "stdout",
     "output_type": "stream",
     "text": [
      "              precision    recall  f1-score   support\n",
      "\n",
      "           0       1.00      1.00      1.00     28432\n",
      "           1       0.65      0.57      0.61        30\n",
      "\n",
      "    accuracy                           1.00     28462\n",
      "   macro avg       0.83      0.78      0.80     28462\n",
      "weighted avg       1.00      1.00      1.00     28462\n",
      "\n",
      "0.8033779981712035\n",
      "selected ['V10', 'V14', 'V18', 'V15', 'V16', 'V7', 'V2', 'V25', 'V17', 'V13', 'V24', 'V19']\n",
      "tempcol ['V10', 'V14', 'V18', 'V15', 'V16', 'V7', 'V2', 'V25', 'V17', 'V13', 'V24', 'V19', 'V23']\n"
     ]
    },
    {
     "name": "stderr",
     "output_type": "stream",
     "text": [
      "/Users/kte/opt/anaconda3/envs/tensor/lib/python3.7/site-packages/sklearn/base.py:451: UserWarning: X does not have valid feature names, but IsolationForest was fitted with feature names\n",
      "  \"X does not have valid feature names, but\"\n"
     ]
    },
    {
     "name": "stdout",
     "output_type": "stream",
     "text": [
      "              precision    recall  f1-score   support\n",
      "\n",
      "           0       1.00      1.00      1.00     28432\n",
      "           1       0.68      0.57      0.62        30\n",
      "\n",
      "    accuracy                           1.00     28462\n",
      "   macro avg       0.84      0.78      0.81     28462\n",
      "weighted avg       1.00      1.00      1.00     28462\n",
      "\n",
      "0.8089062742283302\n",
      "selected ['V10', 'V14', 'V18', 'V15', 'V16', 'V7', 'V2', 'V25', 'V17', 'V13', 'V24', 'V19']\n",
      "tempcol ['V10', 'V14', 'V18', 'V15', 'V16', 'V7', 'V2', 'V25', 'V17', 'V13', 'V24', 'V19', 'V28']\n"
     ]
    },
    {
     "name": "stderr",
     "output_type": "stream",
     "text": [
      "/Users/kte/opt/anaconda3/envs/tensor/lib/python3.7/site-packages/sklearn/base.py:451: UserWarning: X does not have valid feature names, but IsolationForest was fitted with feature names\n",
      "  \"X does not have valid feature names, but\"\n"
     ]
    },
    {
     "name": "stdout",
     "output_type": "stream",
     "text": [
      "              precision    recall  f1-score   support\n",
      "\n",
      "           0       1.00      1.00      1.00     28432\n",
      "           1       0.61      0.57      0.59        30\n",
      "\n",
      "    accuracy                           1.00     28462\n",
      "   macro avg       0.80      0.78      0.79     28462\n",
      "weighted avg       1.00      1.00      1.00     28462\n",
      "\n",
      "0.7928924258723169\n",
      "추가\n",
      "count : 183 번\n",
      "selected ['V10', 'V14', 'V18', 'V15', 'V16', 'V7', 'V2', 'V25', 'V17', 'V13', 'V24', 'V19', 'V12']\n",
      "tempcol ['V10', 'V14', 'V18', 'V15', 'V16', 'V7', 'V2', 'V25', 'V17', 'V13', 'V24', 'V19', 'V12', 'V3']\n"
     ]
    },
    {
     "name": "stderr",
     "output_type": "stream",
     "text": [
      "/Users/kte/opt/anaconda3/envs/tensor/lib/python3.7/site-packages/sklearn/base.py:451: UserWarning: X does not have valid feature names, but IsolationForest was fitted with feature names\n",
      "  \"X does not have valid feature names, but\"\n"
     ]
    },
    {
     "name": "stdout",
     "output_type": "stream",
     "text": [
      "              precision    recall  f1-score   support\n",
      "\n",
      "           0       1.00      1.00      1.00     28432\n",
      "           1       0.60      0.60      0.60        30\n",
      "\n",
      "    accuracy                           1.00     28462\n",
      "   macro avg       0.80      0.80      0.80     28462\n",
      "weighted avg       1.00      1.00      1.00     28462\n",
      "\n",
      "0.7997889701744514\n",
      "selected ['V10', 'V14', 'V18', 'V15', 'V16', 'V7', 'V2', 'V25', 'V17', 'V13', 'V24', 'V19', 'V12']\n",
      "tempcol ['V10', 'V14', 'V18', 'V15', 'V16', 'V7', 'V2', 'V25', 'V17', 'V13', 'V24', 'V19', 'V12', 'V6']\n"
     ]
    },
    {
     "name": "stderr",
     "output_type": "stream",
     "text": [
      "/Users/kte/opt/anaconda3/envs/tensor/lib/python3.7/site-packages/sklearn/base.py:451: UserWarning: X does not have valid feature names, but IsolationForest was fitted with feature names\n",
      "  \"X does not have valid feature names, but\"\n"
     ]
    },
    {
     "name": "stdout",
     "output_type": "stream",
     "text": [
      "              precision    recall  f1-score   support\n",
      "\n",
      "           0       1.00      1.00      1.00     28432\n",
      "           1       0.67      0.60      0.63        30\n",
      "\n",
      "    accuracy                           1.00     28462\n",
      "   macro avg       0.83      0.80      0.82     28462\n",
      "weighted avg       1.00      1.00      1.00     28462\n",
      "\n",
      "0.8156048323280637\n",
      "selected ['V10', 'V14', 'V18', 'V15', 'V16', 'V7', 'V2', 'V25', 'V17', 'V13', 'V24', 'V19', 'V12']\n",
      "tempcol ['V10', 'V14', 'V18', 'V15', 'V16', 'V7', 'V2', 'V25', 'V17', 'V13', 'V24', 'V19', 'V12', 'V9']\n"
     ]
    },
    {
     "name": "stderr",
     "output_type": "stream",
     "text": [
      "/Users/kte/opt/anaconda3/envs/tensor/lib/python3.7/site-packages/sklearn/base.py:451: UserWarning: X does not have valid feature names, but IsolationForest was fitted with feature names\n",
      "  \"X does not have valid feature names, but\"\n"
     ]
    },
    {
     "name": "stdout",
     "output_type": "stream",
     "text": [
      "              precision    recall  f1-score   support\n",
      "\n",
      "           0       1.00      1.00      1.00     28432\n",
      "           1       0.71      0.57      0.63        30\n",
      "\n",
      "    accuracy                           1.00     28462\n",
      "   macro avg       0.85      0.78      0.81     28462\n",
      "weighted avg       1.00      1.00      1.00     28462\n",
      "\n",
      "0.8146389751805612\n",
      "selected ['V10', 'V14', 'V18', 'V15', 'V16', 'V7', 'V2', 'V25', 'V17', 'V13', 'V24', 'V19', 'V12']\n",
      "tempcol ['V10', 'V14', 'V18', 'V15', 'V16', 'V7', 'V2', 'V25', 'V17', 'V13', 'V24', 'V19', 'V12', 'V11']\n"
     ]
    },
    {
     "name": "stderr",
     "output_type": "stream",
     "text": [
      "/Users/kte/opt/anaconda3/envs/tensor/lib/python3.7/site-packages/sklearn/base.py:451: UserWarning: X does not have valid feature names, but IsolationForest was fitted with feature names\n",
      "  \"X does not have valid feature names, but\"\n"
     ]
    },
    {
     "name": "stdout",
     "output_type": "stream",
     "text": [
      "              precision    recall  f1-score   support\n",
      "\n",
      "           0       1.00      1.00      1.00     28432\n",
      "           1       0.73      0.63      0.68        30\n",
      "\n",
      "    accuracy                           1.00     28462\n",
      "   macro avg       0.87      0.82      0.84     28462\n",
      "weighted avg       1.00      1.00      1.00     28462\n",
      "\n",
      "0.8391274530491665\n",
      "selected ['V10', 'V14', 'V18', 'V15', 'V16', 'V7', 'V2', 'V25', 'V17', 'V13', 'V24', 'V19', 'V12']\n",
      "tempcol ['V10', 'V14', 'V18', 'V15', 'V16', 'V7', 'V2', 'V25', 'V17', 'V13', 'V24', 'V19', 'V12', 'V20']\n"
     ]
    },
    {
     "name": "stderr",
     "output_type": "stream",
     "text": [
      "/Users/kte/opt/anaconda3/envs/tensor/lib/python3.7/site-packages/sklearn/base.py:451: UserWarning: X does not have valid feature names, but IsolationForest was fitted with feature names\n",
      "  \"X does not have valid feature names, but\"\n"
     ]
    },
    {
     "name": "stdout",
     "output_type": "stream",
     "text": [
      "              precision    recall  f1-score   support\n",
      "\n",
      "           0       1.00      1.00      1.00     28432\n",
      "           1       0.64      0.60      0.62        30\n",
      "\n",
      "    accuracy                           1.00     28462\n",
      "   macro avg       0.82      0.80      0.81     28462\n",
      "weighted avg       1.00      1.00      1.00     28462\n",
      "\n",
      "0.8101513903829571\n",
      "selected ['V10', 'V14', 'V18', 'V15', 'V16', 'V7', 'V2', 'V25', 'V17', 'V13', 'V24', 'V19', 'V12']\n",
      "tempcol ['V10', 'V14', 'V18', 'V15', 'V16', 'V7', 'V2', 'V25', 'V17', 'V13', 'V24', 'V19', 'V12', 'V23']\n"
     ]
    },
    {
     "name": "stderr",
     "output_type": "stream",
     "text": [
      "/Users/kte/opt/anaconda3/envs/tensor/lib/python3.7/site-packages/sklearn/base.py:451: UserWarning: X does not have valid feature names, but IsolationForest was fitted with feature names\n",
      "  \"X does not have valid feature names, but\"\n"
     ]
    },
    {
     "name": "stdout",
     "output_type": "stream",
     "text": [
      "              precision    recall  f1-score   support\n",
      "\n",
      "           0       1.00      1.00      1.00     28432\n",
      "           1       0.71      0.57      0.63        30\n",
      "\n",
      "    accuracy                           1.00     28462\n",
      "   macro avg       0.85      0.78      0.81     28462\n",
      "weighted avg       1.00      1.00      1.00     28462\n",
      "\n",
      "0.8146389751805612\n",
      "selected ['V10', 'V14', 'V18', 'V15', 'V16', 'V7', 'V2', 'V25', 'V17', 'V13', 'V24', 'V19', 'V12']\n",
      "tempcol ['V10', 'V14', 'V18', 'V15', 'V16', 'V7', 'V2', 'V25', 'V17', 'V13', 'V24', 'V19', 'V12', 'V28']\n"
     ]
    },
    {
     "name": "stderr",
     "output_type": "stream",
     "text": [
      "/Users/kte/opt/anaconda3/envs/tensor/lib/python3.7/site-packages/sklearn/base.py:451: UserWarning: X does not have valid feature names, but IsolationForest was fitted with feature names\n",
      "  \"X does not have valid feature names, but\"\n"
     ]
    },
    {
     "name": "stdout",
     "output_type": "stream",
     "text": [
      "              precision    recall  f1-score   support\n",
      "\n",
      "           0       1.00      1.00      1.00     28432\n",
      "           1       0.61      0.57      0.59        30\n",
      "\n",
      "    accuracy                           1.00     28462\n",
      "   macro avg       0.80      0.78      0.79     28462\n",
      "weighted avg       1.00      1.00      1.00     28462\n",
      "\n",
      "0.7928924258723169\n",
      "추가\n",
      "count : 190 번\n",
      "selected ['V10', 'V14', 'V18', 'V15', 'V16', 'V7', 'V2', 'V25', 'V17', 'V13', 'V24', 'V19', 'V12', 'V11']\n",
      "tempcol ['V10', 'V14', 'V18', 'V15', 'V16', 'V7', 'V2', 'V25', 'V17', 'V13', 'V24', 'V19', 'V12', 'V11', 'V3']\n"
     ]
    },
    {
     "name": "stderr",
     "output_type": "stream",
     "text": [
      "/Users/kte/opt/anaconda3/envs/tensor/lib/python3.7/site-packages/sklearn/base.py:451: UserWarning: X does not have valid feature names, but IsolationForest was fitted with feature names\n",
      "  \"X does not have valid feature names, but\"\n"
     ]
    },
    {
     "name": "stdout",
     "output_type": "stream",
     "text": [
      "              precision    recall  f1-score   support\n",
      "\n",
      "           0       1.00      1.00      1.00     28432\n",
      "           1       0.63      0.57      0.60        30\n",
      "\n",
      "    accuracy                           1.00     28462\n",
      "   macro avg       0.81      0.78      0.80     28462\n",
      "weighted avg       1.00      1.00      1.00     28462\n",
      "\n",
      "0.7980433877878794\n",
      "selected ['V10', 'V14', 'V18', 'V15', 'V16', 'V7', 'V2', 'V25', 'V17', 'V13', 'V24', 'V19', 'V12', 'V11']\n",
      "tempcol ['V10', 'V14', 'V18', 'V15', 'V16', 'V7', 'V2', 'V25', 'V17', 'V13', 'V24', 'V19', 'V12', 'V11', 'V6']\n"
     ]
    },
    {
     "name": "stderr",
     "output_type": "stream",
     "text": [
      "/Users/kte/opt/anaconda3/envs/tensor/lib/python3.7/site-packages/sklearn/base.py:451: UserWarning: X does not have valid feature names, but IsolationForest was fitted with feature names\n",
      "  \"X does not have valid feature names, but\"\n"
     ]
    },
    {
     "name": "stdout",
     "output_type": "stream",
     "text": [
      "              precision    recall  f1-score   support\n",
      "\n",
      "           0       1.00      1.00      1.00     28432\n",
      "           1       0.64      0.60      0.62        30\n",
      "\n",
      "    accuracy                           1.00     28462\n",
      "   macro avg       0.82      0.80      0.81     28462\n",
      "weighted avg       1.00      1.00      1.00     28462\n",
      "\n",
      "0.8101513903829571\n",
      "selected ['V10', 'V14', 'V18', 'V15', 'V16', 'V7', 'V2', 'V25', 'V17', 'V13', 'V24', 'V19', 'V12', 'V11']\n",
      "tempcol ['V10', 'V14', 'V18', 'V15', 'V16', 'V7', 'V2', 'V25', 'V17', 'V13', 'V24', 'V19', 'V12', 'V11', 'V9']\n"
     ]
    },
    {
     "name": "stderr",
     "output_type": "stream",
     "text": [
      "/Users/kte/opt/anaconda3/envs/tensor/lib/python3.7/site-packages/sklearn/base.py:451: UserWarning: X does not have valid feature names, but IsolationForest was fitted with feature names\n",
      "  \"X does not have valid feature names, but\"\n"
     ]
    },
    {
     "name": "stdout",
     "output_type": "stream",
     "text": [
      "              precision    recall  f1-score   support\n",
      "\n",
      "           0       1.00      1.00      1.00     28432\n",
      "           1       0.63      0.57      0.60        30\n",
      "\n",
      "    accuracy                           1.00     28462\n",
      "   macro avg       0.81      0.78      0.80     28462\n",
      "weighted avg       1.00      1.00      1.00     28462\n",
      "\n",
      "0.7980433877878794\n",
      "selected ['V10', 'V14', 'V18', 'V15', 'V16', 'V7', 'V2', 'V25', 'V17', 'V13', 'V24', 'V19', 'V12', 'V11']\n",
      "tempcol ['V10', 'V14', 'V18', 'V15', 'V16', 'V7', 'V2', 'V25', 'V17', 'V13', 'V24', 'V19', 'V12', 'V11', 'V20']\n"
     ]
    },
    {
     "name": "stderr",
     "output_type": "stream",
     "text": [
      "/Users/kte/opt/anaconda3/envs/tensor/lib/python3.7/site-packages/sklearn/base.py:451: UserWarning: X does not have valid feature names, but IsolationForest was fitted with feature names\n",
      "  \"X does not have valid feature names, but\"\n"
     ]
    },
    {
     "name": "stdout",
     "output_type": "stream",
     "text": [
      "              precision    recall  f1-score   support\n",
      "\n",
      "           0       1.00      1.00      1.00     28432\n",
      "           1       0.63      0.57      0.60        30\n",
      "\n",
      "    accuracy                           1.00     28462\n",
      "   macro avg       0.81      0.78      0.80     28462\n",
      "weighted avg       1.00      1.00      1.00     28462\n",
      "\n",
      "0.7980433877878794\n",
      "selected ['V10', 'V14', 'V18', 'V15', 'V16', 'V7', 'V2', 'V25', 'V17', 'V13', 'V24', 'V19', 'V12', 'V11']\n",
      "tempcol ['V10', 'V14', 'V18', 'V15', 'V16', 'V7', 'V2', 'V25', 'V17', 'V13', 'V24', 'V19', 'V12', 'V11', 'V23']\n"
     ]
    },
    {
     "name": "stderr",
     "output_type": "stream",
     "text": [
      "/Users/kte/opt/anaconda3/envs/tensor/lib/python3.7/site-packages/sklearn/base.py:451: UserWarning: X does not have valid feature names, but IsolationForest was fitted with feature names\n",
      "  \"X does not have valid feature names, but\"\n"
     ]
    },
    {
     "name": "stdout",
     "output_type": "stream",
     "text": [
      "              precision    recall  f1-score   support\n",
      "\n",
      "           0       1.00      1.00      1.00     28432\n",
      "           1       0.65      0.57      0.61        30\n",
      "\n",
      "    accuracy                           1.00     28462\n",
      "   macro avg       0.83      0.78      0.80     28462\n",
      "weighted avg       1.00      1.00      1.00     28462\n",
      "\n",
      "0.8033779981712035\n",
      "selected ['V10', 'V14', 'V18', 'V15', 'V16', 'V7', 'V2', 'V25', 'V17', 'V13', 'V24', 'V19', 'V12', 'V11']\n",
      "tempcol ['V10', 'V14', 'V18', 'V15', 'V16', 'V7', 'V2', 'V25', 'V17', 'V13', 'V24', 'V19', 'V12', 'V11', 'V28']\n"
     ]
    },
    {
     "name": "stderr",
     "output_type": "stream",
     "text": [
      "/Users/kte/opt/anaconda3/envs/tensor/lib/python3.7/site-packages/sklearn/base.py:451: UserWarning: X does not have valid feature names, but IsolationForest was fitted with feature names\n",
      "  \"X does not have valid feature names, but\"\n"
     ]
    },
    {
     "name": "stdout",
     "output_type": "stream",
     "text": [
      "              precision    recall  f1-score   support\n",
      "\n",
      "           0       1.00      1.00      1.00     28432\n",
      "           1       0.59      0.57      0.58        30\n",
      "\n",
      "    accuracy                           1.00     28462\n",
      "   macro avg       0.79      0.78      0.79     28462\n",
      "weighted avg       1.00      1.00      1.00     28462\n",
      "\n",
      "0.7879157743510873\n",
      "추가\n",
      "count : 196 번\n",
      "selected ['V10', 'V14', 'V18', 'V15', 'V16', 'V7', 'V2', 'V25', 'V17', 'V13', 'V24', 'V19', 'V12', 'V11', 'V6']\n",
      "tempcol ['V10', 'V14', 'V18', 'V15', 'V16', 'V7', 'V2', 'V25', 'V17', 'V13', 'V24', 'V19', 'V12', 'V11', 'V6', 'V3']\n"
     ]
    },
    {
     "name": "stderr",
     "output_type": "stream",
     "text": [
      "/Users/kte/opt/anaconda3/envs/tensor/lib/python3.7/site-packages/sklearn/base.py:451: UserWarning: X does not have valid feature names, but IsolationForest was fitted with feature names\n",
      "  \"X does not have valid feature names, but\"\n"
     ]
    },
    {
     "name": "stdout",
     "output_type": "stream",
     "text": [
      "              precision    recall  f1-score   support\n",
      "\n",
      "           0       1.00      1.00      1.00     28432\n",
      "           1       0.55      0.57      0.56        30\n",
      "\n",
      "    accuracy                           1.00     28462\n",
      "   macro avg       0.77      0.78      0.78     28462\n",
      "weighted avg       1.00      1.00      1.00     28462\n",
      "\n",
      "0.7784511118613244\n",
      "selected ['V10', 'V14', 'V18', 'V15', 'V16', 'V7', 'V2', 'V25', 'V17', 'V13', 'V24', 'V19', 'V12', 'V11', 'V6']\n",
      "tempcol ['V10', 'V14', 'V18', 'V15', 'V16', 'V7', 'V2', 'V25', 'V17', 'V13', 'V24', 'V19', 'V12', 'V11', 'V6', 'V9']\n"
     ]
    },
    {
     "name": "stderr",
     "output_type": "stream",
     "text": [
      "/Users/kte/opt/anaconda3/envs/tensor/lib/python3.7/site-packages/sklearn/base.py:451: UserWarning: X does not have valid feature names, but IsolationForest was fitted with feature names\n",
      "  \"X does not have valid feature names, but\"\n"
     ]
    },
    {
     "name": "stdout",
     "output_type": "stream",
     "text": [
      "              precision    recall  f1-score   support\n",
      "\n",
      "           0       1.00      1.00      1.00     28432\n",
      "           1       0.63      0.57      0.60        30\n",
      "\n",
      "    accuracy                           1.00     28462\n",
      "   macro avg       0.81      0.78      0.80     28462\n",
      "weighted avg       1.00      1.00      1.00     28462\n",
      "\n",
      "0.7980433877878794\n",
      "selected ['V10', 'V14', 'V18', 'V15', 'V16', 'V7', 'V2', 'V25', 'V17', 'V13', 'V24', 'V19', 'V12', 'V11', 'V6']\n",
      "tempcol ['V10', 'V14', 'V18', 'V15', 'V16', 'V7', 'V2', 'V25', 'V17', 'V13', 'V24', 'V19', 'V12', 'V11', 'V6', 'V20']\n"
     ]
    },
    {
     "name": "stderr",
     "output_type": "stream",
     "text": [
      "/Users/kte/opt/anaconda3/envs/tensor/lib/python3.7/site-packages/sklearn/base.py:451: UserWarning: X does not have valid feature names, but IsolationForest was fitted with feature names\n",
      "  \"X does not have valid feature names, but\"\n"
     ]
    },
    {
     "name": "stdout",
     "output_type": "stream",
     "text": [
      "              precision    recall  f1-score   support\n",
      "\n",
      "           0       1.00      1.00      1.00     28432\n",
      "           1       0.59      0.57      0.58        30\n",
      "\n",
      "    accuracy                           1.00     28462\n",
      "   macro avg       0.79      0.78      0.79     28462\n",
      "weighted avg       1.00      1.00      1.00     28462\n",
      "\n",
      "0.7879157743510873\n",
      "selected ['V10', 'V14', 'V18', 'V15', 'V16', 'V7', 'V2', 'V25', 'V17', 'V13', 'V24', 'V19', 'V12', 'V11', 'V6']\n",
      "tempcol ['V10', 'V14', 'V18', 'V15', 'V16', 'V7', 'V2', 'V25', 'V17', 'V13', 'V24', 'V19', 'V12', 'V11', 'V6', 'V23']\n"
     ]
    },
    {
     "name": "stderr",
     "output_type": "stream",
     "text": [
      "/Users/kte/opt/anaconda3/envs/tensor/lib/python3.7/site-packages/sklearn/base.py:451: UserWarning: X does not have valid feature names, but IsolationForest was fitted with feature names\n",
      "  \"X does not have valid feature names, but\"\n"
     ]
    },
    {
     "name": "stdout",
     "output_type": "stream",
     "text": [
      "              precision    recall  f1-score   support\n",
      "\n",
      "           0       1.00      1.00      1.00     28432\n",
      "           1       0.57      0.57      0.57        30\n",
      "\n",
      "    accuracy                           1.00     28462\n",
      "   macro avg       0.78      0.78      0.78     28462\n",
      "weighted avg       1.00      1.00      1.00     28462\n",
      "\n",
      "0.7831047176889889\n",
      "selected ['V10', 'V14', 'V18', 'V15', 'V16', 'V7', 'V2', 'V25', 'V17', 'V13', 'V24', 'V19', 'V12', 'V11', 'V6']\n",
      "tempcol ['V10', 'V14', 'V18', 'V15', 'V16', 'V7', 'V2', 'V25', 'V17', 'V13', 'V24', 'V19', 'V12', 'V11', 'V6', 'V28']\n"
     ]
    },
    {
     "name": "stderr",
     "output_type": "stream",
     "text": [
      "/Users/kte/opt/anaconda3/envs/tensor/lib/python3.7/site-packages/sklearn/base.py:451: UserWarning: X does not have valid feature names, but IsolationForest was fitted with feature names\n",
      "  \"X does not have valid feature names, but\"\n"
     ]
    },
    {
     "name": "stdout",
     "output_type": "stream",
     "text": [
      "              precision    recall  f1-score   support\n",
      "\n",
      "           0       1.00      1.00      1.00     28432\n",
      "           1       0.53      0.57      0.55        30\n",
      "\n",
      "    accuracy                           1.00     28462\n",
      "   macro avg       0.77      0.78      0.77     28462\n",
      "weighted avg       1.00      1.00      1.00     28462\n",
      "\n",
      "0.7739473382643435\n",
      "추가\n"
     ]
    }
   ],
   "source": [
    "\n",
    "\n",
    "\n",
    "all_cols = list(val_x.columns)\n",
    "\n",
    "selected_cols = []\n",
    "deselected_cols = all_cols\n",
    "\n",
    "for col in selected_cols:\n",
    "    deselected_cols.remove(col)\n",
    "    \n",
    "\n",
    "count = 1\n",
    "\n",
    "maxf1s = []\n",
    "frame = pd.DataFrame({'len':[0],'colnames':['V0'] ,'f1s':[0]})\n",
    "\n",
    "for j in range(1,17):\n",
    "    print('count :' ,count,\"번\")\n",
    "\n",
    "    \n",
    "    length = []\n",
    "    colnames = []\n",
    "    f1s = []    \n",
    "    for col in deselected_cols:\n",
    "        count+=1\n",
    "        \n",
    "        temp_cols = selected_cols.copy()\n",
    "        temp_cols.append(col)\n",
    "        \n",
    "        print(\"selected\",selected_cols)\n",
    "        print(\"tempcol\",temp_cols)\n",
    "        \n",
    "        model = IsolationForest(n_estimators=125, max_samples=len(train_x), contamination=val_contamination, random_state=42, verbose=0)\n",
    "        model.fit(train_x.loc[:,temp_cols])\n",
    "\n",
    "        pred = model.predict(val_x.loc[:,temp_cols])\n",
    "        pred = get_pred_label(pred)\n",
    "        f1score = f1_score(val_y, pred, average='macro')\n",
    "        print(classification_report(val_y,pred))\n",
    "        print(f1score)\n",
    "        \n",
    "        length.append(len(temp_cols))\n",
    "        colnames.append(temp_cols)\n",
    "        f1s.append(f1score)\n",
    "\n",
    "    temp_df = pd.DataFrame({'len':length,'colnames':colnames ,'f1s':f1s})\n",
    "    frame = pd.concat([frame,temp_df],axis=0)\n",
    "\n",
    "    for i in range(len(f1s)):\n",
    "        if(f1s[i] == max(f1s)):\n",
    "            print('추가')\n",
    "            temp_index = i\n",
    "            selected_cols.append(colnames[i][-1])\n",
    "            deselected_cols.remove(colnames[i][-1])\n",
    "            break\n",
    "    \n",
    "    \n",
    "    "
   ]
  },
  {
   "cell_type": "code",
   "execution_count": 11,
   "metadata": {},
   "outputs": [
    {
     "data": {
      "text/plain": [
       "0.8453050791372196"
      ]
     },
     "execution_count": 11,
     "metadata": {},
     "output_type": "execute_result"
    }
   ],
   "source": [
    "frame.f1s.max()"
   ]
  },
  {
   "cell_type": "code",
   "execution_count": 13,
   "metadata": {},
   "outputs": [
    {
     "data": {
      "text/plain": [
       "5"
      ]
     },
     "execution_count": 13,
     "metadata": {},
     "output_type": "execute_result"
    }
   ],
   "source": [
    "len(f1s)"
   ]
  },
  {
   "cell_type": "code",
   "execution_count": 12,
   "metadata": {},
   "outputs": [
    {
     "data": {
      "text/html": [
       "<div>\n",
       "<style scoped>\n",
       "    .dataframe tbody tr th:only-of-type {\n",
       "        vertical-align: middle;\n",
       "    }\n",
       "\n",
       "    .dataframe tbody tr th {\n",
       "        vertical-align: top;\n",
       "    }\n",
       "\n",
       "    .dataframe thead th {\n",
       "        text-align: right;\n",
       "    }\n",
       "</style>\n",
       "<table border=\"1\" class=\"dataframe\">\n",
       "  <thead>\n",
       "    <tr style=\"text-align: right;\">\n",
       "      <th></th>\n",
       "      <th>len</th>\n",
       "      <th>colnames</th>\n",
       "      <th>f1s</th>\n",
       "    </tr>\n",
       "  </thead>\n",
       "  <tbody>\n",
       "    <tr>\n",
       "      <th>11</th>\n",
       "      <td>8</td>\n",
       "      <td>[V10, V14, V18, V15, V16, V7, V2, V25]</td>\n",
       "      <td>0.845305</td>\n",
       "    </tr>\n",
       "    <tr>\n",
       "      <th>0</th>\n",
       "      <td>7</td>\n",
       "      <td>[V10, V14, V18, V15, V16, V7, V2]</td>\n",
       "      <td>0.839473</td>\n",
       "    </tr>\n",
       "    <tr>\n",
       "      <th>3</th>\n",
       "      <td>14</td>\n",
       "      <td>[V10, V14, V18, V15, V16, V7, V2, V25, V17, V1...</td>\n",
       "      <td>0.839127</td>\n",
       "    </tr>\n",
       "    <tr>\n",
       "      <th>12</th>\n",
       "      <td>7</td>\n",
       "      <td>[V10, V14, V18, V15, V16, V7, V25]</td>\n",
       "      <td>0.839127</td>\n",
       "    </tr>\n",
       "    <tr>\n",
       "      <th>6</th>\n",
       "      <td>9</td>\n",
       "      <td>[V10, V14, V18, V15, V16, V7, V2, V25, V17]</td>\n",
       "      <td>0.833175</td>\n",
       "    </tr>\n",
       "    <tr>\n",
       "      <th>11</th>\n",
       "      <td>7</td>\n",
       "      <td>[V10, V14, V18, V15, V16, V7, V24]</td>\n",
       "      <td>0.833175</td>\n",
       "    </tr>\n",
       "    <tr>\n",
       "      <th>5</th>\n",
       "      <td>10</td>\n",
       "      <td>[V10, V14, V18, V15, V16, V7, V2, V25, V17, V13]</td>\n",
       "      <td>0.833166</td>\n",
       "    </tr>\n",
       "    <tr>\n",
       "      <th>5</th>\n",
       "      <td>8</td>\n",
       "      <td>[V10, V14, V18, V15, V16, V7, V2, V13]</td>\n",
       "      <td>0.833166</td>\n",
       "    </tr>\n",
       "    <tr>\n",
       "      <th>5</th>\n",
       "      <td>12</td>\n",
       "      <td>[V10, V14, V18, V15, V16, V7, V2, V25, V17, V1...</td>\n",
       "      <td>0.827410</td>\n",
       "    </tr>\n",
       "    <tr>\n",
       "      <th>3</th>\n",
       "      <td>6</td>\n",
       "      <td>[V10, V14, V18, V15, V16, V7]</td>\n",
       "      <td>0.827410</td>\n",
       "    </tr>\n",
       "    <tr>\n",
       "      <th>3</th>\n",
       "      <td>12</td>\n",
       "      <td>[V10, V14, V18, V15, V16, V7, V2, V25, V17, V1...</td>\n",
       "      <td>0.827106</td>\n",
       "    </tr>\n",
       "    <tr>\n",
       "      <th>8</th>\n",
       "      <td>7</td>\n",
       "      <td>[V10, V14, V18, V15, V16, V7, V19]</td>\n",
       "      <td>0.827106</td>\n",
       "    </tr>\n",
       "    <tr>\n",
       "      <th>8</th>\n",
       "      <td>11</td>\n",
       "      <td>[V10, V14, V18, V15, V16, V7, V2, V25, V17, V1...</td>\n",
       "      <td>0.827106</td>\n",
       "    </tr>\n",
       "    <tr>\n",
       "      <th>8</th>\n",
       "      <td>5</td>\n",
       "      <td>[V10, V14, V18, V15, V16]</td>\n",
       "      <td>0.827106</td>\n",
       "    </tr>\n",
       "    <tr>\n",
       "      <th>4</th>\n",
       "      <td>12</td>\n",
       "      <td>[V10, V14, V18, V15, V16, V7, V2, V25, V17, V1...</td>\n",
       "      <td>0.827106</td>\n",
       "    </tr>\n",
       "    <tr>\n",
       "      <th>5</th>\n",
       "      <td>7</td>\n",
       "      <td>[V10, V14, V18, V15, V16, V7, V12]</td>\n",
       "      <td>0.826765</td>\n",
       "    </tr>\n",
       "    <tr>\n",
       "      <th>4</th>\n",
       "      <td>11</td>\n",
       "      <td>[V10, V14, V18, V15, V16, V7, V2, V25, V17, V1...</td>\n",
       "      <td>0.826765</td>\n",
       "    </tr>\n",
       "    <tr>\n",
       "      <th>8</th>\n",
       "      <td>6</td>\n",
       "      <td>[V10, V14, V18, V15, V16, V17]</td>\n",
       "      <td>0.821849</td>\n",
       "    </tr>\n",
       "    <tr>\n",
       "      <th>6</th>\n",
       "      <td>6</td>\n",
       "      <td>[V10, V14, V18, V15, V16, V12]</td>\n",
       "      <td>0.821253</td>\n",
       "    </tr>\n",
       "    <tr>\n",
       "      <th>2</th>\n",
       "      <td>12</td>\n",
       "      <td>[V10, V14, V18, V15, V16, V7, V2, V25, V17, V1...</td>\n",
       "      <td>0.821253</td>\n",
       "    </tr>\n",
       "  </tbody>\n",
       "</table>\n",
       "</div>"
      ],
      "text/plain": [
       "    len                                           colnames       f1s\n",
       "11    8             [V10, V14, V18, V15, V16, V7, V2, V25]  0.845305\n",
       "0     7                  [V10, V14, V18, V15, V16, V7, V2]  0.839473\n",
       "3    14  [V10, V14, V18, V15, V16, V7, V2, V25, V17, V1...  0.839127\n",
       "12    7                 [V10, V14, V18, V15, V16, V7, V25]  0.839127\n",
       "6     9        [V10, V14, V18, V15, V16, V7, V2, V25, V17]  0.833175\n",
       "11    7                 [V10, V14, V18, V15, V16, V7, V24]  0.833175\n",
       "5    10   [V10, V14, V18, V15, V16, V7, V2, V25, V17, V13]  0.833166\n",
       "5     8             [V10, V14, V18, V15, V16, V7, V2, V13]  0.833166\n",
       "5    12  [V10, V14, V18, V15, V16, V7, V2, V25, V17, V1...  0.827410\n",
       "3     6                      [V10, V14, V18, V15, V16, V7]  0.827410\n",
       "3    12  [V10, V14, V18, V15, V16, V7, V2, V25, V17, V1...  0.827106\n",
       "8     7                 [V10, V14, V18, V15, V16, V7, V19]  0.827106\n",
       "8    11  [V10, V14, V18, V15, V16, V7, V2, V25, V17, V1...  0.827106\n",
       "8     5                          [V10, V14, V18, V15, V16]  0.827106\n",
       "4    12  [V10, V14, V18, V15, V16, V7, V2, V25, V17, V1...  0.827106\n",
       "5     7                 [V10, V14, V18, V15, V16, V7, V12]  0.826765\n",
       "4    11  [V10, V14, V18, V15, V16, V7, V2, V25, V17, V1...  0.826765\n",
       "8     6                     [V10, V14, V18, V15, V16, V17]  0.821849\n",
       "6     6                     [V10, V14, V18, V15, V16, V12]  0.821253\n",
       "2    12  [V10, V14, V18, V15, V16, V7, V2, V25, V17, V1...  0.821253"
      ]
     },
     "execution_count": 12,
     "metadata": {},
     "output_type": "execute_result"
    }
   ],
   "source": [
    "frame.sort_values('f1s',ascending=False).head(20)"
   ]
  },
  {
   "cell_type": "code",
   "execution_count": 86,
   "metadata": {},
   "outputs": [
    {
     "ename": "TypeError",
     "evalue": "unhashable type: 'list'",
     "output_type": "error",
     "traceback": [
      "\u001b[0;31m---------------------------------------------------------------------------\u001b[0m",
      "\u001b[0;31mTypeError\u001b[0m                                 Traceback (most recent call last)",
      "\u001b[0;32m/var/folders/t8/fgx0kt2j66zf6nrrj6v3_t9w0000gn/T/ipykernel_73248/3516086705.py\u001b[0m in \u001b[0;36m<module>\u001b[0;34m\u001b[0m\n\u001b[1;32m      1\u001b[0m \u001b[0mframe\u001b[0m\u001b[0;34m=\u001b[0m\u001b[0mframe\u001b[0m\u001b[0;34m.\u001b[0m\u001b[0mreset_index\u001b[0m\u001b[0;34m(\u001b[0m\u001b[0mdrop\u001b[0m\u001b[0;34m=\u001b[0m\u001b[0;32mTrue\u001b[0m\u001b[0;34m)\u001b[0m\u001b[0;34m\u001b[0m\u001b[0;34m\u001b[0m\u001b[0m\n\u001b[0;32m----> 2\u001b[0;31m \u001b[0mframe\u001b[0m\u001b[0;34m[\u001b[0m\u001b[0;34m'colnames'\u001b[0m\u001b[0;34m]\u001b[0m\u001b[0;34m.\u001b[0m\u001b[0munique\u001b[0m\u001b[0;34m(\u001b[0m\u001b[0;34m)\u001b[0m\u001b[0;34m\u001b[0m\u001b[0;34m\u001b[0m\u001b[0m\n\u001b[0m",
      "\u001b[0;32m~/opt/anaconda3/envs/tensor/lib/python3.7/site-packages/pandas/core/series.py\u001b[0m in \u001b[0;36munique\u001b[0;34m(self)\u001b[0m\n\u001b[1;32m   2037\u001b[0m         \u001b[0mCategories\u001b[0m \u001b[0;34m(\u001b[0m\u001b[0;36m3\u001b[0m\u001b[0;34m,\u001b[0m \u001b[0mobject\u001b[0m\u001b[0;34m)\u001b[0m\u001b[0;34m:\u001b[0m \u001b[0;34m[\u001b[0m\u001b[0;34m'a'\u001b[0m \u001b[0;34m<\u001b[0m \u001b[0;34m'b'\u001b[0m \u001b[0;34m<\u001b[0m \u001b[0;34m'c'\u001b[0m\u001b[0;34m]\u001b[0m\u001b[0;34m\u001b[0m\u001b[0;34m\u001b[0m\u001b[0m\n\u001b[1;32m   2038\u001b[0m         \"\"\"\n\u001b[0;32m-> 2039\u001b[0;31m         \u001b[0;32mreturn\u001b[0m \u001b[0msuper\u001b[0m\u001b[0;34m(\u001b[0m\u001b[0;34m)\u001b[0m\u001b[0;34m.\u001b[0m\u001b[0munique\u001b[0m\u001b[0;34m(\u001b[0m\u001b[0;34m)\u001b[0m\u001b[0;34m\u001b[0m\u001b[0;34m\u001b[0m\u001b[0m\n\u001b[0m\u001b[1;32m   2040\u001b[0m \u001b[0;34m\u001b[0m\u001b[0m\n\u001b[1;32m   2041\u001b[0m     \u001b[0;34m@\u001b[0m\u001b[0moverload\u001b[0m\u001b[0;34m\u001b[0m\u001b[0;34m\u001b[0m\u001b[0m\n",
      "\u001b[0;32m~/opt/anaconda3/envs/tensor/lib/python3.7/site-packages/pandas/core/base.py\u001b[0m in \u001b[0;36munique\u001b[0;34m(self)\u001b[0m\n\u001b[1;32m    977\u001b[0m                     \u001b[0mresult\u001b[0m \u001b[0;34m=\u001b[0m \u001b[0mnp\u001b[0m\u001b[0;34m.\u001b[0m\u001b[0masarray\u001b[0m\u001b[0;34m(\u001b[0m\u001b[0mresult\u001b[0m\u001b[0;34m)\u001b[0m\u001b[0;34m\u001b[0m\u001b[0;34m\u001b[0m\u001b[0m\n\u001b[1;32m    978\u001b[0m         \u001b[0;32melse\u001b[0m\u001b[0;34m:\u001b[0m\u001b[0;34m\u001b[0m\u001b[0;34m\u001b[0m\u001b[0m\n\u001b[0;32m--> 979\u001b[0;31m             \u001b[0mresult\u001b[0m \u001b[0;34m=\u001b[0m \u001b[0munique1d\u001b[0m\u001b[0;34m(\u001b[0m\u001b[0mvalues\u001b[0m\u001b[0;34m)\u001b[0m\u001b[0;34m\u001b[0m\u001b[0;34m\u001b[0m\u001b[0m\n\u001b[0m\u001b[1;32m    980\u001b[0m \u001b[0;34m\u001b[0m\u001b[0m\n\u001b[1;32m    981\u001b[0m         \u001b[0;32mreturn\u001b[0m \u001b[0mresult\u001b[0m\u001b[0;34m\u001b[0m\u001b[0;34m\u001b[0m\u001b[0m\n",
      "\u001b[0;32m~/opt/anaconda3/envs/tensor/lib/python3.7/site-packages/pandas/core/algorithms.py\u001b[0m in \u001b[0;36munique\u001b[0;34m(values)\u001b[0m\n\u001b[1;32m    429\u001b[0m \u001b[0;34m\u001b[0m\u001b[0m\n\u001b[1;32m    430\u001b[0m     \u001b[0mtable\u001b[0m \u001b[0;34m=\u001b[0m \u001b[0mhtable\u001b[0m\u001b[0;34m(\u001b[0m\u001b[0mlen\u001b[0m\u001b[0;34m(\u001b[0m\u001b[0mvalues\u001b[0m\u001b[0;34m)\u001b[0m\u001b[0;34m)\u001b[0m\u001b[0;34m\u001b[0m\u001b[0;34m\u001b[0m\u001b[0m\n\u001b[0;32m--> 431\u001b[0;31m     \u001b[0muniques\u001b[0m \u001b[0;34m=\u001b[0m \u001b[0mtable\u001b[0m\u001b[0;34m.\u001b[0m\u001b[0munique\u001b[0m\u001b[0;34m(\u001b[0m\u001b[0mvalues\u001b[0m\u001b[0;34m)\u001b[0m\u001b[0;34m\u001b[0m\u001b[0;34m\u001b[0m\u001b[0m\n\u001b[0m\u001b[1;32m    432\u001b[0m     \u001b[0muniques\u001b[0m \u001b[0;34m=\u001b[0m \u001b[0m_reconstruct_data\u001b[0m\u001b[0;34m(\u001b[0m\u001b[0muniques\u001b[0m\u001b[0;34m,\u001b[0m \u001b[0moriginal\u001b[0m\u001b[0;34m.\u001b[0m\u001b[0mdtype\u001b[0m\u001b[0;34m,\u001b[0m \u001b[0moriginal\u001b[0m\u001b[0;34m)\u001b[0m\u001b[0;34m\u001b[0m\u001b[0;34m\u001b[0m\u001b[0m\n\u001b[1;32m    433\u001b[0m     \u001b[0;32mreturn\u001b[0m \u001b[0muniques\u001b[0m\u001b[0;34m\u001b[0m\u001b[0;34m\u001b[0m\u001b[0m\n",
      "\u001b[0;32mpandas/_libs/hashtable_class_helper.pxi\u001b[0m in \u001b[0;36mpandas._libs.hashtable.PyObjectHashTable.unique\u001b[0;34m()\u001b[0m\n",
      "\u001b[0;32mpandas/_libs/hashtable_class_helper.pxi\u001b[0m in \u001b[0;36mpandas._libs.hashtable.PyObjectHashTable._unique\u001b[0;34m()\u001b[0m\n",
      "\u001b[0;31mTypeError\u001b[0m: unhashable type: 'list'"
     ]
    }
   ],
   "source": [
    "frame=frame.reset_index(drop=True)\n",
    "frame['colnames'].unique()"
   ]
  },
  {
   "cell_type": "code",
   "execution_count": 11,
   "metadata": {},
   "outputs": [],
   "source": [
    "frame4 = frame[:]"
   ]
  },
  {
   "cell_type": "code",
   "execution_count": 12,
   "metadata": {},
   "outputs": [
    {
     "data": {
      "text/plain": [
       "[['V7', 'V17', 'V18', 'V10']]"
      ]
     },
     "execution_count": 12,
     "metadata": {},
     "output_type": "execute_result"
    }
   ],
   "source": [
    "list(frame4[frame4.f1s == frame4.f1s.max()]['colnames'])\n"
   ]
  },
  {
   "cell_type": "code",
   "execution_count": 103,
   "metadata": {},
   "outputs": [
    {
     "data": {
      "text/html": [
       "<div>\n",
       "<style scoped>\n",
       "    .dataframe tbody tr th:only-of-type {\n",
       "        vertical-align: middle;\n",
       "    }\n",
       "\n",
       "    .dataframe tbody tr th {\n",
       "        vertical-align: top;\n",
       "    }\n",
       "\n",
       "    .dataframe thead th {\n",
       "        text-align: right;\n",
       "    }\n",
       "</style>\n",
       "<table border=\"1\" class=\"dataframe\">\n",
       "  <thead>\n",
       "    <tr style=\"text-align: right;\">\n",
       "      <th></th>\n",
       "      <th>len</th>\n",
       "      <th>colnames</th>\n",
       "      <th>f1s</th>\n",
       "    </tr>\n",
       "  </thead>\n",
       "  <tbody>\n",
       "    <tr>\n",
       "      <th>6</th>\n",
       "      <td>2</td>\n",
       "      <td>[V10, V7]</td>\n",
       "      <td>0.865262</td>\n",
       "    </tr>\n",
       "    <tr>\n",
       "      <th>18</th>\n",
       "      <td>7</td>\n",
       "      <td>[V10, V7, V2, V18, V6, V15, V25]</td>\n",
       "      <td>0.859877</td>\n",
       "    </tr>\n",
       "    <tr>\n",
       "      <th>15</th>\n",
       "      <td>2</td>\n",
       "      <td>[V10, V17]</td>\n",
       "      <td>0.858359</td>\n",
       "    </tr>\n",
       "    <tr>\n",
       "      <th>17</th>\n",
       "      <td>7</td>\n",
       "      <td>[V10, V7, V2, V18, V6, V15, V24]</td>\n",
       "      <td>0.852809</td>\n",
       "    </tr>\n",
       "    <tr>\n",
       "      <th>11</th>\n",
       "      <td>5</td>\n",
       "      <td>[V10, V7, V2, V18, V15]</td>\n",
       "      <td>0.852809</td>\n",
       "    </tr>\n",
       "    <tr>\n",
       "      <th>...</th>\n",
       "      <td>...</td>\n",
       "      <td>...</td>\n",
       "      <td>...</td>\n",
       "    </tr>\n",
       "    <tr>\n",
       "      <th>22</th>\n",
       "      <td>1</td>\n",
       "      <td>[V23]</td>\n",
       "      <td>0.499464</td>\n",
       "    </tr>\n",
       "    <tr>\n",
       "      <th>23</th>\n",
       "      <td>1</td>\n",
       "      <td>[V24]</td>\n",
       "      <td>0.499437</td>\n",
       "    </tr>\n",
       "    <tr>\n",
       "      <th>14</th>\n",
       "      <td>1</td>\n",
       "      <td>[V15]</td>\n",
       "      <td>0.499384</td>\n",
       "    </tr>\n",
       "    <tr>\n",
       "      <th>12</th>\n",
       "      <td>1</td>\n",
       "      <td>[V13]</td>\n",
       "      <td>0.499340</td>\n",
       "    </tr>\n",
       "    <tr>\n",
       "      <th>0</th>\n",
       "      <td>0</td>\n",
       "      <td>V0</td>\n",
       "      <td>0.000000</td>\n",
       "    </tr>\n",
       "  </tbody>\n",
       "</table>\n",
       "<p>169 rows × 3 columns</p>\n",
       "</div>"
      ],
      "text/plain": [
       "    len                          colnames       f1s\n",
       "6     2                         [V10, V7]  0.865262\n",
       "18    7  [V10, V7, V2, V18, V6, V15, V25]  0.859877\n",
       "15    2                        [V10, V17]  0.858359\n",
       "17    7  [V10, V7, V2, V18, V6, V15, V24]  0.852809\n",
       "11    5           [V10, V7, V2, V18, V15]  0.852809\n",
       "..  ...                               ...       ...\n",
       "22    1                             [V23]  0.499464\n",
       "23    1                             [V24]  0.499437\n",
       "14    1                             [V15]  0.499384\n",
       "12    1                             [V13]  0.499340\n",
       "0     0                                V0  0.000000\n",
       "\n",
       "[169 rows x 3 columns]"
      ]
     },
     "execution_count": 103,
     "metadata": {},
     "output_type": "execute_result"
    }
   ],
   "source": [
    "frame2.sort_values('f1s', ascending=False)"
   ]
  },
  {
   "cell_type": "code",
   "execution_count": 15,
   "metadata": {},
   "outputs": [
    {
     "name": "stderr",
     "output_type": "stream",
     "text": [
      "/Users/kte/opt/anaconda3/envs/tensor/lib/python3.7/site-packages/sklearn/base.py:451: UserWarning: X does not have valid feature names, but IsolationForest was fitted with feature names\n",
      "  \"X does not have valid feature names, but\"\n",
      "/Users/kte/opt/anaconda3/envs/tensor/lib/python3.7/site-packages/sklearn/base.py:451: UserWarning: X does not have valid feature names, but IsolationForest was fitted with feature names\n",
      "  \"X does not have valid feature names, but\"\n",
      "/Users/kte/opt/anaconda3/envs/tensor/lib/python3.7/site-packages/sklearn/base.py:451: UserWarning: X does not have valid feature names, but IsolationForest was fitted with feature names\n",
      "  \"X does not have valid feature names, but\"\n",
      "/Users/kte/opt/anaconda3/envs/tensor/lib/python3.7/site-packages/sklearn/base.py:451: UserWarning: X does not have valid feature names, but IsolationForest was fitted with feature names\n",
      "  \"X does not have valid feature names, but\"\n",
      "/Users/kte/opt/anaconda3/envs/tensor/lib/python3.7/site-packages/sklearn/base.py:451: UserWarning: X does not have valid feature names, but IsolationForest was fitted with feature names\n",
      "  \"X does not have valid feature names, but\"\n",
      "/Users/kte/opt/anaconda3/envs/tensor/lib/python3.7/site-packages/sklearn/base.py:451: UserWarning: X does not have valid feature names, but IsolationForest was fitted with feature names\n",
      "  \"X does not have valid feature names, but\"\n",
      "/Users/kte/opt/anaconda3/envs/tensor/lib/python3.7/site-packages/sklearn/base.py:451: UserWarning: X does not have valid feature names, but IsolationForest was fitted with feature names\n",
      "  \"X does not have valid feature names, but\"\n",
      "/Users/kte/opt/anaconda3/envs/tensor/lib/python3.7/site-packages/sklearn/base.py:451: UserWarning: X does not have valid feature names, but IsolationForest was fitted with feature names\n",
      "  \"X does not have valid feature names, but\"\n",
      "/Users/kte/opt/anaconda3/envs/tensor/lib/python3.7/site-packages/sklearn/base.py:451: UserWarning: X does not have valid feature names, but IsolationForest was fitted with feature names\n",
      "  \"X does not have valid feature names, but\"\n",
      "/Users/kte/opt/anaconda3/envs/tensor/lib/python3.7/site-packages/sklearn/base.py:451: UserWarning: X does not have valid feature names, but IsolationForest was fitted with feature names\n",
      "  \"X does not have valid feature names, but\"\n",
      "/Users/kte/opt/anaconda3/envs/tensor/lib/python3.7/site-packages/sklearn/base.py:451: UserWarning: X does not have valid feature names, but IsolationForest was fitted with feature names\n",
      "  \"X does not have valid feature names, but\"\n",
      "/Users/kte/opt/anaconda3/envs/tensor/lib/python3.7/site-packages/sklearn/base.py:451: UserWarning: X does not have valid feature names, but IsolationForest was fitted with feature names\n",
      "  \"X does not have valid feature names, but\"\n",
      "/Users/kte/opt/anaconda3/envs/tensor/lib/python3.7/site-packages/sklearn/base.py:451: UserWarning: X does not have valid feature names, but IsolationForest was fitted with feature names\n",
      "  \"X does not have valid feature names, but\"\n",
      "/Users/kte/opt/anaconda3/envs/tensor/lib/python3.7/site-packages/sklearn/base.py:451: UserWarning: X does not have valid feature names, but IsolationForest was fitted with feature names\n",
      "  \"X does not have valid feature names, but\"\n",
      "/Users/kte/opt/anaconda3/envs/tensor/lib/python3.7/site-packages/sklearn/base.py:451: UserWarning: X does not have valid feature names, but IsolationForest was fitted with feature names\n",
      "  \"X does not have valid feature names, but\"\n",
      "/Users/kte/opt/anaconda3/envs/tensor/lib/python3.7/site-packages/sklearn/base.py:451: UserWarning: X does not have valid feature names, but IsolationForest was fitted with feature names\n",
      "  \"X does not have valid feature names, but\"\n",
      "/Users/kte/opt/anaconda3/envs/tensor/lib/python3.7/site-packages/sklearn/base.py:451: UserWarning: X does not have valid feature names, but IsolationForest was fitted with feature names\n",
      "  \"X does not have valid feature names, but\"\n",
      "/Users/kte/opt/anaconda3/envs/tensor/lib/python3.7/site-packages/sklearn/base.py:451: UserWarning: X does not have valid feature names, but IsolationForest was fitted with feature names\n",
      "  \"X does not have valid feature names, but\"\n",
      "/Users/kte/opt/anaconda3/envs/tensor/lib/python3.7/site-packages/sklearn/base.py:451: UserWarning: X does not have valid feature names, but IsolationForest was fitted with feature names\n",
      "  \"X does not have valid feature names, but\"\n",
      "/Users/kte/opt/anaconda3/envs/tensor/lib/python3.7/site-packages/sklearn/base.py:451: UserWarning: X does not have valid feature names, but IsolationForest was fitted with feature names\n",
      "  \"X does not have valid feature names, but\"\n",
      "/Users/kte/opt/anaconda3/envs/tensor/lib/python3.7/site-packages/sklearn/base.py:451: UserWarning: X does not have valid feature names, but IsolationForest was fitted with feature names\n",
      "  \"X does not have valid feature names, but\"\n"
     ]
    }
   ],
   "source": [
    "# 하이퍼 파라미터 - 나무 갯수\n",
    "temp_cols = ['V7', 'V17', 'V18', 'V10']\n",
    "iss = []\n",
    "f1s = []\n",
    "for i in range(50,151,5):\n",
    "    model = IsolationForest(n_estimators=i, max_samples=len(train_x), contamination=val_contamination, random_state=42, verbose=0)\n",
    "    model.fit(train_x.loc[:,temp_cols])\n",
    "\n",
    "    pred = model.predict(val_x.loc[:,temp_cols])\n",
    "    pred = get_pred_label(pred)\n",
    "    f1score = f1_score(val_y, pred, average='macro')\n",
    "    iss.append(i)\n",
    "    f1s.append(f1score)\n"
   ]
  },
  {
   "cell_type": "code",
   "execution_count": 16,
   "metadata": {},
   "outputs": [
    {
     "data": {
      "text/html": [
       "<div>\n",
       "<style scoped>\n",
       "    .dataframe tbody tr th:only-of-type {\n",
       "        vertical-align: middle;\n",
       "    }\n",
       "\n",
       "    .dataframe tbody tr th {\n",
       "        vertical-align: top;\n",
       "    }\n",
       "\n",
       "    .dataframe thead th {\n",
       "        text-align: right;\n",
       "    }\n",
       "</style>\n",
       "<table border=\"1\" class=\"dataframe\">\n",
       "  <thead>\n",
       "    <tr style=\"text-align: right;\">\n",
       "      <th></th>\n",
       "      <th>i</th>\n",
       "      <th>f1s</th>\n",
       "    </tr>\n",
       "  </thead>\n",
       "  <tbody>\n",
       "    <tr>\n",
       "      <th>0</th>\n",
       "      <td>50</td>\n",
       "      <td>0.865262</td>\n",
       "    </tr>\n",
       "    <tr>\n",
       "      <th>1</th>\n",
       "      <td>55</td>\n",
       "      <td>0.865262</td>\n",
       "    </tr>\n",
       "    <tr>\n",
       "      <th>2</th>\n",
       "      <td>60</td>\n",
       "      <td>0.865262</td>\n",
       "    </tr>\n",
       "    <tr>\n",
       "      <th>3</th>\n",
       "      <td>65</td>\n",
       "      <td>0.865262</td>\n",
       "    </tr>\n",
       "    <tr>\n",
       "      <th>4</th>\n",
       "      <td>70</td>\n",
       "      <td>0.877244</td>\n",
       "    </tr>\n",
       "    <tr>\n",
       "      <th>5</th>\n",
       "      <td>75</td>\n",
       "      <td>0.865262</td>\n",
       "    </tr>\n",
       "    <tr>\n",
       "      <th>6</th>\n",
       "      <td>80</td>\n",
       "      <td>0.865262</td>\n",
       "    </tr>\n",
       "    <tr>\n",
       "      <th>7</th>\n",
       "      <td>85</td>\n",
       "      <td>0.865262</td>\n",
       "    </tr>\n",
       "    <tr>\n",
       "      <th>8</th>\n",
       "      <td>90</td>\n",
       "      <td>0.877244</td>\n",
       "    </tr>\n",
       "    <tr>\n",
       "      <th>9</th>\n",
       "      <td>95</td>\n",
       "      <td>0.877244</td>\n",
       "    </tr>\n",
       "    <tr>\n",
       "      <th>10</th>\n",
       "      <td>100</td>\n",
       "      <td>0.877244</td>\n",
       "    </tr>\n",
       "    <tr>\n",
       "      <th>11</th>\n",
       "      <td>105</td>\n",
       "      <td>0.877244</td>\n",
       "    </tr>\n",
       "    <tr>\n",
       "      <th>12</th>\n",
       "      <td>110</td>\n",
       "      <td>0.877244</td>\n",
       "    </tr>\n",
       "    <tr>\n",
       "      <th>13</th>\n",
       "      <td>115</td>\n",
       "      <td>0.877244</td>\n",
       "    </tr>\n",
       "    <tr>\n",
       "      <th>14</th>\n",
       "      <td>120</td>\n",
       "      <td>0.877244</td>\n",
       "    </tr>\n",
       "    <tr>\n",
       "      <th>15</th>\n",
       "      <td>125</td>\n",
       "      <td>0.877244</td>\n",
       "    </tr>\n",
       "    <tr>\n",
       "      <th>16</th>\n",
       "      <td>130</td>\n",
       "      <td>0.877244</td>\n",
       "    </tr>\n",
       "    <tr>\n",
       "      <th>17</th>\n",
       "      <td>135</td>\n",
       "      <td>0.865262</td>\n",
       "    </tr>\n",
       "    <tr>\n",
       "      <th>18</th>\n",
       "      <td>140</td>\n",
       "      <td>0.865262</td>\n",
       "    </tr>\n",
       "    <tr>\n",
       "      <th>19</th>\n",
       "      <td>145</td>\n",
       "      <td>0.877244</td>\n",
       "    </tr>\n",
       "    <tr>\n",
       "      <th>20</th>\n",
       "      <td>150</td>\n",
       "      <td>0.865262</td>\n",
       "    </tr>\n",
       "  </tbody>\n",
       "</table>\n",
       "</div>"
      ],
      "text/plain": [
       "      i       f1s\n",
       "0    50  0.865262\n",
       "1    55  0.865262\n",
       "2    60  0.865262\n",
       "3    65  0.865262\n",
       "4    70  0.877244\n",
       "5    75  0.865262\n",
       "6    80  0.865262\n",
       "7    85  0.865262\n",
       "8    90  0.877244\n",
       "9    95  0.877244\n",
       "10  100  0.877244\n",
       "11  105  0.877244\n",
       "12  110  0.877244\n",
       "13  115  0.877244\n",
       "14  120  0.877244\n",
       "15  125  0.877244\n",
       "16  130  0.877244\n",
       "17  135  0.865262\n",
       "18  140  0.865262\n",
       "19  145  0.877244\n",
       "20  150  0.865262"
      ]
     },
     "execution_count": 16,
     "metadata": {},
     "output_type": "execute_result"
    }
   ],
   "source": [
    "i_df = pd.DataFrame({'i':iss , 'f1s' : f1s})\n",
    "i_df"
   ]
  },
  {
   "cell_type": "code",
   "execution_count": 20,
   "metadata": {},
   "outputs": [
    {
     "name": "stderr",
     "output_type": "stream",
     "text": [
      "/Users/kte/opt/anaconda3/envs/tensor/lib/python3.7/site-packages/sklearn/base.py:451: UserWarning: X does not have valid feature names, but IsolationForest was fitted with feature names\n",
      "  \"X does not have valid feature names, but\"\n",
      "/Users/kte/opt/anaconda3/envs/tensor/lib/python3.7/site-packages/sklearn/base.py:451: UserWarning: X does not have valid feature names, but IsolationForest was fitted with feature names\n",
      "  \"X does not have valid feature names, but\"\n",
      "/Users/kte/opt/anaconda3/envs/tensor/lib/python3.7/site-packages/sklearn/base.py:451: UserWarning: X does not have valid feature names, but IsolationForest was fitted with feature names\n",
      "  \"X does not have valid feature names, but\"\n",
      "/Users/kte/opt/anaconda3/envs/tensor/lib/python3.7/site-packages/sklearn/base.py:451: UserWarning: X does not have valid feature names, but IsolationForest was fitted with feature names\n",
      "  \"X does not have valid feature names, but\"\n",
      "/Users/kte/opt/anaconda3/envs/tensor/lib/python3.7/site-packages/sklearn/base.py:451: UserWarning: X does not have valid feature names, but IsolationForest was fitted with feature names\n",
      "  \"X does not have valid feature names, but\"\n",
      "/Users/kte/opt/anaconda3/envs/tensor/lib/python3.7/site-packages/sklearn/base.py:451: UserWarning: X does not have valid feature names, but IsolationForest was fitted with feature names\n",
      "  \"X does not have valid feature names, but\"\n",
      "/Users/kte/opt/anaconda3/envs/tensor/lib/python3.7/site-packages/sklearn/base.py:451: UserWarning: X does not have valid feature names, but IsolationForest was fitted with feature names\n",
      "  \"X does not have valid feature names, but\"\n",
      "/Users/kte/opt/anaconda3/envs/tensor/lib/python3.7/site-packages/sklearn/base.py:451: UserWarning: X does not have valid feature names, but IsolationForest was fitted with feature names\n",
      "  \"X does not have valid feature names, but\"\n",
      "/Users/kte/opt/anaconda3/envs/tensor/lib/python3.7/site-packages/sklearn/base.py:451: UserWarning: X does not have valid feature names, but IsolationForest was fitted with feature names\n",
      "  \"X does not have valid feature names, but\"\n",
      "/Users/kte/opt/anaconda3/envs/tensor/lib/python3.7/site-packages/sklearn/base.py:451: UserWarning: X does not have valid feature names, but IsolationForest was fitted with feature names\n",
      "  \"X does not have valid feature names, but\"\n",
      "/Users/kte/opt/anaconda3/envs/tensor/lib/python3.7/site-packages/sklearn/base.py:451: UserWarning: X does not have valid feature names, but IsolationForest was fitted with feature names\n",
      "  \"X does not have valid feature names, but\"\n",
      "/Users/kte/opt/anaconda3/envs/tensor/lib/python3.7/site-packages/sklearn/base.py:451: UserWarning: X does not have valid feature names, but IsolationForest was fitted with feature names\n",
      "  \"X does not have valid feature names, but\"\n",
      "/Users/kte/opt/anaconda3/envs/tensor/lib/python3.7/site-packages/sklearn/base.py:451: UserWarning: X does not have valid feature names, but IsolationForest was fitted with feature names\n",
      "  \"X does not have valid feature names, but\"\n",
      "/Users/kte/opt/anaconda3/envs/tensor/lib/python3.7/site-packages/sklearn/base.py:451: UserWarning: X does not have valid feature names, but IsolationForest was fitted with feature names\n",
      "  \"X does not have valid feature names, but\"\n",
      "/Users/kte/opt/anaconda3/envs/tensor/lib/python3.7/site-packages/sklearn/base.py:451: UserWarning: X does not have valid feature names, but IsolationForest was fitted with feature names\n",
      "  \"X does not have valid feature names, but\"\n",
      "/Users/kte/opt/anaconda3/envs/tensor/lib/python3.7/site-packages/sklearn/base.py:451: UserWarning: X does not have valid feature names, but IsolationForest was fitted with feature names\n",
      "  \"X does not have valid feature names, but\"\n",
      "/Users/kte/opt/anaconda3/envs/tensor/lib/python3.7/site-packages/sklearn/base.py:451: UserWarning: X does not have valid feature names, but IsolationForest was fitted with feature names\n",
      "  \"X does not have valid feature names, but\"\n",
      "/Users/kte/opt/anaconda3/envs/tensor/lib/python3.7/site-packages/sklearn/base.py:451: UserWarning: X does not have valid feature names, but IsolationForest was fitted with feature names\n",
      "  \"X does not have valid feature names, but\"\n",
      "/Users/kte/opt/anaconda3/envs/tensor/lib/python3.7/site-packages/sklearn/base.py:451: UserWarning: X does not have valid feature names, but IsolationForest was fitted with feature names\n",
      "  \"X does not have valid feature names, but\"\n",
      "/Users/kte/opt/anaconda3/envs/tensor/lib/python3.7/site-packages/sklearn/base.py:451: UserWarning: X does not have valid feature names, but IsolationForest was fitted with feature names\n",
      "  \"X does not have valid feature names, but\"\n",
      "/Users/kte/opt/anaconda3/envs/tensor/lib/python3.7/site-packages/sklearn/base.py:451: UserWarning: X does not have valid feature names, but IsolationForest was fitted with feature names\n",
      "  \"X does not have valid feature names, but\"\n"
     ]
    }
   ],
   "source": [
    "#  하이퍼파라미터 - contamination\n",
    "\n",
    "temp_cols = ['V7', 'V17', 'V18']\n",
    "iss2 = []\n",
    "f1s2 = []\n",
    "for i in range(70,131,3):\n",
    "    model = IsolationForest(n_estimators=115, max_samples=len(train_x), contamination=0.00001 * i, random_state=42, verbose=0)\n",
    "    model.fit(train_x.loc[:,temp_cols])\n",
    "\n",
    "    pred = model.predict(val_x.loc[:,temp_cols])\n",
    "    pred = get_pred_label(pred)\n",
    "    f1score = f1_score(val_y, pred, average='macro')\n",
    "    iss2.append(i)\n",
    "    f1s2.append(f1score)\n"
   ]
  },
  {
   "cell_type": "code",
   "execution_count": 21,
   "metadata": {},
   "outputs": [
    {
     "data": {
      "text/html": [
       "<div>\n",
       "<style scoped>\n",
       "    .dataframe tbody tr th:only-of-type {\n",
       "        vertical-align: middle;\n",
       "    }\n",
       "\n",
       "    .dataframe tbody tr th {\n",
       "        vertical-align: top;\n",
       "    }\n",
       "\n",
       "    .dataframe thead th {\n",
       "        text-align: right;\n",
       "    }\n",
       "</style>\n",
       "<table border=\"1\" class=\"dataframe\">\n",
       "  <thead>\n",
       "    <tr style=\"text-align: right;\">\n",
       "      <th></th>\n",
       "      <th>i</th>\n",
       "      <th>f1s</th>\n",
       "    </tr>\n",
       "  </thead>\n",
       "  <tbody>\n",
       "    <tr>\n",
       "      <th>0</th>\n",
       "      <td>70</td>\n",
       "      <td>0.839859</td>\n",
       "    </tr>\n",
       "    <tr>\n",
       "      <th>1</th>\n",
       "      <td>73</td>\n",
       "      <td>0.839859</td>\n",
       "    </tr>\n",
       "    <tr>\n",
       "      <th>2</th>\n",
       "      <td>76</td>\n",
       "      <td>0.839859</td>\n",
       "    </tr>\n",
       "    <tr>\n",
       "      <th>3</th>\n",
       "      <td>79</td>\n",
       "      <td>0.839859</td>\n",
       "    </tr>\n",
       "    <tr>\n",
       "      <th>4</th>\n",
       "      <td>82</td>\n",
       "      <td>0.839859</td>\n",
       "    </tr>\n",
       "    <tr>\n",
       "      <th>5</th>\n",
       "      <td>85</td>\n",
       "      <td>0.839859</td>\n",
       "    </tr>\n",
       "    <tr>\n",
       "      <th>6</th>\n",
       "      <td>88</td>\n",
       "      <td>0.839859</td>\n",
       "    </tr>\n",
       "    <tr>\n",
       "      <th>7</th>\n",
       "      <td>91</td>\n",
       "      <td>0.852809</td>\n",
       "    </tr>\n",
       "    <tr>\n",
       "      <th>8</th>\n",
       "      <td>94</td>\n",
       "      <td>0.852809</td>\n",
       "    </tr>\n",
       "    <tr>\n",
       "      <th>9</th>\n",
       "      <td>97</td>\n",
       "      <td>0.865262</td>\n",
       "    </tr>\n",
       "    <tr>\n",
       "      <th>10</th>\n",
       "      <td>100</td>\n",
       "      <td>0.870247</td>\n",
       "    </tr>\n",
       "    <tr>\n",
       "      <th>11</th>\n",
       "      <td>103</td>\n",
       "      <td>0.870247</td>\n",
       "    </tr>\n",
       "    <tr>\n",
       "      <th>12</th>\n",
       "      <td>106</td>\n",
       "      <td>0.870247</td>\n",
       "    </tr>\n",
       "    <tr>\n",
       "      <th>13</th>\n",
       "      <td>109</td>\n",
       "      <td>0.870247</td>\n",
       "    </tr>\n",
       "    <tr>\n",
       "      <th>14</th>\n",
       "      <td>112</td>\n",
       "      <td>0.857002</td>\n",
       "    </tr>\n",
       "    <tr>\n",
       "      <th>15</th>\n",
       "      <td>115</td>\n",
       "      <td>0.857002</td>\n",
       "    </tr>\n",
       "    <tr>\n",
       "      <th>16</th>\n",
       "      <td>118</td>\n",
       "      <td>0.857002</td>\n",
       "    </tr>\n",
       "    <tr>\n",
       "      <th>17</th>\n",
       "      <td>121</td>\n",
       "      <td>0.857002</td>\n",
       "    </tr>\n",
       "    <tr>\n",
       "      <th>18</th>\n",
       "      <td>124</td>\n",
       "      <td>0.850728</td>\n",
       "    </tr>\n",
       "    <tr>\n",
       "      <th>19</th>\n",
       "      <td>127</td>\n",
       "      <td>0.844669</td>\n",
       "    </tr>\n",
       "    <tr>\n",
       "      <th>20</th>\n",
       "      <td>130</td>\n",
       "      <td>0.838816</td>\n",
       "    </tr>\n",
       "  </tbody>\n",
       "</table>\n",
       "</div>"
      ],
      "text/plain": [
       "      i       f1s\n",
       "0    70  0.839859\n",
       "1    73  0.839859\n",
       "2    76  0.839859\n",
       "3    79  0.839859\n",
       "4    82  0.839859\n",
       "5    85  0.839859\n",
       "6    88  0.839859\n",
       "7    91  0.852809\n",
       "8    94  0.852809\n",
       "9    97  0.865262\n",
       "10  100  0.870247\n",
       "11  103  0.870247\n",
       "12  106  0.870247\n",
       "13  109  0.870247\n",
       "14  112  0.857002\n",
       "15  115  0.857002\n",
       "16  118  0.857002\n",
       "17  121  0.857002\n",
       "18  124  0.850728\n",
       "19  127  0.844669\n",
       "20  130  0.838816"
      ]
     },
     "execution_count": 21,
     "metadata": {},
     "output_type": "execute_result"
    }
   ],
   "source": [
    "i2_df = pd.DataFrame({'i':iss2 , 'f1s' : f1s2})\n",
    "i2_df"
   ]
  },
  {
   "cell_type": "code",
   "execution_count": 14,
   "metadata": {},
   "outputs": [
    {
     "name": "stderr",
     "output_type": "stream",
     "text": [
      "/Users/kte/opt/anaconda3/envs/tensor/lib/python3.7/site-packages/sklearn/base.py:451: UserWarning: X does not have valid feature names, but IsolationForest was fitted with feature names\n",
      "  \"X does not have valid feature names, but\"\n"
     ]
    },
    {
     "name": "stdout",
     "output_type": "stream",
     "text": [
      "0.8772441968135101\n",
      "              precision    recall  f1-score   support\n",
      "\n",
      "           0       1.00      1.00      1.00     28432\n",
      "           1       0.87      0.67      0.75        30\n",
      "\n",
      "    accuracy                           1.00     28462\n",
      "   macro avg       0.93      0.83      0.88     28462\n",
      "weighted avg       1.00      1.00      1.00     28462\n",
      "\n"
     ]
    }
   ],
   "source": [
    "temp_cols=['V7', 'V17', 'V18']\n",
    "model = IsolationForest(n_estimators=125, max_samples=len(train_x), contamination=val_contamination, random_state=42, verbose=0)\n",
    "model.fit(train_x.loc[:,temp_cols])\n",
    "\n",
    "pred = model.predict(val_x.loc[:,temp_cols])\n",
    "pred = get_pred_label(pred)\n",
    "f1score = f1_score(val_y, pred, average='macro')\n",
    "print(f1score)\n",
    "print(classification_report(val_y,pred))"
   ]
  },
  {
   "cell_type": "code",
   "execution_count": 19,
   "metadata": {},
   "outputs": [
    {
     "name": "stderr",
     "output_type": "stream",
     "text": [
      "/Users/kte/opt/anaconda3/envs/tensor/lib/python3.7/site-packages/sklearn/base.py:451: UserWarning: X does not have valid feature names, but IsolationForest was fitted with feature names\n",
      "  \"X does not have valid feature names, but\"\n"
     ]
    }
   ],
   "source": [
    "testcols =['V7', 'V17', 'V18']\n",
    "model = IsolationForest(n_estimators=125, max_samples=len(train_x), contamination=val_contamination, random_state=42, verbose=0)\n",
    "model.fit(train_x.loc[:,testcols])\n",
    "\n",
    "test_pred = model.predict(test_df.loc[:,testcols]) # model prediction\n",
    "test_pred = get_pred_label(test_pred)\n",
    "## Submission\n",
    "submit = pd.read_csv('../Data/sample_submission.csv')\n",
    "submit.head()\n",
    "submit['Class'] = test_pred\n",
    "submit.to_csv('./submit.csv', index=False)"
   ]
  },
  {
   "cell_type": "code",
   "execution_count": null,
   "metadata": {},
   "outputs": [],
   "source": []
  }
 ],
 "metadata": {
  "kernelspec": {
   "display_name": "Python 3.7.13 ('tensor')",
   "language": "python",
   "name": "python3"
  },
  "language_info": {
   "codemirror_mode": {
    "name": "ipython",
    "version": 3
   },
   "file_extension": ".py",
   "mimetype": "text/x-python",
   "name": "python",
   "nbconvert_exporter": "python",
   "pygments_lexer": "ipython3",
   "version": "3.7.13"
  },
  "orig_nbformat": 4,
  "vscode": {
   "interpreter": {
    "hash": "2cd8ab235991ec21a8c18909a3ffb6c6aa655e4cacee6331ca5c07df8f3aac09"
   }
  }
 },
 "nbformat": 4,
 "nbformat_minor": 2
}
