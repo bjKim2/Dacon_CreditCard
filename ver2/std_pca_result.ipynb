{
 "cells": [
  {
   "cell_type": "code",
   "execution_count": 2,
   "metadata": {},
   "outputs": [],
   "source": [
    "import pandas as pd\n",
    "import numpy as np"
   ]
  },
  {
   "cell_type": "code",
   "execution_count": 3,
   "metadata": {},
   "outputs": [],
   "source": [
    "train_df = pd.read_csv(\"../stand_pca_Data/train_inpca.csv\")\n",
    "val_df = pd.read_csv(\"../stand_pca_Data/val_inpca.csv\")\n",
    "test_df = pd.read_csv(\"../stand_pca_Data/test_inpca.csv\")\n",
    "\n"
   ]
  },
  {
   "cell_type": "code",
   "execution_count": 4,
   "metadata": {},
   "outputs": [],
   "source": [
    "#functions\n",
    "def get_pred_label(model_pred):\n",
    "    # IsolationForest 모델 출력 (1:정상, -1:불량(사기)) 이므로 (0:정상, 1:불량(사기))로 Label 변환\n",
    "    model_pred = np.where(model_pred == 1, 0, model_pred)\n",
    "    model_pred = np.where(model_pred == -1, 1, model_pred)\n",
    "    return model_pred"
   ]
  },
  {
   "cell_type": "code",
   "execution_count": 5,
   "metadata": {},
   "outputs": [
    {
     "data": {
      "text/html": [
       "<div>\n",
       "<style scoped>\n",
       "    .dataframe tbody tr th:only-of-type {\n",
       "        vertical-align: middle;\n",
       "    }\n",
       "\n",
       "    .dataframe tbody tr th {\n",
       "        vertical-align: top;\n",
       "    }\n",
       "\n",
       "    .dataframe thead th {\n",
       "        text-align: right;\n",
       "    }\n",
       "</style>\n",
       "<table border=\"1\" class=\"dataframe\">\n",
       "  <thead>\n",
       "    <tr style=\"text-align: right;\">\n",
       "      <th></th>\n",
       "      <th>V1</th>\n",
       "      <th>V2</th>\n",
       "      <th>V3</th>\n",
       "      <th>V4</th>\n",
       "      <th>V5</th>\n",
       "      <th>V6</th>\n",
       "      <th>V7</th>\n",
       "      <th>V8</th>\n",
       "      <th>V9</th>\n",
       "      <th>V10</th>\n",
       "      <th>...</th>\n",
       "      <th>V19</th>\n",
       "      <th>V20</th>\n",
       "      <th>V21</th>\n",
       "      <th>V22</th>\n",
       "      <th>V23</th>\n",
       "      <th>V24</th>\n",
       "      <th>V25</th>\n",
       "      <th>V26</th>\n",
       "      <th>V27</th>\n",
       "      <th>V28</th>\n",
       "    </tr>\n",
       "  </thead>\n",
       "  <tbody>\n",
       "    <tr>\n",
       "      <th>113837</th>\n",
       "      <td>-7.883762</td>\n",
       "      <td>4.809679</td>\n",
       "      <td>-6.468902</td>\n",
       "      <td>-0.912184</td>\n",
       "      <td>-3.396197</td>\n",
       "      <td>-1.309048</td>\n",
       "      <td>-3.745595</td>\n",
       "      <td>4.158315</td>\n",
       "      <td>4.343117</td>\n",
       "      <td>7.547046</td>\n",
       "      <td>...</td>\n",
       "      <td>-0.702149</td>\n",
       "      <td>4.645009</td>\n",
       "      <td>-1.826741</td>\n",
       "      <td>-2.257129</td>\n",
       "      <td>1.329637</td>\n",
       "      <td>-1.876749</td>\n",
       "      <td>3.500242</td>\n",
       "      <td>0.469197</td>\n",
       "      <td>3.838660</td>\n",
       "      <td>0.732738</td>\n",
       "    </tr>\n",
       "    <tr>\n",
       "      <th>113838</th>\n",
       "      <td>1.027094</td>\n",
       "      <td>-0.023676</td>\n",
       "      <td>-0.644719</td>\n",
       "      <td>1.036438</td>\n",
       "      <td>-0.002088</td>\n",
       "      <td>-0.480674</td>\n",
       "      <td>0.133451</td>\n",
       "      <td>-0.176602</td>\n",
       "      <td>0.604812</td>\n",
       "      <td>0.106014</td>\n",
       "      <td>...</td>\n",
       "      <td>-0.365731</td>\n",
       "      <td>-0.099770</td>\n",
       "      <td>0.264429</td>\n",
       "      <td>0.851902</td>\n",
       "      <td>-0.133605</td>\n",
       "      <td>-0.100048</td>\n",
       "      <td>0.576507</td>\n",
       "      <td>-0.954362</td>\n",
       "      <td>0.029220</td>\n",
       "      <td>0.053592</td>\n",
       "    </tr>\n",
       "    <tr>\n",
       "      <th>113839</th>\n",
       "      <td>-0.274876</td>\n",
       "      <td>0.243345</td>\n",
       "      <td>0.210028</td>\n",
       "      <td>-0.248986</td>\n",
       "      <td>0.216420</td>\n",
       "      <td>-1.048178</td>\n",
       "      <td>0.703560</td>\n",
       "      <td>-0.232607</td>\n",
       "      <td>0.106583</td>\n",
       "      <td>-0.288778</td>\n",
       "      <td>...</td>\n",
       "      <td>-0.378218</td>\n",
       "      <td>-0.120563</td>\n",
       "      <td>-0.360048</td>\n",
       "      <td>-0.740484</td>\n",
       "      <td>0.394751</td>\n",
       "      <td>0.633848</td>\n",
       "      <td>-1.083416</td>\n",
       "      <td>0.209637</td>\n",
       "      <td>0.124229</td>\n",
       "      <td>-0.074098</td>\n",
       "    </tr>\n",
       "    <tr>\n",
       "      <th>113840</th>\n",
       "      <td>-0.159448</td>\n",
       "      <td>0.316519</td>\n",
       "      <td>-0.464233</td>\n",
       "      <td>-0.405868</td>\n",
       "      <td>0.849618</td>\n",
       "      <td>-0.219923</td>\n",
       "      <td>0.583132</td>\n",
       "      <td>0.014252</td>\n",
       "      <td>-0.183242</td>\n",
       "      <td>-0.661515</td>\n",
       "      <td>...</td>\n",
       "      <td>0.144594</td>\n",
       "      <td>0.031030</td>\n",
       "      <td>-0.515184</td>\n",
       "      <td>-1.140760</td>\n",
       "      <td>0.055808</td>\n",
       "      <td>0.201067</td>\n",
       "      <td>-0.834412</td>\n",
       "      <td>0.224812</td>\n",
       "      <td>0.303160</td>\n",
       "      <td>-0.249796</td>\n",
       "    </tr>\n",
       "    <tr>\n",
       "      <th>113841</th>\n",
       "      <td>-6.855427</td>\n",
       "      <td>5.459584</td>\n",
       "      <td>-7.040317</td>\n",
       "      <td>-0.992784</td>\n",
       "      <td>-4.021712</td>\n",
       "      <td>-2.070938</td>\n",
       "      <td>-4.457521</td>\n",
       "      <td>5.924328</td>\n",
       "      <td>1.657972</td>\n",
       "      <td>3.743503</td>\n",
       "      <td>...</td>\n",
       "      <td>-0.796906</td>\n",
       "      <td>1.833663</td>\n",
       "      <td>-0.008867</td>\n",
       "      <td>0.151082</td>\n",
       "      <td>1.657797</td>\n",
       "      <td>-0.736546</td>\n",
       "      <td>2.826693</td>\n",
       "      <td>0.428055</td>\n",
       "      <td>1.770305</td>\n",
       "      <td>0.898151</td>\n",
       "    </tr>\n",
       "  </tbody>\n",
       "</table>\n",
       "<p>5 rows × 28 columns</p>\n",
       "</div>"
      ],
      "text/plain": [
       "              V1        V2        V3        V4        V5        V6        V7  \\\n",
       "113837 -7.883762  4.809679 -6.468902 -0.912184 -3.396197 -1.309048 -3.745595   \n",
       "113838  1.027094 -0.023676 -0.644719  1.036438 -0.002088 -0.480674  0.133451   \n",
       "113839 -0.274876  0.243345  0.210028 -0.248986  0.216420 -1.048178  0.703560   \n",
       "113840 -0.159448  0.316519 -0.464233 -0.405868  0.849618 -0.219923  0.583132   \n",
       "113841 -6.855427  5.459584 -7.040317 -0.992784 -4.021712 -2.070938 -4.457521   \n",
       "\n",
       "              V8        V9       V10  ...       V19       V20       V21  \\\n",
       "113837  4.158315  4.343117  7.547046  ... -0.702149  4.645009 -1.826741   \n",
       "113838 -0.176602  0.604812  0.106014  ... -0.365731 -0.099770  0.264429   \n",
       "113839 -0.232607  0.106583 -0.288778  ... -0.378218 -0.120563 -0.360048   \n",
       "113840  0.014252 -0.183242 -0.661515  ...  0.144594  0.031030 -0.515184   \n",
       "113841  5.924328  1.657972  3.743503  ... -0.796906  1.833663 -0.008867   \n",
       "\n",
       "             V22       V23       V24       V25       V26       V27       V28  \n",
       "113837 -2.257129  1.329637 -1.876749  3.500242  0.469197  3.838660  0.732738  \n",
       "113838  0.851902 -0.133605 -0.100048  0.576507 -0.954362  0.029220  0.053592  \n",
       "113839 -0.740484  0.394751  0.633848 -1.083416  0.209637  0.124229 -0.074098  \n",
       "113840 -1.140760  0.055808  0.201067 -0.834412  0.224812  0.303160 -0.249796  \n",
       "113841  0.151082  1.657797 -0.736546  2.826693  0.428055  1.770305  0.898151  \n",
       "\n",
       "[5 rows x 28 columns]"
      ]
     },
     "execution_count": 5,
     "metadata": {},
     "output_type": "execute_result"
    }
   ],
   "source": [
    "train_df.tail()"
   ]
  },
  {
   "cell_type": "code",
   "execution_count": 6,
   "metadata": {},
   "outputs": [],
   "source": [
    "train_x = train_df[:]\n",
    "val_x = val_df.drop('Class',axis=1)\n",
    "val_y = val_df['Class']"
   ]
  },
  {
   "cell_type": "code",
   "execution_count": 7,
   "metadata": {},
   "outputs": [
    {
     "name": "stdout",
     "output_type": "stream",
     "text": [
      "0.0010540369615627855\n"
     ]
    }
   ],
   "source": [
    "from sklearn.ensemble import IsolationForest \n",
    "from sklearn.metrics import classification_report,f1_score\n",
    "\n",
    "val_contamination = val_y.mean()\n",
    "print(val_contamination)\n"
   ]
  },
  {
   "cell_type": "code",
   "execution_count": null,
   "metadata": {},
   "outputs": [],
   "source": []
  },
  {
   "cell_type": "code",
   "execution_count": 11,
   "metadata": {},
   "outputs": [],
   "source": [
    "colnames = ['V12','V17','V18','V19','V9','V14']\n",
    "colnames = val_x.columns"
   ]
  },
  {
   "cell_type": "code",
   "execution_count": 12,
   "metadata": {},
   "outputs": [
    {
     "name": "stderr",
     "output_type": "stream",
     "text": [
      "/Users/kte/opt/anaconda3/envs/tensor/lib/python3.7/site-packages/sklearn/base.py:451: UserWarning: X does not have valid feature names, but IsolationForest was fitted with feature names\n",
      "  \"X does not have valid feature names, but\"\n"
     ]
    },
    {
     "data": {
      "text/plain": [
       "IsolationForest(contamination=0.0010540369615627855, max_samples=113842,\n",
       "                n_estimators=125, random_state=42)"
      ]
     },
     "execution_count": 12,
     "metadata": {},
     "output_type": "execute_result"
    }
   ],
   "source": [
    "\n",
    "\n",
    "model = IsolationForest(n_estimators=125, max_samples=len(train_x), contamination=val_contamination, random_state=42, verbose=0)\n",
    "model.fit(train_x.loc[:,colnames])"
   ]
  },
  {
   "cell_type": "code",
   "execution_count": 13,
   "metadata": {},
   "outputs": [
    {
     "name": "stdout",
     "output_type": "stream",
     "text": [
      "              precision    recall  f1-score   support\n",
      "\n",
      "           0       1.00      1.00      1.00     28442\n",
      "           1       0.07      0.10      0.08        20\n",
      "\n",
      "    accuracy                           1.00     28462\n",
      "   macro avg       0.53      0.55      0.54     28462\n",
      "weighted avg       1.00      1.00      1.00     28462\n",
      "\n",
      "0.539595597285227\n"
     ]
    }
   ],
   "source": [
    "pred = model.predict(val_x.loc[:,colnames])\n",
    "pred = get_pred_label(pred)\n",
    "\n",
    "print(classification_report(pred,val_y))\n",
    "print(f1_score(val_y, pred, average='macro'))\n"
   ]
  },
  {
   "cell_type": "code",
   "execution_count": null,
   "metadata": {},
   "outputs": [],
   "source": []
  },
  {
   "cell_type": "code",
   "execution_count": null,
   "metadata": {},
   "outputs": [],
   "source": []
  }
 ],
 "metadata": {
  "kernelspec": {
   "display_name": "Python 3.7.13 ('tensor')",
   "language": "python",
   "name": "python3"
  },
  "language_info": {
   "codemirror_mode": {
    "name": "ipython",
    "version": 3
   },
   "file_extension": ".py",
   "mimetype": "text/x-python",
   "name": "python",
   "nbconvert_exporter": "python",
   "pygments_lexer": "ipython3",
   "version": "3.7.13"
  },
  "orig_nbformat": 4,
  "vscode": {
   "interpreter": {
    "hash": "2cd8ab235991ec21a8c18909a3ffb6c6aa655e4cacee6331ca5c07df8f3aac09"
   }
  }
 },
 "nbformat": 4,
 "nbformat_minor": 2
}
