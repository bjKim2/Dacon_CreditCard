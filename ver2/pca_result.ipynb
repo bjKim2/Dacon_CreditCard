{
 "cells": [
  {
   "cell_type": "code",
   "execution_count": 65,
   "metadata": {},
   "outputs": [],
   "source": [
    "import pandas as pd\n",
    "import numpy as np"
   ]
  },
  {
   "cell_type": "code",
   "execution_count": 66,
   "metadata": {},
   "outputs": [],
   "source": [
    "train_df = pd.read_csv(\"../pca_Data/train_inpca.csv\")\n",
    "val_df = pd.read_csv(\"../pca_Data/val_inpca.csv\")\n",
    "test_df = pd.read_csv(\"../pca_Data/test_inpca.csv\")\n",
    "\n",
    "# train_df = pd.read_csv(\"../pca_Data/train_pca.csv\")\n",
    "# val_df = pd.read_csv(\"../pca_Data/val_pca.csv\")\n",
    "# test_df = pd.read_csv(\"../pca_Data/test_pca.csv\")\n",
    "\n",
    "\n",
    "\n"
   ]
  },
  {
   "cell_type": "code",
   "execution_count": 67,
   "metadata": {},
   "outputs": [],
   "source": [
    "#functions\n",
    "def get_pred_label(model_pred):\n",
    "    # IsolationForest 모델 출력 (1:정상, -1:불량(사기)) 이므로 (0:정상, 1:불량(사기))로 Label 변환\n",
    "    model_pred = np.where(model_pred == 1, 0, model_pred)\n",
    "    model_pred = np.where(model_pred == -1, 1, model_pred)\n",
    "    return model_pred"
   ]
  },
  {
   "cell_type": "code",
   "execution_count": 68,
   "metadata": {},
   "outputs": [
    {
     "data": {
      "text/html": [
       "<div>\n",
       "<style scoped>\n",
       "    .dataframe tbody tr th:only-of-type {\n",
       "        vertical-align: middle;\n",
       "    }\n",
       "\n",
       "    .dataframe tbody tr th {\n",
       "        vertical-align: top;\n",
       "    }\n",
       "\n",
       "    .dataframe thead th {\n",
       "        text-align: right;\n",
       "    }\n",
       "</style>\n",
       "<table border=\"1\" class=\"dataframe\">\n",
       "  <thead>\n",
       "    <tr style=\"text-align: right;\">\n",
       "      <th></th>\n",
       "      <th>V1</th>\n",
       "      <th>V2</th>\n",
       "      <th>V3</th>\n",
       "      <th>V4</th>\n",
       "      <th>V5</th>\n",
       "      <th>V6</th>\n",
       "      <th>V7</th>\n",
       "      <th>V8</th>\n",
       "      <th>V9</th>\n",
       "      <th>V10</th>\n",
       "      <th>...</th>\n",
       "      <th>V19</th>\n",
       "      <th>V20</th>\n",
       "      <th>V21</th>\n",
       "      <th>V22</th>\n",
       "      <th>V23</th>\n",
       "      <th>V24</th>\n",
       "      <th>V25</th>\n",
       "      <th>V26</th>\n",
       "      <th>V27</th>\n",
       "      <th>V28</th>\n",
       "    </tr>\n",
       "  </thead>\n",
       "  <tbody>\n",
       "    <tr>\n",
       "      <th>113837</th>\n",
       "      <td>0.738838</td>\n",
       "      <td>0.769896</td>\n",
       "      <td>0.647618</td>\n",
       "      <td>0.141620</td>\n",
       "      <td>0.548626</td>\n",
       "      <td>0.520238</td>\n",
       "      <td>0.486246</td>\n",
       "      <td>0.717890</td>\n",
       "      <td>0.766339</td>\n",
       "      <td>0.618480</td>\n",
       "      <td>...</td>\n",
       "      <td>0.452435</td>\n",
       "      <td>0.513156</td>\n",
       "      <td>0.455174</td>\n",
       "      <td>0.425523</td>\n",
       "      <td>0.663846</td>\n",
       "      <td>0.229628</td>\n",
       "      <td>0.575255</td>\n",
       "      <td>0.437382</td>\n",
       "      <td>0.469530</td>\n",
       "      <td>0.224934</td>\n",
       "    </tr>\n",
       "    <tr>\n",
       "      <th>113838</th>\n",
       "      <td>0.990562</td>\n",
       "      <td>0.772441</td>\n",
       "      <td>0.858606</td>\n",
       "      <td>0.321666</td>\n",
       "      <td>0.547715</td>\n",
       "      <td>0.522188</td>\n",
       "      <td>0.485039</td>\n",
       "      <td>0.718091</td>\n",
       "      <td>0.591949</td>\n",
       "      <td>0.613208</td>\n",
       "      <td>...</td>\n",
       "      <td>0.481904</td>\n",
       "      <td>0.516460</td>\n",
       "      <td>0.455580</td>\n",
       "      <td>0.552098</td>\n",
       "      <td>0.665469</td>\n",
       "      <td>0.404771</td>\n",
       "      <td>0.578567</td>\n",
       "      <td>0.280226</td>\n",
       "      <td>0.470638</td>\n",
       "      <td>0.221202</td>\n",
       "    </tr>\n",
       "    <tr>\n",
       "      <th>113839</th>\n",
       "      <td>0.954434</td>\n",
       "      <td>0.772015</td>\n",
       "      <td>0.897153</td>\n",
       "      <td>0.232334</td>\n",
       "      <td>0.547603</td>\n",
       "      <td>0.522499</td>\n",
       "      <td>0.485313</td>\n",
       "      <td>0.718049</td>\n",
       "      <td>0.568655</td>\n",
       "      <td>0.614005</td>\n",
       "      <td>...</td>\n",
       "      <td>0.481097</td>\n",
       "      <td>0.516181</td>\n",
       "      <td>0.455424</td>\n",
       "      <td>0.485373</td>\n",
       "      <td>0.665439</td>\n",
       "      <td>0.466767</td>\n",
       "      <td>0.578035</td>\n",
       "      <td>0.395709</td>\n",
       "      <td>0.470879</td>\n",
       "      <td>0.221069</td>\n",
       "    </tr>\n",
       "    <tr>\n",
       "      <th>113840</th>\n",
       "      <td>0.960711</td>\n",
       "      <td>0.771828</td>\n",
       "      <td>0.871183</td>\n",
       "      <td>0.219663</td>\n",
       "      <td>0.547710</td>\n",
       "      <td>0.522642</td>\n",
       "      <td>0.485244</td>\n",
       "      <td>0.717897</td>\n",
       "      <td>0.555382</td>\n",
       "      <td>0.614618</td>\n",
       "      <td>...</td>\n",
       "      <td>0.524574</td>\n",
       "      <td>0.516252</td>\n",
       "      <td>0.455293</td>\n",
       "      <td>0.468254</td>\n",
       "      <td>0.665529</td>\n",
       "      <td>0.427514</td>\n",
       "      <td>0.577500</td>\n",
       "      <td>0.397886</td>\n",
       "      <td>0.470519</td>\n",
       "      <td>0.221163</td>\n",
       "    </tr>\n",
       "    <tr>\n",
       "      <th>113841</th>\n",
       "      <td>0.750942</td>\n",
       "      <td>0.771306</td>\n",
       "      <td>0.611340</td>\n",
       "      <td>0.161777</td>\n",
       "      <td>0.548321</td>\n",
       "      <td>0.518908</td>\n",
       "      <td>0.485035</td>\n",
       "      <td>0.718897</td>\n",
       "      <td>0.640961</td>\n",
       "      <td>0.613068</td>\n",
       "      <td>...</td>\n",
       "      <td>0.440769</td>\n",
       "      <td>0.513577</td>\n",
       "      <td>0.456727</td>\n",
       "      <td>0.522774</td>\n",
       "      <td>0.664300</td>\n",
       "      <td>0.338091</td>\n",
       "      <td>0.576972</td>\n",
       "      <td>0.423311</td>\n",
       "      <td>0.469380</td>\n",
       "      <td>0.224903</td>\n",
       "    </tr>\n",
       "  </tbody>\n",
       "</table>\n",
       "<p>5 rows × 28 columns</p>\n",
       "</div>"
      ],
      "text/plain": [
       "              V1        V2        V3        V4        V5        V6        V7  \\\n",
       "113837  0.738838  0.769896  0.647618  0.141620  0.548626  0.520238  0.486246   \n",
       "113838  0.990562  0.772441  0.858606  0.321666  0.547715  0.522188  0.485039   \n",
       "113839  0.954434  0.772015  0.897153  0.232334  0.547603  0.522499  0.485313   \n",
       "113840  0.960711  0.771828  0.871183  0.219663  0.547710  0.522642  0.485244   \n",
       "113841  0.750942  0.771306  0.611340  0.161777  0.548321  0.518908  0.485035   \n",
       "\n",
       "              V8        V9       V10  ...       V19       V20       V21  \\\n",
       "113837  0.717890  0.766339  0.618480  ...  0.452435  0.513156  0.455174   \n",
       "113838  0.718091  0.591949  0.613208  ...  0.481904  0.516460  0.455580   \n",
       "113839  0.718049  0.568655  0.614005  ...  0.481097  0.516181  0.455424   \n",
       "113840  0.717897  0.555382  0.614618  ...  0.524574  0.516252  0.455293   \n",
       "113841  0.718897  0.640961  0.613068  ...  0.440769  0.513577  0.456727   \n",
       "\n",
       "             V22       V23       V24       V25       V26       V27       V28  \n",
       "113837  0.425523  0.663846  0.229628  0.575255  0.437382  0.469530  0.224934  \n",
       "113838  0.552098  0.665469  0.404771  0.578567  0.280226  0.470638  0.221202  \n",
       "113839  0.485373  0.665439  0.466767  0.578035  0.395709  0.470879  0.221069  \n",
       "113840  0.468254  0.665529  0.427514  0.577500  0.397886  0.470519  0.221163  \n",
       "113841  0.522774  0.664300  0.338091  0.576972  0.423311  0.469380  0.224903  \n",
       "\n",
       "[5 rows x 28 columns]"
      ]
     },
     "execution_count": 68,
     "metadata": {},
     "output_type": "execute_result"
    }
   ],
   "source": [
    "train_df.tail()"
   ]
  },
  {
   "cell_type": "code",
   "execution_count": 69,
   "metadata": {},
   "outputs": [],
   "source": [
    "train_x = train_df[:]\n",
    "val_x = val_df.drop('Class',axis=1)\n",
    "val_y = val_df['Class']"
   ]
  },
  {
   "cell_type": "code",
   "execution_count": 70,
   "metadata": {},
   "outputs": [
    {
     "name": "stdout",
     "output_type": "stream",
     "text": [
      "0.0010540369615627855\n"
     ]
    }
   ],
   "source": [
    "from sklearn.ensemble import IsolationForest \n",
    "from sklearn.metrics import classification_report,f1_score\n",
    "\n",
    "val_contamination = val_y.mean()\n",
    "print(val_contamination)\n"
   ]
  },
  {
   "cell_type": "code",
   "execution_count": null,
   "metadata": {},
   "outputs": [],
   "source": []
  },
  {
   "cell_type": "code",
   "execution_count": 74,
   "metadata": {},
   "outputs": [],
   "source": [
    "colnames = ['V12','V17','V18','V19','V9','V14']\n",
    "# colnames = val_x.columns"
   ]
  },
  {
   "cell_type": "code",
   "execution_count": 75,
   "metadata": {},
   "outputs": [
    {
     "name": "stderr",
     "output_type": "stream",
     "text": [
      "/Users/kte/opt/anaconda3/envs/tensor/lib/python3.7/site-packages/sklearn/base.py:451: UserWarning: X does not have valid feature names, but IsolationForest was fitted with feature names\n",
      "  \"X does not have valid feature names, but\"\n"
     ]
    },
    {
     "data": {
      "text/plain": [
       "IsolationForest(contamination=0.0010540369615627855, max_samples=113842,\n",
       "                n_estimators=125, random_state=42)"
      ]
     },
     "execution_count": 75,
     "metadata": {},
     "output_type": "execute_result"
    }
   ],
   "source": [
    "\n",
    "\n",
    "model = IsolationForest(n_estimators=125, max_samples=len(train_x), contamination=val_contamination, random_state=42, verbose=0)\n",
    "model.fit(train_x.loc[:,colnames])"
   ]
  },
  {
   "cell_type": "code",
   "execution_count": 76,
   "metadata": {},
   "outputs": [
    {
     "name": "stdout",
     "output_type": "stream",
     "text": [
      "              precision    recall  f1-score   support\n",
      "\n",
      "           0       1.00      1.00      1.00     28432\n",
      "           1       0.81      0.57      0.67        30\n",
      "\n",
      "    accuracy                           1.00     28462\n",
      "   macro avg       0.90      0.78      0.83     28462\n",
      "weighted avg       1.00      1.00      1.00     28462\n",
      "\n",
      "0.833183877528294\n"
     ]
    }
   ],
   "source": [
    "pred = model.predict(val_x.loc[:,colnames])\n",
    "pred = get_pred_label(pred)\n",
    "\n",
    "print(classification_report(val_y,pred))\n",
    "print(f1_score(val_y, pred, average='macro'))\n"
   ]
  },
  {
   "cell_type": "code",
   "execution_count": 77,
   "metadata": {},
   "outputs": [
    {
     "data": {
      "text/plain": [
       "21"
      ]
     },
     "execution_count": 77,
     "metadata": {},
     "output_type": "execute_result"
    }
   ],
   "source": [
    "sum(pred == 1)"
   ]
  },
  {
   "cell_type": "code",
   "execution_count": 18,
   "metadata": {},
   "outputs": [
    {
     "data": {
      "text/plain": [
       "0.7"
      ]
     },
     "execution_count": 18,
     "metadata": {},
     "output_type": "execute_result"
    }
   ],
   "source": [
    "21/30"
   ]
  },
  {
   "cell_type": "code",
   "execution_count": 16,
   "metadata": {},
   "outputs": [
    {
     "data": {
      "text/plain": [
       "30"
      ]
     },
     "execution_count": 16,
     "metadata": {},
     "output_type": "execute_result"
    }
   ],
   "source": [
    "sum(val_y==1)"
   ]
  },
  {
   "cell_type": "code",
   "execution_count": null,
   "metadata": {},
   "outputs": [],
   "source": []
  },
  {
   "cell_type": "code",
   "execution_count": null,
   "metadata": {},
   "outputs": [],
   "source": []
  }
 ],
 "metadata": {
  "kernelspec": {
   "display_name": "Python 3.7.13 ('tensor')",
   "language": "python",
   "name": "python3"
  },
  "language_info": {
   "codemirror_mode": {
    "name": "ipython",
    "version": 3
   },
   "file_extension": ".py",
   "mimetype": "text/x-python",
   "name": "python",
   "nbconvert_exporter": "python",
   "pygments_lexer": "ipython3",
   "version": "3.7.13"
  },
  "orig_nbformat": 4,
  "vscode": {
   "interpreter": {
    "hash": "2cd8ab235991ec21a8c18909a3ffb6c6aa655e4cacee6331ca5c07df8f3aac09"
   }
  }
 },
 "nbformat": 4,
 "nbformat_minor": 2
}
